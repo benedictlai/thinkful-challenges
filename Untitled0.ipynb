{
  "nbformat": 4,
  "nbformat_minor": 0,
  "metadata": {
    "colab": {
      "name": "Untitled0.ipynb",
      "version": "0.3.2",
      "provenance": [],
      "collapsed_sections": [],
      "include_colab_link": true
    },
    "kernelspec": {
      "name": "python3",
      "display_name": "Python 3"
    }
  },
  "cells": [
    {
      "cell_type": "markdown",
      "metadata": {
        "id": "view-in-github",
        "colab_type": "text"
      },
      "source": [
        "<a href=\"https://colab.research.google.com/github/benedictlai/thinkful-challenges/blob/master/Untitled0.ipynb\" target=\"_parent\"><img src=\"https://colab.research.google.com/assets/colab-badge.svg\" alt=\"Open In Colab\"/></a>"
      ]
    },
    {
      "cell_type": "code",
      "metadata": {
        "id": "3C4toDnN92nb",
        "colab_type": "code",
        "outputId": "7fde6475-e080-49e9-b341-7aaa17f17837",
        "colab": {
          "base_uri": "https://localhost:8080/",
          "height": 52
        }
      },
      "source": [
        " import pandas as pd\n",
        "import numpy as np\n",
        "import matplotlib.pyplot as plt\n",
        "import csv\n",
        "import re\n",
        "import scipy as sp\n",
        "import seaborn as sns\n",
        "import nltk\n",
        "nltk.download('punkt')\n",
        "%matplotlib inline\n",
        "\n",
        "\n",
        "from nltk.corpus import gutenberg, stopwords\n",
        "from scipy import stats, integrate\n",
        "from sklearn import ensemble\n",
        "\n",
        "from sklearn.cluster import KMeans, MiniBatchKMeans, MeanShift, estimate_bandwidth\n",
        "from sklearn.decomposition import TruncatedSVD\n",
        "from sklearn.feature_extraction.text import TfidfVectorizer\n",
        "from sklearn.linear_model import LogisticRegression\n",
        "from sklearn.metrics import classification_report, confusion_matrix\n",
        "from sklearn.model_selection import cross_val_score, train_test_split\n",
        "from sklearn.pipeline import make_pipeline\n",
        "from sklearn.preprocessing import Normalizer, normalize, LabelEncoder\n",
        "from sklearn.svm import SVC"
      ],
      "execution_count": 0,
      "outputs": [
        {
          "output_type": "stream",
          "text": [
            "[nltk_data] Downloading package punkt to /root/nltk_data...\n",
            "[nltk_data]   Unzipping tokenizers/punkt.zip.\n"
          ],
          "name": "stdout"
        }
      ]
    },
    {
      "cell_type": "markdown",
      "metadata": {
        "id": "YNAeI2yp3zQL",
        "colab_type": "text"
      },
      "source": [
        "# Loading Data"
      ]
    },
    {
      "cell_type": "code",
      "metadata": {
        "id": "ViwBFVx595mG",
        "colab_type": "code",
        "colab": {}
      },
      "source": [
        "austen = gutenberg.paras('austen-persuasion.txt')\n",
        "blake = gutenberg.paras('blake-poems.txt')\n",
        "bryant = gutenberg.paras('bryant-stories.txt')\n",
        "burgess = gutenberg.paras('burgess-busterbrown.txt')\n",
        "chesterton = gutenberg.paras('chesterton-ball.txt')\n",
        "edgeworth = gutenberg.paras('edgeworth-parents.txt')\n",
        "melville = gutenberg.paras('melville-moby_dick.txt')\n",
        "milton = gutenberg.paras('milton-paradise.txt')\n",
        "shakes = gutenberg.paras('shakespeare-macbeth.txt')\n",
        "whitman = gutenberg.paras('whitman-leaves.txt')"
      ],
      "execution_count": 0,
      "outputs": []
    },
    {
      "cell_type": "code",
      "metadata": {
        "id": "s4mVRVKx2Q54",
        "colab_type": "code",
        "colab": {}
      },
      "source": [
        "listofbooks = [austen, blake, bryant, burgess, chesterton, edgeworth, melville, milton, shakes, whitman]"
      ],
      "execution_count": 0,
      "outputs": []
    },
    {
      "cell_type": "code",
      "metadata": {
        "id": "CKV0K6nZZxZm",
        "colab_type": "code",
        "colab": {}
      },
      "source": [
        "paragraph1 = pd.DataFrame()"
      ],
      "execution_count": 0,
      "outputs": []
    },
    {
      "cell_type": "code",
      "metadata": {
        "id": "Tc8LER202VGs",
        "colab_type": "code",
        "colab": {}
      },
      "source": [
        "listofparagraphs = []\n",
        "listofauthors = []\n",
        "\n",
        "for book in listofbooks:\n",
        "    for paragraphs in book:\n",
        "        if len(paragraphs) == 1:\n",
        "            for words in paragraphs:\n",
        "                if len(words) > 2:\n",
        "                    para=paragraphs[0]\n",
        "                    para=[re.sub(r'--','',word) for word in para]\n",
        "                    listofparagraphs.append(' '.join(para))\n",
        "                    listofauthors.append('{}'.format(book[0][0]))\n",
        "        else:\n",
        "            para=paragraphs[0]\n",
        "            para=[re.sub(r'--','',word) for word in para]\n",
        "            listofparagraphs.append(' '.join(para))\n",
        "            listofauthors.append('{}'.format(book[0][0]))"
      ],
      "execution_count": 0,
      "outputs": []
    },
    {
      "cell_type": "code",
      "metadata": {
        "id": "qA2fUsSy4gs4",
        "colab_type": "code",
        "colab": {}
      },
      "source": [
        "cleaning = []\n",
        "for keyword in listofparagraphs:\n",
        "    keyword = re.sub(r'\\s+([\\'-;,?.!\"])', r'\\1', keyword)\n",
        "    keyword = \"\".join(keyword.split(\"} \"))\n",
        "    keyword = \"'\".join(keyword.split(\"\\' \"))\n",
        "    keyword = \"-\".join(keyword.split(\"- \"))\n",
        "    cleaning.append(keyword)"
      ],
      "execution_count": 0,
      "outputs": []
    },
    {
      "cell_type": "code",
      "metadata": {
        "id": "nLQHjHlz4g4T",
        "colab_type": "code",
        "colab": {}
      },
      "source": [
        "paragraph1['paragraphs'] = cleaning\n",
        "paragraph1['authors'] = listofauthors"
      ],
      "execution_count": 0,
      "outputs": []
    },
    {
      "cell_type": "code",
      "metadata": {
        "id": "OqikUkFq4hEL",
        "colab_type": "code",
        "outputId": "2001f931-e608-455b-924e-adff38f5ad2e",
        "colab": {
          "base_uri": "https://localhost:8080/",
          "height": 197
        }
      },
      "source": [
        "lbe = LabelEncoder()\n",
        "paragraph1['id'] = lbe.fit_transform(paragraph1['authors'])\n",
        "paragraph1.head()"
      ],
      "execution_count": 0,
      "outputs": [
        {
          "output_type": "execute_result",
          "data": {
            "text/html": [
              "<div>\n",
              "<style scoped>\n",
              "    .dataframe tbody tr th:only-of-type {\n",
              "        vertical-align: middle;\n",
              "    }\n",
              "\n",
              "    .dataframe tbody tr th {\n",
              "        vertical-align: top;\n",
              "    }\n",
              "\n",
              "    .dataframe thead th {\n",
              "        text-align: right;\n",
              "    }\n",
              "</style>\n",
              "<table border=\"1\" class=\"dataframe\">\n",
              "  <thead>\n",
              "    <tr style=\"text-align: right;\">\n",
              "      <th></th>\n",
              "      <th>paragraphs</th>\n",
              "      <th>authors</th>\n",
              "      <th>id</th>\n",
              "    </tr>\n",
              "  </thead>\n",
              "  <tbody>\n",
              "    <tr>\n",
              "      <th>0</th>\n",
              "      <td>[ Persuasion by Jane Austen1818 ]</td>\n",
              "      <td>['[', 'Persuasion', 'by', 'Jane', 'Austen', '1...</td>\n",
              "      <td>3</td>\n",
              "    </tr>\n",
              "    <tr>\n",
              "      <th>1</th>\n",
              "      <td>Sir Walter Elliot, of Kellynch Hall, in Somers...</td>\n",
              "      <td>['[', 'Persuasion', 'by', 'Jane', 'Austen', '1...</td>\n",
              "      <td>3</td>\n",
              "    </tr>\n",
              "    <tr>\n",
              "      <th>2</th>\n",
              "      <td>\" ELLIOT OF KELLYNCH HALL.</td>\n",
              "      <td>['[', 'Persuasion', 'by', 'Jane', 'Austen', '1...</td>\n",
              "      <td>3</td>\n",
              "    </tr>\n",
              "    <tr>\n",
              "      <th>3</th>\n",
              "      <td>\" Walter Elliot, born March1,1760, married, Ju...</td>\n",
              "      <td>['[', 'Persuasion', 'by', 'Jane', 'Austen', '1...</td>\n",
              "      <td>3</td>\n",
              "    </tr>\n",
              "    <tr>\n",
              "      <th>4</th>\n",
              "      <td>Precisely such had the paragraph originally st...</td>\n",
              "      <td>['[', 'Persuasion', 'by', 'Jane', 'Austen', '1...</td>\n",
              "      <td>3</td>\n",
              "    </tr>\n",
              "  </tbody>\n",
              "</table>\n",
              "</div>"
            ],
            "text/plain": [
              "                                          paragraphs  ... id\n",
              "0                  [ Persuasion by Jane Austen1818 ]  ...  3\n",
              "1  Sir Walter Elliot, of Kellynch Hall, in Somers...  ...  3\n",
              "2                         \" ELLIOT OF KELLYNCH HALL.  ...  3\n",
              "3  \" Walter Elliot, born March1,1760, married, Ju...  ...  3\n",
              "4  Precisely such had the paragraph originally st...  ...  3\n",
              "\n",
              "[5 rows x 3 columns]"
            ]
          },
          "metadata": {
            "tags": []
          },
          "execution_count": 146
        }
      ]
    },
    {
      "cell_type": "markdown",
      "metadata": {
        "id": "pp74j8Ju4XqI",
        "colab_type": "text"
      },
      "source": [
        ""
      ]
    },
    {
      "cell_type": "markdown",
      "metadata": {
        "id": "gsQxl8yf4Uc9",
        "colab_type": "text"
      },
      "source": [
        "Data about Authors"
      ]
    },
    {
      "cell_type": "code",
      "metadata": {
        "id": "3DD5wbj6doai",
        "colab_type": "code",
        "colab": {}
      },
      "source": [
        "author2 = pd.DataFrame()"
      ],
      "execution_count": 0,
      "outputs": []
    },
    {
      "cell_type": "code",
      "metadata": {
        "id": "3fgSMN3mdogL",
        "colab_type": "code",
        "colab": {}
      },
      "source": [
        "author2['authors'] = ['austen', 'blake', 'bryant', 'burgess', 'chesterton', 'edgeworth', 'melville', 'milton', 'shakes', 'whitman']"
      ],
      "execution_count": 0,
      "outputs": []
    },
    {
      "cell_type": "code",
      "metadata": {
        "id": "qgQPJ9VLdojP",
        "colab_type": "code",
        "colab": {}
      },
      "source": [
        "def averagepara(book):\n",
        "    sum = 0\n",
        "    count = 0\n",
        "    for paragraphs in book:\n",
        "        if len(paragraphs) == 1:\n",
        "            for words in paragraphs:\n",
        "                if len(words) > 2:\n",
        "                    sum += len(paragraphs)\n",
        "                    count +=1\n",
        "        else:\n",
        "            sum += len(paragraphs)\n",
        "            count +=1\n",
        "\n",
        "    return round(sum/count)"
      ],
      "execution_count": 0,
      "outputs": []
    },
    {
      "cell_type": "code",
      "metadata": {
        "id": "r85jCVVEnIEr",
        "colab_type": "code",
        "colab": {}
      },
      "source": [
        "paragraphcount = []\n",
        "for keyword in listofbooks:\n",
        "    paragraphcount.append(averagepara(each))\n",
        "\n",
        "author2['paragraphcount'] = paragraphcount"
      ],
      "execution_count": 0,
      "outputs": []
    },
    {
      "cell_type": "code",
      "metadata": {
        "id": "GAwy9-gmdotb",
        "colab_type": "code",
        "colab": {}
      },
      "source": [
        ""
      ],
      "execution_count": 0,
      "outputs": []
    },
    {
      "cell_type": "code",
      "metadata": {
        "id": "91o3F_uhdon5",
        "colab_type": "code",
        "outputId": "c5c41e7c-a1af-4c36-f3bd-892a2501aa91",
        "colab": {
          "base_uri": "https://localhost:8080/",
          "height": 407
        }
      },
      "source": [
        "print(paragraph1['authors'].value_counts())\n",
        "print(paragraph1['id'].value_counts())"
      ],
      "execution_count": 0,
      "outputs": [
        {
          "output_type": "stream",
          "text": [
            "['[', 'The', 'Parent', \"'\", 's', 'Assistant', ',', 'by', 'Maria', 'Edgeworth', ']']                       3721\n",
            "['[', 'Moby', 'Dick', 'by', 'Herman', 'Melville', '1851', ']']                                            2636\n",
            "['[', 'Leaves', 'of', 'Grass', 'by', 'Walt', 'Whitman', '1855', ']']                                      2436\n",
            "['[', 'The', 'Ball', 'and', 'The', 'Cross', 'by', 'G', '.', 'K', '.', 'Chesterton', '1909', ']']          1605\n",
            "['[', 'Stories', 'to', 'Tell', 'to', 'Children', 'by', 'Sara', 'Cone', 'Bryant', '1918', ']']             1186\n",
            "['[', 'Persuasion', 'by', 'Jane', 'Austen', '1818', ']']                                                  1007\n",
            "['[', 'The', 'Tragedie', 'of', 'Macbeth', 'by', 'William', 'Shakespeare', '1603', ']']                     640\n",
            "['[', 'Poems', 'by', 'William', 'Blake', '1789', ']']                                                      255\n",
            "['[', 'The', 'Adventures', 'of', 'Buster', 'Bear', 'by', 'Thornton', 'W', '.', 'Burgess', '1920', ']']     243\n",
            "['[', 'Paradise', 'Lost', 'by', 'John', 'Milton', '1667', ']']                                              17\n",
            "Name: authors, dtype: int64\n",
            "8    3721\n",
            "1    2636\n",
            "0    2436\n",
            "7    1605\n",
            "5    1186\n",
            "3    1007\n",
            "9     640\n",
            "4     255\n",
            "6     243\n",
            "2      17\n",
            "Name: id, dtype: int64\n"
          ],
          "name": "stdout"
        }
      ]
    },
    {
      "cell_type": "code",
      "metadata": {
        "id": "kTrU6-CTdowu",
        "colab_type": "code",
        "outputId": "85d45d25-57cb-4864-b7ff-7ba8f959b951",
        "colab": {
          "base_uri": "https://localhost:8080/",
          "height": 212
        }
      },
      "source": [
        "author2['#ofparagraphs'] = list(paragraph1['authors'].value_counts())\n",
        "print(author2)"
      ],
      "execution_count": 0,
      "outputs": [
        {
          "output_type": "stream",
          "text": [
            "      authors  paragraphcount  #ofparagraphs\n",
            "0      austen               2           3721\n",
            "1       blake               2           2636\n",
            "2      bryant               2           2436\n",
            "3     burgess               2           1605\n",
            "4  chesterton               2           1186\n",
            "5   edgeworth               2           1007\n",
            "6    melville               2            640\n",
            "7      milton               2            255\n",
            "8      shakes               2            243\n",
            "9     whitman               2             17\n"
          ],
          "name": "stdout"
        }
      ]
    },
    {
      "cell_type": "code",
      "metadata": {
        "id": "OowjlZlrdoyP",
        "colab_type": "code",
        "outputId": "00e1cd69-e43d-4209-a0a8-5545ed3c2837",
        "colab": {
          "base_uri": "https://localhost:8080/",
          "height": 281
        }
      },
      "source": [
        "y_pos = np.arange(len(author2['#ofparagraphs'])) \n",
        "plt.barh(y_pos, author2['#ofparagraphs'], align='center', alpha=1)\n",
        "plt.yticks(y_pos, author2['authors'])\n",
        "plt.ylabel('Authors')\n",
        "plt.title('# of Paragraphs') \n",
        "plt.show()\n"
      ],
      "execution_count": 0,
      "outputs": [
        {
          "output_type": "display_data",
          "data": {
            "image/png": "[encoded data removed]",
            "text/plain": [
              "<Figure size 432x288 with 1 Axes>"
            ]
          },
          "metadata": {
            "tags": []
          }
        }
      ]
    },
    {
      "cell_type": "code",
      "metadata": {
        "id": "fX7yh4_9doqc",
        "colab_type": "code",
        "outputId": "59b7670d-cfc6-4315-8d7a-3ee7a24e0307",
        "colab": {
          "base_uri": "https://localhost:8080/",
          "height": 281
        }
      },
      "source": [
        "y_pos = np.arange(len(author2['paragraphcount'])) \n",
        "plt.barh(y_pos, author2['paragraphcount'], align='center', alpha=1)\n",
        "plt.yticks(y_pos, author2['authors'])\n",
        "plt.ylabel('Authors')\n",
        "plt.title('Paragraph Count')  \n",
        "plt.show()\n"
      ],
      "execution_count": 0,
      "outputs": [
        {
          "output_type": "display_data",
          "data": {
            "image/png": "[encoded data removed]",
            "text/plain": [
              "<Figure size 432x288 with 1 Axes>"
            ]
          },
          "metadata": {
            "tags": []
          }
        }
      ]
    },
    {
      "cell_type": "code",
      "metadata": {
        "id": "NciUjBTCtYIm",
        "colab_type": "code",
        "colab": {}
      },
      "source": [
        "#Jane Austen's novel had the most amount of paragraphs while the paragraph length was the literally same for all of the authors."
      ],
      "execution_count": 0,
      "outputs": []
    },
    {
      "cell_type": "code",
      "metadata": {
        "id": "YAVln4zYtYsO",
        "colab_type": "code",
        "colab": {}
      },
      "source": [
        "X = paragraph1['paragraphs']\n",
        "Y = paragraph1['id']"
      ],
      "execution_count": 0,
      "outputs": []
    },
    {
      "cell_type": "markdown",
      "metadata": {
        "id": "oFg2-5FM42KV",
        "colab_type": "text"
      },
      "source": [
        "# TF-IDF in sklearn"
      ]
    },
    {
      "cell_type": "code",
      "metadata": {
        "id": "eKRGI5lmtw9k",
        "colab_type": "code",
        "outputId": "90bb8a2e-f246-4fbf-9cf1-a9f723785a59",
        "colab": {
          "base_uri": "https://localhost:8080/",
          "height": 34
        }
      },
      "source": [
        "\n",
        "vectorizer = TfidfVectorizer(max_df=0.5,\n",
        "                             min_df=5,\n",
        "                             stop_words='english', \n",
        "                             lowercase=True,\n",
        "                             use_idf=True,\n",
        "                             norm=u'l2',\n",
        "                             smooth_idf=True \n",
        "                            )\n",
        "\n",
        "paragraphtfidf=vectorizer.fit_transform(X)\n",
        "print(\"%d is the number of features.\" % paragraphtfidf.get_shape()[1])\n",
        "\n",
        "X1_train_tfidf, X1_test_tfidf, Y1_train, Y1_test = train_test_split(paragraphtfidf, Y, test_size=0.25, random_state=0)"
      ],
      "execution_count": 0,
      "outputs": [
        {
          "output_type": "stream",
          "text": [
            "4871 is the number of features.\n"
          ],
          "name": "stdout"
        }
      ]
    },
    {
      "cell_type": "code",
      "metadata": {
        "id": "U9Vq-JyAuUWu",
        "colab_type": "code",
        "outputId": "3459f8f4-d9f5-4116-e409-eae7fb99eecf",
        "colab": {
          "base_uri": "https://localhost:8080/",
          "height": 230
        }
      },
      "source": [
        "for i in range(200, 1300, 200):\n",
        "    svd= TruncatedSVD(i)\n",
        "    lsa = make_pipeline(svd, Normalizer(copy=False))\n",
        "    X1_train_lsa = lsa.fit_transform(X1_train_tfidf)\n",
        "\n",
        "    variance_explained=svd.explained_variance_ratio_\n",
        "    total_variance = variance_explained.sum()\n",
        "    print(i)\n",
        "    print(\"Here is the percent variance captured by all components.\",total_variance*100)"
      ],
      "execution_count": 0,
      "outputs": [
        {
          "output_type": "stream",
          "text": [
            "200\n",
            "Here is the percent variance captured by all components. 33.768533149972654\n",
            "400\n",
            "Here is the percent variance captured by all components. 46.79963085523312\n",
            "600\n",
            "Here is the percent variance captured by all components. 55.97564115366232\n",
            "800\n",
            "Here is the percent variance captured by all components. 63.00997350671178\n",
            "1000\n",
            "Here is the percent variance captured by all components. 68.7290960862219\n",
            "1200\n",
            "Here is the percent variance captured by all components. 73.51833855052207\n"
          ],
          "name": "stdout"
        }
      ]
    },
    {
      "cell_type": "markdown",
      "metadata": {
        "id": "1Yog3CVe6s0R",
        "colab_type": "text"
      },
      "source": [
        "# Dimension Reduction"
      ]
    },
    {
      "cell_type": "code",
      "metadata": {
        "id": "edRPT6J4yw_N",
        "colab_type": "code",
        "outputId": "d61b71fe-de12-4647-beb1-b1a85f513035",
        "colab": {
          "base_uri": "https://localhost:8080/",
          "height": 34
        }
      },
      "source": [
        "svd= TruncatedSVD(1200)\n",
        "lsa = make_pipeline(svd, Normalizer(copy=False))\n",
        "\n",
        "X1_train_lsa = lsa.fit_transform(X1_train_tfidf)\n",
        "X1_test_lsa = lsa.transform(X1_test_tfidf)\n",
        "\n",
        "variance_explained=svd.explained_variance_ratio_\n",
        "total_variance = variance_explained.sum()\n",
        "print(\"{} is the percent variance captured by all components.\",total_variance*100)"
      ],
      "execution_count": 0,
      "outputs": [
        {
          "output_type": "stream",
          "text": [
            "{} is the percent variance captured by all components. 73.5172816117755\n"
          ],
          "name": "stdout"
        }
      ]
    },
    {
      "cell_type": "markdown",
      "metadata": {
        "id": "BlWw58Vu5A9N",
        "colab_type": "text"
      },
      "source": [
        "# Clustering Data"
      ]
    },
    {
      "cell_type": "code",
      "metadata": {
        "id": "wLnptLD2yxML",
        "colab_type": "code",
        "outputId": "29a2ca1c-89e7-4025-fc13-921bcc176c6d",
        "colab": {
          "base_uri": "https://localhost:8080/",
          "height": 247
        }
      },
      "source": [
        "X_norm = normalize(X1_train_lsa)\n",
        "\n",
        "y_pred = KMeans(n_clusters=10, random_state=42).fit_predict(X_norm)\n",
        "\n",
        "print('Authors (Clusters K-Means):')\n",
        "print(pd.crosstab(Y1_train, y_pred))"
      ],
      "execution_count": 0,
      "outputs": [
        {
          "output_type": "stream",
          "text": [
            "Authors (Clusters K-Means):\n",
            "col_0    0     1    2    3   4   5    6    7    8    9\n",
            "id                                                    \n",
            "0       35   905   39  682   0   3    6   35  111    0\n",
            "1       88   899   45  663  24   2   74   23  122    0\n",
            "2        0     3    0    5   0   0    0    0    2    0\n",
            "3       36   574   26   32  16   4   51   17   15    0\n",
            "4        2   123    1   51   3   0    5    2    6    0\n",
            "5        1   545   28   87  16   0  159   19   55    0\n",
            "6        0   138    6   13   1   0    9    6    2    0\n",
            "7       17   702   22   50  17   2  297   32   89    0\n",
            "8      115  1603  140  103  66  51  413  138  126   38\n",
            "9        0   324    5   24   0   0    0    1    2  117\n"
          ],
          "name": "stdout"
        }
      ]
    },
    {
      "cell_type": "markdown",
      "metadata": {
        "id": "g71pH-7F5FRf",
        "colab_type": "text"
      },
      "source": [
        "Categories vs. Data and How many number of clusters are in the data?"
      ]
    },
    {
      "cell_type": "code",
      "metadata": {
        "id": "2KmCJMT-0s0u",
        "colab_type": "code",
        "outputId": "ca297a5e-bf93-4b26-e724-ef1273db560b",
        "colab": {
          "base_uri": "https://localhost:8080/",
          "height": 265
        }
      },
      "source": [
        "bandwidth = estimate_bandwidth(X1_train_lsa, quantile=0.2, n_samples=500)\n",
        "\n",
        "ms = MeanShift(bandwidth=bandwidth, bin_seeding=True)\n",
        "ms.fit(X1_train_lsa)\n",
        "\n",
        "labels = ms.labels_\n",
        "\n",
        "cluster_centers = ms.cluster_centers_\n",
        "\n",
        "n_clusters_ = len(np.unique(labels))\n",
        "\n",
        "print(\"{} is the number of clusters\".format(n_clusters_))\n",
        "print('Categories vs. data:')\n",
        "print(pd.crosstab(Y1_train,labels))"
      ],
      "execution_count": 0,
      "outputs": [
        {
          "output_type": "stream",
          "text": [
            "1 is the number of clusters\n",
            "Categories vs. data:\n",
            "col_0     0\n",
            "id         \n",
            "0      1816\n",
            "1      1940\n",
            "2        10\n",
            "3       771\n",
            "4       193\n",
            "5       910\n",
            "6       175\n",
            "7      1228\n",
            "8      2793\n",
            "9       473\n"
          ],
          "name": "stdout"
        }
      ]
    },
    {
      "cell_type": "markdown",
      "metadata": {
        "id": "Co9aiBVr5Mct",
        "colab_type": "text"
      },
      "source": [
        "K-Means vs. Mini Batches"
      ]
    },
    {
      "cell_type": "code",
      "metadata": {
        "id": "3E2Z8CMG17vY",
        "colab_type": "code",
        "outputId": "7b79274d-432a-4fc1-fc9b-bd5f4a0343f9",
        "colab": {
          "base_uri": "https://localhost:8080/",
          "height": 247
        }
      },
      "source": [
        "minibatchkmeans = MiniBatchKMeans(init='random', n_clusters=10,batch_size=200)\n",
        "minibatchkmeans.fit(X1_train_lsa)\n",
        "\n",
        "predict_mini = minibatchkmeans.predict(X1_train_lsa)\n",
        "\n",
        "print('K-Means vs. Mini Batches:')\n",
        "print(pd.crosstab(Y1_train, predict_mini))"
      ],
      "execution_count": 0,
      "outputs": [
        {
          "output_type": "stream",
          "text": [
            "K-Means vs. Mini Batches:\n",
            "col_0    0    1   2    3    4     5    6    7    8   9\n",
            "id                                                    \n",
            "0       58    1  37   25    0  1177  393   34    5  86\n",
            "1       29  275  27   10   25  1245  166   19  107  37\n",
            "2        0    0   1    0    0     5    4    0    0   0\n",
            "3       18    0   9  258   48   351   36    6   35  10\n",
            "4        4    0   4    1    0   135   36    1    4   8\n",
            "5        9    9  12    5    4   446  209    3  170  43\n",
            "6        0    0   3    1    4   107   46    3    9   2\n",
            "7        2    0  12   25   38   680  130    4  333   4\n",
            "8      140    0  50   98  170  1470  200  123  466  76\n",
            "9        0   16   0   31    0   340    5   81    0   0\n"
          ],
          "name": "stdout"
        }
      ]
    },
    {
      "cell_type": "markdown",
      "metadata": {
        "id": "Adhugcpj5QrA",
        "colab_type": "text"
      },
      "source": [
        "K-Means vs. Test Groups"
      ]
    },
    {
      "cell_type": "code",
      "metadata": {
        "id": "4E3tFDV53R4X",
        "colab_type": "code",
        "outputId": "eb779374-7332-4920-ae6f-2d79ca5853e2",
        "colab": {
          "base_uri": "https://localhost:8080/",
          "height": 247
        }
      },
      "source": [
        "test_predict = minibatchkmeans.predict(X1_test_lsa)\n",
        "\n",
        "print('K-means vs. test group:')\n",
        "print(pd.crosstab(Y1_test, test_predict))"
      ],
      "execution_count": 0,
      "outputs": [
        {
          "output_type": "stream",
          "text": [
            "K-means vs. test group:\n",
            "col_0   0   1   2   3   4    5    6   7    8   9\n",
            "id                                              \n",
            "0      19   1  10   7   0  394  152  10    2  25\n",
            "1      10  89  20   5  16  428   74   3   36  15\n",
            "2       0   0   0   0   0    6    1   0    0   0\n",
            "3       5   0   1  77  15  102   16   0   16   4\n",
            "4       2   0   0   1   0   36   18   1    0   4\n",
            "5       3   7   2   1   3  128   71   1   52   8\n",
            "6       0   0   0   2   1   39   21   0    5   0\n",
            "7       2   0   4   8  10  222   28   1  101   1\n",
            "8      42   0  12  30  62  500   71  35  157  19\n",
            "9       0   2   0  15   0  112    4  34    0   0\n"
          ],
          "name": "stdout"
        }
      ]
    },
    {
      "cell_type": "markdown",
      "metadata": {
        "id": "X4AfqW4N5UYJ",
        "colab_type": "text"
      },
      "source": [
        ""
      ]
    },
    {
      "cell_type": "code",
      "metadata": {
        "id": "E5G2oMOM5WkK",
        "colab_type": "code",
        "colab": {}
      },
      "source": [
        ""
      ],
      "execution_count": 0,
      "outputs": []
    },
    {
      "cell_type": "markdown",
      "metadata": {
        "id": "FD2DTxRz5XEf",
        "colab_type": "text"
      },
      "source": [
        "# Random Forest Classifier"
      ]
    },
    {
      "cell_type": "code",
      "metadata": {
        "id": "qUq4Snh87Wie",
        "colab_type": "code",
        "outputId": "fb0cb633-927f-404a-f565-30913000051e",
        "colab": {
          "base_uri": "https://localhost:8080/",
          "height": 212
        }
      },
      "source": [
        "rfc = ensemble.RandomForestClassifier()\n",
        "rfc.fit(X1_train_lsa,Y1_train)\n",
        "print(rfc)\n",
        "print('\\nTraining set scores:', rfc.score(X1_train_lsa,Y1_train))"
      ],
      "execution_count": 0,
      "outputs": [
        {
          "output_type": "stream",
          "text": [
            "/usr/local/lib/python3.6/dist-packages/sklearn/ensemble/forest.py:245: FutureWarning: The default value of n_estimators will change from 10 in version 0.20 to 100 in 0.22.\n",
            "  \"10 in version 0.20 to 100 in 0.22.\", FutureWarning)\n"
          ],
          "name": "stderr"
        },
        {
          "output_type": "stream",
          "text": [
            "RandomForestClassifier(bootstrap=True, class_weight=None, criterion='gini',\n",
            "                       max_depth=None, max_features='auto', max_leaf_nodes=None,\n",
            "                       min_impurity_decrease=0.0, min_impurity_split=None,\n",
            "                       min_samples_leaf=1, min_samples_split=2,\n",
            "                       min_weight_fraction_leaf=0.0, n_estimators=10,\n",
            "                       n_jobs=None, oob_score=False, random_state=None,\n",
            "                       verbose=0, warm_start=False)\n",
            "\n",
            "Training set scores: 0.9434474730817732\n"
          ],
          "name": "stdout"
        }
      ]
    },
    {
      "cell_type": "code",
      "metadata": {
        "id": "qgGCCMZq93C3",
        "colab_type": "code",
        "outputId": "ddb82629-f292-47b5-e6d9-a0599e8b8266",
        "colab": {
          "base_uri": "https://localhost:8080/",
          "height": 550
        }
      },
      "source": [
        "print(\"Results:\")\n",
        "y1_true, y1_pred = Y1_test, rfc.predict(X1_test_lsa)\n",
        "print(classification_report(y1_true, y1_pred))\n",
        "confusion_matrix(y1_true, y1_pred)"
      ],
      "execution_count": 0,
      "outputs": [
        {
          "output_type": "stream",
          "text": [
            "Results:\n",
            "              precision    recall  f1-score   support\n",
            "\n",
            "           0       0.50      0.65      0.56       620\n",
            "           1       0.52      0.51      0.51       696\n",
            "           2       0.00      0.00      0.00         7\n",
            "           3       0.56      0.37      0.45       236\n",
            "           4       0.50      0.03      0.06        62\n",
            "           5       0.49      0.27      0.35       276\n",
            "           6       0.86      0.26      0.40        68\n",
            "           7       0.61      0.48      0.54       377\n",
            "           8       0.54      0.62      0.58       928\n",
            "           9       0.56      0.87      0.68       167\n",
            "\n",
            "    accuracy                           0.54      3437\n",
            "   macro avg       0.51      0.41      0.41      3437\n",
            "weighted avg       0.54      0.54      0.52      3437\n",
            "\n"
          ],
          "name": "stdout"
        },
        {
          "output_type": "stream",
          "text": [
            "/usr/local/lib/python3.6/dist-packages/sklearn/metrics/classification.py:1437: UndefinedMetricWarning: Precision and F-score are ill-defined and being set to 0.0 in labels with no predicted samples.\n",
            "  'precision', 'predicted', average, warn_for)\n"
          ],
          "name": "stderr"
        },
        {
          "output_type": "execute_result",
          "data": {
            "text/plain": [
              "array([[405,  85,   0,   7,   2,  10,   0,  19,  74,  18],\n",
              "       [136, 352,   0,  14,   0,   9,   1,  31, 123,  30],\n",
              "       [  3,   0,   0,   1,   0,   0,   0,   1,   2,   0],\n",
              "       [ 22,  29,   0,  87,   0,   3,   0,   9,  83,   3],\n",
              "       [ 31,   9,   0,   0,   2,   3,   0,   0,  17,   0],\n",
              "       [ 42,  44,   0,   8,   0,  75,   0,  14,  80,  13],\n",
              "       [  8,   9,   0,   1,   0,   6,  18,   3,  21,   2],\n",
              "       [ 46,  43,   0,   8,   0,  10,   0, 182,  77,  11],\n",
              "       [116,  98,   0,  29,   0,  35,   2,  38, 574,  36],\n",
              "       [  5,   3,   0,   0,   0,   1,   0,   0,  13, 145]])"
            ]
          },
          "metadata": {
            "tags": []
          },
          "execution_count": 193
        }
      ]
    },
    {
      "cell_type": "code",
      "metadata": {
        "id": "NDtZYPZoAAFl",
        "colab_type": "code",
        "outputId": "19817808-4fef-4f6a-fb29-81f66af1f3fb",
        "colab": {
          "base_uri": "https://localhost:8080/",
          "height": 123
        }
      },
      "source": [
        "RFCscores = cross_val_score(rfc, X1_test_lsa, Y1_test, cv=5)\n",
        "print('\\nCross Validated Accuracy scores: \\n', RFCscores)\n",
        "print(\"\\nThe Random Forest Classifier Accuracy Rate is: %0.3f (+/- %0.3f)\\n\" % (RFCscores.mean(), RFCscores.std() * 2))"
      ],
      "execution_count": 0,
      "outputs": [
        {
          "output_type": "stream",
          "text": [
            "\n",
            "Cross Validated Accuracy scores: \n",
            " [0.47619048 0.4942029  0.47667638 0.45760234 0.4619883 ]\n",
            "\n",
            "The Random Forest Classifier Accuracy Rate is: 0.473 (+/- 0.026)\n",
            "\n"
          ],
          "name": "stdout"
        }
      ]
    },
    {
      "cell_type": "code",
      "metadata": {
        "id": "rUDvyNk8AAQ0",
        "colab_type": "code",
        "colab": {}
      },
      "source": [
        ""
      ],
      "execution_count": 0,
      "outputs": []
    },
    {
      "cell_type": "markdown",
      "metadata": {
        "id": "m3MHJlRc6ynZ",
        "colab_type": "text"
      },
      "source": [
        "# Logistic Regression"
      ]
    },
    {
      "cell_type": "code",
      "metadata": {
        "id": "NjNzSpqLAAZo",
        "colab_type": "code",
        "outputId": "14e67aef-dc7d-40bc-ac7c-f21c00f4b669",
        "colab": {
          "base_uri": "https://localhost:8080/",
          "height": 212
        }
      },
      "source": [
        "lr = LogisticRegression()\n",
        "lf2 = lr.fit(X1_train_lsa,Y1_train)\n",
        "print(lf2)\n",
        "print('\\nTraining set scores:', lr.score(X1_train_lsa,Y1_train))"
      ],
      "execution_count": 0,
      "outputs": [
        {
          "output_type": "stream",
          "text": [
            "/usr/local/lib/python3.6/dist-packages/sklearn/linear_model/logistic.py:432: FutureWarning: Default solver will be changed to 'lbfgs' in 0.22. Specify a solver to silence this warning.\n",
            "  FutureWarning)\n",
            "/usr/local/lib/python3.6/dist-packages/sklearn/linear_model/logistic.py:469: FutureWarning: Default multi_class will be changed to 'auto' in 0.22. Specify the multi_class option to silence this warning.\n",
            "  \"this warning.\", FutureWarning)\n"
          ],
          "name": "stderr"
        },
        {
          "output_type": "stream",
          "text": [
            "LogisticRegression(C=1.0, class_weight=None, dual=False, fit_intercept=True,\n",
            "                   intercept_scaling=1, l1_ratio=None, max_iter=100,\n",
            "                   multi_class='warn', n_jobs=None, penalty='l2',\n",
            "                   random_state=None, solver='warn', tol=0.0001, verbose=0,\n",
            "                   warm_start=False)\n",
            "\n",
            "Training set scores: 0.8076438063827723\n"
          ],
          "name": "stdout"
        }
      ]
    },
    {
      "cell_type": "code",
      "metadata": {
        "id": "_E_2xClQDr9l",
        "colab_type": "code",
        "outputId": "4dfae5e5-8394-48ff-e344-7ffee45b33f4",
        "colab": {
          "base_uri": "https://localhost:8080/",
          "height": 550
        }
      },
      "source": [
        "print(\"Results:\")\n",
        "y1_true, y1_pred = Y1_test, lr.predict(X1_test_lsa)\n",
        "print(classification_report(y1_true, y1_pred))\n",
        "confusion_matrix(y1_true, y1_pred)"
      ],
      "execution_count": 0,
      "outputs": [
        {
          "output_type": "stream",
          "text": [
            "Results:\n",
            "              precision    recall  f1-score   support\n",
            "\n",
            "           0       0.69      0.83      0.75       620\n",
            "           1       0.79      0.69      0.74       696\n",
            "           2       0.00      0.00      0.00         7\n",
            "           3       0.93      0.60      0.73       236\n",
            "           4       0.89      0.13      0.23        62\n",
            "           5       0.74      0.57      0.65       276\n",
            "           6       1.00      0.50      0.67        68\n",
            "           7       0.85      0.64      0.73       377\n",
            "           8       0.66      0.90      0.76       928\n",
            "           9       0.95      0.72      0.82       167\n",
            "\n",
            "    accuracy                           0.74      3437\n",
            "   macro avg       0.75      0.56      0.61      3437\n",
            "weighted avg       0.76      0.74      0.73      3437\n",
            "\n"
          ],
          "name": "stdout"
        },
        {
          "output_type": "stream",
          "text": [
            "/usr/local/lib/python3.6/dist-packages/sklearn/metrics/classification.py:1437: UndefinedMetricWarning: Precision and F-score are ill-defined and being set to 0.0 in labels with no predicted samples.\n",
            "  'precision', 'predicted', average, warn_for)\n"
          ],
          "name": "stderr"
        },
        {
          "output_type": "execute_result",
          "data": {
            "text/plain": [
              "array([[515,  29,   0,   0,   1,   7,   0,   5,  63,   0],\n",
              "       [ 92, 478,   0,   0,   0,  10,   0,  13, 102,   1],\n",
              "       [  3,   2,   0,   0,   0,   0,   0,   0,   2,   0],\n",
              "       [  4,   5,   0, 141,   0,   3,   0,   2,  81,   0],\n",
              "       [ 35,   7,   0,   0,   8,   8,   0,   0,   4,   0],\n",
              "       [ 21,  24,   0,   1,   0, 158,   0,   9,  60,   3],\n",
              "       [  3,   4,   0,   1,   0,   8,  34,   2,  16,   0],\n",
              "       [ 31,  24,   0,   1,   0,  11,   0, 241,  68,   1],\n",
              "       [ 38,  27,   0,   7,   0,   7,   0,  11, 837,   1],\n",
              "       [  8,   4,   0,   0,   0,   1,   0,   1,  32, 121]])"
            ]
          },
          "metadata": {
            "tags": []
          },
          "execution_count": 196
        }
      ]
    },
    {
      "cell_type": "code",
      "metadata": {
        "id": "rnh93QiqDsN9",
        "colab_type": "code",
        "outputId": "32796dfc-39dc-4dcc-bc56-ea62927acbec",
        "colab": {
          "base_uri": "https://localhost:8080/",
          "height": 478
        }
      },
      "source": [
        "\n",
        "LRscores = cross_val_score(lr, X1_test_lsa, Y1_test, cv=5)\n",
        "print('\\nCross Validated Accuracy scores: \\n', LRscores)\n",
        "print(\"\\nThe Logisitic Rergression Accuracy Rate is: %0.3f (+/- %0.3f)\\n\" % (LRscores.mean(), LRscores.std() * 2))"
      ],
      "execution_count": 0,
      "outputs": [
        {
          "output_type": "stream",
          "text": [
            "/usr/local/lib/python3.6/dist-packages/sklearn/linear_model/logistic.py:432: FutureWarning: Default solver will be changed to 'lbfgs' in 0.22. Specify a solver to silence this warning.\n",
            "  FutureWarning)\n",
            "/usr/local/lib/python3.6/dist-packages/sklearn/linear_model/logistic.py:469: FutureWarning: Default multi_class will be changed to 'auto' in 0.22. Specify the multi_class option to silence this warning.\n",
            "  \"this warning.\", FutureWarning)\n",
            "/usr/local/lib/python3.6/dist-packages/sklearn/linear_model/logistic.py:432: FutureWarning: Default solver will be changed to 'lbfgs' in 0.22. Specify a solver to silence this warning.\n",
            "  FutureWarning)\n",
            "/usr/local/lib/python3.6/dist-packages/sklearn/linear_model/logistic.py:469: FutureWarning: Default multi_class will be changed to 'auto' in 0.22. Specify the multi_class option to silence this warning.\n",
            "  \"this warning.\", FutureWarning)\n",
            "/usr/local/lib/python3.6/dist-packages/sklearn/linear_model/logistic.py:432: FutureWarning: Default solver will be changed to 'lbfgs' in 0.22. Specify a solver to silence this warning.\n",
            "  FutureWarning)\n",
            "/usr/local/lib/python3.6/dist-packages/sklearn/linear_model/logistic.py:469: FutureWarning: Default multi_class will be changed to 'auto' in 0.22. Specify the multi_class option to silence this warning.\n",
            "  \"this warning.\", FutureWarning)\n",
            "/usr/local/lib/python3.6/dist-packages/sklearn/linear_model/logistic.py:432: FutureWarning: Default solver will be changed to 'lbfgs' in 0.22. Specify a solver to silence this warning.\n",
            "  FutureWarning)\n",
            "/usr/local/lib/python3.6/dist-packages/sklearn/linear_model/logistic.py:469: FutureWarning: Default multi_class will be changed to 'auto' in 0.22. Specify the multi_class option to silence this warning.\n",
            "  \"this warning.\", FutureWarning)\n",
            "/usr/local/lib/python3.6/dist-packages/sklearn/linear_model/logistic.py:432: FutureWarning: Default solver will be changed to 'lbfgs' in 0.22. Specify a solver to silence this warning.\n",
            "  FutureWarning)\n",
            "/usr/local/lib/python3.6/dist-packages/sklearn/linear_model/logistic.py:469: FutureWarning: Default multi_class will be changed to 'auto' in 0.22. Specify the multi_class option to silence this warning.\n",
            "  \"this warning.\", FutureWarning)\n"
          ],
          "name": "stderr"
        },
        {
          "output_type": "stream",
          "text": [
            "\n",
            "Cross Validated Accuracy scores: \n",
            " [0.65512266 0.67971014 0.67055394 0.64181287 0.63596491]\n",
            "\n",
            "The Logisitic Rergression Accuracy Rate is: 0.657 (+/- 0.033)\n",
            "\n"
          ],
          "name": "stdout"
        }
      ]
    },
    {
      "cell_type": "markdown",
      "metadata": {
        "id": "vwI1v4lD62WR",
        "colab_type": "text"
      },
      "source": [
        "# Support Vector Classifier"
      ]
    },
    {
      "cell_type": "code",
      "metadata": {
        "id": "zdvuRXvgE7gh",
        "colab_type": "code",
        "outputId": "583bc33b-f4b6-4261-db9a-01400c4bb7dd",
        "colab": {
          "base_uri": "https://localhost:8080/",
          "height": 105
        }
      },
      "source": [
        "svc = SVC(kernel='linear')\n",
        "svc2 = svc.fit(X1_train_lsa,Y1_train)\n",
        "print(svc2)\n",
        "print('Training set scores:', svc2.score(X1-_train_lsa,Y1_train))"
      ],
      "execution_count": 0,
      "outputs": [
        {
          "output_type": "stream",
          "text": [
            "SVC(C=1.0, cache_size=200, class_weight=None, coef0=0.0,\n",
            "    decision_function_shape='ovr', degree=3, gamma='auto_deprecated',\n",
            "    kernel='linear', max_iter=-1, probability=False, random_state=None,\n",
            "    shrinking=True, tol=0.001, verbose=False)\n",
            "Training set scores: 0.8350955475797847\n"
          ],
          "name": "stdout"
        }
      ]
    },
    {
      "cell_type": "code",
      "metadata": {
        "id": "G6aMtZtDE7oz",
        "colab_type": "code",
        "outputId": "82fe7b92-aa9f-48d4-97ef-161331826355",
        "colab": {
          "base_uri": "https://localhost:8080/",
          "height": 550
        }
      },
      "source": [
        "print(\"Results for SVC:\")\n",
        "y1_true, y1_pred = Y1_test, svc.predict(X1_test_lsa)\n",
        "print(classification_report(y1_true, y1_pred))\n",
        "confusion_matrix(y1_true, y1_pred)"
      ],
      "execution_count": 0,
      "outputs": [
        {
          "output_type": "stream",
          "text": [
            "Results for SVC:\n",
            "              precision    recall  f1-score   support\n",
            "\n",
            "           0       0.68      0.83      0.75       620\n",
            "           1       0.82      0.70      0.75       696\n",
            "           2       0.00      0.00      0.00         7\n",
            "           3       0.91      0.63      0.75       236\n",
            "           4       0.78      0.34      0.47        62\n",
            "           5       0.73      0.59      0.65       276\n",
            "           6       1.00      0.63      0.77        68\n",
            "           7       0.83      0.64      0.73       377\n",
            "           8       0.67      0.88      0.76       928\n",
            "           9       0.92      0.73      0.81       167\n",
            "\n",
            "    accuracy                           0.74      3437\n",
            "   macro avg       0.73      0.60      0.64      3437\n",
            "weighted avg       0.76      0.74      0.74      3437\n",
            "\n"
          ],
          "name": "stdout"
        },
        {
          "output_type": "stream",
          "text": [
            "/usr/local/lib/python3.6/dist-packages/sklearn/metrics/classification.py:1437: UndefinedMetricWarning: Precision and F-score are ill-defined and being set to 0.0 in labels with no predicted samples.\n",
            "  'precision', 'predicted', average, warn_for)\n"
          ],
          "name": "stderr"
        },
        {
          "output_type": "execute_result",
          "data": {
            "text/plain": [
              "array([[513,  24,   0,   0,   1,  12,   0,   8,  62,   0],\n",
              "       [ 89, 485,   0,   0,   2,  13,   0,  12,  94,   1],\n",
              "       [  4,   2,   0,   0,   0,   0,   0,   0,   1,   0],\n",
              "       [  6,   7,   0, 149,   0,   3,   0,   2,  68,   1],\n",
              "       [ 29,   4,   0,   1,  21,   6,   0,   0,   1,   0],\n",
              "       [ 24,  14,   0,   1,   2, 162,   0,   9,  58,   6],\n",
              "       [  3,   3,   0,   1,   0,   5,  43,   2,  11,   0],\n",
              "       [ 32,  24,   0,   0,   0,  10,   0, 242,  68,   1],\n",
              "       [ 44,  28,   0,  11,   0,  12,   0,  14, 817,   2],\n",
              "       [  9,   2,   0,   0,   1,   0,   0,   1,  32, 122]])"
            ]
          },
          "metadata": {
            "tags": []
          },
          "execution_count": 200
        }
      ]
    },
    {
      "cell_type": "code",
      "metadata": {
        "id": "CqzPBxVRE7xt",
        "colab_type": "code",
        "outputId": "f14994ae-1aed-43e6-a0c6-58bd868f99c7",
        "colab": {
          "base_uri": "https://localhost:8080/",
          "height": 123
        }
      },
      "source": [
        "SVCscores = cross_val_score(svc, X1_test_lsa, Y1_test, cv=5)\n",
        "print('\\nCross Validated Accuracy scores: \\n', SVCscores)\n",
        "print(\"\\nThe SVC Accuracy Rate is: %0.3f (+/- %0.3f)\\n\" % (SVCscores.mean(), SVCscores.std() * 2))"
      ],
      "execution_count": 0,
      "outputs": [
        {
          "output_type": "stream",
          "text": [
            "\n",
            "Cross Validated Accuracy scores: \n",
            " [0.68831169 0.68550725 0.68804665 0.66081871 0.66374269]\n",
            "\n",
            "The SVC Accuracy Rate is: 0.677 (+/- 0.025)\n",
            "\n"
          ],
          "name": "stdout"
        }
      ]
    },
    {
      "cell_type": "markdown",
      "metadata": {
        "id": "1BuGU22W7j-U",
        "colab_type": "text"
      },
      "source": [
        "The Random Forest Classifier had the lowest accuracy score. However, the Logistic Regression and SVC models improved by more than 20% with SVC having the highest score."
      ]
    }
  ]
}