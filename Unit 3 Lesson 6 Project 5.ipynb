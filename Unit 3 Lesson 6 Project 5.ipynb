{
 "cells": [
  {
   "cell_type": "code",
   "execution_count": 20,
   "metadata": {},
   "outputs": [],
   "source": [
    "import pandas as pd\n",
    "import numpy as np\n",
    "import math\n",
    "import seaborn as sns\n",
    "import sklearn\n",
    "import warnings\n",
    "import statsmodels.api as sm\n",
    "import matplotlib.patches as mpatches\n",
    "from matplotlib import pyplot as plt\n",
    "from scipy import stats\n",
    "from sklearn import linear_model\n",
    "from sklearn import metrics\n",
    "from sklearn import model_selection\n",
    "from sklearn import preprocessing\n",
    "from sklearn.linear_model import LogisticRegression\n",
    "from sklearn.model_selection import cross_val_score\n",
    "from sklearn.model_selection import train_test_split\n",
    "warnings.filterwarnings(\n",
    "    action=\"ignore\",\n",
    "    module=\"scipy\",\n",
    "    message=\"^internal gelsd\"\n",
    ")\n",
    "%matplotlib inline\n",
    "sns.set_style('white')"
   ]
  },
  {
   "cell_type": "code",
   "execution_count": 21,
   "metadata": {},
   "outputs": [],
   "source": [
    "cancer = pd.read_csv(\"cancer.csv\")"
   ]
  },
  {
   "cell_type": "code",
   "execution_count": 22,
   "metadata": {
    "scrolled": true
   },
   "outputs": [
    {
     "data": {
      "text/plain": [
       "Index(['id', 'Clump_Thickness', 'Size_Uniformity', 'Shape_Uniformity',\n",
       "       'Marginal_Adhesion', 'Epithelial_Size', 'Bland_Chromatin',\n",
       "       'Normal_Nucleoli', 'Mitoses', 'Class'],\n",
       "      dtype='object')"
      ]
     },
     "execution_count": 22,
     "metadata": {},
     "output_type": "execute_result"
    }
   ],
   "source": [
    "cancer.columns"
   ]
  },
  {
   "cell_type": "code",
   "execution_count": 37,
   "metadata": {
    "scrolled": false
   },
   "outputs": [
    {
     "data": {
      "text/html": [
       "<div>\n",
       "<style scoped>\n",
       "    .dataframe tbody tr th:only-of-type {\n",
       "        vertical-align: middle;\n",
       "    }\n",
       "\n",
       "    .dataframe tbody tr th {\n",
       "        vertical-align: top;\n",
       "    }\n",
       "\n",
       "    .dataframe thead th {\n",
       "        text-align: right;\n",
       "    }\n",
       "</style>\n",
       "<table border=\"1\" class=\"dataframe\">\n",
       "  <thead>\n",
       "    <tr style=\"text-align: right;\">\n",
       "      <th></th>\n",
       "      <th>id</th>\n",
       "      <th>Clump_Thickness</th>\n",
       "      <th>Size_Uniformity</th>\n",
       "      <th>Shape_Uniformity</th>\n",
       "      <th>Marginal_Adhesion</th>\n",
       "      <th>Epithelial_Size</th>\n",
       "      <th>Bland_Chromatin</th>\n",
       "      <th>Normal_Nucleoli</th>\n",
       "      <th>Mitoses</th>\n",
       "      <th>Class</th>\n",
       "      <th>ClassCat</th>\n",
       "      <th>Class?</th>\n",
       "    </tr>\n",
       "  </thead>\n",
       "  <tbody>\n",
       "    <tr>\n",
       "      <th>0</th>\n",
       "      <td>1000025</td>\n",
       "      <td>5</td>\n",
       "      <td>1</td>\n",
       "      <td>1</td>\n",
       "      <td>1</td>\n",
       "      <td>2</td>\n",
       "      <td>3</td>\n",
       "      <td>1</td>\n",
       "      <td>1</td>\n",
       "      <td>2</td>\n",
       "      <td>0</td>\n",
       "      <td>0</td>\n",
       "    </tr>\n",
       "    <tr>\n",
       "      <th>1</th>\n",
       "      <td>1002945</td>\n",
       "      <td>5</td>\n",
       "      <td>4</td>\n",
       "      <td>4</td>\n",
       "      <td>5</td>\n",
       "      <td>7</td>\n",
       "      <td>3</td>\n",
       "      <td>2</td>\n",
       "      <td>1</td>\n",
       "      <td>2</td>\n",
       "      <td>0</td>\n",
       "      <td>0</td>\n",
       "    </tr>\n",
       "    <tr>\n",
       "      <th>2</th>\n",
       "      <td>1015425</td>\n",
       "      <td>3</td>\n",
       "      <td>1</td>\n",
       "      <td>1</td>\n",
       "      <td>1</td>\n",
       "      <td>2</td>\n",
       "      <td>3</td>\n",
       "      <td>1</td>\n",
       "      <td>1</td>\n",
       "      <td>2</td>\n",
       "      <td>0</td>\n",
       "      <td>0</td>\n",
       "    </tr>\n",
       "    <tr>\n",
       "      <th>3</th>\n",
       "      <td>1016277</td>\n",
       "      <td>6</td>\n",
       "      <td>8</td>\n",
       "      <td>8</td>\n",
       "      <td>1</td>\n",
       "      <td>3</td>\n",
       "      <td>3</td>\n",
       "      <td>7</td>\n",
       "      <td>1</td>\n",
       "      <td>2</td>\n",
       "      <td>0</td>\n",
       "      <td>0</td>\n",
       "    </tr>\n",
       "    <tr>\n",
       "      <th>4</th>\n",
       "      <td>1017023</td>\n",
       "      <td>4</td>\n",
       "      <td>1</td>\n",
       "      <td>1</td>\n",
       "      <td>3</td>\n",
       "      <td>2</td>\n",
       "      <td>3</td>\n",
       "      <td>1</td>\n",
       "      <td>1</td>\n",
       "      <td>2</td>\n",
       "      <td>0</td>\n",
       "      <td>0</td>\n",
       "    </tr>\n",
       "    <tr>\n",
       "      <th>5</th>\n",
       "      <td>1017122</td>\n",
       "      <td>8</td>\n",
       "      <td>10</td>\n",
       "      <td>10</td>\n",
       "      <td>8</td>\n",
       "      <td>7</td>\n",
       "      <td>9</td>\n",
       "      <td>7</td>\n",
       "      <td>1</td>\n",
       "      <td>4</td>\n",
       "      <td>1</td>\n",
       "      <td>1</td>\n",
       "    </tr>\n",
       "    <tr>\n",
       "      <th>6</th>\n",
       "      <td>1018099</td>\n",
       "      <td>1</td>\n",
       "      <td>1</td>\n",
       "      <td>1</td>\n",
       "      <td>1</td>\n",
       "      <td>2</td>\n",
       "      <td>3</td>\n",
       "      <td>1</td>\n",
       "      <td>1</td>\n",
       "      <td>2</td>\n",
       "      <td>0</td>\n",
       "      <td>0</td>\n",
       "    </tr>\n",
       "    <tr>\n",
       "      <th>7</th>\n",
       "      <td>1018561</td>\n",
       "      <td>2</td>\n",
       "      <td>1</td>\n",
       "      <td>2</td>\n",
       "      <td>1</td>\n",
       "      <td>2</td>\n",
       "      <td>3</td>\n",
       "      <td>1</td>\n",
       "      <td>1</td>\n",
       "      <td>2</td>\n",
       "      <td>0</td>\n",
       "      <td>0</td>\n",
       "    </tr>\n",
       "    <tr>\n",
       "      <th>8</th>\n",
       "      <td>1033078</td>\n",
       "      <td>2</td>\n",
       "      <td>1</td>\n",
       "      <td>1</td>\n",
       "      <td>1</td>\n",
       "      <td>2</td>\n",
       "      <td>1</td>\n",
       "      <td>1</td>\n",
       "      <td>5</td>\n",
       "      <td>2</td>\n",
       "      <td>0</td>\n",
       "      <td>0</td>\n",
       "    </tr>\n",
       "    <tr>\n",
       "      <th>9</th>\n",
       "      <td>1033078</td>\n",
       "      <td>4</td>\n",
       "      <td>2</td>\n",
       "      <td>1</td>\n",
       "      <td>1</td>\n",
       "      <td>2</td>\n",
       "      <td>2</td>\n",
       "      <td>1</td>\n",
       "      <td>1</td>\n",
       "      <td>2</td>\n",
       "      <td>0</td>\n",
       "      <td>0</td>\n",
       "    </tr>\n",
       "  </tbody>\n",
       "</table>\n",
       "</div>"
      ],
      "text/plain": [
       "        id  Clump_Thickness  Size_Uniformity  Shape_Uniformity  \\\n",
       "0  1000025                5                1                 1   \n",
       "1  1002945                5                4                 4   \n",
       "2  1015425                3                1                 1   \n",
       "3  1016277                6                8                 8   \n",
       "4  1017023                4                1                 1   \n",
       "5  1017122                8               10                10   \n",
       "6  1018099                1                1                 1   \n",
       "7  1018561                2                1                 2   \n",
       "8  1033078                2                1                 1   \n",
       "9  1033078                4                2                 1   \n",
       "\n",
       "   Marginal_Adhesion  Epithelial_Size  Bland_Chromatin  Normal_Nucleoli  \\\n",
       "0                  1                2                3                1   \n",
       "1                  5                7                3                2   \n",
       "2                  1                2                3                1   \n",
       "3                  1                3                3                7   \n",
       "4                  3                2                3                1   \n",
       "5                  8                7                9                7   \n",
       "6                  1                2                3                1   \n",
       "7                  1                2                3                1   \n",
       "8                  1                2                1                1   \n",
       "9                  1                2                2                1   \n",
       "\n",
       "   Mitoses  Class  ClassCat  Class?  \n",
       "0        1      2         0       0  \n",
       "1        1      2         0       0  \n",
       "2        1      2         0       0  \n",
       "3        1      2         0       0  \n",
       "4        1      2         0       0  \n",
       "5        1      4         1       1  \n",
       "6        1      2         0       0  \n",
       "7        1      2         0       0  \n",
       "8        5      2         0       0  \n",
       "9        1      2         0       0  "
      ]
     },
     "execution_count": 37,
     "metadata": {},
     "output_type": "execute_result"
    }
   ],
   "source": [
    "cancer['Class?'] = np.where(cancer['Class']>3, 1, 0)\n",
    "cancer.head(10)"
   ]
  },
  {
   "cell_type": "code",
   "execution_count": 38,
   "metadata": {},
   "outputs": [
    {
     "data": {
      "text/plain": [
       "id                   False\n",
       "Clump_Thickness      False\n",
       "Size_Uniformity      False\n",
       "Shape_Uniformity     False\n",
       "Marginal_Adhesion    False\n",
       "Epithelial_Size      False\n",
       "Bland_Chromatin      False\n",
       "Normal_Nucleoli      False\n",
       "Mitoses              False\n",
       "Class                False\n",
       "ClassCat             False\n",
       "Class?               False\n",
       "dtype: bool"
      ]
     },
     "execution_count": 38,
     "metadata": {},
     "output_type": "execute_result"
    }
   ],
   "source": [
    "cancer.isnull().any()"
   ]
  },
  {
   "cell_type": "code",
   "execution_count": null,
   "metadata": {},
   "outputs": [],
   "source": []
  },
  {
   "cell_type": "code",
   "execution_count": 39,
   "metadata": {
    "scrolled": true
   },
   "outputs": [
    {
     "name": "stdout",
     "output_type": "stream",
     "text": [
      "Optimization terminated successfully.\n",
      "         Current function value: 0.566013\n",
      "         Iterations 6\n",
      "                           Logit Regression Results                           \n",
      "==============================================================================\n",
      "Dep. Variable:                 Class?   No. Observations:                  699\n",
      "Model:                          Logit   Df Residuals:                      695\n",
      "Method:                           MLE   Df Model:                            3\n",
      "Date:                Mon, 21 Jan 2019   Pseudo R-squ.:                  0.1213\n",
      "Time:                        14:00:24   Log-Likelihood:                -395.64\n",
      "converged:                       True   LL-Null:                       -450.26\n",
      "                                        LLR p-value:                 1.598e-23\n",
      "=====================================================================================\n",
      "                        coef    std err          z      P>|z|      [0.025      0.975]\n",
      "-------------------------------------------------------------------------------------\n",
      "Clump_Thickness      -0.3574      0.040     -8.831      0.000      -0.437      -0.278\n",
      "Size_Uniformity       0.3770      0.084      4.468      0.000       0.212       0.542\n",
      "Shape_Uniformity      0.2048      0.081      2.541      0.011       0.047       0.363\n",
      "Marginal_Adhesion     0.0396      0.049      0.800      0.424      -0.057       0.137\n",
      "=====================================================================================\n"
     ]
    },
    {
     "name": "stderr",
     "output_type": "stream",
     "text": [
      "c:\\users\\ben\\appdata\\local\\programs\\python\\python37-32\\lib\\site-packages\\ipykernel_launcher.py:11: SettingWithCopyWarning: \n",
      "A value is trying to be set on a copy of a slice from a DataFrame.\n",
      "Try using .loc[row_indexer,col_indexer] = value instead\n",
      "\n",
      "See the caveats in the documentation: http://pandas.pydata.org/pandas-docs/stable/indexing.html#indexing-view-versus-copy\n",
      "  # This is added back by InteractiveShellApp.init_path()\n"
     ]
    }
   ],
   "source": [
    "stats.chisqprob = lambda chisq, cancer: stats.chi2.sf(chisq, cancer)\n",
    "\n",
    "lr = LogisticRegression(C=1e9)\n",
    "Y = cancer['Class?']\n",
    "X = cancer[['Clump_Thickness', 'Size_Uniformity', 'Shape_Uniformity',\n",
    "       'Marginal_Adhesion']]\n",
    "\n",
    "X_statsmod = cancer[['Clump_Thickness', 'Size_Uniformity', 'Shape_Uniformity',\n",
    "       'Marginal_Adhesion']]\n",
    "\n",
    "X_statsmod['intercept'] = 1 \n",
    "\n",
    "logit_model=sm.Logit(Y,X)\n",
    "result=logit_model.fit()\n",
    "print(result.summary())"
   ]
  },
  {
   "cell_type": "code",
   "execution_count": 40,
   "metadata": {},
   "outputs": [
    {
     "name": "stdout",
     "output_type": "stream",
     "text": [
      "The accuracy of logistic regression classifier for this data set 0.937.\n"
     ]
    },
    {
     "name": "stderr",
     "output_type": "stream",
     "text": [
      "c:\\users\\ben\\appdata\\local\\programs\\python\\python37-32\\lib\\site-packages\\sklearn\\linear_model\\logistic.py:432: FutureWarning: Default solver will be changed to 'lbfgs' in 0.22. Specify a solver to silence this warning.\n",
      "  FutureWarning)\n"
     ]
    }
   ],
   "source": [
    "X_train, X_test, Y_train, Y_test = train_test_split(X, Y, test_size=0.25, random_state=0)\n",
    "lreg = LogisticRegression()\n",
    "lreg.fit(X_train, Y_train)\n",
    "\n",
    "y_pred = lreg.predict(X_test)\n",
    "print('The accuracy of logistic regression classifier for this data set {:.3f}.'.format(lreg.score(X_test, Y_test)))"
   ]
  },
  {
   "cell_type": "code",
   "execution_count": 41,
   "metadata": {
    "scrolled": false
   },
   "outputs": [
    {
     "name": "stdout",
     "output_type": "stream",
     "text": [
      "The accuracy rate for the 10-fold cross is 0.948.\n"
     ]
    },
    {
     "name": "stderr",
     "output_type": "stream",
     "text": [
      "c:\\users\\ben\\appdata\\local\\programs\\python\\python37-32\\lib\\site-packages\\sklearn\\linear_model\\logistic.py:432: FutureWarning: Default solver will be changed to 'lbfgs' in 0.22. Specify a solver to silence this warning.\n",
      "  FutureWarning)\n",
      "c:\\users\\ben\\appdata\\local\\programs\\python\\python37-32\\lib\\site-packages\\sklearn\\linear_model\\logistic.py:432: FutureWarning: Default solver will be changed to 'lbfgs' in 0.22. Specify a solver to silence this warning.\n",
      "  FutureWarning)\n",
      "c:\\users\\ben\\appdata\\local\\programs\\python\\python37-32\\lib\\site-packages\\sklearn\\linear_model\\logistic.py:432: FutureWarning: Default solver will be changed to 'lbfgs' in 0.22. Specify a solver to silence this warning.\n",
      "  FutureWarning)\n",
      "c:\\users\\ben\\appdata\\local\\programs\\python\\python37-32\\lib\\site-packages\\sklearn\\linear_model\\logistic.py:432: FutureWarning: Default solver will be changed to 'lbfgs' in 0.22. Specify a solver to silence this warning.\n",
      "  FutureWarning)\n",
      "c:\\users\\ben\\appdata\\local\\programs\\python\\python37-32\\lib\\site-packages\\sklearn\\linear_model\\logistic.py:432: FutureWarning: Default solver will be changed to 'lbfgs' in 0.22. Specify a solver to silence this warning.\n",
      "  FutureWarning)\n"
     ]
    }
   ],
   "source": [
    "KFold = model_selection.KFold(n_splits=5, random_state=5)\n",
    "model = LogisticRegression()\n",
    "scoring = 'accuracy'\n",
    "results = model_selection.cross_val_score(model, X_train, Y_train, cv=KFold, scoring=scoring)\n",
    "print(\"The accuracy rate for the 10-fold cross is %.3f.\" % (results.mean()))"
   ]
  },
  {
   "cell_type": "markdown",
   "metadata": {},
   "source": [
    "Vanilla Logistic Regression"
   ]
  },
  {
   "cell_type": "code",
   "execution_count": 42,
   "metadata": {
    "scrolled": true
   },
   "outputs": [
    {
     "name": "stdout",
     "output_type": "stream",
     "text": [
      "\n",
      "The R-squared score for the simple model is:\n",
      "0.7467761993645357\n",
      "\n",
      "The R-squared complex model is:\n",
      "0.8326194450335352\n",
      "\n",
      "Small vs. Large Model:\n",
      "[[0.0529 -1.6529]\n",
      " [0.0259 0.0860]\n",
      " [0.0497 2.6382]\n",
      " [0.0343 -0.0038]\n",
      " [-0.2103 0.7095]]\n"
     ]
    }
   ],
   "source": [
    "trainsize = int(cancer.shape[0]*0.75)  \n",
    "cancer_test = cancer.iloc[trainsize:, :].copy() \n",
    "cancer_train = cancer.iloc[:trainsize, :].copy()\n",
    "\n",
    "regr = linear_model.LinearRegression()\n",
    "YTrain = cancer_train['Class?'].values.reshape(-1, 1)\n",
    "XTrain = cancer_train[['Clump_Thickness','Size_Uniformity','Shape_Uniformity','Marginal_Adhesion']]\n",
    "regr.fit(XTrain, YTrain)\n",
    "print('\\nThe R-squared score for the simple model is:')\n",
    "print(regr.score(XTrain, YTrain))\n",
    "\n",
    "origparams = np.append(regr.coef_, regr.intercept_) \n",
    "\n",
    "\n",
    "cancer_train['Clump_ThicknessShape_Uniformity'] = cancer_train['Clump_Thickness'] * cancer_train['Shape_Uniformity']\n",
    "cancer_train['Clump_ThicknessSize_Uniformity'] = cancer_train['Clump_Thickness'] * cancer_train['Size_Uniformity']\n",
    "cancer_train['Clump_ThicknessMarginal_Adhesion'] = cancer_train['Clump_Thickness'] * cancer_train['Marginal_Adhesion']\n",
    "cancer_train['Clump_ThicknessRoot'] = cancer_train['Clump_Thickness'] ** 0.5\n",
    "cancer_train['Clump_ThicknessSquared'] = cancer_train['Clump_Thickness'] ** 2\n",
    "cancer_train['Clump_ThicknessCubed'] = cancer_train['Clump_Thickness'] ** 3\n",
    "cancer_train['Size_UniformityShape_Uniformity'] = cancer_train['Size_Uniformity'] * cancer_train['Shape_Uniformity']\n",
    "cancer_train['Size_UniformityMarginal_Adhesion'] = cancer_train['Size_Uniformity'] * cancer_train['Marginal_Adhesion']\n",
    "cancer_train['Size_UniformityRoot'] = cancer_train['Size_Uniformity'] ** 0.5\n",
    "cancer_train['Size_UniformitySquared'] = cancer_train['Size_Uniformity'] ** 2\n",
    "cancer_train['Size_UniformityCubed'] = cancer_train['Size_Uniformity'] ** 3\n",
    "cancer_train['Shape_UniformityMarginal_Adhesion'] = cancer_train['Shape_Uniformity'] * cancer_train['Marginal_Adhesion']\n",
    "cancer_train['Shape_UniformityRoot'] = cancer_train['Shape_Uniformity'] ** 0.5\n",
    "cancer_train['Shape_UniformitySquared'] = cancer_train['Shape_Uniformity'] ** 2\n",
    "cancer_train['Shape_UniformityCubed'] = cancer_train['Shape_Uniformity'] ** 3\n",
    "cancer_train['Marginal_AdhesionRoot'] = cancer_train['Marginal_Adhesion'] ** 0.5\n",
    "cancer_train['Marginal_AdhesionSquared'] = cancer_train['Marginal_Adhesion'] ** 2\n",
    "cancer_train['Marginal_AdhesionCubed'] = cancer_train['Marginal_Adhesion'] ** 3\n",
    "                             \n",
    "regrBig = linear_model.LinearRegression()\n",
    "Xtrain2 = cancer_train[['Clump_Thickness','Size_Uniformity','Shape_Uniformity',\n",
    "                     'Clump_ThicknessShape_Uniformity','Clump_ThicknessMarginal_Adhesion',\n",
    "                     'Clump_ThicknessSize_Uniformity','Size_UniformityShape_Uniformity', 'Size_UniformityMarginal_Adhesion',\n",
    "                     'Shape_UniformityRoot','Shape_UniformitySquared','Shape_UniformityCubed','Shape_UniformityMarginal_Adhesion',\n",
    "                     'Size_UniformityRoot','Size_UniformitySquared','Size_UniformityCubed',\n",
    "                     'Clump_ThicknessRoot','Clump_ThicknessSquared','Clump_ThicknessCubed',\n",
    "                     'Marginal_AdhesionRoot', 'Marginal_AdhesionSquared', 'Marginal_AdhesionCubed'\n",
    "                    ]]\n",
    "regrBig.fit(Xtrain2, YTrain)\n",
    "print('\\nThe R-squared complex model is:')\n",
    "print(regrBig.score(Xtrain2, YTrain))\n",
    "\n",
    "newparams = np.append(\n",
    "    regrBig.coef_[0,0:(len(origparams)-1)],\n",
    "    regrBig.intercept_)\n",
    "\n",
    "print('\\nSmall vs. Large Model:')\n",
    "compare = np.column_stack((origparams, newparams))\n",
    "comparisons = np.array2string(\n",
    "    compare,\n",
    "    formatter={'float_kind':'{0:.4f}'.format})\n",
    "print(comparisons)"
   ]
  },
  {
   "cell_type": "code",
   "execution_count": 43,
   "metadata": {},
   "outputs": [
    {
     "name": "stdout",
     "output_type": "stream",
     "text": [
      "\n",
      "The R-squared simple model is:\n",
      "0.8051017485158325\n",
      "\n",
      "The R-squared complex model is:\n",
      "0.8990214288410103\n"
     ]
    }
   ],
   "source": [
    "YTest = cancer_test['Class?'].values.reshape(-1, 1)\n",
    "XTest = cancer_test[['Clump_Thickness','Size_Uniformity','Shape_Uniformity','Marginal_Adhesion']]\n",
    "print('\\nThe R-squared simple model is:')\n",
    "print(regr.score(XTest, YTest))\n",
    "\n",
    "cancer_test['Clump_ThicknessShape_Uniformity'] = cancer_test['Clump_Thickness'] * cancer_test['Shape_Uniformity']\n",
    "cancer_test['Clump_ThicknessSize_Uniformity'] = cancer_test['Clump_Thickness'] * cancer_test['Size_Uniformity']\n",
    "cancer_test['Clump_ThicknessMarginal_Adhesion'] = cancer_test['Clump_Thickness'] * cancer_test['Marginal_Adhesion']\n",
    "cancer_test['Clump_ThicknessRoot'] = cancer_test['Clump_Thickness'] ** 0.5\n",
    "cancer_test['Clump_ThicknessSquared'] = cancer_test['Clump_Thickness'] ** 2\n",
    "cancer_test['Clump_ThicknessCubed'] = cancer_test['Clump_Thickness'] ** 3\n",
    "cancer_test['Size_UniformityShape_Uniformity'] = cancer_test['Size_Uniformity'] * cancer_test['Shape_Uniformity']\n",
    "cancer_test['Size_UniformityMarginal_Adhesion'] = cancer_test['Size_Uniformity'] * cancer_test['Marginal_Adhesion']\n",
    "cancer_test['Size_UniformityRoot'] = cancer_test['Size_Uniformity'] ** 0.5\n",
    "cancer_test['Size_UniformitySquared'] = cancer_test['Size_Uniformity'] ** 2\n",
    "cancer_test['Size_UniformityCubed'] = cancer_test['Size_Uniformity'] ** 3\n",
    "cancer_test['Shape_UniformityMarginal_Adhesion'] = cancer_test['Shape_Uniformity'] * cancer_test['Marginal_Adhesion']\n",
    "cancer_test['Shape_UniformityRoot'] = cancer_test['Shape_Uniformity'] ** 0.5\n",
    "cancer_test['Shape_UniformitySquared'] = cancer_test['Shape_Uniformity'] ** 2\n",
    "cancer_test['Shape_UniformityCubed'] = cancer_test['Shape_Uniformity'] ** 3\n",
    "cancer_test['Marginal_AdhesionRoot'] = cancer_test['Marginal_Adhesion'] ** 0.5\n",
    "cancer_test['Marginal_AdhesionSquared'] = cancer_test['Marginal_Adhesion'] ** 2\n",
    "cancer_test['Marginal_AdhesionCubed'] = cancer_test['Marginal_Adhesion'] ** 3\n",
    "                             \n",
    "Xtest2 = cancer_test[['Clump_Thickness','Size_Uniformity','Shape_Uniformity',\n",
    "                     'Clump_ThicknessShape_Uniformity','Clump_ThicknessMarginal_Adhesion',\n",
    "                     'Clump_ThicknessSize_Uniformity','Size_UniformityShape_Uniformity', 'Size_UniformityMarginal_Adhesion',\n",
    "                     'Shape_UniformityRoot','Shape_UniformitySquared','Shape_UniformityCubed','Shape_UniformityMarginal_Adhesion',\n",
    "                     'Size_UniformityRoot','Size_UniformitySquared','Size_UniformityCubed',\n",
    "                     'Clump_ThicknessRoot','Clump_ThicknessSquared','Clump_ThicknessCubed',\n",
    "                     'Marginal_AdhesionRoot', 'Marginal_AdhesionSquared', 'Marginal_AdhesionCubed'\n",
    "                    ]]\n",
    "print('\\nThe R-squared complex model is:')\n",
    "print(regrBig.score(Xtest2, YTest))\n"
   ]
  },
  {
   "cell_type": "markdown",
   "metadata": {},
   "source": [
    "Ridge Logistic Regression"
   ]
  },
  {
   "cell_type": "code",
   "execution_count": 44,
   "metadata": {},
   "outputs": [
    {
     "name": "stdout",
     "output_type": "stream",
     "text": [
      "0.7109144388537617\n",
      "0.012240813472288292\n",
      "0.02341640918492205\n",
      "\n",
      "Small vs Large Model Estimates\n",
      "[[0.053 -1.653]\n",
      " [0.026 0.086]\n",
      " [0.050 2.638]\n",
      " [0.034 -0.004]\n",
      " [-0.210 0.709]]\n"
     ]
    }
   ],
   "source": [
    "ridgeregr = linear_model.Ridge(alpha=10, fit_intercept=False)\n",
    "ridgeregr.fit(X_train, Y_train)\n",
    "print(ridgeregr.score(X_train, Y_train))\n",
    "parameters = ridgeregr.coef_[0]\n",
    "print(parameters)\n",
    "\n",
    "ridgeregrBig = linear_model.Ridge(alpha=10, fit_intercept=False)\n",
    "ridgeregrBig.fit(Xtrain2, Y_train)\n",
    "print(ridgeregrBig.score(Xtrain2, Y_train))\n",
    "print('\\nSmall vs Large Model Estimates')\n",
    "comparison = np.array2string(compare,\n",
    "                               formatter = {'float_kind':'{0:.3f}'.format})\n",
    "print(comparison)"
   ]
  },
  {
   "cell_type": "code",
   "execution_count": 45,
   "metadata": {},
   "outputs": [
    {
     "name": "stdout",
     "output_type": "stream",
     "text": [
      "0.7540380640657215\n",
      "-0.0913801035338424\n"
     ]
    }
   ],
   "source": [
    "print(ridgeregr.score(XTest, YTest))\n",
    "print(ridgeregrBig.score(Xtest2, YTest))"
   ]
  },
  {
   "cell_type": "markdown",
   "metadata": {},
   "source": [
    "Lasso Logistic Regression"
   ]
  },
  {
   "cell_type": "code",
   "execution_count": 46,
   "metadata": {},
   "outputs": [
    {
     "name": "stdout",
     "output_type": "stream",
     "text": [
      "R² for the model with a small amount of features:\n",
      "0.0\n",
      "\n",
      "Parameter estimates for the model with a small amount of features:\n",
      "[0.         0.         0.         0.         0.33969466]\n",
      "\n",
      "R² for the model with a large amount of features:\n",
      "0.0060633228643106616\n",
      "\n",
      "Parameter estimates for the model with a large amount of features:\n",
      "[-0.00000000e+00 -0.00000000e+00  0.00000000e+00  0.00000000e+00\n",
      "  0.00000000e+00 -0.00000000e+00  0.00000000e+00  0.00000000e+00\n",
      "  0.00000000e+00  0.00000000e+00  8.58284804e-05  0.00000000e+00\n",
      "  0.00000000e+00 -0.00000000e+00 -9.91221417e-05 -0.00000000e+00\n",
      "  0.00000000e+00  0.00000000e+00  0.00000000e+00  0.00000000e+00\n",
      "  0.00000000e+00  3.41979869e-01]\n"
     ]
    }
   ],
   "source": [
    "lass = linear_model.Lasso(alpha=3)\n",
    "lassfit = lass.fit(X_train, Y_train)\n",
    "print('R² for the model with a small amount of features:')\n",
    "print(lass.score(X_train, Y_train))\n",
    "parameters = np.append(lassfit.coef_, lassfit.intercept_)\n",
    "print('\\nParameter estimates for the model with a small amount of features:')\n",
    "print(parameters)\n",
    "\n",
    "lassBig = linear_model.Lasso(alpha=3)\n",
    "lassBig.fit(Xtrain2, Y_train)\n",
    "print('\\nR² for the model with a large amount of features:')\n",
    "print(lassBig.score(Xtrain2, Y_train))\n",
    "parameters = np.append(lassBig.coef_, lassBig.intercept_)\n",
    "print('\\nParameter estimates for the model with a large amount of features:')\n",
    "print(parameters)"
   ]
  },
  {
   "cell_type": "code",
   "execution_count": 47,
   "metadata": {},
   "outputs": [
    {
     "name": "stdout",
     "output_type": "stream",
     "text": [
      "-0.08835096914863572\n",
      "-0.11854943117797512\n"
     ]
    }
   ],
   "source": [
    "print(lass.score(XTest, YTest))\n",
    "print(lassBig.score(Xtest2, YTest))"
   ]
  },
  {
   "cell_type": "markdown",
   "metadata": {},
   "source": [
    "Summary"
   ]
  },
  {
   "cell_type": "markdown",
   "metadata": {},
   "source": [
    "Vanilla logistic Regression worked the best for this model because it generated the highest R-squared score. Based on the results, Ridge regression did not fit well with this data set. As for the lasso, the cancer model did not fit well due to low amount of numbers in the variables. Regression is useful when it comes to forecasting. However, outliers and regression do not blend well together."
   ]
  }
 ],
 "metadata": {
  "kernelspec": {
   "display_name": "Python 3",
   "language": "python",
   "name": "python3"
  },
  "language_info": {
   "codemirror_mode": {
    "name": "ipython",
    "version": 3
   },
   "file_extension": ".py",
   "mimetype": "text/x-python",
   "name": "python",
   "nbconvert_exporter": "python",
   "pygments_lexer": "ipython3",
   "version": "3.7.0"
  }
 },
 "nbformat": 4,
 "nbformat_minor": 2
}
