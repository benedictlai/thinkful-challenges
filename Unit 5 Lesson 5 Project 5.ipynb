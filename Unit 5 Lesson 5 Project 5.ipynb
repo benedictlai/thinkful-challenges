{
 "cells": [
  {
   "cell_type": "markdown",
   "metadata": {},
   "source": [
    "Predict the running times of prospective Olympic sprinters using data from the last 20 Olympics.\n",
    "    \n",
    "    I'd use either KNN or Random Forest for this scenario.\n",
    "\n",
    "You have more features (columns) than rows in your dataset.\n",
    "    \n",
    "    Because this scenario usually overfits a model, I would use the Lasso regression.\n",
    "\n",
    "Identify the most important characteristic predicting likelihood of being jailed before age 20.\n",
    "    \n",
    "    Random Forest Classifier because it is classified.\n",
    "    \n",
    "Implement a filter to “highlight” emails that might be important to the recipient\n",
    "    \n",
    "    I would use Naive Bayes because it deals with filtering.\n",
    "    \n",
    "You have 1000+ features.\n",
    "    \n",
    "    Use PCA and SVM or Random Forest because of the selections. Also, Lasso Regression may fit well for this scenario.\n",
    "    \n",
    "Predict whether someone who adds items to their cart on a website will purchase the items.\n",
    "    \n",
    "    I would use vanilla logistic regression due to its categorial variables. Naive Bayes deals with filtering so that may fit well with this scenario.\n",
    "    \n",
    "Your dataset dimensions are 982400 x 500\n",
    "    \n",
    "    First, use PCA to select the compitable features. Then, use any type of regression from Unit 3, or SVM.\n",
    "\n",
    "Identify faces in an image.\n",
    "    \n",
    "    I would use Simple Vector Machines because it is continous.\n",
    "    \n",
    "Predict which of three flavors of ice cream will be most popular with boys vs girls.\n",
    "    \n",
    "    Random Forest Classifier because they deal with classifications."
   ]
  }
 ],
 "metadata": {
  "kernelspec": {
   "display_name": "Python 3",
   "language": "python",
   "name": "python3"
  },
  "language_info": {
   "codemirror_mode": {
    "name": "ipython",
    "version": 3
   },
   "file_extension": ".py",
   "mimetype": "text/x-python",
   "name": "python",
   "nbconvert_exporter": "python",
   "pygments_lexer": "ipython3",
   "version": "3.7.0"
  }
 },
 "nbformat": 4,
 "nbformat_minor": 2
}
