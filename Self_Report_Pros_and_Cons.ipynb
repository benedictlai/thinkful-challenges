{
  "nbformat": 4,
  "nbformat_minor": 0,
  "metadata": {
    "colab": {
      "name": "Self Report Pros and Cons.ipynb",
      "version": "0.3.2",
      "provenance": [],
      "collapsed_sections": [],
      "include_colab_link": true
    },
    "kernelspec": {
      "name": "python3",
      "display_name": "Python 3"
    }
  },
  "cells": [
    {
      "cell_type": "markdown",
      "metadata": {
        "id": "view-in-github",
        "colab_type": "text"
      },
      "source": [
        "<a href=\"https://colab.research.google.com/github/benedictlai/thinkful-challenges/blob/master/Self_Report_Pros_and_Cons.ipynb\" target=\"_parent\"><img src=\"https://colab.research.google.com/assets/colab-badge.svg\" alt=\"Open In Colab\"/></a>"
      ]
    },
    {
      "cell_type": "code",
      "metadata": {
        "id": "YhLS2x63W15P",
        "colab_type": "code",
        "colab": {}
      },
      "source": [
        ""
      ],
      "execution_count": 0,
      "outputs": []
    },
    {
      "cell_type": "markdown",
      "metadata": {
        "id": "pgJhousFW7Ul",
        "colab_type": "text"
      },
      "source": [
        "Popularity of various Uber drivers: **Behavior Observation**\n",
        "  \n",
        "A grocery store wants to know how much people like strawberry, chocolate, and vanilla ice cream: **Behavioral Observation/Survey**\n",
        "  \n",
        "Trojan wants to know whether their condoms are more popular among straight people or gay people: **Survey**\n",
        "  \n",
        "Recently, rental rates for HappyCars have increased by 30%, which is quite unusual. You want to find out why this is happening and how to keep the increase going: **Behavorial Observation/Survey**\n",
        "  \n",
        "Assessing the success rate of a new advertising campaign: **Behavorial Observation**\n",
        " \n",
        "Measuring the effect of nurse/patient ratio on patient recovery rates in hospital wards: **Survey**"
      ]
    }
  ]
}