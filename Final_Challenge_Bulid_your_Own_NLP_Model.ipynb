{
  "nbformat": 4,
  "nbformat_minor": 0,
  "metadata": {
    "colab": {
      "name": "Final - Challenge Bulid your Own NLP Model.ipynb",
      "version": "0.3.2",
      "provenance": [],
      "collapsed_sections": [],
      "include_colab_link": true
    },
    "kernelspec": {
      "name": "python3",
      "display_name": "Python 3"
    }
  },
  "cells": [
    {
      "cell_type": "markdown",
      "metadata": {
        "id": "view-in-github",
        "colab_type": "text"
      },
      "source": [
        "<a href=\"https://colab.research.google.com/github/benedictlai/thinkful-challenges/blob/master/Final_Challenge_Bulid_your_Own_NLP_Model.ipynb\" target=\"_parent\"><img src=\"https://colab.research.google.com/assets/colab-badge.svg\" alt=\"Open In Colab\"/></a>"
      ]
    },
    {
      "cell_type": "code",
      "metadata": {
        "id": "zn12yxYhhAx2",
        "colab_type": "code",
        "outputId": "897ee9ef-4078-44f0-b42c-97f2f15b52c8",
        "colab": {
          "base_uri": "https://localhost:8080/",
          "height": 85
        }
      },
      "source": [
        "%matplotlib inline\n",
        "import numpy as np\n",
        "import pandas as pd\n",
        "import scipy\n",
        "import sklearn\n",
        "import spacy\n",
        "import matplotlib.pyplot as plt\n",
        "import seaborn as sns\n",
        "import re\n",
        "from collections import Counter\n",
        "import nltk\n",
        "nltk.download('gutenberg')\n",
        "import nltk\n",
        "nltk.download('stopwords')\n",
        "from nltk.corpus import gutenberg, stopwords\n",
        "from sklearn import ensemble\n",
        "from sklearn.linear_model import LogisticRegression\n",
        "from sklearn.model_selection import train_test_split, cross_val_score, GridSearchCV\n",
        "from sklearn.feature_extraction.text import CountVectorizer, TfidfVectorizer\n",
        "from sklearn.svm import LinearSVC"
      ],
      "execution_count": 0,
      "outputs": [
        {
          "output_type": "stream",
          "text": [
            "[nltk_data] Downloading package gutenberg to /root/nltk_data...\n",
            "[nltk_data]   Unzipping corpora/gutenberg.zip.\n",
            "[nltk_data] Downloading package stopwords to /root/nltk_data...\n",
            "[nltk_data]   Unzipping corpora/stopwords.zip.\n"
          ],
          "name": "stdout"
        }
      ]
    },
    {
      "cell_type": "code",
      "metadata": {
        "id": "32biahIIh2At",
        "colab_type": "code",
        "outputId": "0c161d76-4ecc-467d-8b44-574de8b6245a",
        "colab": {
          "base_uri": "https://localhost:8080/",
          "height": 323
        }
      },
      "source": [
        "gutenberg.fileids()"
      ],
      "execution_count": 0,
      "outputs": [
        {
          "output_type": "execute_result",
          "data": {
            "text/plain": [
              "['austen-emma.txt',\n",
              " 'austen-persuasion.txt',\n",
              " 'austen-sense.txt',\n",
              " 'bible-kjv.txt',\n",
              " 'blake-poems.txt',\n",
              " 'bryant-stories.txt',\n",
              " 'burgess-busterbrown.txt',\n",
              " 'carroll-alice.txt',\n",
              " 'chesterton-ball.txt',\n",
              " 'chesterton-brown.txt',\n",
              " 'chesterton-thursday.txt',\n",
              " 'edgeworth-parents.txt',\n",
              " 'melville-moby_dick.txt',\n",
              " 'milton-paradise.txt',\n",
              " 'shakespeare-caesar.txt',\n",
              " 'shakespeare-hamlet.txt',\n",
              " 'shakespeare-macbeth.txt',\n",
              " 'whitman-leaves.txt']"
            ]
          },
          "metadata": {
            "tags": []
          },
          "execution_count": 2
        }
      ]
    },
    {
      "cell_type": "code",
      "metadata": {
        "id": "vshwCS6Qh2Oy",
        "colab_type": "code",
        "outputId": "e08958eb-d224-47c1-fb83-bbdc935957a2",
        "colab": {
          "base_uri": "https://localhost:8080/",
          "height": 153
        }
      },
      "source": [
        "macbeth = gutenberg.raw('shakespeare-macbeth.txt')\n",
        "leaves = gutenberg.raw('whitman-leaves.txt')\n",
        "print('\\nRaw:\\n', macbeth[0:100])"
      ],
      "execution_count": 0,
      "outputs": [
        {
          "output_type": "stream",
          "text": [
            "\n",
            "Raw:\n",
            " [The Tragedie of Macbeth by William Shakespeare 1603]\n",
            "\n",
            "\n",
            "Actus Primus. Scoena Prima.\n",
            "\n",
            "Thunder and Lig\n"
          ],
          "name": "stdout"
        }
      ]
    },
    {
      "cell_type": "code",
      "metadata": {
        "id": "SZPKSccgh303",
        "colab_type": "code",
        "colab": {}
      },
      "source": [
        ""
      ],
      "execution_count": 0,
      "outputs": []
    },
    {
      "cell_type": "markdown",
      "metadata": {
        "id": "v3YJQktTkEeP",
        "colab_type": "text"
      },
      "source": [
        "# 1. Data cleaning / processing / language parsing"
      ]
    },
    {
      "cell_type": "code",
      "metadata": {
        "id": "KgHnMaDCh3-z",
        "colab_type": "code",
        "colab": {}
      },
      "source": [
        "def text_cleaner(text):\n",
        "    text = re.sub(r'--',' ',text)\n",
        "    text = re.sub(\"[\\[].*?[\\]]\", \"\", text)\n",
        "    text = ' '.join(text.split())\n",
        "    return text\n",
        "  \n",
        "macbeth = text_cleaner(macbeth)\n",
        "leaves = text_cleaner(leaves)"
      ],
      "execution_count": 0,
      "outputs": []
    },
    {
      "cell_type": "code",
      "metadata": {
        "id": "UaH8-pGih4IF",
        "colab_type": "code",
        "colab": {}
      },
      "source": [
        "nlp = spacy.load('en')\n",
        "macbeth_doc = nlp(macbeth)\n",
        "leaves_doc = nlp(leaves)"
      ],
      "execution_count": 0,
      "outputs": []
    },
    {
      "cell_type": "code",
      "metadata": {
        "id": "hExmfO0Bh4Ph",
        "colab_type": "code",
        "outputId": "4fbb41a5-0378-4e18-fc56-dd8a80a0d728",
        "colab": {
          "base_uri": "https://localhost:8080/",
          "height": 204
        }
      },
      "source": [
        "macbethsent = [[sent, \"Shake\"] for sent in macbeth_doc.sents]\n",
        "leavessent = [[sent, \"Whitman\"] for sent in leaves_doc.sents]\n",
        "\n",
        "sentences = pd.DataFrame(macbethsent + leavessent)\n",
        "sentences.head()"
      ],
      "execution_count": 0,
      "outputs": [
        {
          "output_type": "execute_result",
          "data": {
            "text/html": [
              "<div>\n",
              "<style scoped>\n",
              "    .dataframe tbody tr th:only-of-type {\n",
              "        vertical-align: middle;\n",
              "    }\n",
              "\n",
              "    .dataframe tbody tr th {\n",
              "        vertical-align: top;\n",
              "    }\n",
              "\n",
              "    .dataframe thead th {\n",
              "        text-align: right;\n",
              "    }\n",
              "</style>\n",
              "<table border=\"1\" class=\"dataframe\">\n",
              "  <thead>\n",
              "    <tr style=\"text-align: right;\">\n",
              "      <th></th>\n",
              "      <th>0</th>\n",
              "      <th>1</th>\n",
              "    </tr>\n",
              "  </thead>\n",
              "  <tbody>\n",
              "    <tr>\n",
              "      <th>0</th>\n",
              "      <td>(Actus, Primus, .)</td>\n",
              "      <td>Shake</td>\n",
              "    </tr>\n",
              "    <tr>\n",
              "      <th>1</th>\n",
              "      <td>(Scoena, Prima, .)</td>\n",
              "      <td>Shake</td>\n",
              "    </tr>\n",
              "    <tr>\n",
              "      <th>2</th>\n",
              "      <td>(Thunder, and, Lightning, .)</td>\n",
              "      <td>Shake</td>\n",
              "    </tr>\n",
              "    <tr>\n",
              "      <th>3</th>\n",
              "      <td>(Enter, three, Witches, .)</td>\n",
              "      <td>Shake</td>\n",
              "    </tr>\n",
              "    <tr>\n",
              "      <th>4</th>\n",
              "      <td>(1, .)</td>\n",
              "      <td>Shake</td>\n",
              "    </tr>\n",
              "  </tbody>\n",
              "</table>\n",
              "</div>"
            ],
            "text/plain": [
              "                              0      1\n",
              "0            (Actus, Primus, .)  Shake\n",
              "1            (Scoena, Prima, .)  Shake\n",
              "2  (Thunder, and, Lightning, .)  Shake\n",
              "3    (Enter, three, Witches, .)  Shake\n",
              "4                        (1, .)  Shake"
            ]
          },
          "metadata": {
            "tags": []
          },
          "execution_count": 6
        }
      ]
    },
    {
      "cell_type": "code",
      "metadata": {
        "id": "53EzAOjqh4gk",
        "colab_type": "code",
        "colab": {}
      },
      "source": [
        "wpt = nltk.WordPunctTokenizer()\n",
        "stop_words = nltk.corpus.stopwords.words('english')\n",
        "\n",
        "def normalize_document(doc):\n",
        "    tokens = wpt.tokenize(doc)\n",
        "    filtered_tokens = [token for token in tokens if token not in stop_words]\n",
        "    doc = ' '.join(filtered_tokens)\n",
        "    return doc\n",
        "\n",
        "normalize_corpus = np.vectorize(normalize_document)"
      ],
      "execution_count": 0,
      "outputs": []
    },
    {
      "cell_type": "code",
      "metadata": {
        "id": "nfyLAZm7h8BU",
        "colab_type": "code",
        "colab": {}
      },
      "source": [
        "macbethcorpus = []\n",
        "macbethcorpus = sentences[0]\n",
        "macbethcorpus = np.array(macbethcorpus)\n",
        "\n",
        "macbethcorpus2 = []\n",
        "for item in macbethcorpus:\n",
        "    macbethcorpus2.append(str(item))\n",
        "    \n",
        "macbethcorpus3 = []\n",
        "\n",
        "for doc in macbethcorpus2:\n",
        "    macbethcorpus3.append(normalize_corpus(doc))\n",
        "    \n",
        "macbethcorpus4 = []\n",
        "for item in macbethcorpus3:\n",
        "    macbethcorpus4.append(item.tolist())"
      ],
      "execution_count": 0,
      "outputs": []
    },
    {
      "cell_type": "code",
      "metadata": {
        "id": "bqHi6_FKh8X2",
        "colab_type": "code",
        "colab": {}
      },
      "source": [
        ""
      ],
      "execution_count": 0,
      "outputs": []
    },
    {
      "cell_type": "code",
      "metadata": {
        "id": "t67UhAO2h8rk",
        "colab_type": "code",
        "colab": {}
      },
      "source": [
        "cv =  CountVectorizer(min_df=0, max_df=1)\n",
        "cvmatrix = cv.fit_transform(macbethcorpus4)\n",
        "cvmatrix = cvmatrix.toarray()\n",
        "vocab = cv.get_feature_names()\n",
        "\n",
        "macbethcvmatrix = pd.DataFrame(cvmatrix, columns=vocab)"
      ],
      "execution_count": 0,
      "outputs": []
    },
    {
      "cell_type": "code",
      "metadata": {
        "id": "vMJlGkyEh803",
        "colab_type": "code",
        "colab": {}
      },
      "source": [
        "macbethcvmatrix\n",
        "macbethcvmatrix['text_sentence'] = sentences[0]\n",
        "macbethcvmatrix['text_source'] = sentences[1]"
      ],
      "execution_count": 0,
      "outputs": []
    },
    {
      "cell_type": "code",
      "metadata": {
        "id": "qdb6c_hNh8-L",
        "colab_type": "code",
        "colab": {}
      },
      "source": [
        "Y1 = macbethcvmatrix['text_source']\n",
        "X1 = np.array(macbethcvmatrix.drop(['text_sentence','text_source'], 1))\n",
        "\n",
        "X1_train, X1_test, y1_train, y1_test = train_test_split(X1,Y1,test_size=0.4,random_state=0)"
      ],
      "execution_count": 0,
      "outputs": []
    },
    {
      "cell_type": "code",
      "metadata": {
        "id": "rOcEb7CFh5Nf",
        "colab_type": "code",
        "colab": {}
      },
      "source": [
        ""
      ],
      "execution_count": 0,
      "outputs": []
    },
    {
      "cell_type": "markdown",
      "metadata": {
        "id": "h1H8zMmXxqtV",
        "colab_type": "text"
      },
      "source": [
        "# BoW Random Forest Classifier"
      ]
    },
    {
      "cell_type": "code",
      "metadata": {
        "id": "T55X2ITDh5W7",
        "colab_type": "code",
        "outputId": "f3601972-3f57-424e-eff5-1c55add1f020",
        "colab": {
          "base_uri": "https://localhost:8080/",
          "height": 119
        }
      },
      "source": [
        "rfc = ensemble.RandomForestClassifier()\n",
        "train = rfc.fit(X1_train, y1_train)\n",
        "\n",
        "print('\\nTraining set scores:', rfc.score(X1_train, y1_train))\n",
        "print('\\nTest set scores:', rfc.score(X1_test, y1_test))"
      ],
      "execution_count": 0,
      "outputs": [
        {
          "output_type": "stream",
          "text": [
            "/usr/local/lib/python3.6/dist-packages/sklearn/ensemble/forest.py:245: FutureWarning: The default value of n_estimators will change from 10 in version 0.20 to 100 in 0.22.\n",
            "  \"10 in version 0.20 to 100 in 0.22.\", FutureWarning)\n"
          ],
          "name": "stderr"
        },
        {
          "output_type": "stream",
          "text": [
            "\n",
            "Training set scores: 0.8347372643401524\n",
            "\n",
            "Test set scores: 0.749172932330827\n"
          ],
          "name": "stdout"
        }
      ]
    },
    {
      "cell_type": "code",
      "metadata": {
        "id": "O5buFSrLh5md",
        "colab_type": "code",
        "outputId": "beafc1bf-079b-4a05-a859-c282b6cc8f4b",
        "colab": {
          "base_uri": "https://localhost:8080/",
          "height": 34
        }
      },
      "source": [
        "cross_val_score(rfc, X1_train, y1_train, cv=5)"
      ],
      "execution_count": 0,
      "outputs": [
        {
          "output_type": "execute_result",
          "data": {
            "text/plain": [
              "array([0.749499, 0.749499, 0.749499, 0.75    , 0.75    ])"
            ]
          },
          "metadata": {
            "tags": []
          },
          "execution_count": 13
        }
      ]
    },
    {
      "cell_type": "code",
      "metadata": {
        "id": "qwcIDnU6h5wK",
        "colab_type": "code",
        "colab": {}
      },
      "source": [
        ""
      ],
      "execution_count": 0,
      "outputs": []
    },
    {
      "cell_type": "markdown",
      "metadata": {
        "id": "0MSvEVJnxvYy",
        "colab_type": "text"
      },
      "source": [
        "# BoW Logistic Regression"
      ]
    },
    {
      "cell_type": "code",
      "metadata": {
        "id": "D-SovcHKh54c",
        "colab_type": "code",
        "outputId": "90b0cc14-dbc4-4044-bac1-86519a433a82",
        "colab": {
          "base_uri": "https://localhost:8080/",
          "height": 136
        }
      },
      "source": [
        "lr = LogisticRegression()\n",
        "train = lr.fit(X1_train, y1_train)\n",
        "print(X1_train.shape, y1_train.shape)\n",
        "print('\\nTraining set scores:', lr.score(X1_train, y1_train))\n",
        "print('\\nTest set scores:', lr.score(X1_test, y1_test))"
      ],
      "execution_count": 0,
      "outputs": [
        {
          "output_type": "stream",
          "text": [
            "/usr/local/lib/python3.6/dist-packages/sklearn/linear_model/logistic.py:432: FutureWarning: Default solver will be changed to 'lbfgs' in 0.22. Specify a solver to silence this warning.\n",
            "  FutureWarning)\n"
          ],
          "name": "stderr"
        },
        {
          "output_type": "stream",
          "text": [
            "(4986, 6887) (4986,)\n",
            "\n",
            "Training set scores: 0.7681508223024468\n",
            "\n",
            "Test set scores: 0.749172932330827\n"
          ],
          "name": "stdout"
        }
      ]
    },
    {
      "cell_type": "code",
      "metadata": {
        "id": "sIwcdqEdh5_m",
        "colab_type": "code",
        "outputId": "a3103145-219b-474f-f3cf-ffea00f2853a",
        "colab": {
          "base_uri": "https://localhost:8080/",
          "height": 204
        }
      },
      "source": [
        "cross_val_score(lr, X1_train, y1_train, cv=5)"
      ],
      "execution_count": 0,
      "outputs": [
        {
          "output_type": "stream",
          "text": [
            "/usr/local/lib/python3.6/dist-packages/sklearn/linear_model/logistic.py:432: FutureWarning: Default solver will be changed to 'lbfgs' in 0.22. Specify a solver to silence this warning.\n",
            "  FutureWarning)\n",
            "/usr/local/lib/python3.6/dist-packages/sklearn/linear_model/logistic.py:432: FutureWarning: Default solver will be changed to 'lbfgs' in 0.22. Specify a solver to silence this warning.\n",
            "  FutureWarning)\n",
            "/usr/local/lib/python3.6/dist-packages/sklearn/linear_model/logistic.py:432: FutureWarning: Default solver will be changed to 'lbfgs' in 0.22. Specify a solver to silence this warning.\n",
            "  FutureWarning)\n",
            "/usr/local/lib/python3.6/dist-packages/sklearn/linear_model/logistic.py:432: FutureWarning: Default solver will be changed to 'lbfgs' in 0.22. Specify a solver to silence this warning.\n",
            "  FutureWarning)\n",
            "/usr/local/lib/python3.6/dist-packages/sklearn/linear_model/logistic.py:432: FutureWarning: Default solver will be changed to 'lbfgs' in 0.22. Specify a solver to silence this warning.\n",
            "  FutureWarning)\n"
          ],
          "name": "stderr"
        },
        {
          "output_type": "execute_result",
          "data": {
            "text/plain": [
              "array([0.749499, 0.749499, 0.749499, 0.75    , 0.75    ])"
            ]
          },
          "metadata": {
            "tags": []
          },
          "execution_count": 15
        }
      ]
    },
    {
      "cell_type": "code",
      "metadata": {
        "id": "lMzKoPfDh6Ha",
        "colab_type": "code",
        "colab": {}
      },
      "source": [
        ""
      ],
      "execution_count": 0,
      "outputs": []
    },
    {
      "cell_type": "markdown",
      "metadata": {
        "id": "ObX_EMnlx5bz",
        "colab_type": "text"
      },
      "source": [
        "# BoW Gradient Boosting Classifier"
      ]
    },
    {
      "cell_type": "code",
      "metadata": {
        "id": "O-L6zqYbyhcS",
        "colab_type": "code",
        "outputId": "5504e269-156b-48fa-8a17-6df78ab2c3ce",
        "colab": {
          "base_uri": "https://localhost:8080/",
          "height": 85
        }
      },
      "source": [
        "clf = ensemble.GradientBoostingClassifier()\n",
        "train = clf.fit(X1_train, y1_train)\n",
        "\n",
        "print('\\nTraining set scores:', clf.score(X1_train, y1_train))\n",
        "print('\\nTest set scores:', clf.score(X1_test, y1_test))"
      ],
      "execution_count": 0,
      "outputs": [
        {
          "output_type": "stream",
          "text": [
            "\n",
            "Training set scores: 0.7496991576413959\n",
            "\n",
            "Test set scores: 0.749172932330827\n"
          ],
          "name": "stdout"
        }
      ]
    },
    {
      "cell_type": "code",
      "metadata": {
        "id": "FEhnia7LyhpL",
        "colab_type": "code",
        "outputId": "df734160-6220-4cad-b7c3-4be128a0fec4",
        "colab": {
          "base_uri": "https://localhost:8080/",
          "height": 34
        }
      },
      "source": [
        "cross_val_score(clf, X1_train, y1_train, cv=5)"
      ],
      "execution_count": 0,
      "outputs": [
        {
          "output_type": "execute_result",
          "data": {
            "text/plain": [
              "array([0.749499, 0.749499, 0.749499, 0.75    , 0.75    ])"
            ]
          },
          "metadata": {
            "tags": []
          },
          "execution_count": 17
        }
      ]
    },
    {
      "cell_type": "markdown",
      "metadata": {
        "id": "92YzLpBmdLWh",
        "colab_type": "text"
      },
      "source": [
        "# BoW SVC"
      ]
    },
    {
      "cell_type": "markdown",
      "metadata": {
        "id": "sFRA_mtf-hWR",
        "colab_type": "text"
      },
      "source": [
        ""
      ]
    },
    {
      "cell_type": "code",
      "metadata": {
        "id": "iiDaKlOByhx3",
        "colab_type": "code",
        "outputId": "a798d25f-085a-4567-e9f7-ad9ea1706659",
        "colab": {
          "base_uri": "https://localhost:8080/",
          "height": 85
        }
      },
      "source": [
        "model = LinearSVC()\n",
        "train = model.fit(X1_train, y1_train)\n",
        "\n",
        "print('\\nTraining set scores:', model.score(X1_train, y1_train))\n",
        "print('\\nTest set scores:', model.score(X1_test, y1_test))"
      ],
      "execution_count": 0,
      "outputs": [
        {
          "output_type": "stream",
          "text": [
            "\n",
            "Training set scores: 0.8363417569193743\n",
            "\n",
            "Test set scores: 0.749172932330827\n"
          ],
          "name": "stdout"
        }
      ]
    },
    {
      "cell_type": "code",
      "metadata": {
        "id": "h9Kee_Xbyh6l",
        "colab_type": "code",
        "outputId": "28e52c0e-66e0-43ae-f5ef-7bf766124bd9",
        "colab": {
          "base_uri": "https://localhost:8080/",
          "height": 34
        }
      },
      "source": [
        "cross_val_score(model, X1_train, y1_train, cv=5)"
      ],
      "execution_count": 0,
      "outputs": [
        {
          "output_type": "execute_result",
          "data": {
            "text/plain": [
              "array([0.749499, 0.749499, 0.749499, 0.75    , 0.75    ])"
            ]
          },
          "metadata": {
            "tags": []
          },
          "execution_count": 19
        }
      ]
    },
    {
      "cell_type": "markdown",
      "metadata": {
        "id": "83aSSPcd7irp",
        "colab_type": "text"
      },
      "source": [
        ""
      ]
    },
    {
      "cell_type": "markdown",
      "metadata": {
        "id": "RbS9h7U9x_vj",
        "colab_type": "text"
      },
      "source": [
        "# Tf-IDF"
      ]
    },
    {
      "cell_type": "code",
      "metadata": {
        "id": "nIV2oNYzyiCS",
        "colab_type": "code",
        "outputId": "06f3e531-7086-45c1-e9a6-d0e9cb7c7bbc",
        "colab": {
          "base_uri": "https://localhost:8080/",
          "height": 34
        }
      },
      "source": [
        "vectorizer = TfidfVectorizer(max_df=0.5,\n",
        "                             min_df=2,\n",
        "                             stop_words='english', \n",
        "                             lowercase=True,\n",
        "                             use_idf=True,\n",
        "                             norm=u'l2',\n",
        "                             smooth_idf=True\n",
        "                            )\n",
        "\n",
        "macbethcorpus4tfidf=vectorizer.fit_transform(macbethcorpus4)\n",
        "print(\"%d is the number of features.\" % macbethcorpus4tfidf.get_shape()[1])"
      ],
      "execution_count": 0,
      "outputs": [
        {
          "output_type": "stream",
          "text": [
            "7073 is the number of features.\n"
          ],
          "name": "stdout"
        }
      ]
    },
    {
      "cell_type": "code",
      "metadata": {
        "id": "zVU8PcwOyiKm",
        "colab_type": "code",
        "colab": {}
      },
      "source": [
        "tfidmatrix = macbethcorpus4tfidf.toarray()\n",
        "tfidvocab = vectorizer.get_feature_names()\n",
        "\n",
        "macbethtfidmatrix = pd.DataFrame(tfidmatrix, columns=tfidvocab)\n"
      ],
      "execution_count": 0,
      "outputs": []
    },
    {
      "cell_type": "code",
      "metadata": {
        "id": "fsDPXeR8yicp",
        "colab_type": "code",
        "colab": {}
      },
      "source": [
        "\n",
        "macbethtfidmatrix['text_sentence'] = sentences[0]\n",
        "macbethtfidmatrix['text_source'] = sentences[1]\n"
      ],
      "execution_count": 0,
      "outputs": []
    },
    {
      "cell_type": "code",
      "metadata": {
        "id": "eMHW7RvlyilE",
        "colab_type": "code",
        "colab": {}
      },
      "source": [
        "Y1 = macbethtfidmatrix['text_source']\n",
        "X1 = np.array(macbethtfidmatrix.drop(['text_sentence','text_source'], 1))\n",
        "\n",
        "X1_train_tfidf, X1_test_tfidf, y1_train_tfidf, y1_test_tfidf = train_test_split(X1, Y1,test_size=0.4, random_state=0)"
      ],
      "execution_count": 0,
      "outputs": []
    },
    {
      "cell_type": "code",
      "metadata": {
        "id": "V4m44OWVyiuC",
        "colab_type": "code",
        "colab": {}
      },
      "source": [
        ""
      ],
      "execution_count": 0,
      "outputs": []
    },
    {
      "cell_type": "markdown",
      "metadata": {
        "id": "b1NlqARic9V9",
        "colab_type": "text"
      },
      "source": [
        "# Tf-IDF Random Forest Classifier"
      ]
    },
    {
      "cell_type": "code",
      "metadata": {
        "id": "kGL88sx6h6Pu",
        "colab_type": "code",
        "outputId": "a1ce0846-8961-4214-ec21-9cd59294bd40",
        "colab": {
          "base_uri": "https://localhost:8080/",
          "height": 119
        }
      },
      "source": [
        "rfc = ensemble.RandomForestClassifier()\n",
        "train = rfc.fit(X1_train_tfidf, y1_train_tfidf)\n",
        "\n",
        "print('\\nTraining set scores:', rfc.score(X1_train_tfidf, y1_train_tfidf))\n",
        "print('\\nTest set scores:', rfc.score(X1_test_tfidf, y1_test_tfidf))"
      ],
      "execution_count": 0,
      "outputs": [
        {
          "output_type": "stream",
          "text": [
            "/usr/local/lib/python3.6/dist-packages/sklearn/ensemble/forest.py:245: FutureWarning: The default value of n_estimators will change from 10 in version 0.20 to 100 in 0.22.\n",
            "  \"10 in version 0.20 to 100 in 0.22.\", FutureWarning)\n"
          ],
          "name": "stderr"
        },
        {
          "output_type": "stream",
          "text": [
            "\n",
            "Training set scores: 0.9809466506217409\n",
            "\n",
            "Test set scores: 0.9121804511278195\n"
          ],
          "name": "stdout"
        }
      ]
    },
    {
      "cell_type": "code",
      "metadata": {
        "id": "g7kBDD7Kh6dL",
        "colab_type": "code",
        "outputId": "395984c3-e1a6-4567-a6d2-d05235a9ba4b",
        "colab": {
          "base_uri": "https://localhost:8080/",
          "height": 34
        }
      },
      "source": [
        "\n",
        "cross_val_score(rfc, X1_train_tfidf, y1_train_tfidf, cv=5)"
      ],
      "execution_count": 0,
      "outputs": [
        {
          "output_type": "execute_result",
          "data": {
            "text/plain": [
              "array([0.90480962, 0.89779559, 0.91583166, 0.93273092, 0.91566265])"
            ]
          },
          "metadata": {
            "tags": []
          },
          "execution_count": 30
        }
      ]
    },
    {
      "cell_type": "code",
      "metadata": {
        "id": "PVMZ8oCF5pqK",
        "colab_type": "code",
        "colab": {}
      },
      "source": [
        ""
      ],
      "execution_count": 0,
      "outputs": []
    },
    {
      "cell_type": "markdown",
      "metadata": {
        "id": "DC-9W49LdAuy",
        "colab_type": "text"
      },
      "source": [
        "# Tf-IDF Logistic Regression"
      ]
    },
    {
      "cell_type": "code",
      "metadata": {
        "id": "oKMLdjc55pz4",
        "colab_type": "code",
        "outputId": "04de6daa-85ae-4185-89b1-db513dadcacd",
        "colab": {
          "base_uri": "https://localhost:8080/",
          "height": 136
        }
      },
      "source": [
        "lr = LogisticRegression()\n",
        "train = lr.fit(X1_train_tfidf, y1_train_tfidf)\n",
        "print(X1_train_tfidf.shape, y1_train_tfidf.shape)\n",
        "print('\\nTraining set scores:', lr.score(X1_train_tfidf, y1_train_tfidf))\n",
        "print('\\nTest set score:', lr.score(X1_test_tfidf, y1_test_tfidf))"
      ],
      "execution_count": 0,
      "outputs": [
        {
          "output_type": "stream",
          "text": [
            "/usr/local/lib/python3.6/dist-packages/sklearn/linear_model/logistic.py:432: FutureWarning: Default solver will be changed to 'lbfgs' in 0.22. Specify a solver to silence this warning.\n",
            "  FutureWarning)\n"
          ],
          "name": "stderr"
        },
        {
          "output_type": "stream",
          "text": [
            "(4986, 7073) (4986,)\n",
            "\n",
            "Training set scores: 0.9107501002807862\n",
            "\n",
            "Test set score: 0.8803007518796993\n"
          ],
          "name": "stdout"
        }
      ]
    },
    {
      "cell_type": "code",
      "metadata": {
        "id": "kfL6GUT-5p9h",
        "colab_type": "code",
        "outputId": "94e5d8a7-d1a3-44eb-f384-ac16bf81a750",
        "colab": {
          "base_uri": "https://localhost:8080/",
          "height": 204
        }
      },
      "source": [
        "cross_val_score(lr, X1_train_tfidf, y1_train_tfidf, cv=5)"
      ],
      "execution_count": 0,
      "outputs": [
        {
          "output_type": "stream",
          "text": [
            "/usr/local/lib/python3.6/dist-packages/sklearn/linear_model/logistic.py:432: FutureWarning: Default solver will be changed to 'lbfgs' in 0.22. Specify a solver to silence this warning.\n",
            "  FutureWarning)\n",
            "/usr/local/lib/python3.6/dist-packages/sklearn/linear_model/logistic.py:432: FutureWarning: Default solver will be changed to 'lbfgs' in 0.22. Specify a solver to silence this warning.\n",
            "  FutureWarning)\n",
            "/usr/local/lib/python3.6/dist-packages/sklearn/linear_model/logistic.py:432: FutureWarning: Default solver will be changed to 'lbfgs' in 0.22. Specify a solver to silence this warning.\n",
            "  FutureWarning)\n",
            "/usr/local/lib/python3.6/dist-packages/sklearn/linear_model/logistic.py:432: FutureWarning: Default solver will be changed to 'lbfgs' in 0.22. Specify a solver to silence this warning.\n",
            "  FutureWarning)\n",
            "/usr/local/lib/python3.6/dist-packages/sklearn/linear_model/logistic.py:432: FutureWarning: Default solver will be changed to 'lbfgs' in 0.22. Specify a solver to silence this warning.\n",
            "  FutureWarning)\n"
          ],
          "name": "stderr"
        },
        {
          "output_type": "execute_result",
          "data": {
            "text/plain": [
              "array([0.86472946, 0.85971944, 0.87374749, 0.8875502 , 0.86546185])"
            ]
          },
          "metadata": {
            "tags": []
          },
          "execution_count": 35
        }
      ]
    },
    {
      "cell_type": "code",
      "metadata": {
        "id": "kPYwcQew5qRr",
        "colab_type": "code",
        "colab": {}
      },
      "source": [
        ""
      ],
      "execution_count": 0,
      "outputs": []
    },
    {
      "cell_type": "markdown",
      "metadata": {
        "id": "4jgiNsRrdDQq",
        "colab_type": "text"
      },
      "source": [
        "# Tf-IDF Gradient Boosting Classifier"
      ]
    },
    {
      "cell_type": "code",
      "metadata": {
        "id": "pf2h8W515qZh",
        "colab_type": "code",
        "outputId": "6c5ccb7f-85d1-41dc-ae4f-01b50b6b853e",
        "colab": {
          "base_uri": "https://localhost:8080/",
          "height": 85
        }
      },
      "source": [
        "clf = ensemble.GradientBoostingClassifier()\n",
        "train = clf.fit(X1_train_tfidf, y1_train_tfidf)\n",
        "\n",
        "print('\\nTraining set scores:', clf.score(X1_train_tfidf, y1_train_tfidf))\n",
        "print('\\nTest set scores:', clf.score(X1_test_tfidf, y1_test_tfidf))"
      ],
      "execution_count": 0,
      "outputs": [
        {
          "output_type": "stream",
          "text": [
            "\n",
            "Training set scores: 0.8590052146008824\n",
            "\n",
            "Test set scores: 0.8523308270676692\n"
          ],
          "name": "stdout"
        }
      ]
    },
    {
      "cell_type": "code",
      "metadata": {
        "id": "cwjIEfMe5qh_",
        "colab_type": "code",
        "outputId": "efec25ce-96e4-4b22-db4b-64825028a9cb",
        "colab": {
          "base_uri": "https://localhost:8080/",
          "height": 34
        }
      },
      "source": [
        "cross_val_score(clf, X1_train_tfidf, y1_train_tfidf, cv=5)"
      ],
      "execution_count": 0,
      "outputs": [
        {
          "output_type": "execute_result",
          "data": {
            "text/plain": [
              "array([0.84068136, 0.84068136, 0.8507014 , 0.8564257 , 0.84939759])"
            ]
          },
          "metadata": {
            "tags": []
          },
          "execution_count": 40
        }
      ]
    },
    {
      "cell_type": "markdown",
      "metadata": {
        "id": "wXjjMrBedIK-",
        "colab_type": "text"
      },
      "source": [
        "# Tf-IDF SVC"
      ]
    },
    {
      "cell_type": "code",
      "metadata": {
        "id": "hfXN7h4T7pao",
        "colab_type": "code",
        "outputId": "bec346d3-4781-4242-9a0b-fdd53af97b2a",
        "colab": {
          "base_uri": "https://localhost:8080/",
          "height": 85
        }
      },
      "source": [
        "model = LinearSVC()\n",
        "train = model.fit(X1_train_tfidf, y1_train_tfidf)\n",
        "\n",
        "print('\\nTraining set scores:', model.score(X1_train_tfidf, y1_train_tfidf))\n",
        "print('\\nTest set scores:', model.score(X1_test_tfidf, y1_test_tfidf))"
      ],
      "execution_count": 0,
      "outputs": [
        {
          "output_type": "stream",
          "text": [
            "\n",
            "Training set scores: 0.9779382270357\n",
            "\n",
            "Test set scores: 0.9266165413533834\n"
          ],
          "name": "stdout"
        }
      ]
    },
    {
      "cell_type": "code",
      "metadata": {
        "id": "RF1oMfiX7pkM",
        "colab_type": "code",
        "outputId": "33a4b20b-ec12-4ea0-9b92-4af978d37ec8",
        "colab": {
          "base_uri": "https://localhost:8080/",
          "height": 34
        }
      },
      "source": [
        "cross_val_score(model, X1_train_tfidf, y1_train_tfidf, cv=5)"
      ],
      "execution_count": 0,
      "outputs": [
        {
          "output_type": "execute_result",
          "data": {
            "text/plain": [
              "array([0.90681363, 0.91082164, 0.92785571, 0.94277108, 0.92068273])"
            ]
          },
          "metadata": {
            "tags": []
          },
          "execution_count": 42
        }
      ]
    },
    {
      "cell_type": "code",
      "metadata": {
        "id": "JF4FJMz67pvu",
        "colab_type": "code",
        "colab": {}
      },
      "source": [
        ""
      ],
      "execution_count": 0,
      "outputs": []
    },
    {
      "cell_type": "markdown",
      "metadata": {
        "id": "SwSpVJyAdV7U",
        "colab_type": "text"
      },
      "source": [
        "# Model Tuning"
      ]
    },
    {
      "cell_type": "code",
      "metadata": {
        "id": "wKPUbiKN7p7O",
        "colab_type": "code",
        "outputId": "33d481fa-2c80-45d5-b7fb-e4e464b3a8fc",
        "colab": {
          "base_uri": "https://localhost:8080/",
          "height": 510
        }
      },
      "source": [
        "from sklearn.metrics import accuracy_score\n",
        "\n",
        "params = {'C':[1,5], 'penalty':['l1','l2']}\n",
        "lr = LogisticRegression()\n",
        "\n",
        "grid = GridSearchCV(lr, params, cv=3)\n",
        "grid.fit(X1_train_tfidf, y1_train_tfidf)\n",
        "best_lr = grid.best_estimator_\n",
        "score = accuracy_score(y_true=y1_test_tfidf, y_pred=best_lr.predict(X1_test_tfidf))\n",
        "print('\\nThe accuracy score is:\\t{:.4f}\\n'.format(score))"
      ],
      "execution_count": 0,
      "outputs": [
        {
          "output_type": "stream",
          "text": [
            "/usr/local/lib/python3.6/dist-packages/sklearn/linear_model/logistic.py:432: FutureWarning: Default solver will be changed to 'lbfgs' in 0.22. Specify a solver to silence this warning.\n",
            "  FutureWarning)\n",
            "/usr/local/lib/python3.6/dist-packages/sklearn/linear_model/logistic.py:432: FutureWarning: Default solver will be changed to 'lbfgs' in 0.22. Specify a solver to silence this warning.\n",
            "  FutureWarning)\n",
            "/usr/local/lib/python3.6/dist-packages/sklearn/linear_model/logistic.py:432: FutureWarning: Default solver will be changed to 'lbfgs' in 0.22. Specify a solver to silence this warning.\n",
            "  FutureWarning)\n",
            "/usr/local/lib/python3.6/dist-packages/sklearn/linear_model/logistic.py:432: FutureWarning: Default solver will be changed to 'lbfgs' in 0.22. Specify a solver to silence this warning.\n",
            "  FutureWarning)\n",
            "/usr/local/lib/python3.6/dist-packages/sklearn/linear_model/logistic.py:432: FutureWarning: Default solver will be changed to 'lbfgs' in 0.22. Specify a solver to silence this warning.\n",
            "  FutureWarning)\n",
            "/usr/local/lib/python3.6/dist-packages/sklearn/linear_model/logistic.py:432: FutureWarning: Default solver will be changed to 'lbfgs' in 0.22. Specify a solver to silence this warning.\n",
            "  FutureWarning)\n",
            "/usr/local/lib/python3.6/dist-packages/sklearn/linear_model/logistic.py:432: FutureWarning: Default solver will be changed to 'lbfgs' in 0.22. Specify a solver to silence this warning.\n",
            "  FutureWarning)\n",
            "/usr/local/lib/python3.6/dist-packages/sklearn/linear_model/logistic.py:432: FutureWarning: Default solver will be changed to 'lbfgs' in 0.22. Specify a solver to silence this warning.\n",
            "  FutureWarning)\n",
            "/usr/local/lib/python3.6/dist-packages/sklearn/linear_model/logistic.py:432: FutureWarning: Default solver will be changed to 'lbfgs' in 0.22. Specify a solver to silence this warning.\n",
            "  FutureWarning)\n",
            "/usr/local/lib/python3.6/dist-packages/sklearn/linear_model/logistic.py:432: FutureWarning: Default solver will be changed to 'lbfgs' in 0.22. Specify a solver to silence this warning.\n",
            "  FutureWarning)\n",
            "/usr/local/lib/python3.6/dist-packages/sklearn/linear_model/logistic.py:432: FutureWarning: Default solver will be changed to 'lbfgs' in 0.22. Specify a solver to silence this warning.\n",
            "  FutureWarning)\n",
            "/usr/local/lib/python3.6/dist-packages/sklearn/linear_model/logistic.py:432: FutureWarning: Default solver will be changed to 'lbfgs' in 0.22. Specify a solver to silence this warning.\n",
            "  FutureWarning)\n",
            "/usr/local/lib/python3.6/dist-packages/sklearn/linear_model/logistic.py:432: FutureWarning: Default solver will be changed to 'lbfgs' in 0.22. Specify a solver to silence this warning.\n",
            "  FutureWarning)\n"
          ],
          "name": "stderr"
        },
        {
          "output_type": "stream",
          "text": [
            "\n",
            "The accuracy score is:\t0.9185\n",
            "\n"
          ],
          "name": "stdout"
        }
      ]
    },
    {
      "cell_type": "code",
      "metadata": {
        "id": "DnfL6fOKbyN0",
        "colab_type": "code",
        "outputId": "0b733323-f0d2-44c9-86c5-cc517822c42a",
        "colab": {
          "base_uri": "https://localhost:8080/",
          "height": 238
        }
      },
      "source": [
        "cross_val_score(best_lr, X1_train_tfidf, y1_train_tfidf, cv=5)"
      ],
      "execution_count": 0,
      "outputs": [
        {
          "output_type": "stream",
          "text": [
            "/usr/local/lib/python3.6/dist-packages/sklearn/linear_model/logistic.py:432: FutureWarning: Default solver will be changed to 'lbfgs' in 0.22. Specify a solver to silence this warning.\n",
            "  FutureWarning)\n",
            "/usr/local/lib/python3.6/dist-packages/sklearn/svm/base.py:929: ConvergenceWarning: Liblinear failed to converge, increase the number of iterations.\n",
            "  \"the number of iterations.\", ConvergenceWarning)\n",
            "/usr/local/lib/python3.6/dist-packages/sklearn/linear_model/logistic.py:432: FutureWarning: Default solver will be changed to 'lbfgs' in 0.22. Specify a solver to silence this warning.\n",
            "  FutureWarning)\n",
            "/usr/local/lib/python3.6/dist-packages/sklearn/linear_model/logistic.py:432: FutureWarning: Default solver will be changed to 'lbfgs' in 0.22. Specify a solver to silence this warning.\n",
            "  FutureWarning)\n",
            "/usr/local/lib/python3.6/dist-packages/sklearn/linear_model/logistic.py:432: FutureWarning: Default solver will be changed to 'lbfgs' in 0.22. Specify a solver to silence this warning.\n",
            "  FutureWarning)\n",
            "/usr/local/lib/python3.6/dist-packages/sklearn/linear_model/logistic.py:432: FutureWarning: Default solver will be changed to 'lbfgs' in 0.22. Specify a solver to silence this warning.\n",
            "  FutureWarning)\n"
          ],
          "name": "stderr"
        },
        {
          "output_type": "execute_result",
          "data": {
            "text/plain": [
              "array([0.90280561, 0.90180361, 0.91683367, 0.92971888, 0.92168675])"
            ]
          },
          "metadata": {
            "tags": []
          },
          "execution_count": 45
        }
      ]
    },
    {
      "cell_type": "markdown",
      "metadata": {
        "id": "vWQQFQ92dZ2T",
        "colab_type": "text"
      },
      "source": [
        "# SVD (Singular Value Decomposition)"
      ]
    },
    {
      "cell_type": "code",
      "metadata": {
        "id": "1TtqOc5wbyXJ",
        "colab_type": "code",
        "colab": {}
      },
      "source": [
        "from sklearn.decomposition import TruncatedSVD\n",
        "from sklearn.pipeline import make_pipeline\n",
        "from sklearn.preprocessing import Normalizer"
      ],
      "execution_count": 0,
      "outputs": []
    },
    {
      "cell_type": "code",
      "metadata": {
        "id": "U7xqEIvRbyhC",
        "colab_type": "code",
        "outputId": "f7021a4e-90e0-41ac-c661-c7cdfec4acc8",
        "colab": {
          "base_uri": "https://localhost:8080/",
          "height": 323
        }
      },
      "source": [
        "svd= TruncatedSVD(130)\n",
        "lsa = make_pipeline(svd, Normalizer(copy=False))\n",
        "\n",
        "Data_lsa= lsa.fit_transform(X1)\n",
        "\n",
        "X1_train_lsa, X1_test_lsa, y1_train_lsa, y1_test_lsa = train_test_split(Data_lsa, Y1, random_state=3)\n",
        "\n",
        "lr = LogisticRegression()\n",
        "train = lr.fit(X1_train_lsa, y1_train_lsa)\n",
        "print(X1_train_lsa.shape, y1_train_lsa.shape)\n",
        "print('\\nTraining set scores:', lr.score(X1_train_lsa, y1_train_lsa))\n",
        "print('\\nTest set scores:', lr.score(X1_test_lsa, y1_test_lsa))\n",
        "\n",
        "cross_val_score(lr, X1_train_lsa, y1_train_lsa, cv=5)"
      ],
      "execution_count": 0,
      "outputs": [
        {
          "output_type": "stream",
          "text": [
            "/usr/local/lib/python3.6/dist-packages/sklearn/linear_model/logistic.py:432: FutureWarning: Default solver will be changed to 'lbfgs' in 0.22. Specify a solver to silence this warning.\n",
            "  FutureWarning)\n",
            "/usr/local/lib/python3.6/dist-packages/sklearn/linear_model/logistic.py:432: FutureWarning: Default solver will be changed to 'lbfgs' in 0.22. Specify a solver to silence this warning.\n",
            "  FutureWarning)\n"
          ],
          "name": "stderr"
        },
        {
          "output_type": "stream",
          "text": [
            "(6233, 130) (6233,)\n",
            "\n",
            "Training set scores: 0.9140060965827049\n",
            "\n",
            "Test set scores: 0.9100096246390761\n"
          ],
          "name": "stdout"
        },
        {
          "output_type": "stream",
          "text": [
            "/usr/local/lib/python3.6/dist-packages/sklearn/linear_model/logistic.py:432: FutureWarning: Default solver will be changed to 'lbfgs' in 0.22. Specify a solver to silence this warning.\n",
            "  FutureWarning)\n",
            "/usr/local/lib/python3.6/dist-packages/sklearn/linear_model/logistic.py:432: FutureWarning: Default solver will be changed to 'lbfgs' in 0.22. Specify a solver to silence this warning.\n",
            "  FutureWarning)\n",
            "/usr/local/lib/python3.6/dist-packages/sklearn/linear_model/logistic.py:432: FutureWarning: Default solver will be changed to 'lbfgs' in 0.22. Specify a solver to silence this warning.\n",
            "  FutureWarning)\n",
            "/usr/local/lib/python3.6/dist-packages/sklearn/linear_model/logistic.py:432: FutureWarning: Default solver will be changed to 'lbfgs' in 0.22. Specify a solver to silence this warning.\n",
            "  FutureWarning)\n"
          ],
          "name": "stderr"
        },
        {
          "output_type": "execute_result",
          "data": {
            "text/plain": [
              "array([0.89815557, 0.90537289, 0.92141139, 0.90850722, 0.90609952])"
            ]
          },
          "metadata": {
            "tags": []
          },
          "execution_count": 49
        }
      ]
    },
    {
      "cell_type": "code",
      "metadata": {
        "id": "NzRPVvyibyqZ",
        "colab_type": "code",
        "colab": {}
      },
      "source": [
        ""
      ],
      "execution_count": 0,
      "outputs": []
    }
  ]
}