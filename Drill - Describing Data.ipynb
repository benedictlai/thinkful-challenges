{
 "cells": [
  {
   "cell_type": "code",
   "execution_count": 30,
   "metadata": {},
   "outputs": [
    {
     "name": "stdout",
     "output_type": "stream",
     "text": [
      "The mean is 9.857142857142858\n",
      "The median is:  10.0\n",
      "The variance is:  6.408163265306122\n",
      "The standard deviation is: 2.531435020952764\n",
      "The standard error is: 1.0334540197243194\n",
      "Mode is 8\n"
     ]
    }
   ],
   "source": [
    "import numpy as np\n",
    "ages =[14,12,11,10,8,6,8]\n",
    "\n",
    "def summarystats(ages):\n",
    "\n",
    "    print(\"The mean is\", np.mean(ages))\n",
    "    print(\"The median is: \", np.median(ages))\n",
    "    print(\"The variance is: \", np.var(ages))\n",
    "    print(\"The standard deviation is:\", np.std(ages))\n",
    "    print(\"The standard error is:\", np.std(ages)/np.sqrt(len(ages)-1))\n",
    "summarystats(ages)\n",
    "print(\"The mode is 8 because it is the only number that repeated more than once in the dataset. This is for the first question.\")\n",
    "    "
   ]
  },
  {
   "cell_type": "code",
   "execution_count": 38,
   "metadata": {},
   "outputs": [
    {
     "name": "stdout",
     "output_type": "stream",
     "text": [
      "The mean and median are steady. Therefore, the mean and standard deviation are stable. This is for the second question.\n"
     ]
    }
   ],
   "source": [
    "print(\"The mean and median are steady. Therefore, the mean and standard deviation are stable. This is for the second question.\")"
   ]
  },
  {
   "cell_type": "code",
   "execution_count": 36,
   "metadata": {},
   "outputs": [
    {
     "name": "stdout",
     "output_type": "stream",
     "text": [
      "The mean is 10.0\n",
      "The median is:  10.0\n",
      "The variance is:  5.428571428571429\n",
      "The standard deviation is: 2.32992949004287\n",
      "The standard error is: 0.951189731211342\n",
      "The mode is 8 because it is the only number that repeated more than once in the dataset. Despite the sixth digit changed from a 7 to a 6, the mode remains the same. This is for the third question.\n"
     ]
    }
   ],
   "source": [
    "import numpy as np\n",
    "ages =[14,12,11,10,8,7,8]\n",
    "\n",
    "def summarystats(ages):\n",
    "\n",
    "    print(\"The mean is\", np.mean(ages))\n",
    "    print(\"The median is: \", np.median(ages))\n",
    "    print(\"The variance is: \", np.var(ages))\n",
    "    print(\"The standard deviation is:\", np.std(ages))\n",
    "    print(\"The standard error is:\", np.std(ages)/np.sqrt(len(ages)-1))\n",
    "summarystats(ages)\n",
    "print(\"The mode is 8 because it is the only number that repeated more than once in the dataset. Despite the sixth digit changed from a 7 to a 6, the mode remains the same. This is for the third question.\")\n",
    "    "
   ]
  },
  {
   "cell_type": "code",
   "execution_count": 35,
   "metadata": {},
   "outputs": [
    {
     "name": "stdout",
     "output_type": "stream",
     "text": [
      "The mean is 9.0\n",
      "The median is:  10.0\n",
      "The variance is:  15.428571428571429\n",
      "The standard deviation is: 3.927922024247863\n",
      "The standard error is: 1.6035674514745466\n",
      "There is no mode now compared to the first two questions because the last digit in the dataset changed from 8 to 1 (which had been 8 just like the 5th digit). This is for the third question.\n"
     ]
    }
   ],
   "source": [
    "import numpy as np\n",
    "ages =[14,12,11,10,8,7,1]\n",
    "\n",
    "def summarystats(ages):\n",
    "\n",
    "    print(\"The mean is\", np.mean(ages))\n",
    "    print(\"The median is: \", np.median(ages))\n",
    "    print(\"The variance is: \", np.var(ages))\n",
    "    print(\"The standard deviation is:\", np.std(ages))\n",
    "    print(\"The standard error is:\", np.std(ages)/np.sqrt(len(ages)-1))\n",
    "summarystats(ages)\n",
    "print(\"There is no mode now compared to the first two questions because the last digit in the dataset changed from 8 to 1 (which had been 8 just like the 5th digit). This is for the fourth question.\")\n",
    "    "
   ]
  },
  {
   "cell_type": "code",
   "execution_count": 39,
   "metadata": {},
   "outputs": [
    {
     "name": "stdout",
     "output_type": "stream",
     "text": [
      "For the fifth question, I am estimating 20% of them were fans based on the average of 23, 17, and 20 for the 50th Brady Bunch Anniversary. 5 is clearly the outlier, which make the average below 17.\n"
     ]
    }
   ],
   "source": [
    "print(\"For the fifth question, I am estimating 20% of them were fans based on the average of 23, 17, and 20 for the 50th Brady Bunch Anniversary. 5 is clearly the outlier, which make the average below 17.\")"
   ]
  },
  {
   "cell_type": "code",
   "execution_count": null,
   "metadata": {},
   "outputs": [],
   "source": []
  }
 ],
 "metadata": {
  "kernelspec": {
   "display_name": "Python 3",
   "language": "python",
   "name": "python3"
  },
  "language_info": {
   "codemirror_mode": {
    "name": "ipython",
    "version": 3
   },
   "file_extension": ".py",
   "mimetype": "text/x-python",
   "name": "python",
   "nbconvert_exporter": "python",
   "pygments_lexer": "ipython3",
   "version": "3.7.0"
  }
 },
 "nbformat": 4,
 "nbformat_minor": 2
}
