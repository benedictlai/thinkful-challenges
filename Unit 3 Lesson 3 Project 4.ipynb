{
 "cells": [
  {
   "cell_type": "code",
   "execution_count": 1,
   "metadata": {},
   "outputs": [],
   "source": [
    "import pandas as pd\n",
    "import numpy as np\n",
    "import math\n",
    "import seaborn as sns\n",
    "import sklearn\n",
    "import warnings\n",
    "import statsmodels.api as sm\n",
    "import matplotlib.patches as mpatches\n",
    "from matplotlib import pyplot as plt\n",
    "from scipy import stats\n",
    "from sklearn import linear_model\n",
    "from sklearn import metrics\n",
    "from sklearn import model_selection\n",
    "from sklearn import preprocessing\n",
    "from sklearn.linear_model import LogisticRegression\n",
    "from sklearn.model_selection import cross_val_score\n",
    "from sklearn.model_selection import train_test_split\n",
    "warnings.filterwarnings(\n",
    "    action=\"ignore\",\n",
    "    module=\"scipy\",\n",
    "    message=\"^internal gelsd\"\n",
    ")\n",
    "%matplotlib inline\n",
    "sns.set_style('white')"
   ]
  },
  {
   "cell_type": "code",
   "execution_count": 2,
   "metadata": {},
   "outputs": [],
   "source": [
    "crime = pd.read_excel(\"Validate Regression.xls\", encoding = \"ISO-8859-1\", skiprows=4) "
   ]
  },
  {
   "cell_type": "code",
   "execution_count": 3,
   "metadata": {
    "scrolled": true
   },
   "outputs": [
    {
     "data": {
      "text/plain": [
       "Index(['City', 'Population', 'Violent\\ncrime',\n",
       "       'Murder and\\nnonnegligent\\nmanslaughter',\n",
       "       'Rape\\n(revised\\ndefinition)1', 'Rape\\n(legacy\\ndefinition)2',\n",
       "       'Robbery', 'Aggravated\\nassault', 'Property\\ncrime', 'Burglary',\n",
       "       'Larceny-\\ntheft', 'Motor\\nvehicle\\ntheft', 'Arson'],\n",
       "      dtype='object')"
      ]
     },
     "execution_count": 3,
     "metadata": {},
     "output_type": "execute_result"
    }
   ],
   "source": [
    "crime.columns"
   ]
  },
  {
   "cell_type": "code",
   "execution_count": 4,
   "metadata": {
    "scrolled": false
   },
   "outputs": [
    {
     "data": {
      "text/html": [
       "<div>\n",
       "<style scoped>\n",
       "    .dataframe tbody tr th:only-of-type {\n",
       "        vertical-align: middle;\n",
       "    }\n",
       "\n",
       "    .dataframe tbody tr th {\n",
       "        vertical-align: top;\n",
       "    }\n",
       "\n",
       "    .dataframe thead th {\n",
       "        text-align: right;\n",
       "    }\n",
       "</style>\n",
       "<table border=\"1\" class=\"dataframe\">\n",
       "  <thead>\n",
       "    <tr style=\"text-align: right;\">\n",
       "      <th></th>\n",
       "      <th>Population</th>\n",
       "      <th>ViolentCrime</th>\n",
       "      <th>Murder</th>\n",
       "      <th>Rape</th>\n",
       "      <th>Robbery</th>\n",
       "      <th>AggravatedAssault</th>\n",
       "      <th>PropertyCrime</th>\n",
       "      <th>Burglary</th>\n",
       "      <th>LarcenyTheft</th>\n",
       "      <th>MotorVehicleTheft</th>\n",
       "      <th>Arson</th>\n",
       "      <th>Murder?</th>\n",
       "    </tr>\n",
       "  </thead>\n",
       "  <tbody>\n",
       "    <tr>\n",
       "      <th>0</th>\n",
       "      <td>5463.0</td>\n",
       "      <td>74.0</td>\n",
       "      <td>1.0</td>\n",
       "      <td>NaN</td>\n",
       "      <td>0.0</td>\n",
       "      <td>72.0</td>\n",
       "      <td>217.0</td>\n",
       "      <td>8.0</td>\n",
       "      <td>202.0</td>\n",
       "      <td>7.0</td>\n",
       "      <td>0.0</td>\n",
       "      <td>1</td>\n",
       "    </tr>\n",
       "    <tr>\n",
       "      <th>1</th>\n",
       "      <td>55710.0</td>\n",
       "      <td>49.0</td>\n",
       "      <td>1.0</td>\n",
       "      <td>NaN</td>\n",
       "      <td>17.0</td>\n",
       "      <td>30.0</td>\n",
       "      <td>1328.0</td>\n",
       "      <td>334.0</td>\n",
       "      <td>925.0</td>\n",
       "      <td>69.0</td>\n",
       "      <td>8.0</td>\n",
       "      <td>1</td>\n",
       "    </tr>\n",
       "    <tr>\n",
       "      <th>2</th>\n",
       "      <td>39577.0</td>\n",
       "      <td>76.0</td>\n",
       "      <td>0.0</td>\n",
       "      <td>NaN</td>\n",
       "      <td>25.0</td>\n",
       "      <td>51.0</td>\n",
       "      <td>1716.0</td>\n",
       "      <td>363.0</td>\n",
       "      <td>1252.0</td>\n",
       "      <td>101.0</td>\n",
       "      <td>11.0</td>\n",
       "      <td>0</td>\n",
       "    </tr>\n",
       "    <tr>\n",
       "      <th>3</th>\n",
       "      <td>10942.0</td>\n",
       "      <td>33.0</td>\n",
       "      <td>0.0</td>\n",
       "      <td>NaN</td>\n",
       "      <td>0.0</td>\n",
       "      <td>31.0</td>\n",
       "      <td>259.0</td>\n",
       "      <td>57.0</td>\n",
       "      <td>185.0</td>\n",
       "      <td>17.0</td>\n",
       "      <td>0.0</td>\n",
       "      <td>0</td>\n",
       "    </tr>\n",
       "    <tr>\n",
       "      <th>4</th>\n",
       "      <td>50058.0</td>\n",
       "      <td>229.0</td>\n",
       "      <td>5.0</td>\n",
       "      <td>NaN</td>\n",
       "      <td>57.0</td>\n",
       "      <td>155.0</td>\n",
       "      <td>1975.0</td>\n",
       "      <td>474.0</td>\n",
       "      <td>1415.0</td>\n",
       "      <td>86.0</td>\n",
       "      <td>37.0</td>\n",
       "      <td>1</td>\n",
       "    </tr>\n",
       "    <tr>\n",
       "      <th>5</th>\n",
       "      <td>248718.0</td>\n",
       "      <td>575.0</td>\n",
       "      <td>2.0</td>\n",
       "      <td>NaN</td>\n",
       "      <td>162.0</td>\n",
       "      <td>359.0</td>\n",
       "      <td>5900.0</td>\n",
       "      <td>993.0</td>\n",
       "      <td>4628.0</td>\n",
       "      <td>279.0</td>\n",
       "      <td>77.0</td>\n",
       "      <td>1</td>\n",
       "    </tr>\n",
       "    <tr>\n",
       "      <th>6</th>\n",
       "      <td>10850.0</td>\n",
       "      <td>50.0</td>\n",
       "      <td>1.0</td>\n",
       "      <td>NaN</td>\n",
       "      <td>2.0</td>\n",
       "      <td>46.0</td>\n",
       "      <td>207.0</td>\n",
       "      <td>34.0</td>\n",
       "      <td>163.0</td>\n",
       "      <td>10.0</td>\n",
       "      <td>0.0</td>\n",
       "      <td>1</td>\n",
       "    </tr>\n",
       "    <tr>\n",
       "      <th>7</th>\n",
       "      <td>4090.0</td>\n",
       "      <td>5.0</td>\n",
       "      <td>0.0</td>\n",
       "      <td>NaN</td>\n",
       "      <td>0.0</td>\n",
       "      <td>4.0</td>\n",
       "      <td>51.0</td>\n",
       "      <td>19.0</td>\n",
       "      <td>32.0</td>\n",
       "      <td>0.0</td>\n",
       "      <td>1.0</td>\n",
       "      <td>0</td>\n",
       "    </tr>\n",
       "    <tr>\n",
       "      <th>8</th>\n",
       "      <td>3499.0</td>\n",
       "      <td>11.0</td>\n",
       "      <td>0.0</td>\n",
       "      <td>NaN</td>\n",
       "      <td>0.0</td>\n",
       "      <td>11.0</td>\n",
       "      <td>42.0</td>\n",
       "      <td>8.0</td>\n",
       "      <td>31.0</td>\n",
       "      <td>3.0</td>\n",
       "      <td>0.0</td>\n",
       "      <td>0</td>\n",
       "    </tr>\n",
       "    <tr>\n",
       "      <th>9</th>\n",
       "      <td>11820.0</td>\n",
       "      <td>66.0</td>\n",
       "      <td>0.0</td>\n",
       "      <td>NaN</td>\n",
       "      <td>13.0</td>\n",
       "      <td>48.0</td>\n",
       "      <td>662.0</td>\n",
       "      <td>144.0</td>\n",
       "      <td>488.0</td>\n",
       "      <td>30.0</td>\n",
       "      <td>4.0</td>\n",
       "      <td>0</td>\n",
       "    </tr>\n",
       "  </tbody>\n",
       "</table>\n",
       "</div>"
      ],
      "text/plain": [
       "   Population  ViolentCrime  Murder  Rape  Robbery  AggravatedAssault  \\\n",
       "0      5463.0          74.0     1.0   NaN      0.0               72.0   \n",
       "1     55710.0          49.0     1.0   NaN     17.0               30.0   \n",
       "2     39577.0          76.0     0.0   NaN     25.0               51.0   \n",
       "3     10942.0          33.0     0.0   NaN      0.0               31.0   \n",
       "4     50058.0         229.0     5.0   NaN     57.0              155.0   \n",
       "5    248718.0         575.0     2.0   NaN    162.0              359.0   \n",
       "6     10850.0          50.0     1.0   NaN      2.0               46.0   \n",
       "7      4090.0           5.0     0.0   NaN      0.0                4.0   \n",
       "8      3499.0          11.0     0.0   NaN      0.0               11.0   \n",
       "9     11820.0          66.0     0.0   NaN     13.0               48.0   \n",
       "\n",
       "   PropertyCrime  Burglary  LarcenyTheft  MotorVehicleTheft  Arson  Murder?  \n",
       "0          217.0       8.0         202.0                7.0    0.0        1  \n",
       "1         1328.0     334.0         925.0               69.0    8.0        1  \n",
       "2         1716.0     363.0        1252.0              101.0   11.0        0  \n",
       "3          259.0      57.0         185.0               17.0    0.0        0  \n",
       "4         1975.0     474.0        1415.0               86.0   37.0        1  \n",
       "5         5900.0     993.0        4628.0              279.0   77.0        1  \n",
       "6          207.0      34.0         163.0               10.0    0.0        1  \n",
       "7           51.0      19.0          32.0                0.0    1.0        0  \n",
       "8           42.0       8.0          31.0                3.0    0.0        0  \n",
       "9          662.0     144.0         488.0               30.0    4.0        0  "
      ]
     },
     "execution_count": 4,
     "metadata": {},
     "output_type": "execute_result"
    }
   ],
   "source": [
    "crimechange = crime.rename(index=str, columns={'Violent\\ncrime': 'ViolentCrime', \n",
    "                        'Murder and\\nnonnegligent\\nmanslaughter': 'Murder',\n",
    "                       'Rape\\n(revised\\ndefinition)1' : 'Rape',\n",
    "                       'Aggravated\\nassault' : 'AggravatedAssault',\n",
    "                       'Property\\ncrime': 'PropertyCrime',\n",
    "                       'Larceny-\\ntheft': 'LarcenyTheft',\n",
    "                       'Motor\\nvehicle\\ntheft': 'MotorVehicleTheft',\n",
    "                       'Arson3': 'Arson'})\n",
    "crimechange = crimechange.drop(['Rape\\n(legacy\\ndefinition)2'], axis=1)\n",
    "crimechange = crimechange.drop(['City'], axis=1)\n",
    "crimechange['Murder?'] = np.where(crimechange['Murder']>0, 1, 0)\n",
    "crimechange.head(10)"
   ]
  },
  {
   "cell_type": "code",
   "execution_count": 5,
   "metadata": {},
   "outputs": [
    {
     "data": {
      "text/plain": [
       "Population            True\n",
       "ViolentCrime          True\n",
       "Murder                True\n",
       "Rape                  True\n",
       "Robbery               True\n",
       "AggravatedAssault     True\n",
       "PropertyCrime         True\n",
       "Burglary              True\n",
       "LarcenyTheft          True\n",
       "MotorVehicleTheft     True\n",
       "Arson                 True\n",
       "Murder?              False\n",
       "dtype: bool"
      ]
     },
     "execution_count": 5,
     "metadata": {},
     "output_type": "execute_result"
    }
   ],
   "source": [
    "crimechange.isnull().any()"
   ]
  },
  {
   "cell_type": "code",
   "execution_count": 6,
   "metadata": {},
   "outputs": [],
   "source": [
    "crimechange['Population']=crimechange['Population'].fillna(0)\n",
    "crimechange['ViolentCrime']=crimechange['ViolentCrime'].fillna(0)\n",
    "crimechange['Murder']=crimechange['Murder'].fillna(0)\n",
    "crimechange['Rape']=crimechange['Rape'].fillna(0)\n",
    "crimechange['Robbery']=crimechange['Robbery'].fillna(0)\n",
    "crimechange['AggravatedAssault']=crimechange['AggravatedAssault'].fillna(0)\n",
    "crimechange['PropertyCrime']=crimechange['PropertyCrime'].fillna(0)\n",
    "crimechange['Burglary']=crimechange['Burglary'].fillna(0)\n",
    "crimechange['LarcenyTheft']=crimechange['LarcenyTheft'].fillna(0)\n",
    "crimechange['MotorVehicleTheft']=crimechange['MotorVehicleTheft'].fillna(0)\n",
    "crimechange['Arson']=crimechange['Arson'].fillna(0)"
   ]
  },
  {
   "cell_type": "code",
   "execution_count": 7,
   "metadata": {
    "scrolled": true
   },
   "outputs": [
    {
     "name": "stdout",
     "output_type": "stream",
     "text": [
      "Optimization terminated successfully.\n",
      "         Current function value: 0.576075\n",
      "         Iterations 11\n",
      "                           Logit Regression Results                           \n",
      "==============================================================================\n",
      "Dep. Variable:                Murder?   No. Observations:                   66\n",
      "Model:                          Logit   Df Residuals:                       62\n",
      "Method:                           MLE   Df Model:                            3\n",
      "Date:                Fri, 18 Jan 2019   Pseudo R-squ.:                  0.1549\n",
      "Time:                        22:30:25   Log-Likelihood:                -38.021\n",
      "converged:                       True   LL-Null:                       -44.987\n",
      "                                        LLR p-value:                  0.002998\n",
      "================================================================================\n",
      "                   coef    std err          z      P>|z|      [0.025      0.975]\n",
      "--------------------------------------------------------------------------------\n",
      "Population   -1.066e-05   1.32e-05     -0.808      0.419   -3.65e-05    1.52e-05\n",
      "Robbery          0.0653      0.052      1.253      0.210      -0.037       0.167\n",
      "Arson            0.0483      0.055      0.885      0.376      -0.059       0.155\n",
      "ViolentCrime    -0.0046      0.007     -0.668      0.504      -0.018       0.009\n",
      "================================================================================\n"
     ]
    },
    {
     "name": "stderr",
     "output_type": "stream",
     "text": [
      "c:\\users\\ben\\appdata\\local\\programs\\python\\python37-32\\lib\\site-packages\\ipykernel_launcher.py:9: SettingWithCopyWarning: \n",
      "A value is trying to be set on a copy of a slice from a DataFrame.\n",
      "Try using .loc[row_indexer,col_indexer] = value instead\n",
      "\n",
      "See the caveats in the documentation: http://pandas.pydata.org/pandas-docs/stable/indexing.html#indexing-view-versus-copy\n",
      "  if __name__ == '__main__':\n"
     ]
    }
   ],
   "source": [
    "stats.chisqprob = lambda chisq, crimechange: stats.chi2.sf(chisq, crimechange)\n",
    "\n",
    "lr = LogisticRegression(C=1e9)\n",
    "Y = crimechange['Murder?']\n",
    "X = crimechange[['Population','Robbery','Arson','ViolentCrime']]\n",
    "\n",
    "X_statsmod = crimechange[['Population','Robbery','Arson','ViolentCrime']]\n",
    "\n",
    "X_statsmod['intercept'] = 1 \n",
    "\n",
    "logit_model=sm.Logit(Y,X)\n",
    "result=logit_model.fit()\n",
    "print(result.summary())"
   ]
  },
  {
   "cell_type": "code",
   "execution_count": 8,
   "metadata": {},
   "outputs": [
    {
     "name": "stdout",
     "output_type": "stream",
     "text": [
      "The accuracy of logistic regression classifier for this data set 0.412.\n"
     ]
    },
    {
     "name": "stderr",
     "output_type": "stream",
     "text": [
      "c:\\users\\ben\\appdata\\local\\programs\\python\\python37-32\\lib\\site-packages\\sklearn\\linear_model\\logistic.py:432: FutureWarning: Default solver will be changed to 'lbfgs' in 0.22. Specify a solver to silence this warning.\n",
      "  FutureWarning)\n"
     ]
    }
   ],
   "source": [
    "X_train, X_test, Y_train, Y_test = train_test_split(X, Y, test_size=0.25, random_state=0)\n",
    "lreg = LogisticRegression()\n",
    "lreg.fit(X_train, Y_train)\n",
    "\n",
    "y_pred = lreg.predict(X_test)\n",
    "print('The accuracy of logistic regression classifier for this data set {:.3f}.'.format(lreg.score(X_test, Y_test)))"
   ]
  },
  {
   "cell_type": "code",
   "execution_count": 9,
   "metadata": {
    "scrolled": false
   },
   "outputs": [
    {
     "name": "stdout",
     "output_type": "stream",
     "text": [
      "The accuracy rate for the 10-fold cross is 0.487.\n"
     ]
    },
    {
     "name": "stderr",
     "output_type": "stream",
     "text": [
      "c:\\users\\ben\\appdata\\local\\programs\\python\\python37-32\\lib\\site-packages\\sklearn\\linear_model\\logistic.py:432: FutureWarning: Default solver will be changed to 'lbfgs' in 0.22. Specify a solver to silence this warning.\n",
      "  FutureWarning)\n",
      "c:\\users\\ben\\appdata\\local\\programs\\python\\python37-32\\lib\\site-packages\\sklearn\\linear_model\\logistic.py:432: FutureWarning: Default solver will be changed to 'lbfgs' in 0.22. Specify a solver to silence this warning.\n",
      "  FutureWarning)\n",
      "c:\\users\\ben\\appdata\\local\\programs\\python\\python37-32\\lib\\site-packages\\sklearn\\linear_model\\logistic.py:432: FutureWarning: Default solver will be changed to 'lbfgs' in 0.22. Specify a solver to silence this warning.\n",
      "  FutureWarning)\n",
      "c:\\users\\ben\\appdata\\local\\programs\\python\\python37-32\\lib\\site-packages\\sklearn\\linear_model\\logistic.py:432: FutureWarning: Default solver will be changed to 'lbfgs' in 0.22. Specify a solver to silence this warning.\n",
      "  FutureWarning)\n",
      "c:\\users\\ben\\appdata\\local\\programs\\python\\python37-32\\lib\\site-packages\\sklearn\\linear_model\\logistic.py:432: FutureWarning: Default solver will be changed to 'lbfgs' in 0.22. Specify a solver to silence this warning.\n",
      "  FutureWarning)\n"
     ]
    }
   ],
   "source": [
    "KFold = model_selection.KFold(n_splits=5, random_state=5)\n",
    "model = LogisticRegression()\n",
    "scoring = 'accuracy'\n",
    "results = model_selection.cross_val_score(model, X_train, Y_train, cv=KFold, scoring=scoring)\n",
    "print(\"The accuracy rate for the 10-fold cross is %.3f.\" % (results.mean()))"
   ]
  },
  {
   "cell_type": "markdown",
   "metadata": {},
   "source": [
    "Vanilla Logistic Regression"
   ]
  },
  {
   "cell_type": "code",
   "execution_count": 10,
   "metadata": {
    "scrolled": true
   },
   "outputs": [
    {
     "name": "stdout",
     "output_type": "stream",
     "text": [
      "\n",
      "The R-squared score for the simple model is:\n",
      "0.2944772194758425\n",
      "\n",
      "The R-squared complex model is:\n",
      "0.47933236069871843\n",
      "\n",
      "Small vs. Large Model:\n",
      "[[0.0000 0.0000]\n",
      " [0.0002 0.0000]\n",
      " [0.0058 0.0000]\n",
      " [-0.0007 -0.0000]\n",
      " [0.2839 0.0260]]\n"
     ]
    }
   ],
   "source": [
    "trainsize = int(crimechange.shape[0]*0.75)  \n",
    "crimechange_test = crimechange.iloc[trainsize:, :].copy() \n",
    "crimechange_train = crimechange.iloc[:trainsize, :].copy()\n",
    "\n",
    "regr = linear_model.LinearRegression()\n",
    "YTrain = crimechange_train['Murder?'].values.reshape(-1, 1)\n",
    "XTrain = crimechange_train[['Population','Robbery','Arson','ViolentCrime']]\n",
    "regr.fit(XTrain, YTrain)\n",
    "print('\\nThe R-squared score for the simple model is:')\n",
    "print(regr.score(XTrain, YTrain))\n",
    "\n",
    "origparams = np.append(regr.coef_, regr.intercept_) \n",
    "\n",
    "\n",
    "crimechange_train['PopulationArson'] = crimechange_train['Population'] * crimechange_train['Arson']\n",
    "crimechange_train['PopulationRobbery'] = crimechange_train['Population'] * crimechange_train['Robbery']\n",
    "crimechange_train['PopulationViolentCrime'] = crimechange_train['Population'] * crimechange_train['ViolentCrime']\n",
    "crimechange_train['PopulationRoot'] = crimechange_train['Population'] ** 0.5\n",
    "crimechange_train['PopulationSquared'] = crimechange_train['Population'] ** 2\n",
    "crimechange_train['PopulationCubed'] = crimechange_train['Population'] ** 3\n",
    "crimechange_train['RobberyArson'] = crimechange_train['Robbery'] * crimechange_train['Arson']\n",
    "crimechange_train['RobberyViolentCrime'] = crimechange_train['Robbery'] * crimechange_train['ViolentCrime']\n",
    "crimechange_train['RobberyRoot'] = crimechange_train['Robbery'] ** 0.5\n",
    "crimechange_train['RobberySquared'] = crimechange_train['Robbery'] ** 2\n",
    "crimechange_train['RobberyCubed'] = crimechange_train['Robbery'] ** 3\n",
    "crimechange_train['ArsonViolentCrime'] = crimechange_train['Arson'] * crimechange_train['ViolentCrime']\n",
    "crimechange_train['ArsonRoot'] = crimechange_train['Arson'] ** 0.5\n",
    "crimechange_train['ArsonSquared'] = crimechange_train['Arson'] ** 2\n",
    "crimechange_train['ArsonCubed'] = crimechange_train['Arson'] ** 3\n",
    "crimechange_train['ViolentCrimeRoot'] = crimechange_train['ViolentCrime'] ** 0.5\n",
    "crimechange_train['ViolentCrimeSquared'] = crimechange_train['ViolentCrime'] ** 2\n",
    "crimechange_train['ViolentCrimeCubed'] = crimechange_train['ViolentCrime'] ** 3\n",
    "                             \n",
    "regrBig = linear_model.LinearRegression()\n",
    "Xtrain2 = crimechange_train[['Population','Robbery','Arson',\n",
    "                     'PopulationArson','PopulationViolentCrime',\n",
    "                     'PopulationRobbery','RobberyArson', 'RobberyViolentCrime',\n",
    "                     'ArsonRoot','ArsonSquared','ArsonCubed','ArsonViolentCrime',\n",
    "                     'RobberyRoot','RobberySquared','RobberyCubed',\n",
    "                     'PopulationRoot','PopulationSquared','PopulationCubed',\n",
    "                     'ViolentCrimeRoot', 'ViolentCrimeSquared', 'ViolentCrimeCubed'\n",
    "                    ]]\n",
    "regrBig.fit(Xtrain2, YTrain)\n",
    "print('\\nThe R-squared complex model is:')\n",
    "print(regrBig.score(Xtrain2, YTrain))\n",
    "\n",
    "newparams = np.append(\n",
    "    regrBig.coef_[0,0:(len(origparams)-1)],\n",
    "    regrBig.intercept_)\n",
    "\n",
    "print('\\nSmall vs. Large Model:')\n",
    "compare = np.column_stack((origparams, newparams))\n",
    "comparisons = np.array2string(\n",
    "    compare,\n",
    "    formatter={'float_kind':'{0:.4f}'.format})\n",
    "print(comparisons)"
   ]
  },
  {
   "cell_type": "code",
   "execution_count": 11,
   "metadata": {},
   "outputs": [
    {
     "name": "stdout",
     "output_type": "stream",
     "text": [
      "\n",
      "The R-squared simple model is:\n",
      "0.07205636766367651\n",
      "\n",
      "The R-squared complex model is:\n",
      "-834.7905535533229\n"
     ]
    }
   ],
   "source": [
    "YTest = crimechange_test['Murder?'].values.reshape(-1, 1)\n",
    "XTest = crimechange_test[['Population','Robbery','Arson','ViolentCrime']]\n",
    "print('\\nThe R-squared simple model is:')\n",
    "print(regr.score(XTest, YTest))\n",
    "\n",
    "crimechange_test['PopulationArson'] = crimechange_test['Population'] * crimechange_test['Arson']\n",
    "crimechange_test['PopulationRobbery'] = crimechange_test['Population'] * crimechange_test['Robbery']\n",
    "crimechange_test['PopulationViolentCrime'] = crimechange_test['Population'] * crimechange_test['ViolentCrime']\n",
    "crimechange_test['PopulationRoot'] = crimechange_test['Population'] ** 0.5\n",
    "crimechange_test['PopulationSquared'] = crimechange_test['Population'] ** 2\n",
    "crimechange_test['PopulationCubed'] = crimechange_test['Population'] ** 3\n",
    "crimechange_test['RobberyArson'] = crimechange_test['Robbery'] * crimechange_test['Arson']\n",
    "crimechange_test['RobberyViolentCrime'] = crimechange_test['Robbery'] * crimechange_test['ViolentCrime']\n",
    "crimechange_test['RobberyRoot'] = crimechange_test['Robbery'] ** 0.5\n",
    "crimechange_test['RobberySquared'] = crimechange_test['Robbery'] ** 2\n",
    "crimechange_test['RobberyCubed'] = crimechange_test['Robbery'] ** 3\n",
    "crimechange_test['ArsonViolentCrime'] = crimechange_test['Arson'] * crimechange_test['ViolentCrime']\n",
    "crimechange_test['ArsonRoot'] = crimechange_test['Arson'] ** 0.5\n",
    "crimechange_test['ArsonSquared'] = crimechange_test['Arson'] ** 2\n",
    "crimechange_test['ArsonCubed'] = crimechange_test['Arson'] ** 3\n",
    "crimechange_test['ViolentCrimeRoot'] = crimechange_test['ViolentCrime'] ** 0.5\n",
    "crimechange_test['ViolentCrimeSquared'] = crimechange_test['ViolentCrime'] ** 2\n",
    "crimechange_test['ViolentCrimeCubed'] = crimechange_test['ViolentCrime'] ** 3\n",
    "                             \n",
    "Xtest2 = crimechange_test[['Population','Robbery','Arson',\n",
    "                     'PopulationArson','PopulationViolentCrime',\n",
    "                     'PopulationRobbery','RobberyArson', 'RobberyViolentCrime',\n",
    "                     'ArsonRoot','ArsonSquared','ArsonCubed','ArsonViolentCrime',\n",
    "                     'RobberyRoot','RobberySquared','RobberyCubed',\n",
    "                     'PopulationRoot','PopulationSquared','PopulationCubed',\n",
    "                     'ViolentCrimeRoot', 'ViolentCrimeSquared', 'ViolentCrimeCubed'\n",
    "                    ]]\n",
    "print('\\nThe R-squared complex model is:')\n",
    "print(regrBig.score(Xtest2, YTest))"
   ]
  },
  {
   "cell_type": "markdown",
   "metadata": {},
   "source": [
    "Ridge Logistic Regression"
   ]
  },
  {
   "cell_type": "code",
   "execution_count": 12,
   "metadata": {},
   "outputs": [
    {
     "name": "stdout",
     "output_type": "stream",
     "text": [
      "0.06863056007657231\n",
      "5.170926669762597e-06\n",
      "0.4214934634884241\n",
      "\n",
      "Small vs Large Model Estimates\n",
      "[[0.000 0.000]\n",
      " [0.000 0.000]\n",
      " [0.006 0.000]\n",
      " [-0.001 -0.000]\n",
      " [0.284 0.026]]\n"
     ]
    },
    {
     "name": "stderr",
     "output_type": "stream",
     "text": [
      "c:\\users\\ben\\appdata\\local\\programs\\python\\python37-32\\lib\\site-packages\\sklearn\\linear_model\\ridge.py:125: LinAlgWarning: scipy.linalg.solve\n",
      "Ill-conditioned matrix detected. Result is not guaranteed to be accurate.\n",
      "Reciprocal condition number8.743084e-37\n",
      "  overwrite_a=True).T\n"
     ]
    }
   ],
   "source": [
    "ridgeregr = linear_model.Ridge(alpha=10, fit_intercept=False)\n",
    "ridgeregr.fit(X_train, Y_train)\n",
    "print(ridgeregr.score(X_train, Y_train))\n",
    "parameters = ridgeregr.coef_[0]\n",
    "print(parameters)\n",
    "\n",
    "ridgeregrBig = linear_model.Ridge(alpha=10, fit_intercept=False)\n",
    "ridgeregrBig.fit(Xtrain2, Y_train)\n",
    "print(ridgeregrBig.score(Xtrain2, Y_train))\n",
    "print('\\nSmall vs Large Model Estimates')\n",
    "comparison = np.array2string(compare,\n",
    "                               formatter = {'float_kind':'{0:.3f}'.format})\n",
    "print(comparison)"
   ]
  },
  {
   "cell_type": "code",
   "execution_count": 13,
   "metadata": {},
   "outputs": [
    {
     "name": "stdout",
     "output_type": "stream",
     "text": [
      "0.1805060861122303\n",
      "-402.76068267866356\n"
     ]
    }
   ],
   "source": [
    "print(ridgeregr.score(XTest, YTest))\n",
    "print(ridgeregrBig.score(Xtest2, YTest))"
   ]
  },
  {
   "cell_type": "markdown",
   "metadata": {},
   "source": [
    "Lasso Logistic Regression"
   ]
  },
  {
   "cell_type": "code",
   "execution_count": 14,
   "metadata": {},
   "outputs": [
    {
     "name": "stderr",
     "output_type": "stream",
     "text": [
      "c:\\users\\ben\\appdata\\local\\programs\\python\\python37-32\\lib\\site-packages\\sklearn\\linear_model\\coordinate_descent.py:491: ConvergenceWarning: Objective did not converge. You might want to increase the number of iterations. Fitting data with very small alpha may cause precision problems.\n",
      "  ConvergenceWarning)\n"
     ]
    },
    {
     "name": "stdout",
     "output_type": "stream",
     "text": [
      "R² for the model with a small amount of features:\n",
      "0.21197407316445882\n",
      "\n",
      "Parameter estimates for the model with a small amount of features:\n",
      "[ 3.19801835e-06 -0.00000000e+00  0.00000000e+00 -4.05471622e-04\n",
      "  3.50991006e-01]\n",
      "\n",
      "R² for the model with a large amount of features:\n",
      "0.0961651249351203\n",
      "\n",
      "Parameter estimates for the model with a large amount of features:\n",
      "[-8.57610321e-08 -0.00000000e+00 -0.00000000e+00  1.39608410e-09\n",
      "  2.93711027e-10 -7.57266596e-10 -3.13958295e-06  6.75188910e-08\n",
      " -0.00000000e+00 -9.76876095e-05  6.09014516e-07 -1.06066716e-06\n",
      " -0.00000000e+00 -3.68403911e-07  3.05892845e-11 -0.00000000e+00\n",
      "  6.85601835e-12 -3.01905676e-18 -0.00000000e+00 -2.54750636e-08\n",
      " -2.25797500e-12  4.42440907e-01]\n"
     ]
    }
   ],
   "source": [
    "lass = linear_model.Lasso(alpha=10)\n",
    "lassfit = lass.fit(X_train, Y_train)\n",
    "print('R² for the model with a small amount of features:')\n",
    "print(lass.score(X_train, Y_train))\n",
    "parameters = np.append(lassfit.coef_, lassfit.intercept_)\n",
    "print('\\nParameter estimates for the model with a small amount of features:')\n",
    "print(parameters)\n",
    "\n",
    "lassBig = linear_model.Lasso(alpha=10)\n",
    "lassBig.fit(Xtrain2, Y_train)\n",
    "print('\\nR² for the model with a large amount of features:')\n",
    "print(lassBig.score(Xtrain2, Y_train))\n",
    "parameters = np.append(lassBig.coef_, lassBig.intercept_)\n",
    "print('\\nParameter estimates for the model with a large amount of features:')\n",
    "print(parameters)"
   ]
  },
  {
   "cell_type": "code",
   "execution_count": 15,
   "metadata": {},
   "outputs": [
    {
     "name": "stdout",
     "output_type": "stream",
     "text": [
      "0.037881154903325776\n",
      "-0.06952198975147672\n"
     ]
    }
   ],
   "source": [
    "print(lass.score(XTest, YTest))\n",
    "print(lassBig.score(Xtest2, YTest))"
   ]
  },
  {
   "cell_type": "markdown",
   "metadata": {},
   "source": [
    "Summary"
   ]
  },
  {
   "cell_type": "markdown",
   "metadata": {},
   "source": [
    "Vanilla logistic Regression worked the best for this model because it generated the highest R-squared score even though it was modest at 0.412. Based on the results, Ridge regression did not fit well with this data set. As for the lasso, the r2 squared went lower when it had more fatures. Regression is useful when it comes to forecasting. However, outliers and regression do not blend well together."
   ]
  }
 ],
 "metadata": {
  "kernelspec": {
   "display_name": "Python 3",
   "language": "python",
   "name": "python3"
  },
  "language_info": {
   "codemirror_mode": {
    "name": "ipython",
    "version": 3
   },
   "file_extension": ".py",
   "mimetype": "text/x-python",
   "name": "python",
   "nbconvert_exporter": "python",
   "pygments_lexer": "ipython3",
   "version": "3.7.0"
  }
 },
 "nbformat": 4,
 "nbformat_minor": 2
}
