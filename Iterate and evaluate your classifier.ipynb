{
 "cells": [
  {
   "cell_type": "code",
   "execution_count": 1,
   "metadata": {},
   "outputs": [],
   "source": [
    "import numpy as np\n",
    "import pandas as pd\n",
    "import matplotlib.pyplot as plt\n",
    "import seaborn as sns\n",
    "import scipy\n",
    "import sklearn\n",
    "from sklearn.metrics import confusion_matrix\n",
    "from sklearn.model_selection import cross_val_score\n",
    "from sklearn.model_selection import train_test_split\n",
    "from sklearn.naive_bayes import BernoulliNB\n",
    "%matplotlib inline"
   ]
  },
  {
   "cell_type": "code",
   "execution_count": 2,
   "metadata": {},
   "outputs": [],
   "source": [
    "imdb_raw = pd.read_csv('imdb_labelled.txt', '\\t')\n",
    "imdb_raw.columns = ['text', 'score']"
   ]
  },
  {
   "cell_type": "code",
   "execution_count": 3,
   "metadata": {},
   "outputs": [],
   "source": [
    "#positive keywords\n",
    "keywords = ['amazing', 'awesome', 'beautiful', 'best', 'entertaining', 'enjoyed', 'fun', 'like', 'loved', 'love', 'outstanding', 'recommend', 'recommended', 'strong', 'wonderful']\n",
    "\n",
    "for key in keywords:\n",
    "    imdb_raw[str(key)] = imdb_raw.text.str.contains(\n",
    "        str(key), \n",
    "        case=False\n",
    "    )"
   ]
  },
  {
   "cell_type": "code",
   "execution_count": 4,
   "metadata": {},
   "outputs": [
    {
     "name": "stdout",
     "output_type": "stream",
     "text": [
      "Total\n",
      "Percent Positive is: 48.32663989290495\tPercent Negative is: 51.67336010709505\n",
      "Train\n",
      "Percent Positive is: 48.214285714285715\tPercent Negative is: 51.785714285714285\n",
      "Test\n",
      "Percent Positive is: 56.68449197860963\tPercent Negative is: 43.31550802139037\n"
     ]
    }
   ],
   "source": [
    "#negative and positive percent\n",
    "raw_count = imdb_raw.score.value_counts()\n",
    "print('Total\\nPercent Positive is: {}\\tPercent Negative is: {}'.format(100*raw_count[0]/(imdb_raw.shape[0]), 100*raw_count[1]/(imdb_raw.shape[0]))) \n",
    "\n",
    "#groups of 75% and 25%\n",
    "np.random.seed(232)\n",
    "imdb_train = imdb_raw.sample(frac=0.75, replace=False)\n",
    "imdb_test = imdb_raw.sample(frac=0.25, replace=False)\n",
    "\n",
    "#determining the negative/positive for the train and test\n",
    "raw_count_train = imdb_train.score.value_counts()\n",
    "print('Train\\nPercent Positive is: {}\\tPercent Negative is: {}'.format(100*raw_count_train[0]/(imdb_train.shape[0]), 100*raw_count_train[1]/(imdb_train.shape[0]))) \n",
    "\n",
    "raw_count_test = imdb_test.score.value_counts()\n",
    "print('Test\\nPercent Positive is: {}\\tPercent Negative is: {}'.format(100*raw_count_test[0]/(imdb_test.shape[0]), 100*raw_count_test[1]/(imdb_test.shape[0])))"
   ]
  },
  {
   "cell_type": "code",
   "execution_count": 5,
   "metadata": {},
   "outputs": [
    {
     "data": {
      "text/plain": [
       "<matplotlib.axes._subplots.AxesSubplot at 0x1b588f30>"
      ]
     },
     "execution_count": 5,
     "metadata": {},
     "output_type": "execute_result"
    },
    {
     "data": {
      "image/png": "[encoded data removed]",
      "text/plain": [
       "<Figure size 432x288 with 2 Axes>"
      ]
     },
     "metadata": {
      "needs_background": "light"
     },
     "output_type": "display_data"
    }
   ],
   "source": [
    "sns.heatmap(imdb_raw.corr())"
   ]
  },
  {
   "cell_type": "code",
   "execution_count": 6,
   "metadata": {},
   "outputs": [],
   "source": [
    "data_train = imdb_train[keywords]\n",
    "target_train = imdb_train['score']\n",
    "\n",
    "data_test = imdb_test[keywords]\n",
    "target_test = imdb_test['score']"
   ]
  },
  {
   "cell_type": "code",
   "execution_count": 7,
   "metadata": {},
   "outputs": [
    {
     "name": "stdout",
     "output_type": "stream",
     "text": [
      "Out of a total 187 points : There are 66 mislabeled points.\n",
      "Accuracy is:  64.70588235294117 %\n",
      "[[96 10]\n",
      " [56 25]]\n",
      "The sensitivity percentage is:  30.864197530864196 %\n",
      "The specificity percentage is:  90.56603773584905 %\n"
     ]
    }
   ],
   "source": [
    "bnb = BernoulliNB()\n",
    "\n",
    "bnb.fit(data_train, target_train)\n",
    "y_pred_test = bnb.predict(data_test)\n",
    "\n",
    "print(\"Out of a total {} points : There are {} mislabeled points.\".format(\n",
    "    data_test.shape[0],\n",
    "    (target_test != y_pred_test).sum()\n",
    "))\n",
    "\n",
    "#mislabeled percentages\n",
    "print('Accuracy is: ', (100 * ((target_test == y_pred_test).sum()) /data_test.shape[0]), '%')\n",
    "conf = confusion_matrix(target_test, y_pred_test)\n",
    "print(conf)\n",
    "print('The sensitivity percentage is: ', 100*conf[1,1] / (conf[1,1] + conf[1,0]), '%')\n",
    "print('The specificity percentage is: ', 100*conf[0,0] / (conf[0,0] + conf[0,1]), '%')"
   ]
  },
  {
   "cell_type": "code",
   "execution_count": null,
   "metadata": {},
   "outputs": [],
   "source": []
  },
  {
   "cell_type": "code",
   "execution_count": 8,
   "metadata": {},
   "outputs": [
    {
     "name": "stdout",
     "output_type": "stream",
     "text": [
      "Out of 747 mislabeled points, 297 were mislabeled.\n"
     ]
    }
   ],
   "source": [
    "from sklearn.naive_bayes import BernoulliNB\n",
    "\n",
    "data = imdb_raw[keywords]\n",
    "target = imdb_raw['score']\n",
    "\n",
    "\n",
    "bnb = BernoulliNB()\n",
    "bnb.fit(data, target)\n",
    "y_pred = bnb.predict(data)\n",
    "\n",
    "print(f'Out of {data.shape[0]} mislabeled points, {(target != y_pred).sum()} were mislabeled.')"
   ]
  },
  {
   "cell_type": "code",
   "execution_count": 9,
   "metadata": {},
   "outputs": [
    {
     "name": "stdout",
     "output_type": "stream",
     "text": [
      "20% Holdout is: 0.6\n",
      "The \"Testing on Sample\" is: 0.6024096385542169\n"
     ]
    }
   ],
   "source": [
    "X_train, X_test, y_train, y_test = train_test_split(data, target, test_size=0.2, random_state=20)\n",
    "print(f'20% Holdout is: {bnb.fit(X_train, y_train).score(X_test, y_test)}')\n",
    "print(f'The \"Testing on Sample\" is: {bnb.fit(data, target).score(data, target)}')"
   ]
  },
  {
   "cell_type": "code",
   "execution_count": 10,
   "metadata": {},
   "outputs": [
    {
     "data": {
      "text/html": [
       "<div>\n",
       "<style scoped>\n",
       "    .dataframe tbody tr th:only-of-type {\n",
       "        vertical-align: middle;\n",
       "    }\n",
       "\n",
       "    .dataframe tbody tr th {\n",
       "        vertical-align: top;\n",
       "    }\n",
       "\n",
       "    .dataframe thead th {\n",
       "        text-align: right;\n",
       "    }\n",
       "</style>\n",
       "<table border=\"1\" class=\"dataframe\">\n",
       "  <thead>\n",
       "    <tr style=\"text-align: right;\">\n",
       "      <th>col_0</th>\n",
       "      <th>0</th>\n",
       "      <th>1</th>\n",
       "    </tr>\n",
       "    <tr>\n",
       "      <th>score</th>\n",
       "      <th></th>\n",
       "      <th></th>\n",
       "    </tr>\n",
       "  </thead>\n",
       "  <tbody>\n",
       "    <tr>\n",
       "      <th>0</th>\n",
       "      <td>328</td>\n",
       "      <td>33</td>\n",
       "    </tr>\n",
       "    <tr>\n",
       "      <th>1</th>\n",
       "      <td>264</td>\n",
       "      <td>122</td>\n",
       "    </tr>\n",
       "  </tbody>\n",
       "</table>\n",
       "</div>"
      ],
      "text/plain": [
       "col_0    0    1\n",
       "score          \n",
       "0      328   33\n",
       "1      264  122"
      ]
     },
     "execution_count": 10,
     "metadata": {},
     "output_type": "execute_result"
    }
   ],
   "source": [
    "df_confusion = pd.crosstab(target, y_pred)\n",
    "df_confusion"
   ]
  },
  {
   "cell_type": "code",
   "execution_count": 11,
   "metadata": {},
   "outputs": [
    {
     "data": {
      "text/plain": [
       "array([0.53947368, 0.61333333, 0.53333333, 0.57333333, 0.56      ,\n",
       "       0.53333333, 0.63513514, 0.60810811, 0.63513514, 0.56756757])"
      ]
     },
     "execution_count": 11,
     "metadata": {},
     "output_type": "execute_result"
    }
   ],
   "source": [
    "cross_val_score(bnb, data, target, cv=10)"
   ]
  },
  {
   "cell_type": "code",
   "execution_count": 12,
   "metadata": {},
   "outputs": [
    {
     "name": "stdout",
     "output_type": "stream",
     "text": [
      "The feature 0: amazing\n",
      "The accuracy is:  43.31550802139037 %\n",
      "[[  0 106]\n",
      " [  0  81]]\n",
      "The sensitivity rate is:  100.0 %\n",
      "The specificity rate is:  0.0 %\n",
      "\n",
      "The feature 1: awesome\n",
      "The accuracy is:  43.31550802139037 %\n",
      "[[  0 106]\n",
      " [  0  81]]\n",
      "The sensitivity rate is:  100.0 %\n",
      "The specificity rate is:  0.0 %\n",
      "\n",
      "The feature 2: beautiful\n",
      "The accuracy is:  43.31550802139037 %\n",
      "[[  0 106]\n",
      " [  0  81]]\n",
      "The sensitivity rate is:  100.0 %\n",
      "The specificity rate is:  0.0 %\n",
      "\n",
      "The feature 3: best\n",
      "The accuracy is:  43.31550802139037 %\n",
      "[[  0 106]\n",
      " [  0  81]]\n",
      "The sensitivity rate is:  100.0 %\n",
      "The specificity rate is:  0.0 %\n",
      "\n",
      "The feature 4: entertaining\n",
      "The accuracy is:  43.31550802139037 %\n",
      "[[  0 106]\n",
      " [  0  81]]\n",
      "The sensitivity rate is:  100.0 %\n",
      "The specificity rate is:  0.0 %\n",
      "\n",
      "The feature 5: enjoyed\n",
      "The accuracy is:  43.31550802139037 %\n",
      "[[  0 106]\n",
      " [  0  81]]\n",
      "The sensitivity rate is:  100.0 %\n",
      "The specificity rate is:  0.0 %\n",
      "\n",
      "The feature 6: fun\n",
      "The accuracy is:  43.31550802139037 %\n",
      "[[  0 106]\n",
      " [  0  81]]\n",
      "The sensitivity rate is:  100.0 %\n",
      "The specificity rate is:  0.0 %\n",
      "\n",
      "The feature 7: like\n",
      "The accuracy is:  43.31550802139037 %\n",
      "[[  0 106]\n",
      " [  0  81]]\n",
      "The sensitivity rate is:  100.0 %\n",
      "The specificity rate is:  0.0 %\n",
      "\n",
      "The feature 8: loved\n",
      "The accuracy is:  43.31550802139037 %\n",
      "[[  0 106]\n",
      " [  0  81]]\n",
      "The sensitivity rate is:  100.0 %\n",
      "The specificity rate is:  0.0 %\n",
      "\n",
      "The feature 9: love\n",
      "The accuracy is:  43.31550802139037 %\n",
      "[[  0 106]\n",
      " [  0  81]]\n",
      "The sensitivity rate is:  100.0 %\n",
      "The specificity rate is:  0.0 %\n",
      "\n",
      "The feature 10: outstanding\n",
      "The accuracy is:  43.31550802139037 %\n",
      "[[  0 106]\n",
      " [  0  81]]\n",
      "The sensitivity rate is:  100.0 %\n",
      "The specificity rate is:  0.0 %\n",
      "\n",
      "The feature 11: recommend\n",
      "The accuracy is:  43.31550802139037 %\n",
      "[[  0 106]\n",
      " [  0  81]]\n",
      "The sensitivity rate is:  100.0 %\n",
      "The specificity rate is:  0.0 %\n",
      "\n",
      "The feature 12: recommended\n",
      "The accuracy is:  43.31550802139037 %\n",
      "[[  0 106]\n",
      " [  0  81]]\n",
      "The sensitivity rate is:  100.0 %\n",
      "The specificity rate is:  0.0 %\n",
      "\n",
      "The feature 13: strong\n",
      "The accuracy is:  43.31550802139037 %\n",
      "[[  0 106]\n",
      " [  0  81]]\n",
      "The sensitivity rate is:  100.0 %\n",
      "The specificity rate is:  0.0 %\n",
      "\n",
      "The feature 14: wonderful\n",
      "The accuracy is:  43.31550802139037 %\n",
      "[[  0 106]\n",
      " [  0  81]]\n",
      "The sensitivity rate is:  100.0 %\n",
      "The specificity rate is:  0.0 %\n",
      "\n"
     ]
    }
   ],
   "source": [
    "i = 0\n",
    "\n",
    "for i in np.arange(len(keywords)):\n",
    "    \n",
    "    data = data_train.iloc[:, i:i+1]\n",
    "    bnb = BernoulliNB()    \n",
    "    bnb.fit(data, target_train)    \n",
    "    y_pred_test = bnb.predict(data_test.iloc[:, i:i+1])\n",
    "    print('The feature {}: {}'.format(i, keywords[i]))\n",
    "    print('The accuracy is: ', (100 * ((target_test == y_pred_test).sum()) /data_test.shape[0]), '%')\n",
    "    conf = confusion_matrix(target_test, y_pred_test)\n",
    "    print(conf)\n",
    "    print('The sensitivity rate is: ', 100*conf[1,1] / (conf[1,1] + conf[1,0]), '%')\n",
    "    print('The specificity rate is: ', 100*conf[0,0] / (conf[0,0] + conf[0,1]), '%')\n",
    "    print()\n",
    "    i += 1"
   ]
  },
  {
   "cell_type": "code",
   "execution_count": 13,
   "metadata": {},
   "outputs": [
    {
     "name": "stdout",
     "output_type": "stream",
     "text": [
      "The features are:  ['amazing', 'awesome', 'beautiful', 'best', 'enjoyed', 'fun', 'like', 'loved', 'outstanding', 'recommend', 'recommended', 'strong']\n",
      "The accuracy rate:  62.5668449197861 %\n",
      "[[98  8]\n",
      " [62 19]]\n",
      "The sensitivity rate:  23.45679012345679 %\n",
      "The specificity rate:  92.45283018867924 %\n"
     ]
    }
   ],
   "source": [
    "i = 1\n",
    "kw = keywords[0:4] + keywords[5:9] + keywords[10:14]\n",
    "\n",
    "data_train = imdb_train[kw]\n",
    "target_train = imdb_train['score']\n",
    "\n",
    "data_test = imdb_test[kw]\n",
    "target_test = imdb_test['score']\n",
    "\n",
    "bnb = BernoulliNB()\n",
    "\n",
    "bnb.fit(data_train, target_train)\n",
    "\n",
    "y_pred_test = bnb.predict(data_test)\n",
    "\n",
    "#Mislabeled\n",
    "print('The features are: ', kw)\n",
    "print('The accuracy rate: ', (100 * ((target_test == y_pred_test).sum()) /data_test.shape[0]), '%')\n",
    "conf = confusion_matrix(target_test, y_pred_test)\n",
    "print(conf)\n",
    "print('The sensitivity rate: ', 100*conf[1,1] / (conf[1,1] + conf[1,0]), '%')\n",
    "print('The specificity rate: ', 100*conf[0,0] / (conf[0,0] + conf[0,1]), '%')\n",
    "i += 1"
   ]
  }
 ],
 "metadata": {
  "kernelspec": {
   "display_name": "Python 3",
   "language": "python",
   "name": "python3"
  },
  "language_info": {
   "codemirror_mode": {
    "name": "ipython",
    "version": 3
   },
   "file_extension": ".py",
   "mimetype": "text/x-python",
   "name": "python",
   "nbconvert_exporter": "python",
   "pygments_lexer": "ipython3",
   "version": "3.7.0"
  }
 },
 "nbformat": 4,
 "nbformat_minor": 2
}
