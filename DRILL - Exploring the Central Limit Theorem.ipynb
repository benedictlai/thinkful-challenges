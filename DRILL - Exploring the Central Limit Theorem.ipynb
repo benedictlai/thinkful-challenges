{
 "cells": [
  {
   "cell_type": "code",
   "execution_count": 2,
   "metadata": {},
   "outputs": [
    {
     "name": "stdout",
     "output_type": "stream",
     "text": [
      "1.897\n",
      "5.069\n",
      "1.30322331163926\n",
      "1.5356558859327827\n",
      "3.1719999999999997\n"
     ]
    },
    {
     "data": {
      "image/png": "[encoded data removed]",
      "text/plain": [
       "<Figure size 432x288 with 1 Axes>"
      ]
     },
     "metadata": {
      "needs_background": "light"
     },
     "output_type": "display_data"
    }
   ],
   "source": [
    "import numpy as np\n",
    "import pandas as pd\n",
    "import scipy\n",
    "import matplotlib.pyplot as plt\n",
    "%matplotlib inline\n",
    "\n",
    "p1 = np.random.binomial(10, 0.2, 10000)\n",
    "p2 = np.random.binomial(10,0.5, 10000) \n",
    "\n",
    "sam1 = np.random.choice(p1, 1000, replace=True)\n",
    "sam2 = np.random.choice(p2, 1000, replace=True)\n",
    "\n",
    "print(sam1.mean())\n",
    "print(sam2.mean())\n",
    "print(sam1.std())\n",
    "print(sam2.std())\n",
    "\n",
    "diff=sam2.mean( ) - sam1.mean()\n",
    "print(diff)\n",
    "\n",
    "plt.hist(sam1, alpha=0.5, label='sample 1') \n",
    "plt.hist(sam2, alpha=0.5, label='sample 2') \n",
    "plt.legend(loc='upper right') \n",
    "plt.show()"
   ]
  },
  {
   "cell_type": "code",
   "execution_count": 7,
   "metadata": {},
   "outputs": [
    {
     "name": "stdout",
     "output_type": "stream",
     "text": [
      "Ttest_indResult(statistic=7.839093326414969, pvalue=2.9639662611042086e-13)\n",
      "My answer to the second question is the t-value declines as the p-value increases because the samples will now be identical to each other.\n"
     ]
    }
   ],
   "source": [
    "p1 = np.random.binomial(10, 0.3, 10000)\n",
    "p2 = np.random.binomial(10,0.5, 10000) \n",
    "\n",
    "sam1 = np.random.choice(p1, 100, replace=True)\n",
    "sam2 = np.random.choice(p2, 100, replace=True)\n",
    "\n",
    "from scipy.stats import ttest_ind\n",
    "\n",
    "message = \"the t-value declines as the p-value increases because the samples will now be identical to each other.\"\n",
    "\n",
    "print(ttest_ind(sam2, sam1, equal_var=False))\n",
    "print(\"My answer to the second question is \" + message)"
   ]
  },
  {
   "cell_type": "code",
   "execution_count": 8,
   "metadata": {},
   "outputs": [
    {
     "name": "stdout",
     "output_type": "stream",
     "text": [
      "Ttest_indResult(statistic=4.113972698246682, pvalue=5.7106205336227735e-05)\n",
      "My answer to the third question is if the sample size is still high, the statistics will still work according to The Central Limit Theorem.\n"
     ]
    }
   ],
   "source": [
    "p1 = np.random.binomial(10, 0.4, 10000)\n",
    "p2 = np.random.binomial(10,0.5, 10000) \n",
    "\n",
    "sam1 = np.random.choice(p1, 100, replace=True)\n",
    "sam2 = np.random.choice(p2, 100, replace=True)\n",
    "\n",
    "from scipy.stats import ttest_ind\n",
    "\n",
    "message = \"if the sample size is still high, the statistics will still work according to The Central Limit Theorem.\"\n",
    "\n",
    "print(ttest_ind(sam2, sam1, equal_var=False))\n",
    "print(\"My answer to the third question is \" + message)"
   ]
  },
  {
   "cell_type": "code",
   "execution_count": null,
   "metadata": {},
   "outputs": [],
   "source": []
  }
 ],
 "metadata": {
  "kernelspec": {
   "display_name": "Python 3",
   "language": "python",
   "name": "python3"
  },
  "language_info": {
   "codemirror_mode": {
    "name": "ipython",
    "version": 3
   },
   "file_extension": ".py",
   "mimetype": "text/x-python",
   "name": "python",
   "nbconvert_exporter": "python",
   "pygments_lexer": "ipython3",
   "version": "3.7.0"
  }
 },
 "nbformat": 4,
 "nbformat_minor": 2
}
