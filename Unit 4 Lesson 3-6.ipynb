{
 "cells": [
  {
   "cell_type": "code",
   "execution_count": 3,
   "metadata": {},
   "outputs": [],
   "source": [
    "import numpy as np\n",
    "import pandas as pd\n",
    "import matplotlib.pyplot as plt\n",
    "from sklearn import ensemble, linear_model\n",
    "from sklearn.model_selection import cross_val_score, train_test_split\n",
    "from sklearn.neural_network import MLPRegressor\n",
    "%matplotlib inline"
   ]
  },
  {
   "cell_type": "markdown",
   "metadata": {},
   "source": [
    "# Introducing Data"
   ]
  },
  {
   "cell_type": "code",
   "execution_count": 4,
   "metadata": {},
   "outputs": [],
   "source": [
    "\n",
    "df = pd.read_csv('SleepStudy2.csv')"
   ]
  },
  {
   "cell_type": "code",
   "execution_count": 5,
   "metadata": {},
   "outputs": [
    {
     "data": {
      "text/html": [
       "<div>\n",
       "<style scoped>\n",
       "    .dataframe tbody tr th:only-of-type {\n",
       "        vertical-align: middle;\n",
       "    }\n",
       "\n",
       "    .dataframe tbody tr th {\n",
       "        vertical-align: top;\n",
       "    }\n",
       "\n",
       "    .dataframe thead th {\n",
       "        text-align: right;\n",
       "    }\n",
       "</style>\n",
       "<table border=\"1\" class=\"dataframe\">\n",
       "  <thead>\n",
       "    <tr style=\"text-align: right;\">\n",
       "      <th></th>\n",
       "      <th>gender</th>\n",
       "      <th>classyear</th>\n",
       "      <th>larkowl</th>\n",
       "      <th>numearlyclass</th>\n",
       "      <th>earlyclass</th>\n",
       "      <th>gpa</th>\n",
       "      <th>classesmissed</th>\n",
       "      <th>cognitionzscore</th>\n",
       "      <th>poorsleepquality</th>\n",
       "      <th>depressionscore</th>\n",
       "      <th>...</th>\n",
       "      <th>alcoholuse</th>\n",
       "      <th>drinks</th>\n",
       "      <th>weekdaybed</th>\n",
       "      <th>weekdayrise</th>\n",
       "      <th>weekdaysleep</th>\n",
       "      <th>weekendbed</th>\n",
       "      <th>weekendrise</th>\n",
       "      <th>weekendsleep</th>\n",
       "      <th>averagesleep</th>\n",
       "      <th>allnighter</th>\n",
       "    </tr>\n",
       "  </thead>\n",
       "  <tbody>\n",
       "    <tr>\n",
       "      <th>0</th>\n",
       "      <td>0</td>\n",
       "      <td>4</td>\n",
       "      <td>0</td>\n",
       "      <td>0</td>\n",
       "      <td>0</td>\n",
       "      <td>3.60</td>\n",
       "      <td>0</td>\n",
       "      <td>-0.26</td>\n",
       "      <td>4</td>\n",
       "      <td>4</td>\n",
       "      <td>...</td>\n",
       "      <td>2</td>\n",
       "      <td>10</td>\n",
       "      <td>25.75</td>\n",
       "      <td>8.70</td>\n",
       "      <td>7.70</td>\n",
       "      <td>25.75</td>\n",
       "      <td>9.50</td>\n",
       "      <td>5.88</td>\n",
       "      <td>7.18</td>\n",
       "      <td>0</td>\n",
       "    </tr>\n",
       "    <tr>\n",
       "      <th>1</th>\n",
       "      <td>0</td>\n",
       "      <td>4</td>\n",
       "      <td>0</td>\n",
       "      <td>2</td>\n",
       "      <td>1</td>\n",
       "      <td>3.24</td>\n",
       "      <td>0</td>\n",
       "      <td>1.39</td>\n",
       "      <td>6</td>\n",
       "      <td>1</td>\n",
       "      <td>...</td>\n",
       "      <td>2</td>\n",
       "      <td>6</td>\n",
       "      <td>25.70</td>\n",
       "      <td>8.20</td>\n",
       "      <td>6.80</td>\n",
       "      <td>26.00</td>\n",
       "      <td>10.00</td>\n",
       "      <td>7.25</td>\n",
       "      <td>6.93</td>\n",
       "      <td>0</td>\n",
       "    </tr>\n",
       "    <tr>\n",
       "      <th>2</th>\n",
       "      <td>0</td>\n",
       "      <td>4</td>\n",
       "      <td>2</td>\n",
       "      <td>0</td>\n",
       "      <td>0</td>\n",
       "      <td>2.97</td>\n",
       "      <td>12</td>\n",
       "      <td>0.38</td>\n",
       "      <td>18</td>\n",
       "      <td>18</td>\n",
       "      <td>...</td>\n",
       "      <td>1</td>\n",
       "      <td>3</td>\n",
       "      <td>27.44</td>\n",
       "      <td>6.55</td>\n",
       "      <td>3.00</td>\n",
       "      <td>28.00</td>\n",
       "      <td>12.59</td>\n",
       "      <td>10.09</td>\n",
       "      <td>5.02</td>\n",
       "      <td>0</td>\n",
       "    </tr>\n",
       "    <tr>\n",
       "      <th>3</th>\n",
       "      <td>0</td>\n",
       "      <td>1</td>\n",
       "      <td>1</td>\n",
       "      <td>5</td>\n",
       "      <td>1</td>\n",
       "      <td>3.76</td>\n",
       "      <td>0</td>\n",
       "      <td>1.39</td>\n",
       "      <td>9</td>\n",
       "      <td>1</td>\n",
       "      <td>...</td>\n",
       "      <td>1</td>\n",
       "      <td>2</td>\n",
       "      <td>23.50</td>\n",
       "      <td>7.17</td>\n",
       "      <td>6.77</td>\n",
       "      <td>27.00</td>\n",
       "      <td>8.00</td>\n",
       "      <td>7.25</td>\n",
       "      <td>6.90</td>\n",
       "      <td>0</td>\n",
       "    </tr>\n",
       "    <tr>\n",
       "      <th>4</th>\n",
       "      <td>0</td>\n",
       "      <td>4</td>\n",
       "      <td>2</td>\n",
       "      <td>0</td>\n",
       "      <td>0</td>\n",
       "      <td>3.20</td>\n",
       "      <td>4</td>\n",
       "      <td>1.22</td>\n",
       "      <td>9</td>\n",
       "      <td>7</td>\n",
       "      <td>...</td>\n",
       "      <td>2</td>\n",
       "      <td>4</td>\n",
       "      <td>25.90</td>\n",
       "      <td>8.67</td>\n",
       "      <td>6.09</td>\n",
       "      <td>23.75</td>\n",
       "      <td>9.50</td>\n",
       "      <td>7.00</td>\n",
       "      <td>6.35</td>\n",
       "      <td>0</td>\n",
       "    </tr>\n",
       "  </tbody>\n",
       "</table>\n",
       "<p>5 rows × 27 columns</p>\n",
       "</div>"
      ],
      "text/plain": [
       "   gender  classyear  larkowl  numearlyclass  earlyclass   gpa  classesmissed  \\\n",
       "0       0          4        0              0           0  3.60              0   \n",
       "1       0          4        0              2           1  3.24              0   \n",
       "2       0          4        2              0           0  2.97             12   \n",
       "3       0          1        1              5           1  3.76              0   \n",
       "4       0          4        2              0           0  3.20              4   \n",
       "\n",
       "   cognitionzscore  poorsleepquality  depressionscore     ...      alcoholuse  \\\n",
       "0            -0.26                 4                4     ...               2   \n",
       "1             1.39                 6                1     ...               2   \n",
       "2             0.38                18               18     ...               1   \n",
       "3             1.39                 9                1     ...               1   \n",
       "4             1.22                 9                7     ...               2   \n",
       "\n",
       "   drinks  weekdaybed  weekdayrise  weekdaysleep  weekendbed  weekendrise  \\\n",
       "0      10       25.75         8.70          7.70       25.75         9.50   \n",
       "1       6       25.70         8.20          6.80       26.00        10.00   \n",
       "2       3       27.44         6.55          3.00       28.00        12.59   \n",
       "3       2       23.50         7.17          6.77       27.00         8.00   \n",
       "4       4       25.90         8.67          6.09       23.75         9.50   \n",
       "\n",
       "   weekendsleep  averagesleep  allnighter  \n",
       "0          5.88          7.18           0  \n",
       "1          7.25          6.93           0  \n",
       "2         10.09          5.02           0  \n",
       "3          7.25          6.90           0  \n",
       "4          7.00          6.35           0  \n",
       "\n",
       "[5 rows x 27 columns]"
      ]
     },
     "execution_count": 5,
     "metadata": {},
     "output_type": "execute_result"
    }
   ],
   "source": [
    "df.head()"
   ]
  },
  {
   "cell_type": "code",
   "execution_count": 6,
   "metadata": {},
   "outputs": [],
   "source": [
    "#LarkOwl #Neither=0 #Lark=1 #Owl=2\n",
    "#normal=0 #moderate=1, #high=2, #severe=3\n",
    "#Abstain=0 #Light=1 #Moderate=2 #Heavy=3"
   ]
  },
  {
   "cell_type": "code",
   "execution_count": 7,
   "metadata": {},
   "outputs": [
    {
     "data": {
      "text/plain": [
       "(253, 27)"
      ]
     },
     "execution_count": 7,
     "metadata": {},
     "output_type": "execute_result"
    }
   ],
   "source": [
    "df.shape"
   ]
  },
  {
   "cell_type": "code",
   "execution_count": 8,
   "metadata": {},
   "outputs": [],
   "source": [
    "X = df.drop('gender', axis=1)\n",
    "y = df['gender']"
   ]
  },
  {
   "cell_type": "code",
   "execution_count": 9,
   "metadata": {},
   "outputs": [
    {
     "data": {
      "text/html": [
       "<div>\n",
       "<style scoped>\n",
       "    .dataframe tbody tr th:only-of-type {\n",
       "        vertical-align: middle;\n",
       "    }\n",
       "\n",
       "    .dataframe tbody tr th {\n",
       "        vertical-align: top;\n",
       "    }\n",
       "\n",
       "    .dataframe thead th {\n",
       "        text-align: right;\n",
       "    }\n",
       "</style>\n",
       "<table border=\"1\" class=\"dataframe\">\n",
       "  <thead>\n",
       "    <tr style=\"text-align: right;\">\n",
       "      <th></th>\n",
       "      <th>gender</th>\n",
       "      <th>classyear</th>\n",
       "      <th>larkowl</th>\n",
       "      <th>numearlyclass</th>\n",
       "      <th>earlyclass</th>\n",
       "      <th>gpa</th>\n",
       "      <th>classesmissed</th>\n",
       "      <th>cognitionzscore</th>\n",
       "      <th>poorsleepquality</th>\n",
       "      <th>depressionscore</th>\n",
       "      <th>...</th>\n",
       "      <th>alcoholuse</th>\n",
       "      <th>drinks</th>\n",
       "      <th>weekdaybed</th>\n",
       "      <th>weekdayrise</th>\n",
       "      <th>weekdaysleep</th>\n",
       "      <th>weekendbed</th>\n",
       "      <th>weekendrise</th>\n",
       "      <th>weekendsleep</th>\n",
       "      <th>averagesleep</th>\n",
       "      <th>allnighter</th>\n",
       "    </tr>\n",
       "  </thead>\n",
       "  <tbody>\n",
       "    <tr>\n",
       "      <th>0</th>\n",
       "      <td>0</td>\n",
       "      <td>4</td>\n",
       "      <td>0</td>\n",
       "      <td>0</td>\n",
       "      <td>0</td>\n",
       "      <td>3.60</td>\n",
       "      <td>0</td>\n",
       "      <td>-0.26</td>\n",
       "      <td>4</td>\n",
       "      <td>4</td>\n",
       "      <td>...</td>\n",
       "      <td>2</td>\n",
       "      <td>10</td>\n",
       "      <td>25.75</td>\n",
       "      <td>8.70</td>\n",
       "      <td>7.70</td>\n",
       "      <td>25.75</td>\n",
       "      <td>9.50</td>\n",
       "      <td>5.88</td>\n",
       "      <td>7.18</td>\n",
       "      <td>0</td>\n",
       "    </tr>\n",
       "    <tr>\n",
       "      <th>1</th>\n",
       "      <td>0</td>\n",
       "      <td>4</td>\n",
       "      <td>0</td>\n",
       "      <td>2</td>\n",
       "      <td>1</td>\n",
       "      <td>3.24</td>\n",
       "      <td>0</td>\n",
       "      <td>1.39</td>\n",
       "      <td>6</td>\n",
       "      <td>1</td>\n",
       "      <td>...</td>\n",
       "      <td>2</td>\n",
       "      <td>6</td>\n",
       "      <td>25.70</td>\n",
       "      <td>8.20</td>\n",
       "      <td>6.80</td>\n",
       "      <td>26.00</td>\n",
       "      <td>10.00</td>\n",
       "      <td>7.25</td>\n",
       "      <td>6.93</td>\n",
       "      <td>0</td>\n",
       "    </tr>\n",
       "    <tr>\n",
       "      <th>2</th>\n",
       "      <td>0</td>\n",
       "      <td>4</td>\n",
       "      <td>2</td>\n",
       "      <td>0</td>\n",
       "      <td>0</td>\n",
       "      <td>2.97</td>\n",
       "      <td>12</td>\n",
       "      <td>0.38</td>\n",
       "      <td>18</td>\n",
       "      <td>18</td>\n",
       "      <td>...</td>\n",
       "      <td>1</td>\n",
       "      <td>3</td>\n",
       "      <td>27.44</td>\n",
       "      <td>6.55</td>\n",
       "      <td>3.00</td>\n",
       "      <td>28.00</td>\n",
       "      <td>12.59</td>\n",
       "      <td>10.09</td>\n",
       "      <td>5.02</td>\n",
       "      <td>0</td>\n",
       "    </tr>\n",
       "    <tr>\n",
       "      <th>3</th>\n",
       "      <td>0</td>\n",
       "      <td>1</td>\n",
       "      <td>1</td>\n",
       "      <td>5</td>\n",
       "      <td>1</td>\n",
       "      <td>3.76</td>\n",
       "      <td>0</td>\n",
       "      <td>1.39</td>\n",
       "      <td>9</td>\n",
       "      <td>1</td>\n",
       "      <td>...</td>\n",
       "      <td>1</td>\n",
       "      <td>2</td>\n",
       "      <td>23.50</td>\n",
       "      <td>7.17</td>\n",
       "      <td>6.77</td>\n",
       "      <td>27.00</td>\n",
       "      <td>8.00</td>\n",
       "      <td>7.25</td>\n",
       "      <td>6.90</td>\n",
       "      <td>0</td>\n",
       "    </tr>\n",
       "    <tr>\n",
       "      <th>4</th>\n",
       "      <td>0</td>\n",
       "      <td>4</td>\n",
       "      <td>2</td>\n",
       "      <td>0</td>\n",
       "      <td>0</td>\n",
       "      <td>3.20</td>\n",
       "      <td>4</td>\n",
       "      <td>1.22</td>\n",
       "      <td>9</td>\n",
       "      <td>7</td>\n",
       "      <td>...</td>\n",
       "      <td>2</td>\n",
       "      <td>4</td>\n",
       "      <td>25.90</td>\n",
       "      <td>8.67</td>\n",
       "      <td>6.09</td>\n",
       "      <td>23.75</td>\n",
       "      <td>9.50</td>\n",
       "      <td>7.00</td>\n",
       "      <td>6.35</td>\n",
       "      <td>0</td>\n",
       "    </tr>\n",
       "  </tbody>\n",
       "</table>\n",
       "<p>5 rows × 27 columns</p>\n",
       "</div>"
      ],
      "text/plain": [
       "   gender  classyear  larkowl  numearlyclass  earlyclass   gpa  classesmissed  \\\n",
       "0       0          4        0              0           0  3.60              0   \n",
       "1       0          4        0              2           1  3.24              0   \n",
       "2       0          4        2              0           0  2.97             12   \n",
       "3       0          1        1              5           1  3.76              0   \n",
       "4       0          4        2              0           0  3.20              4   \n",
       "\n",
       "   cognitionzscore  poorsleepquality  depressionscore     ...      alcoholuse  \\\n",
       "0            -0.26                 4                4     ...               2   \n",
       "1             1.39                 6                1     ...               2   \n",
       "2             0.38                18               18     ...               1   \n",
       "3             1.39                 9                1     ...               1   \n",
       "4             1.22                 9                7     ...               2   \n",
       "\n",
       "   drinks  weekdaybed  weekdayrise  weekdaysleep  weekendbed  weekendrise  \\\n",
       "0      10       25.75         8.70          7.70       25.75         9.50   \n",
       "1       6       25.70         8.20          6.80       26.00        10.00   \n",
       "2       3       27.44         6.55          3.00       28.00        12.59   \n",
       "3       2       23.50         7.17          6.77       27.00         8.00   \n",
       "4       4       25.90         8.67          6.09       23.75         9.50   \n",
       "\n",
       "   weekendsleep  averagesleep  allnighter  \n",
       "0          5.88          7.18           0  \n",
       "1          7.25          6.93           0  \n",
       "2         10.09          5.02           0  \n",
       "3          7.25          6.90           0  \n",
       "4          7.00          6.35           0  \n",
       "\n",
       "[5 rows x 27 columns]"
      ]
     },
     "execution_count": 9,
     "metadata": {},
     "output_type": "execute_result"
    }
   ],
   "source": [
    "df.head()"
   ]
  },
  {
   "cell_type": "code",
   "execution_count": 10,
   "metadata": {},
   "outputs": [
    {
     "data": {
      "text/html": [
       "<div>\n",
       "<style scoped>\n",
       "    .dataframe tbody tr th:only-of-type {\n",
       "        vertical-align: middle;\n",
       "    }\n",
       "\n",
       "    .dataframe tbody tr th {\n",
       "        vertical-align: top;\n",
       "    }\n",
       "\n",
       "    .dataframe thead th {\n",
       "        text-align: right;\n",
       "    }\n",
       "</style>\n",
       "<table border=\"1\" class=\"dataframe\">\n",
       "  <thead>\n",
       "    <tr style=\"text-align: right;\">\n",
       "      <th></th>\n",
       "      <th>classyear</th>\n",
       "      <th>larkowl</th>\n",
       "      <th>numearlyclass</th>\n",
       "      <th>earlyclass</th>\n",
       "      <th>gpa</th>\n",
       "      <th>classesmissed</th>\n",
       "      <th>cognitionzscore</th>\n",
       "      <th>poorsleepquality</th>\n",
       "      <th>depressionscore</th>\n",
       "      <th>anxietyscore</th>\n",
       "      <th>...</th>\n",
       "      <th>alcoholuse</th>\n",
       "      <th>drinks</th>\n",
       "      <th>weekdaybed</th>\n",
       "      <th>weekdayrise</th>\n",
       "      <th>weekdaysleep</th>\n",
       "      <th>weekendbed</th>\n",
       "      <th>weekendrise</th>\n",
       "      <th>weekendsleep</th>\n",
       "      <th>averagesleep</th>\n",
       "      <th>allnighter</th>\n",
       "    </tr>\n",
       "  </thead>\n",
       "  <tbody>\n",
       "    <tr>\n",
       "      <th>0</th>\n",
       "      <td>4</td>\n",
       "      <td>0</td>\n",
       "      <td>0</td>\n",
       "      <td>0</td>\n",
       "      <td>3.60</td>\n",
       "      <td>0</td>\n",
       "      <td>-0.26</td>\n",
       "      <td>4</td>\n",
       "      <td>4</td>\n",
       "      <td>3</td>\n",
       "      <td>...</td>\n",
       "      <td>2</td>\n",
       "      <td>10</td>\n",
       "      <td>25.75</td>\n",
       "      <td>8.70</td>\n",
       "      <td>7.70</td>\n",
       "      <td>25.75</td>\n",
       "      <td>9.50</td>\n",
       "      <td>5.88</td>\n",
       "      <td>7.18</td>\n",
       "      <td>0</td>\n",
       "    </tr>\n",
       "    <tr>\n",
       "      <th>1</th>\n",
       "      <td>4</td>\n",
       "      <td>0</td>\n",
       "      <td>2</td>\n",
       "      <td>1</td>\n",
       "      <td>3.24</td>\n",
       "      <td>0</td>\n",
       "      <td>1.39</td>\n",
       "      <td>6</td>\n",
       "      <td>1</td>\n",
       "      <td>0</td>\n",
       "      <td>...</td>\n",
       "      <td>2</td>\n",
       "      <td>6</td>\n",
       "      <td>25.70</td>\n",
       "      <td>8.20</td>\n",
       "      <td>6.80</td>\n",
       "      <td>26.00</td>\n",
       "      <td>10.00</td>\n",
       "      <td>7.25</td>\n",
       "      <td>6.93</td>\n",
       "      <td>0</td>\n",
       "    </tr>\n",
       "    <tr>\n",
       "      <th>2</th>\n",
       "      <td>4</td>\n",
       "      <td>2</td>\n",
       "      <td>0</td>\n",
       "      <td>0</td>\n",
       "      <td>2.97</td>\n",
       "      <td>12</td>\n",
       "      <td>0.38</td>\n",
       "      <td>18</td>\n",
       "      <td>18</td>\n",
       "      <td>18</td>\n",
       "      <td>...</td>\n",
       "      <td>1</td>\n",
       "      <td>3</td>\n",
       "      <td>27.44</td>\n",
       "      <td>6.55</td>\n",
       "      <td>3.00</td>\n",
       "      <td>28.00</td>\n",
       "      <td>12.59</td>\n",
       "      <td>10.09</td>\n",
       "      <td>5.02</td>\n",
       "      <td>0</td>\n",
       "    </tr>\n",
       "    <tr>\n",
       "      <th>3</th>\n",
       "      <td>1</td>\n",
       "      <td>1</td>\n",
       "      <td>5</td>\n",
       "      <td>1</td>\n",
       "      <td>3.76</td>\n",
       "      <td>0</td>\n",
       "      <td>1.39</td>\n",
       "      <td>9</td>\n",
       "      <td>1</td>\n",
       "      <td>4</td>\n",
       "      <td>...</td>\n",
       "      <td>1</td>\n",
       "      <td>2</td>\n",
       "      <td>23.50</td>\n",
       "      <td>7.17</td>\n",
       "      <td>6.77</td>\n",
       "      <td>27.00</td>\n",
       "      <td>8.00</td>\n",
       "      <td>7.25</td>\n",
       "      <td>6.90</td>\n",
       "      <td>0</td>\n",
       "    </tr>\n",
       "    <tr>\n",
       "      <th>4</th>\n",
       "      <td>4</td>\n",
       "      <td>2</td>\n",
       "      <td>0</td>\n",
       "      <td>0</td>\n",
       "      <td>3.20</td>\n",
       "      <td>4</td>\n",
       "      <td>1.22</td>\n",
       "      <td>9</td>\n",
       "      <td>7</td>\n",
       "      <td>25</td>\n",
       "      <td>...</td>\n",
       "      <td>2</td>\n",
       "      <td>4</td>\n",
       "      <td>25.90</td>\n",
       "      <td>8.67</td>\n",
       "      <td>6.09</td>\n",
       "      <td>23.75</td>\n",
       "      <td>9.50</td>\n",
       "      <td>7.00</td>\n",
       "      <td>6.35</td>\n",
       "      <td>0</td>\n",
       "    </tr>\n",
       "  </tbody>\n",
       "</table>\n",
       "<p>5 rows × 26 columns</p>\n",
       "</div>"
      ],
      "text/plain": [
       "   classyear  larkowl  numearlyclass  earlyclass   gpa  classesmissed  \\\n",
       "0          4        0              0           0  3.60              0   \n",
       "1          4        0              2           1  3.24              0   \n",
       "2          4        2              0           0  2.97             12   \n",
       "3          1        1              5           1  3.76              0   \n",
       "4          4        2              0           0  3.20              4   \n",
       "\n",
       "   cognitionzscore  poorsleepquality  depressionscore  anxietyscore  \\\n",
       "0            -0.26                 4                4             3   \n",
       "1             1.39                 6                1             0   \n",
       "2             0.38                18               18            18   \n",
       "3             1.39                 9                1             4   \n",
       "4             1.22                 9                7            25   \n",
       "\n",
       "      ...      alcoholuse  drinks  weekdaybed  weekdayrise  weekdaysleep  \\\n",
       "0     ...               2      10       25.75         8.70          7.70   \n",
       "1     ...               2       6       25.70         8.20          6.80   \n",
       "2     ...               1       3       27.44         6.55          3.00   \n",
       "3     ...               1       2       23.50         7.17          6.77   \n",
       "4     ...               2       4       25.90         8.67          6.09   \n",
       "\n",
       "   weekendbed  weekendrise  weekendsleep  averagesleep  allnighter  \n",
       "0       25.75         9.50          5.88          7.18           0  \n",
       "1       26.00        10.00          7.25          6.93           0  \n",
       "2       28.00        12.59         10.09          5.02           0  \n",
       "3       27.00         8.00          7.25          6.90           0  \n",
       "4       23.75         9.50          7.00          6.35           0  \n",
       "\n",
       "[5 rows x 26 columns]"
      ]
     },
     "execution_count": 10,
     "metadata": {},
     "output_type": "execute_result"
    }
   ],
   "source": [
    "X.head()"
   ]
  },
  {
   "cell_type": "code",
   "execution_count": 22,
   "metadata": {},
   "outputs": [
    {
     "data": {
      "text/plain": [
       "0    0\n",
       "1    0\n",
       "2    0\n",
       "3    0\n",
       "4    0\n",
       "Name: gender, dtype: int64"
      ]
     },
     "execution_count": 22,
     "metadata": {},
     "output_type": "execute_result"
    }
   ],
   "source": [
    "y.head()"
   ]
  },
  {
   "cell_type": "markdown",
   "metadata": {},
   "source": [
    "# MLP (Multi-Layer Perceptron)"
   ]
  },
  {
   "cell_type": "code",
   "execution_count": 12,
   "metadata": {},
   "outputs": [],
   "source": [
    "X_train, X_test, y_train, y_test = train_test_split(X,y,test_size=0.5,random_state=None)"
   ]
  },
  {
   "cell_type": "code",
   "execution_count": 13,
   "metadata": {},
   "outputs": [
    {
     "name": "stderr",
     "output_type": "stream",
     "text": [
      "c:\\users\\ben\\appdata\\local\\programs\\python\\python37-32\\lib\\site-packages\\sklearn\\neural_network\\multilayer_perceptron.py:562: ConvergenceWarning: Stochastic Optimizer: Maximum iterations (200) reached and the optimization hasn't converged yet.\n",
      "  % self.max_iter, ConvergenceWarning)\n"
     ]
    },
    {
     "data": {
      "text/plain": [
       "MLPRegressor(activation='relu', alpha=0.0001, batch_size='auto', beta_1=0.9,\n",
       "       beta_2=0.999, early_stopping=False, epsilon=1e-08,\n",
       "       hidden_layer_sizes=250, learning_rate='constant',\n",
       "       learning_rate_init=0.001, max_iter=200, momentum=0.9,\n",
       "       n_iter_no_change=10, nesterovs_momentum=True, power_t=0.5,\n",
       "       random_state=None, shuffle=True, solver='adam', tol=0.0001,\n",
       "       validation_fraction=0.1, verbose=False, warm_start=False)"
      ]
     },
     "execution_count": 13,
     "metadata": {},
     "output_type": "execute_result"
    }
   ],
   "source": [
    "mlp = MLPRegressor(hidden_layer_sizes=(250))\n",
    "mlp.fit(X_train, y_train)"
   ]
  },
  {
   "cell_type": "code",
   "execution_count": 24,
   "metadata": {},
   "outputs": [
    {
     "data": {
      "text/plain": [
       "-0.3035685622600044"
      ]
     },
     "execution_count": 24,
     "metadata": {},
     "output_type": "execute_result"
    }
   ],
   "source": [
    "mlp.score(X_test, y_test)"
   ]
  },
  {
   "cell_type": "markdown",
   "metadata": {},
   "source": [
    "# Random Forest Classifier"
   ]
  },
  {
   "cell_type": "code",
   "execution_count": 26,
   "metadata": {},
   "outputs": [
    {
     "name": "stderr",
     "output_type": "stream",
     "text": [
      "c:\\users\\ben\\appdata\\local\\programs\\python\\python37-32\\lib\\site-packages\\sklearn\\ensemble\\forest.py:248: FutureWarning: The default value of n_estimators will change from 10 in version 0.20 to 100 in 0.22.\n",
      "  \"10 in version 0.20 to 100 in 0.22.\", FutureWarning)\n"
     ]
    },
    {
     "data": {
      "text/plain": [
       "RandomForestRegressor(bootstrap=True, criterion='mse', max_depth=None,\n",
       "           max_features='auto', max_leaf_nodes=None,\n",
       "           min_impurity_decrease=0.0, min_impurity_split=None,\n",
       "           min_samples_leaf=1, min_samples_split=2,\n",
       "           min_weight_fraction_leaf=0.0, n_estimators=10, n_jobs=None,\n",
       "           oob_score=False, random_state=None, verbose=0, warm_start=False)"
      ]
     },
     "execution_count": 26,
     "metadata": {},
     "output_type": "execute_result"
    }
   ],
   "source": [
    "rfr = ensemble.RandomForestRegressor()\n",
    "rfr.fit(X_train, y_train)"
   ]
  },
  {
   "cell_type": "code",
   "execution_count": 27,
   "metadata": {},
   "outputs": [
    {
     "data": {
      "text/plain": [
       "-0.031085818942961918"
      ]
     },
     "execution_count": 27,
     "metadata": {},
     "output_type": "execute_result"
    }
   ],
   "source": [
    "rfr.score(X_test, y_test)"
   ]
  },
  {
   "cell_type": "code",
   "execution_count": 28,
   "metadata": {},
   "outputs": [
    {
     "name": "stdout",
     "output_type": "stream",
     "text": [
      "[0.377625   0.30288462 0.14772727 0.16346154 0.40257353]\n"
     ]
    }
   ],
   "source": [
    "print(cross_val_score(rfr, X_train, y_train, cv=5))"
   ]
  },
  {
   "cell_type": "markdown",
   "metadata": {},
   "source": [
    "# Feature Importances"
   ]
  },
  {
   "cell_type": "code",
   "execution_count": 29,
   "metadata": {},
   "outputs": [
    {
     "name": "stdout",
     "output_type": "stream",
     "text": [
      "Feature rankings:\n",
      "1. feature 17 (0.297450)\n",
      "2. feature 10 (0.098002)\n",
      "3. feature 23 (0.091140)\n",
      "4. feature 21 (0.078417)\n",
      "5. feature 4 (0.059873)\n",
      "6. feature 6 (0.052452)\n",
      "7. feature 19 (0.043339)\n",
      "8. feature 20 (0.040915)\n",
      "9. feature 18 (0.040807)\n",
      "10. feature 14 (0.035645)\n",
      "11. feature 22 (0.031651)\n",
      "12. feature 9 (0.031220)\n",
      "13. feature 5 (0.026374)\n",
      "14. feature 0 (0.015662)\n",
      "15. feature 1 (0.013927)\n",
      "16. feature 15 (0.010376)\n",
      "17\n"
     ]
    }
   ],
   "source": [
    "importances = rfr.feature_importances_ \n",
    "stdev = np.std([tree.feature_importances_ for tree in rfr.estimators_],\n",
    "             axis=0)\n",
    "indices = np.argsort(importances)[::-1]\n",
    "\n",
    "print(\"Feature rankings:\")\n",
    "g = 1\n",
    "for f in range(X.shape[1]):\n",
    "    if importances[indices[f]] > 0.01:\n",
    "        print(\"%d. feature %d (%f)\" % (f + 1, indices[f], importances[indices[f]]))\n",
    "        g += 1\n",
    "    else:\n",
    "        continue\n",
    "print(g)"
   ]
  },
  {
   "cell_type": "code",
   "execution_count": 30,
   "metadata": {},
   "outputs": [],
   "source": [
    "feat = {}\n",
    "for feature, importance in zip(X.columns, rfr.feature_importances_):\n",
    "    feat[feature] = importance\n",
    "importances = pd.DataFrame.from_dict(feat, orient='index').rename(columns={0: 'Feature Importances'})\n",
    "importances = importances.sort_values(['Feature Importances'], ascending=[0])"
   ]
  },
  {
   "cell_type": "code",
   "execution_count": 31,
   "metadata": {},
   "outputs": [
    {
     "data": {
      "text/html": [
       "<div>\n",
       "<style scoped>\n",
       "    .dataframe tbody tr th:only-of-type {\n",
       "        vertical-align: middle;\n",
       "    }\n",
       "\n",
       "    .dataframe tbody tr th {\n",
       "        vertical-align: top;\n",
       "    }\n",
       "\n",
       "    .dataframe thead th {\n",
       "        text-align: right;\n",
       "    }\n",
       "</style>\n",
       "<table border=\"1\" class=\"dataframe\">\n",
       "  <thead>\n",
       "    <tr style=\"text-align: right;\">\n",
       "      <th></th>\n",
       "      <th>Feature Importances</th>\n",
       "    </tr>\n",
       "  </thead>\n",
       "  <tbody>\n",
       "    <tr>\n",
       "      <th>drinks</th>\n",
       "      <td>0.297450</td>\n",
       "    </tr>\n",
       "    <tr>\n",
       "      <th>stressscore</th>\n",
       "      <td>0.098002</td>\n",
       "    </tr>\n",
       "    <tr>\n",
       "      <th>weekendsleep</th>\n",
       "      <td>0.091140</td>\n",
       "    </tr>\n",
       "    <tr>\n",
       "      <th>weekendbed</th>\n",
       "      <td>0.078417</td>\n",
       "    </tr>\n",
       "    <tr>\n",
       "      <th>gpa</th>\n",
       "      <td>0.059873</td>\n",
       "    </tr>\n",
       "    <tr>\n",
       "      <th>cognitionzscore</th>\n",
       "      <td>0.052452</td>\n",
       "    </tr>\n",
       "    <tr>\n",
       "      <th>weekdayrise</th>\n",
       "      <td>0.043339</td>\n",
       "    </tr>\n",
       "    <tr>\n",
       "      <th>weekdaysleep</th>\n",
       "      <td>0.040915</td>\n",
       "    </tr>\n",
       "  </tbody>\n",
       "</table>\n",
       "</div>"
      ],
      "text/plain": [
       "                 Feature Importances\n",
       "drinks                      0.297450\n",
       "stressscore                 0.098002\n",
       "weekendsleep                0.091140\n",
       "weekendbed                  0.078417\n",
       "gpa                         0.059873\n",
       "cognitionzscore             0.052452\n",
       "weekdayrise                 0.043339\n",
       "weekdaysleep                0.040915"
      ]
     },
     "execution_count": 31,
     "metadata": {},
     "output_type": "execute_result"
    }
   ],
   "source": [
    "imp = importances[:8]\n",
    "imp"
   ]
  },
  {
   "cell_type": "code",
   "execution_count": 32,
   "metadata": {},
   "outputs": [
    {
     "data": {
      "image/png": "[encoded data removed]",
      "text/plain": [
       "<Figure size 1440x720 with 1 Axes>"
      ]
     },
     "metadata": {
      "needs_background": "light"
     },
     "output_type": "display_data"
    }
   ],
   "source": [
    "imp.sort_values(by='Feature Importances', ascending= False).plot(kind='bar', rot=90,figsize=(20, 10));"
   ]
  }
 ],
 "metadata": {
  "kernelspec": {
   "display_name": "Python 3",
   "language": "python",
   "name": "python3"
  },
  "language_info": {
   "codemirror_mode": {
    "name": "ipython",
    "version": 3
   },
   "file_extension": ".py",
   "mimetype": "text/x-python",
   "name": "python",
   "nbconvert_exporter": "python",
   "pygments_lexer": "ipython3",
   "version": "3.7.0"
  }
 },
 "nbformat": 4,
 "nbformat_minor": 2
}
