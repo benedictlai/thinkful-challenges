{
  "nbformat": 4,
  "nbformat_minor": 0,
  "metadata": {
    "colab": {
      "name": "Unsupervised Capstone Unit 4 Draft - 2.ipynb",
      "version": "0.3.2",
      "provenance": [],
      "collapsed_sections": [],
      "include_colab_link": true
    },
    "kernelspec": {
      "name": "python3",
      "display_name": "Python 3"
    }
  },
  "cells": [
    {
      "cell_type": "markdown",
      "metadata": {
        "id": "view-in-github",
        "colab_type": "text"
      },
      "source": [
        "<a href=\"https://colab.research.google.com/github/benedictlai/thinkful-challenges/blob/master/Unsupervised_Capstone_Unit_4_Draft_2.ipynb\" target=\"_parent\"><img src=\"https://colab.research.google.com/assets/colab-badge.svg\" alt=\"Open In Colab\"/></a>"
      ]
    },
    {
      "cell_type": "code",
      "metadata": {
        "id": "1vSfTEx_rDRd",
        "colab_type": "code",
        "outputId": "d7b883f8-cda7-43ad-c3b9-b420e45acb2e",
        "colab": {
          "base_uri": "https://localhost:8080/",
          "height": 52
        }
      },
      "source": [
        "import pandas as pd\n",
        "import numpy as np\n",
        "import scipy\n",
        "import matplotlib.pyplot as plt\n",
        "import seaborn as sns\n",
        "import nltk\n",
        "nltk.download('gutenberg')\n",
        "import spacy\n",
        "import re\n",
        "%matplotlib inline\n",
        "\n",
        "\n",
        "from collections import Counter\n",
        "from nltk.corpus import gutenberg, stopwords\n",
        "\n",
        "from sklearn import ensemble\n",
        "from sklearn import metrics\n",
        "\n",
        "from sklearn.cluster import KMeans, MeanShift, estimate_bandwidth, AgglomerativeClustering\n",
        "from sklearn.decomposition import PCA, TruncatedSVD\n",
        "from sklearn.feature_extraction.text import TfidfVectorizer\n",
        "from sklearn.linear_model import LogisticRegression\n",
        "from sklearn.model_selection import train_test_split, cross_val_score\n",
        "from sklearn.neighbors import KNeighborsClassifier\n",
        "from sklearn.pipeline import make_pipeline\n",
        "from sklearn.preprocessing import Normalizer, normalize\n",
        "from sklearn.svm import SVC\n"
      ],
      "execution_count": 0,
      "outputs": [
        {
          "output_type": "stream",
          "text": [
            "[nltk_data] Downloading package gutenberg to /root/nltk_data...\n",
            "[nltk_data]   Unzipping corpora/gutenberg.zip.\n"
          ],
          "name": "stdout"
        }
      ]
    },
    {
      "cell_type": "code",
      "metadata": {
        "id": "BF1gpbS92HDQ",
        "colab_type": "code",
        "outputId": "adc7a599-6dcc-461a-f145-f0a80a55d138",
        "colab": {
          "base_uri": "https://localhost:8080/",
          "height": 54
        }
      },
      "source": [
        ""
      ],
      "execution_count": 0,
      "outputs": [
        {
          "output_type": "stream",
          "text": [
            "['austen-emma.txt', 'austen-persuasion.txt', 'austen-sense.txt', 'bible-kjv.txt', 'blake-poems.txt', 'bryant-stories.txt', 'burgess-busterbrown.txt', 'carroll-alice.txt', 'chesterton-ball.txt', 'chesterton-brown.txt', 'chesterton-thursday.txt', 'edgeworth-parents.txt', 'melville-moby_dick.txt', 'milton-paradise.txt', 'shakespeare-caesar.txt', 'shakespeare-hamlet.txt', 'shakespeare-macbeth.txt', 'whitman-leaves.txt']\n"
          ],
          "name": "stdout"
        }
      ]
    },
    {
      "cell_type": "code",
      "metadata": {
        "id": "lyWbFMDPu8NN",
        "colab_type": "code",
        "colab": {}
      },
      "source": [
        "austen = gutenberg.raw('austen-persuasion.txt')\n",
        "blake = gutenberg.raw('blake-poems.txt')\n",
        "bryant = gutenberg.raw('bryant-stories.txt')\n",
        "burgess = gutenberg.raw('burgess-busterbrown.txt')\n",
        "chesterton = gutenberg.raw('chesterton-ball.txt')\n",
        "edgeworth = gutenberg.raw('edgeworth-parents.txt')\n",
        "melville = gutenberg.raw('melville-moby_dick.txt')\n",
        "milton = gutenberg.raw('milton-paradise.txt')\n",
        "shakes = gutenberg.raw('shakespeare-macbeth.txt')\n",
        "whitman = gutenberg.raw('whitman-leaves.txt')"
      ],
      "execution_count": 0,
      "outputs": []
    },
    {
      "cell_type": "code",
      "metadata": {
        "id": "UyxJvIWxvbFd",
        "colab_type": "code",
        "colab": {}
      },
      "source": [
        "def text_cleaner(text):\n",
        "    text = re.sub(r'--',' ',text)\n",
        "    text = re.sub(\"[\\[].*?[\\]]\", \"\", text)\n",
        "    text = re.sub(r'Chapter \\d+','',text)\n",
        "    text = re.sub(r'CHAPTER \\d+', '', text)\n",
        "    text = re.sub(\"\\\\n\\\\n.*?\\\\n\\\\n\", '', text)\n",
        "    text = ' '.join(text.split())\n",
        "    return text"
      ],
      "execution_count": 0,
      "outputs": []
    },
    {
      "cell_type": "code",
      "metadata": {
        "id": "JzvOXH3hv-D4",
        "colab_type": "code",
        "colab": {}
      },
      "source": [
        ""
      ],
      "execution_count": 0,
      "outputs": []
    },
    {
      "cell_type": "code",
      "metadata": {
        "id": "32S2Qz5lvgqF",
        "colab_type": "code",
        "colab": {}
      },
      "source": [
        "austen = text_cleaner(austen)[:100000]\n",
        "blake = text_cleaner(blake)[:100000]\n",
        "bryant = text_cleaner(bryant)[:100000]\n",
        "burgess = text_cleaner(burgess)[:100000]\n",
        "chesterton = text_cleaner(chesterton)[:100000]\n",
        "edgeworth = text_cleaner(edgeworth)[:100000]\n",
        "melville = text_cleaner(melville)[:100000]\n",
        "milton = text_cleaner(milton)[:100000]\n",
        "shakes = text_cleaner(shakes)[:100000]\n",
        "whitman = text_cleaner(whitman)[:100000]"
      ],
      "execution_count": 0,
      "outputs": []
    },
    {
      "cell_type": "code",
      "metadata": {
        "id": "Q19G4vU9v_Pj",
        "colab_type": "code",
        "outputId": "08a1db11-4ad2-47d6-ea61-248714f35d85",
        "colab": {
          "base_uri": "https://localhost:8080/",
          "height": 194
        }
      },
      "source": [
        "novels = [austen, blake, bryant, burgess, chesterton, edgeworth, melville, milton, shakes, whitman]\n",
        "\n",
        "for i in novels:\n",
        "    print(len(i))"
      ],
      "execution_count": 0,
      "outputs": [
        {
          "output_type": "stream",
          "text": [
            "100000\n",
            "35855\n",
            "100000\n",
            "82085\n",
            "100000\n",
            "98273\n",
            "100000\n",
            "100000\n",
            "92834\n",
            "100000\n"
          ],
          "name": "stdout"
        }
      ]
    },
    {
      "cell_type": "code",
      "metadata": {
        "id": "g9QvAKhkwkR7",
        "colab_type": "code",
        "colab": {}
      },
      "source": [
        "nlp = spacy.load('en')\n",
        "\n",
        "\n",
        "austen_doc = nlp(austen)\n",
        "blake_doc = nlp(blake)\n",
        "bryant_doc = nlp(bryant)\n",
        "burgess_doc = nlp(burgess)\n",
        "chesterton_doc = nlp(chesterton)\n",
        "edgeworth_doc = nlp(edgeworth)\n",
        "melville_doc = nlp(melville)\n",
        "milton_doc = nlp(milton)\n",
        "shakes_doc = nlp(shakes)\n",
        "whitman_doc = nlp(whitman)"
      ],
      "execution_count": 0,
      "outputs": []
    }
  ]
}