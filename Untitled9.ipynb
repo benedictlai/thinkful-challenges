{
  "nbformat": 4,
  "nbformat_minor": 0,
  "metadata": {
    "colab": {
      "name": "Untitled9.ipynb",
      "version": "0.3.2",
      "provenance": [],
      "collapsed_sections": [],
      "include_colab_link": true
    },
    "kernelspec": {
      "name": "python3",
      "display_name": "Python 3"
    }
  },
  "cells": [
    {
      "cell_type": "markdown",
      "metadata": {
        "id": "view-in-github",
        "colab_type": "text"
      },
      "source": [
        "<a href=\"https://colab.research.google.com/github/benedictlai/thinkful-challenges/blob/master/Untitled9.ipynb\" target=\"_parent\"><img src=\"https://colab.research.google.com/assets/colab-badge.svg\" alt=\"Open In Colab\"/></a>"
      ]
    },
    {
      "cell_type": "code",
      "metadata": {
        "id": "Xkr2KW2r22PC",
        "colab_type": "code",
        "colab": {}
      },
      "source": [
        "import pandas as pd\n",
        "import re"
      ],
      "execution_count": 0,
      "outputs": []
    },
    {
      "cell_type": "code",
      "metadata": {
        "id": "rvJ_aU3E25ps",
        "colab_type": "code",
        "colab": {
          "base_uri": "https://localhost:8080/",
          "height": 478
        },
        "outputId": "18b0763a-6d5e-47cf-93c8-d8b2daf186e5"
      },
      "source": [
        "pip install scrapy"
      ],
      "execution_count": 2,
      "outputs": [
        {
          "output_type": "stream",
          "text": [
            "Requirement already satisfied: scrapy in /usr/local/lib/python3.6/dist-packages (1.7.3)\n",
            "Requirement already satisfied: lxml; python_version != \"3.4\" in /usr/local/lib/python3.6/dist-packages (from scrapy) (4.2.6)\n",
            "Requirement already satisfied: Twisted>=13.1.0; python_version != \"3.4\" in /usr/local/lib/python3.6/dist-packages (from scrapy) (19.7.0)\n",
            "Requirement already satisfied: parsel>=1.5 in /usr/local/lib/python3.6/dist-packages (from scrapy) (1.5.2)\n",
            "Requirement already satisfied: queuelib in /usr/local/lib/python3.6/dist-packages (from scrapy) (1.5.0)\n",
            "Requirement already satisfied: service-identity in /usr/local/lib/python3.6/dist-packages (from scrapy) (18.1.0)\n",
            "Requirement already satisfied: PyDispatcher>=2.0.5 in /usr/local/lib/python3.6/dist-packages (from scrapy) (2.0.5)\n",
            "Requirement already satisfied: six>=1.5.2 in /usr/local/lib/python3.6/dist-packages (from scrapy) (1.12.0)\n",
            "Requirement already satisfied: w3lib>=1.17.0 in /usr/local/lib/python3.6/dist-packages (from scrapy) (1.21.0)\n",
            "Requirement already satisfied: cssselect>=0.9 in /usr/local/lib/python3.6/dist-packages (from scrapy) (1.1.0)\n",
            "Requirement already satisfied: pyOpenSSL in /usr/local/lib/python3.6/dist-packages (from scrapy) (19.0.0)\n",
            "Requirement already satisfied: zope.interface>=4.4.2 in /usr/local/lib/python3.6/dist-packages (from Twisted>=13.1.0; python_version != \"3.4\"->scrapy) (4.6.0)\n",
            "Requirement already satisfied: Automat>=0.3.0 in /usr/local/lib/python3.6/dist-packages (from Twisted>=13.1.0; python_version != \"3.4\"->scrapy) (0.7.0)\n",
            "Requirement already satisfied: attrs>=17.4.0 in /usr/local/lib/python3.6/dist-packages (from Twisted>=13.1.0; python_version != \"3.4\"->scrapy) (19.1.0)\n",
            "Requirement already satisfied: PyHamcrest>=1.9.0 in /usr/local/lib/python3.6/dist-packages (from Twisted>=13.1.0; python_version != \"3.4\"->scrapy) (1.9.0)\n",
            "Requirement already satisfied: incremental>=16.10.1 in /usr/local/lib/python3.6/dist-packages (from Twisted>=13.1.0; python_version != \"3.4\"->scrapy) (17.5.0)\n",
            "Requirement already satisfied: constantly>=15.1 in /usr/local/lib/python3.6/dist-packages (from Twisted>=13.1.0; python_version != \"3.4\"->scrapy) (15.1.0)\n",
            "Requirement already satisfied: hyperlink>=17.1.1 in /usr/local/lib/python3.6/dist-packages (from Twisted>=13.1.0; python_version != \"3.4\"->scrapy) (19.0.0)\n",
            "Requirement already satisfied: pyasn1 in /usr/local/lib/python3.6/dist-packages (from service-identity->scrapy) (0.4.6)\n",
            "Requirement already satisfied: pyasn1-modules in /usr/local/lib/python3.6/dist-packages (from service-identity->scrapy) (0.2.6)\n",
            "Requirement already satisfied: cryptography in /usr/local/lib/python3.6/dist-packages (from service-identity->scrapy) (2.7)\n",
            "Requirement already satisfied: setuptools in /usr/local/lib/python3.6/dist-packages (from zope.interface>=4.4.2->Twisted>=13.1.0; python_version != \"3.4\"->scrapy) (41.1.0)\n",
            "Requirement already satisfied: idna>=2.5 in /usr/local/lib/python3.6/dist-packages (from hyperlink>=17.1.1->Twisted>=13.1.0; python_version != \"3.4\"->scrapy) (2.8)\n",
            "Requirement already satisfied: asn1crypto>=0.21.0 in /usr/local/lib/python3.6/dist-packages (from cryptography->service-identity->scrapy) (0.24.0)\n",
            "Requirement already satisfied: cffi!=1.11.3,>=1.8 in /usr/local/lib/python3.6/dist-packages (from cryptography->service-identity->scrapy) (1.12.3)\n",
            "Requirement already satisfied: pycparser in /usr/local/lib/python3.6/dist-packages (from cffi!=1.11.3,>=1.8->cryptography->service-identity->scrapy) (2.19)\n"
          ],
          "name": "stdout"
        }
      ]
    },
    {
      "cell_type": "code",
      "metadata": {
        "id": "wg_JRcg12-dU",
        "colab_type": "code",
        "colab": {
          "base_uri": "https://localhost:8080/",
          "height": 34
        },
        "outputId": "bdfcf565-45cd-42e4-bab0-2ef85d29d663"
      },
      "source": [
        "import scrapy\n",
        "from scrapy.crawler import CrawlerProcess\n",
        "\n",
        "\n",
        "class CLSpider(scrapy.Spider):\n",
        "    # Naming the spider is important if you are running more than one spider of\n",
        "    # this class simultaneously.\n",
        "    name = \"CL\"\n",
        "    \n",
        "    # URL(s) to start with.\n",
        "    start_urls = [\n",
        "        'https://atlanta.craigslist.org/search/ela?query=dvd+player',\n",
        "    ]\n",
        "\n",
        "    # Use XPath to parse the response we get.\n",
        "    def parse(self, response):\n",
        "        \n",
        "        # Iterate over every <article> element on the page.\n",
        "        for posting in response.xpath('//p'):\n",
        "            \n",
        "            # Yield a dictionary with the values we want.\n",
        "            yield {\n",
        "                # This is the code to choose what we want to extract\n",
        "                # You can modify this with other Xpath expressions to extract other information from the site\n",
        "                'title': posting.xpath('a[@class=\"result-title hdrlnk\"]/text()').extract_first(),\n",
        "                'date': posting.xpath('time[@class=\"result-date\"]/text()').extract_first(),\n",
        "                'price': posting.xpath('span/span[@class=\"result-price\"]/text()').extract_first()\n",
        "            }\n",
        "        next_page = response.xpath('//div/div/span[@class=\"buttons\"]/a[3][@href]').extract_first()\n",
        "        \n",
        "        pagenum = int(re.findall(r'\\d+',next_page)[0])\n",
        "        \n",
        "        if next_page is not None and pagenum < 10:\n",
        "            next_page = response.urljoin(next_page)\n",
        "            yield scrapy.Request(next_page, callback=self.parse)\n",
        "\n",
        "# Tell the script how to run the crawler by passing in settings.\n",
        "process = CrawlerProcess({\n",
        "    'FEED_FORMAT': 'json',         # Store data in JSON format.\n",
        "    'FEED_URI': 'CLvhs.json',  # Name our storage file.\n",
        "    'ROBOTSTXT_OBEY': True,\n",
        "    'USER_AGENT': 'ThinkfulDataScienceBootcamp_Ben (thinkful.com)',\n",
        "    'AUTOTHROTTLE_ENABLED': True,\n",
        "    'HTTPCACHE_ENABLED': True,\n",
        "    'LOG_ENABLED': False           # Turn off logging for now.\n",
        "})\n",
        "\n",
        "# Start the crawler with our spider.\n",
        "process.crawl(CLSpider)\n",
        "process.start()\n",
        "print('Success!')"
      ],
      "execution_count": 3,
      "outputs": [
        {
          "output_type": "stream",
          "text": [
            "Success!\n"
          ],
          "name": "stdout"
        }
      ]
    },
    {
      "cell_type": "code",
      "metadata": {
        "id": "ogo0RndH3Dwh",
        "colab_type": "code",
        "colab": {}
      },
      "source": [
        ""
      ],
      "execution_count": 0,
      "outputs": []
    },
    {
      "cell_type": "code",
      "metadata": {
        "id": "82R50mqL3D78",
        "colab_type": "code",
        "colab": {
          "base_uri": "https://localhost:8080/",
          "height": 215
        },
        "outputId": "43e00a45-14b4-4864-9c71-2ded72d5753f"
      },
      "source": [
        "vcr = pd.read_json('CLvhs.json')\n",
        "print(vcr.shape)\n",
        "vcr.head()"
      ],
      "execution_count": 4,
      "outputs": [
        {
          "output_type": "stream",
          "text": [
            "(104, 3)\n"
          ],
          "name": "stdout"
        },
        {
          "output_type": "execute_result",
          "data": {
            "text/html": [
              "<div>\n",
              "<style scoped>\n",
              "    .dataframe tbody tr th:only-of-type {\n",
              "        vertical-align: middle;\n",
              "    }\n",
              "\n",
              "    .dataframe tbody tr th {\n",
              "        vertical-align: top;\n",
              "    }\n",
              "\n",
              "    .dataframe thead th {\n",
              "        text-align: right;\n",
              "    }\n",
              "</style>\n",
              "<table border=\"1\" class=\"dataframe\">\n",
              "  <thead>\n",
              "    <tr style=\"text-align: right;\">\n",
              "      <th></th>\n",
              "      <th>date</th>\n",
              "      <th>price</th>\n",
              "      <th>title</th>\n",
              "    </tr>\n",
              "  </thead>\n",
              "  <tbody>\n",
              "    <tr>\n",
              "      <th>0</th>\n",
              "      <td>Aug 22</td>\n",
              "      <td>$350</td>\n",
              "      <td>ELECTRONICS : GPX 50'' LED TV WITH BUILT-IN DV...</td>\n",
              "    </tr>\n",
              "    <tr>\n",
              "      <th>1</th>\n",
              "      <td>Aug 22</td>\n",
              "      <td>$50</td>\n",
              "      <td>Samsung DVD-V9700 Tunerless 1080i Player and R...</td>\n",
              "    </tr>\n",
              "    <tr>\n",
              "      <th>2</th>\n",
              "      <td>Aug 21</td>\n",
              "      <td>$10</td>\n",
              "      <td>Targus iPad/tablet/dvd player case</td>\n",
              "    </tr>\n",
              "    <tr>\n",
              "      <th>3</th>\n",
              "      <td>Aug 21</td>\n",
              "      <td>$8</td>\n",
              "      <td>Sony Mini DVD Player</td>\n",
              "    </tr>\n",
              "    <tr>\n",
              "      <th>4</th>\n",
              "      <td>Aug 21</td>\n",
              "      <td>$40</td>\n",
              "      <td>Denon DVD player model 910</td>\n",
              "    </tr>\n",
              "  </tbody>\n",
              "</table>\n",
              "</div>"
            ],
            "text/plain": [
              "     date price                                              title\n",
              "0  Aug 22  $350  ELECTRONICS : GPX 50'' LED TV WITH BUILT-IN DV...\n",
              "1  Aug 22   $50  Samsung DVD-V9700 Tunerless 1080i Player and R...\n",
              "2  Aug 21   $10                 Targus iPad/tablet/dvd player case\n",
              "3  Aug 21    $8                               Sony Mini DVD Player\n",
              "4  Aug 21   $40                         Denon DVD player model 910"
            ]
          },
          "metadata": {
            "tags": []
          },
          "execution_count": 4
        }
      ]
    },
    {
      "cell_type": "code",
      "metadata": {
        "id": "2lzLKpnY3ICt",
        "colab_type": "code",
        "colab": {
          "base_uri": "https://localhost:8080/",
          "height": 197
        },
        "outputId": "0d3e1a96-665a-4b10-b658-bd46285f4a13"
      },
      "source": [
        "vcr.price = vcr.price.map(lambda x: None if x == None else int(re.sub('\\$', '', str(x))))\n",
        "vcr.head()"
      ],
      "execution_count": 5,
      "outputs": [
        {
          "output_type": "execute_result",
          "data": {
            "text/html": [
              "<div>\n",
              "<style scoped>\n",
              "    .dataframe tbody tr th:only-of-type {\n",
              "        vertical-align: middle;\n",
              "    }\n",
              "\n",
              "    .dataframe tbody tr th {\n",
              "        vertical-align: top;\n",
              "    }\n",
              "\n",
              "    .dataframe thead th {\n",
              "        text-align: right;\n",
              "    }\n",
              "</style>\n",
              "<table border=\"1\" class=\"dataframe\">\n",
              "  <thead>\n",
              "    <tr style=\"text-align: right;\">\n",
              "      <th></th>\n",
              "      <th>date</th>\n",
              "      <th>price</th>\n",
              "      <th>title</th>\n",
              "    </tr>\n",
              "  </thead>\n",
              "  <tbody>\n",
              "    <tr>\n",
              "      <th>0</th>\n",
              "      <td>Aug 22</td>\n",
              "      <td>350</td>\n",
              "      <td>ELECTRONICS : GPX 50'' LED TV WITH BUILT-IN DV...</td>\n",
              "    </tr>\n",
              "    <tr>\n",
              "      <th>1</th>\n",
              "      <td>Aug 22</td>\n",
              "      <td>50</td>\n",
              "      <td>Samsung DVD-V9700 Tunerless 1080i Player and R...</td>\n",
              "    </tr>\n",
              "    <tr>\n",
              "      <th>2</th>\n",
              "      <td>Aug 21</td>\n",
              "      <td>10</td>\n",
              "      <td>Targus iPad/tablet/dvd player case</td>\n",
              "    </tr>\n",
              "    <tr>\n",
              "      <th>3</th>\n",
              "      <td>Aug 21</td>\n",
              "      <td>8</td>\n",
              "      <td>Sony Mini DVD Player</td>\n",
              "    </tr>\n",
              "    <tr>\n",
              "      <th>4</th>\n",
              "      <td>Aug 21</td>\n",
              "      <td>40</td>\n",
              "      <td>Denon DVD player model 910</td>\n",
              "    </tr>\n",
              "  </tbody>\n",
              "</table>\n",
              "</div>"
            ],
            "text/plain": [
              "     date  price                                              title\n",
              "0  Aug 22    350  ELECTRONICS : GPX 50'' LED TV WITH BUILT-IN DV...\n",
              "1  Aug 22     50  Samsung DVD-V9700 Tunerless 1080i Player and R...\n",
              "2  Aug 21     10                 Targus iPad/tablet/dvd player case\n",
              "3  Aug 21      8                               Sony Mini DVD Player\n",
              "4  Aug 21     40                         Denon DVD player model 910"
            ]
          },
          "metadata": {
            "tags": []
          },
          "execution_count": 5
        }
      ]
    },
    {
      "cell_type": "code",
      "metadata": {
        "id": "cB7J6gOm3IMv",
        "colab_type": "code",
        "colab": {}
      },
      "source": [
        "vcr = vcr.dropna()"
      ],
      "execution_count": 0,
      "outputs": []
    },
    {
      "cell_type": "code",
      "metadata": {
        "id": "ljZjFZuO3IV7",
        "colab_type": "code",
        "colab": {
          "base_uri": "https://localhost:8080/",
          "height": 34
        },
        "outputId": "bf619014-1ade-46f8-be68-191e6b1561f0"
      },
      "source": [
        "meanprice = vcr.price.mean()\n",
        "\n",
        "print(meanprice)"
      ],
      "execution_count": 8,
      "outputs": [
        {
          "output_type": "stream",
          "text": [
            "132.625\n"
          ],
          "name": "stdout"
        }
      ]
    },
    {
      "cell_type": "code",
      "metadata": {
        "id": "TzBUOZCU3IfP",
        "colab_type": "code",
        "colab": {
          "base_uri": "https://localhost:8080/",
          "height": 294
        },
        "outputId": "a6eff930-0d3e-4c53-d493-28dfc866ba08"
      },
      "source": [
        "import matplotlib.pyplot as plt\n",
        "import seaborn as sns\n",
        "sns.set_style('darkgrid')\n",
        "%matplotlib inline\n",
        "\n",
        "plt.hist(vcr.price, bins=30)\n",
        "plt.xlabel('DVD Price Average')\n",
        "plt.ylabel('Count')\n",
        "plt.title('Price of DVD Players on Atlanta Craigslist')\n",
        "plt.show()"
      ],
      "execution_count": 12,
      "outputs": [
        {
          "output_type": "display_data",
          "data": {
            "image/png": "[encoded data removed]",
            "text/plain": [
              "<Figure size 432x288 with 1 Axes>"
            ]
          },
          "metadata": {
            "tags": []
          }
        }
      ]
    },
    {
      "cell_type": "code",
      "metadata": {
        "id": "-WaNt7z93IoT",
        "colab_type": "code",
        "colab": {}
      },
      "source": [
        ""
      ],
      "execution_count": 0,
      "outputs": []
    },
    {
      "cell_type": "code",
      "metadata": {
        "id": "WMcATnYc3IxW",
        "colab_type": "code",
        "colab": {}
      },
      "source": [
        ""
      ],
      "execution_count": 0,
      "outputs": []
    },
    {
      "cell_type": "code",
      "metadata": {
        "id": "2mGZ-WaC3I7D",
        "colab_type": "code",
        "colab": {}
      },
      "source": [
        ""
      ],
      "execution_count": 0,
      "outputs": []
    },
    {
      "cell_type": "code",
      "metadata": {
        "id": "aauRluJW3JSz",
        "colab_type": "code",
        "colab": {}
      },
      "source": [
        ""
      ],
      "execution_count": 0,
      "outputs": []
    },
    {
      "cell_type": "code",
      "metadata": {
        "id": "e9puCgPU3JcP",
        "colab_type": "code",
        "colab": {}
      },
      "source": [
        ""
      ],
      "execution_count": 0,
      "outputs": []
    },
    {
      "cell_type": "code",
      "metadata": {
        "id": "vGgCSZt13Jmj",
        "colab_type": "code",
        "colab": {}
      },
      "source": [
        ""
      ],
      "execution_count": 0,
      "outputs": []
    }
  ]
}