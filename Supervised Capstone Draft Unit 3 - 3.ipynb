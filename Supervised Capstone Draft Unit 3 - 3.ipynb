{
 "cells": [
  {
   "cell_type": "code",
   "execution_count": 1,
   "metadata": {},
   "outputs": [],
   "source": [
    "import numpy as np\n",
    "import pandas as pd\n",
    "import seaborn as sns\n",
    "import math\n",
    "import sklearn\n",
    "import scipy\n",
    "import matplotlib.pyplot as plt\n",
    "import warnings\n",
    "from sklearn import ensemble\n",
    "from sklearn.ensemble import RandomForestClassifier\n",
    "from sklearn.linear_model import LogisticRegression\n",
    "from sklearn.metrics import accuracy_score, classification_report, confusion_matrix, f1_score, precision_score, recall_score \n",
    "from sklearn.model_selection import GridSearchCV, cross_val_score, train_test_split\n",
    "from sklearn.preprocessing import LabelEncoder\n",
    "from sklearn.svm import SVC\n",
    "%matplotlib inline\n",
    "warnings.filterwarnings(\"ignore\")"
   ]
  },
  {
   "cell_type": "code",
   "execution_count": 2,
   "metadata": {},
   "outputs": [],
   "source": [
    "df = pd.read_csv((\"thanksgiving.csv\"))\n"
   ]
  },
  {
   "cell_type": "markdown",
   "metadata": {},
   "source": [
    "#Q1. Do you celebrate Thanksgiving? - Categorical\n",
    "\n",
    "Classes: Yes or No\n",
    "\n",
    "#Q2. What is typically the main dish at your Thanksgiving dinner? - Categorical\n",
    "\n",
    "Classes: Chicken, Ham/Pork, Roast Beef, Tofurkey, Turducken, Turkey\n",
    "\n",
    "#Q3. How is the main dish typically cooked? - Categorical\n",
    "\n",
    "Classes: Baked, Fried, Roasted\n",
    "\n",
    "#Q4. What kind of stuffing/dressing do you typically have? - Categorical\n",
    "\n",
    "Classes: Bread-based, Rice-based\n",
    "\n",
    "#Q5. What type of cranberry saucedo you typically have? - Categorical\n",
    "\n",
    "Classes: Canned, Homemade\n",
    "\n",
    "#Q6. Do you typically have gravy? - Categorical\n",
    "\n",
    "Classes: Yes or No\n",
    "\n",
    "#Q7. Corn Served - Categorical\n",
    "\n",
    "Classes: Yes or No\n",
    "\n",
    "#Q8. Green Beans Served - Categorical\n",
    "\n",
    "Classes: Yes or No\n",
    "\n",
    "#Q9. Mashed Potatoes Served - Categorical\n",
    "\n",
    "Classes: Yes or No\n",
    "\n",
    "#Q10. Rolls/biscuits served - Categorical\n",
    "\n",
    "Classes: Yes or No\n",
    "\n",
    "#Q11. Yams/sweet potato casserole served - Categorical\n",
    "\n",
    "Classes: Yes or No\n",
    "\n",
    "#Q12. Apple Pie Served - Categorical\n",
    "\n",
    "Classes: Yes or No\n",
    "\n",
    "#Q13. Pecan Pie served - Categorical\n",
    "\n",
    "Classes: Yes or No\n",
    "\n",
    "#Q14. Pumpkin Pie served  - Categorical\n",
    "\n",
    "Classes: Yes or No\n",
    "\n",
    "#Q15. Do you typically pray before or after the Thanksgiving meal? - Categorical\n",
    "\n",
    "Classes: Yes or No\n",
    "\n",
    "#Q16. Distance will travel - Categorical\n",
    "\n",
    "Classes: Home, local town, out of town: short or long drive\n",
    "\n",
    "#Q17. Will you watch any of the following programs on Thanksgiving? - Categorical\n",
    "\n",
    "Only 1 Class: Macy's Parade\n",
    "\n",
    "#Q18. What is the age cutoff at your kids table at Thanksgiving? - Numerical\n",
    "\n",
    "Classes: <10, 11-20, >21\n",
    "\n",
    "#Q19. Have you ever tried to meet up with hometown friends on Thanksgiving night? - Categorical\n",
    "\n",
    "Classes: Yes or No\n",
    "\n",
    "#Q20. Have you ever attended a Friendsgiving? - Categorical\n",
    "\n",
    "Classes: Yes or No\n",
    "\n",
    "#Q21. Will you shop any Black Friday sales on Thanksgiving Day? - Categorical\n",
    "\n",
    "Classes: Yes or No\n",
    "\n",
    "#Q22. Do you work in retail? - Categorical\n",
    "\n",
    "Classes: Yes or No\n",
    "\n",
    "#Q23. How would you describe where you live? - Categorical\n",
    "\n",
    "Classes: Rural, Suburban, Urban\n",
    "\n",
    "#Q24. Age - Numerical\n",
    "\n",
    "Classes: 18-29, 30-44, 45-59, 60+\n",
    "\n",
    "#Q25. What is your gender? - Categorical\n",
    "\n",
    "Classes: Male, Female\n",
    "\n",
    "#Q26. How much total combined money did all members of your HOUSEHOLD earn last year? - Numerical\n",
    "\n",
    "Classes: $0-9,999, $10,000-24,999, $25,000-49,999, $50,000-74,999, $75,000-99,999, $100,000-124,999, $125,000-149,999,\n",
    "\n",
    "$150,000-174,999, $175,000-$199,999, $200,000 or more\n",
    "\n",
    "#Q27. US Region - Categorical\n",
    "\n",
    "Classes: Middle Atlantic, East South Central, Mountain, Pacific, East North Central, West North Central, East North Central, West South Central, South Atlantic\n",
    "\n",
    "I got this data from https://www.statcrunch.com/app/index.php?dataid=2833634\n",
    "\n",
    "There were some minor changes in the data set due to some errors in the columns in this data set.\n",
    "\n",
    "What are some of the challenges with the way the data is formatted in order to feed it into a classifier?\n",
    "\n",
    "Breakdown the age groups and how much money each person makes for the ones that participated in this survey.\n"
   ]
  },
  {
   "cell_type": "markdown",
   "metadata": {},
   "source": [
    "Why I chose this data set?\n",
    "\n",
    "This data set had many categorical variables, which gave me the opportunity to tackle more challenges. Also, I was interested in finding out the type of age group that participates the most when it comes to Black Friday shopping, meeting up with friends, participating in Friendsgiving, etc.\n",
    "\n",
    "What questions do I have and what I hope to find out?\n",
    "\n",
    "Do people with higher income that took this survey are more likely to travel than people with lower income?\n",
    "Do younger people enjoy spending time with friends more on Thanksgiving to reunite with high school classmates?\n",
    "Do people working in retail correlate well to those who do Black Friday shopping and meeting up with friends on Thanksgiving night?\n",
    "\n",
    "What I hope to find out: Is there a trend with younger demo when it comes to income annually?\n",
    "\n",
    "What does success for this project look like?\n",
    "What will make this project successful is to show what age groups are the most popular with each other question and what kind of eating habits does each age group have? Also, what will be successful for this project is to see which gender had participated in the survey the most and what kind of habits they like for each question. \n",
    "\n",
    "A specified research question your model addresses:\n",
    "\n",
    "My model will address whether the survey people's answers to the questions in the data set correlate well with age groups. To do this, I will be testing 4 different types of models and comparing three other models and decide which model projects well to this question.\n"
   ]
  },
  {
   "cell_type": "code",
   "execution_count": 3,
   "metadata": {},
   "outputs": [
    {
     "data": {
      "text/plain": [
       "Do you celebrate Thanksgiving?                                                     object\n",
       "What is typically the main dish at your Thanksgiving dinner?                       object\n",
       "How is the main dish typically cooked?                                             object\n",
       "What kind of stuffing/dressing do you typically have?                              object\n",
       "What type of cranberry saucedo you typically have?                                 object\n",
       "Do you typically have gravy?                                                       object\n",
       "Corn Served                                                                        object\n",
       "Green Beans Served                                                                 object\n",
       "Mashed Potatoes Served                                                             object\n",
       "Rolls/biscuits served                                                              object\n",
       "Yams/sweet potato casserole served                                                 object\n",
       "Apple Pie Served                                                                   object\n",
       "Pecan Pie served                                                                   object\n",
       "Pumpkin Pie served                                                                 object\n",
       "Do you typically pray before or after the Thanksgiving meal?                       object\n",
       "Distance will travel                                                               object\n",
       "Will you watch any of the following programs on Thanksgiving?                      object\n",
       "What is the age cutoff at your kids table at Thanksgiving?                         object\n",
       "Have you ever tried to meet up with hometown friends on Thanksgiving night?        object\n",
       "Have you ever attended a Friendsgiving?                                            object\n",
       "Will you shop any Black Friday sales on Thanksgiving Day?                          object\n",
       "Do you work in retail?                                                             object\n",
       "How would you describe where you live?                                             object\n",
       "Age                                                                                object\n",
       "What is your gender?                                                               object\n",
       "How much total combined money did all members of your HOUSEHOLD earn last year?    object\n",
       "US Region                                                                          object\n",
       "dtype: object"
      ]
     },
     "execution_count": 3,
     "metadata": {},
     "output_type": "execute_result"
    }
   ],
   "source": [
    "df.dtypes"
   ]
  },
  {
   "cell_type": "code",
   "execution_count": 4,
   "metadata": {},
   "outputs": [
    {
     "data": {
      "text/plain": [
       "Will you watch any of the following programs on Thanksgiving?                      473\n",
       "US Region                                                                           44\n",
       "What is your gender?                                                                27\n",
       "Age                                                                                 27\n",
       "How would you describe where you live?                                              27\n",
       "How much total combined money did all members of your HOUSEHOLD earn last year?     27\n",
       "What is the age cutoff at your kids table at Thanksgiving?                          24\n",
       "Distance will travel                                                                24\n",
       "Have you ever tried to meet up with hometown friends on Thanksgiving night?         24\n",
       "Have you ever attended a Friendsgiving?                                             24\n",
       "Will you shop any Black Friday sales on Thanksgiving Day?                           24\n",
       "Do you work in retail?                                                              24\n",
       "Do you typically pray before or after the Thanksgiving meal?                        16\n",
       "Pecan Pie served                                                                     4\n",
       "Rolls/biscuits served                                                                3\n",
       "Green Beans Served                                                                   3\n",
       "Mashed Potatoes Served                                                               3\n",
       "Pumpkin Pie served                                                                   3\n",
       "Yams/sweet potato casserole served                                                   2\n",
       "Apple Pie Served                                                                     2\n",
       "Do you typically have gravy?                                                         1\n",
       "What type of cranberry saucedo you typically have?                                   1\n",
       "What kind of stuffing/dressing do you typically have?                                1\n",
       "How is the main dish typically cooked?                                               1\n",
       "What is typically the main dish at your Thanksgiving dinner?                         1\n",
       "Corn Served                                                                          0\n",
       "Do you celebrate Thanksgiving?                                                       0\n",
       "dtype: int64"
      ]
     },
     "execution_count": 4,
     "metadata": {},
     "output_type": "execute_result"
    }
   ],
   "source": [
    "df.isnull().sum().sort_values(ascending=False)"
   ]
  },
  {
   "cell_type": "code",
   "execution_count": 5,
   "metadata": {},
   "outputs": [],
   "source": [
    "#Renaming Columns to make it less complicated\n",
    "df.rename(index=str, columns={\"Do you celebrate Thanksgiving?\": \"Q1\", \"What is typically the main dish at your Thanksgiving dinner?\": \"Q2\", \n",
    "                             \"How is the main dish typically cooked?\": \"Q3\",\n",
    "                             \"What kind of stuffing/dressing do you typically have?\": \"Q4\", \"What type of cranberry saucedo you typically have?\": \"Q5\",\n",
    "                             \"Do you typically have gravy?\": \"Q6\", \"Corn Served\": \"Q7\", \"Green Beans Served\": \"Q8\", \"Mashed Potatoes Served\": \"Q9\", \n",
    "                              \"Rolls/biscuits served\": \"Q10\", \"Yams/sweet potato casserole served\": \"Q11\", \"Apple Pie Served\": \"Q12\", \n",
    "                              \"Pecan Pie served\": \"Q13\", \"Pumpkin Pie served\": \"Q14\", \"Do you typically pray before or after the Thanksgiving meal?\": \"Q15\",\n",
    "                              \"Distance will travel\": \"Q16\", \"Will you watch any of the following programs on Thanksgiving?\": \"Q17\", \n",
    "                              \"What is the age cutoff at your kids table at Thanksgiving?\": \"Q18\", \"Have you ever tried to meet up with hometown friends on Thanksgiving night?\": \"Q19\",\n",
    "                              \"Have you ever attended a Friendsgiving?\": \"Q20\", \"Will you shop any Black Friday sales on Thanksgiving Day?\": \"Q21\", \n",
    "                              \"Do you work in retail?\": \"Q22\", \"How would you describe where you live?\": \"Q23\", \"Age\": \"Q24\", \"What is your gender?\": \"Q25\",\n",
    "                              \"How much total combined money did all members of your HOUSEHOLD earn last year?\": \"Q26\", \"US Region\": \"Q27\"}, inplace=True)"
   ]
  },
  {
   "cell_type": "code",
   "execution_count": 6,
   "metadata": {},
   "outputs": [],
   "source": [
    "# I’d like to see more reasoning behind the decisions to create an “NA” category, and use sklearn’s LabelEncoder instead of OneHotEncoder. \n",
    "#Q1 and Q7 had no null values\n",
    "df['Q2'].fillna(\"Uncertain\",inplace = True)\n",
    "df['Q3'].fillna(\"Uncertain\",inplace = True) \n",
    "df['Q4'].fillna(\"Uncertain\",inplace = True) \n",
    "df['Q5'].fillna(\"Uncertain\",inplace = True) \n",
    "df['Q6'].fillna(\"Uncertain\",inplace = True) \n",
    "df['Q8'].fillna(\"Uncertain\",inplace = True) \n",
    "df['Q9'].fillna(\"Uncertain\",inplace = True) \n",
    "df['Q10'].fillna(\"Uncertain\",inplace = True) \n",
    "df['Q11'].fillna(\"Uncertain\",inplace = True)\n",
    "df['Q12'].fillna(\"Uncertain\",inplace = True) \n",
    "df['Q13'].fillna(\"Uncertain\",inplace = True) \n",
    "df['Q14'].fillna(\"Uncertain\",inplace = True)\n",
    "df['Q15'].fillna(\"Uncertain\",inplace = True) \n",
    "df['Q16'].fillna(\"Uncertain\",inplace = True) \n",
    "df['Q17'].fillna(\"Uncertain\",inplace = True) \n",
    "df['Q18'].fillna(\"Uncertain\",inplace = True) \n",
    "df['Q19'].fillna(\"Uncertain\",inplace = True) \n",
    "df['Q20'].fillna(\"Uncertain\",inplace = True) \n",
    "df['Q21'].fillna(\"Uncertain\",inplace = True) \n",
    "df['Q22'].fillna(\"Uncertain\",inplace = True) \n",
    "df['Q23'].fillna(\"Uncertain\",inplace = True) \n",
    "df['Q24'].fillna(\"Uncertain\",inplace = True) \n",
    "df['Q25'].fillna(\"Uncertain\",inplace = True) \n",
    "df['Q26'].fillna(\"Uncertain\",inplace = True) \n",
    "df['Q27'].fillna(\"Uncertain\",inplace = True) \n",
    "#I used fillna to avoid null values conflicting with my data.\n"
   ]
  },
  {
   "cell_type": "code",
   "execution_count": 7,
   "metadata": {},
   "outputs": [
    {
     "data": {
      "image/png": "[encoded data removed]",
      "text/plain": [
       "<Figure size 720x360 with 1 Axes>"
      ]
     },
     "metadata": {
      "needs_background": "light"
     },
     "output_type": "display_data"
    }
   ],
   "source": [
    "\n",
    "plt.figure(figsize=(10,5))\n",
    "sns.countplot(\"Q15\", hue=\"Q24\", palette=\"Oranges\",data=df)\n",
    "plt.title(\"Do you pray before the Thanksgiving Meal? vs Age\",fontsize=10,fontweight=\"bold\")\n",
    "plt.xlabel(\"Do you pray before the Thanksgiving Meal?\")\n",
    "plt.ylabel(\"Count\")\n",
    "plt.subplots_adjust(top=1.88, bottom=1.09, right=1.48)\n",
    "plt.show()"
   ]
  },
  {
   "cell_type": "markdown",
   "metadata": {},
   "source": [
    "More older adults pray during thanksgiving meal than the younger demographic."
   ]
  },
  {
   "cell_type": "code",
   "execution_count": 8,
   "metadata": {},
   "outputs": [
    {
     "data": {
      "image/png": "[encoded data removed]",
      "text/plain": [
       "<Figure size 720x360 with 1 Axes>"
      ]
     },
     "metadata": {
      "needs_background": "light"
     },
     "output_type": "display_data"
    }
   ],
   "source": [
    "plt.figure(figsize=(10,5))\n",
    "sns.countplot(\"Q16\", hue=\"Q24\", palette=\"Oranges\",data=df)\n",
    "plt.title(\"Distance will Travel vs Age\",fontsize=10,fontweight=\"bold\")\n",
    "plt.xlabel(\"Distance will Travel\")\n",
    "plt.ylabel(\"Count\")\n",
    "plt.subplots_adjust(top=1.88, bottom=1.09, right=1.48)\n",
    "plt.show()"
   ]
  },
  {
   "cell_type": "markdown",
   "metadata": {},
   "source": [
    "More millennials like to stay more at home for Thanksgiving and will not go out of their way to drive many hours for the holiday weekend."
   ]
  },
  {
   "cell_type": "code",
   "execution_count": 9,
   "metadata": {},
   "outputs": [
    {
     "data": {
      "image/png": "[encoded data removed]",
      "text/plain": [
       "<Figure size 720x360 with 1 Axes>"
      ]
     },
     "metadata": {
      "needs_background": "light"
     },
     "output_type": "display_data"
    }
   ],
   "source": [
    "plt.figure(figsize=(10,5))\n",
    "sns.countplot(\"Q19\", hue=\"Q24\", palette=\"Oranges\",data=df)\n",
    "plt.title(\"Have you ever tried to meet up with hometown friends on Thanksgiving night? vs Age\",fontsize=20,fontweight=\"bold\")\n",
    "plt.xlabel(\"Have you ever tried to meet up with hometown friends on Thanksgiving night?\")\n",
    "plt.ylabel(\"Count\")\n",
    "plt.show()"
   ]
  },
  {
   "cell_type": "markdown",
   "metadata": {},
   "source": [
    "More of the millennials like to meet up with friends during the holidays (to those who responded to Yes)."
   ]
  },
  {
   "cell_type": "code",
   "execution_count": 10,
   "metadata": {
    "scrolled": true
   },
   "outputs": [
    {
     "data": {
      "image/png": "[encoded data removed]",
      "text/plain": [
       "<Figure size 720x360 with 1 Axes>"
      ]
     },
     "metadata": {
      "needs_background": "light"
     },
     "output_type": "display_data"
    }
   ],
   "source": [
    "plt.figure(figsize=(10,5))\n",
    "sns.countplot(\"Q20\", hue=\"Q24\", palette=\"Oranges\",data=df)\n",
    "plt.title(\"Friendsgiving vs Age\",fontsize=10,fontweight=\"bold\")\n",
    "plt.xlabel(\"Friendsgiving\")\n",
    "plt.ylabel(\"Count\")\n",
    "plt.subplots_adjust(top=1.88, bottom=1.09, right=1.48)\n",
    "plt.show()"
   ]
  },
  {
   "cell_type": "markdown",
   "metadata": {},
   "source": [
    "To those who voted yes, the age of 45 or younger love having Friendsgiving."
   ]
  },
  {
   "cell_type": "code",
   "execution_count": 11,
   "metadata": {},
   "outputs": [
    {
     "data": {
      "image/png": "[encoded data removed]",
      "text/plain": [
       "<Figure size 720x360 with 1 Axes>"
      ]
     },
     "metadata": {
      "needs_background": "light"
     },
     "output_type": "display_data"
    }
   ],
   "source": [
    "\n",
    "plt.figure(figsize=(10,5))\n",
    "sns.countplot(\"Q21\", hue=\"Q24\", palette=\"Oranges\",data=df)\n",
    "plt.title(\"Black Friday Shopping vs Age\",fontsize=10,fontweight=\"bold\")\n",
    "plt.xlabel(\"Black Friday Shopping\")\n",
    "plt.ylabel(\"Count\")\n",
    "plt.subplots_adjust(top=1.88, bottom=1.09, right=1.48)\n",
    "plt.show()"
   ]
  },
  {
   "cell_type": "markdown",
   "metadata": {},
   "source": [
    "To those who voted yes, the age of 45 or younger love Black Friday shopping."
   ]
  },
  {
   "cell_type": "code",
   "execution_count": 12,
   "metadata": {},
   "outputs": [
    {
     "data": {
      "image/png": "[encoded data removed]",
      "text/plain": [
       "<Figure size 720x360 with 1 Axes>"
      ]
     },
     "metadata": {
      "needs_background": "light"
     },
     "output_type": "display_data"
    }
   ],
   "source": [
    "plt.figure(figsize=(10,5))\n",
    "sns.countplot(\"Q22\", hue=\"Q24\", palette=\"Oranges\",data=df)\n",
    "plt.title(\"Work in Retail vs Age\",fontsize=10,fontweight=\"bold\")\n",
    "plt.xlabel(\"Work in Retail\")\n",
    "plt.ylabel(\"Count\")\n",
    "plt.subplots_adjust(top=1.88, bottom=1.09, right=1.48)\n",
    "plt.show()"
   ]
  },
  {
   "cell_type": "markdown",
   "metadata": {},
   "source": [
    "Most people in this survey do not work in retail especially older adults. However, to those who voted yes, it's no surprise most millennials work in the retail business."
   ]
  },
  {
   "cell_type": "code",
   "execution_count": 13,
   "metadata": {},
   "outputs": [
    {
     "data": {
      "image/png": "[encoded data removed]",
      "text/plain": [
       "<Figure size 720x360 with 1 Axes>"
      ]
     },
     "metadata": {
      "needs_background": "light"
     },
     "output_type": "display_data"
    }
   ],
   "source": [
    "plt.figure(figsize=(10,5))\n",
    "sns.countplot(\"Q23\", hue=\"Q24\", palette=\"Oranges\",data=df)\n",
    "plt.title(\"How would you describe where you live? vs Age\",fontsize=10,fontweight=\"bold\")\n",
    "plt.xlabel(\"How would you describe where you live?\")\n",
    "plt.ylabel(\"Count\")\n",
    "plt.subplots_adjust(top=1.88, bottom=1.09, right=1.48)\n",
    "plt.show()"
   ]
  },
  {
   "cell_type": "markdown",
   "metadata": {},
   "source": [
    "Most people live in the suburban area based on this surveys. With Suburban and Rural, the age groups got older in both groups."
   ]
  },
  {
   "cell_type": "code",
   "execution_count": 14,
   "metadata": {},
   "outputs": [
    {
     "data": {
      "image/png": "[encoded data removed]",
      "text/plain": [
       "<Figure size 720x360 with 1 Axes>"
      ]
     },
     "metadata": {
      "needs_background": "light"
     },
     "output_type": "display_data"
    }
   ],
   "source": [
    "plt.figure(figsize=(10,5))\n",
    "sns.countplot(\"Q27\", hue=\"Q24\", palette=\"Oranges\",data=df)\n",
    "plt.title(\"US Region\",fontsize=10,fontweight=\"bold\")\n",
    "plt.xlabel(\"US Region\")\n",
    "plt.ylabel(\"Count\")\n",
    "plt.subplots_adjust(top=1.88, bottom=1.09, right=1.48)\n",
    "plt.show()"
   ]
  },
  {
   "cell_type": "markdown",
   "metadata": {},
   "source": [
    "Based on this category, the regions are diverse. More older adults represent better in this category."
   ]
  },
  {
   "cell_type": "markdown",
   "metadata": {},
   "source": []
  },
  {
   "cell_type": "code",
   "execution_count": 15,
   "metadata": {},
   "outputs": [],
   "source": [
    "Q1= LabelEncoder()\n",
    "Q2= LabelEncoder()\n",
    "Q3= LabelEncoder()\n",
    "Q4= LabelEncoder()\n",
    "Q5= LabelEncoder()\n",
    "Q6= LabelEncoder()\n",
    "Q7= LabelEncoder()\n",
    "Q8= LabelEncoder()\n",
    "Q9= LabelEncoder()\n",
    "Q10= LabelEncoder()\n",
    "Q11= LabelEncoder()\n",
    "Q12= LabelEncoder()\n",
    "Q13= LabelEncoder()\n",
    "Q14= LabelEncoder()\n",
    "Q15= LabelEncoder()\n",
    "Q16= LabelEncoder()\n",
    "Q17= LabelEncoder()\n",
    "Q18= LabelEncoder()\n",
    "Q19= LabelEncoder()\n",
    "Q20= LabelEncoder()\n",
    "Q21= LabelEncoder()\n",
    "Q22= LabelEncoder()\n",
    "Q23= LabelEncoder()\n",
    "Q24= LabelEncoder()\n",
    "Q25= LabelEncoder()\n",
    "Q26= LabelEncoder()\n",
    "Q27= LabelEncoder()\n",
    "\n",
    "df['Q1']=Q1.fit_transform(df['Q1'])\n",
    "df['Q2']=Q2.fit_transform(df['Q2'])\n",
    "df['Q3']=Q3.fit_transform(df['Q3'])\n",
    "df['Q4']=Q4.fit_transform(df['Q4'])\n",
    "df['Q5']=Q5.fit_transform(df['Q5'])\n",
    "df['Q6']=Q6.fit_transform(df['Q6'])\n",
    "df['Q7']=Q7.fit_transform(df['Q7'])\n",
    "df['Q8']=Q8.fit_transform(df['Q8'])\n",
    "df['Q9']=Q9.fit_transform(df['Q9'])\n",
    "df['Q10']=Q10.fit_transform(df['Q10'])\n",
    "df['Q11']=Q11.fit_transform(df['Q11'])\n",
    "df['Q12']=Q12.fit_transform(df['Q12'])\n",
    "df['Q13']=Q13.fit_transform(df['Q13'])\n",
    "df['Q14']=Q14.fit_transform(df['Q14'])\n",
    "df['Q15']=Q15.fit_transform(df['Q15'])\n",
    "df['Q16']=Q16.fit_transform(df['Q16'])\n",
    "df['Q17']=Q17.fit_transform(df['Q17'])\n",
    "df['Q18']=Q18.fit_transform(df['Q18'])\n",
    "df['Q19']=Q19.fit_transform(df['Q19'])\n",
    "df['Q20']=Q20.fit_transform(df['Q20'])\n",
    "df['Q21']=Q21.fit_transform(df['Q21'])\n",
    "df['Q22']=Q22.fit_transform(df['Q22'])\n",
    "df['Q23']=Q23.fit_transform(df['Q23'])\n",
    "df['Q24']=Q24.fit_transform(df['Q24'])\n",
    "df['Q25']=Q25.fit_transform(df['Q25'])\n",
    "df['Q26']=Q26.fit_transform(df['Q26'])\n",
    "df['Q27']=Q27.fit_transform(df['Q27'])\n"
   ]
  },
  {
   "cell_type": "code",
   "execution_count": 16,
   "metadata": {},
   "outputs": [
    {
     "data": {
      "text/html": [
       "<div>\n",
       "<style scoped>\n",
       "    .dataframe tbody tr th:only-of-type {\n",
       "        vertical-align: middle;\n",
       "    }\n",
       "\n",
       "    .dataframe tbody tr th {\n",
       "        vertical-align: top;\n",
       "    }\n",
       "\n",
       "    .dataframe thead th {\n",
       "        text-align: right;\n",
       "    }\n",
       "</style>\n",
       "<table border=\"1\" class=\"dataframe\">\n",
       "  <thead>\n",
       "    <tr style=\"text-align: right;\">\n",
       "      <th></th>\n",
       "      <th>Q1</th>\n",
       "      <th>Q2</th>\n",
       "      <th>Q3</th>\n",
       "      <th>Q4</th>\n",
       "      <th>Q5</th>\n",
       "      <th>Q6</th>\n",
       "      <th>Q7</th>\n",
       "      <th>Q8</th>\n",
       "      <th>Q9</th>\n",
       "      <th>Q10</th>\n",
       "      <th>...</th>\n",
       "      <th>Q18</th>\n",
       "      <th>Q19</th>\n",
       "      <th>Q20</th>\n",
       "      <th>Q21</th>\n",
       "      <th>Q22</th>\n",
       "      <th>Q23</th>\n",
       "      <th>Q24</th>\n",
       "      <th>Q25</th>\n",
       "      <th>Q26</th>\n",
       "      <th>Q27</th>\n",
       "    </tr>\n",
       "  </thead>\n",
       "  <tbody>\n",
       "    <tr>\n",
       "      <th>count</th>\n",
       "      <td>975.000000</td>\n",
       "      <td>975.000000</td>\n",
       "      <td>975.000000</td>\n",
       "      <td>975.000000</td>\n",
       "      <td>975.000000</td>\n",
       "      <td>975.000000</td>\n",
       "      <td>975.000000</td>\n",
       "      <td>975.000000</td>\n",
       "      <td>975.000000</td>\n",
       "      <td>975.000000</td>\n",
       "      <td>...</td>\n",
       "      <td>975.000000</td>\n",
       "      <td>975.000000</td>\n",
       "      <td>975.000000</td>\n",
       "      <td>975.000000</td>\n",
       "      <td>975.000000</td>\n",
       "      <td>975.000000</td>\n",
       "      <td>975.000000</td>\n",
       "      <td>975.000000</td>\n",
       "      <td>975.000000</td>\n",
       "      <td>975.000000</td>\n",
       "    </tr>\n",
       "    <tr>\n",
       "      <th>mean</th>\n",
       "      <td>0.998974</td>\n",
       "      <td>6.489231</td>\n",
       "      <td>1.795897</td>\n",
       "      <td>0.268718</td>\n",
       "      <td>0.689231</td>\n",
       "      <td>1.830769</td>\n",
       "      <td>0.475897</td>\n",
       "      <td>1.410256</td>\n",
       "      <td>1.678974</td>\n",
       "      <td>1.574359</td>\n",
       "      <td>...</td>\n",
       "      <td>3.247179</td>\n",
       "      <td>0.756923</td>\n",
       "      <td>0.574359</td>\n",
       "      <td>0.484103</td>\n",
       "      <td>0.168205</td>\n",
       "      <td>1.290256</td>\n",
       "      <td>1.697436</td>\n",
       "      <td>0.499487</td>\n",
       "      <td>6.110769</td>\n",
       "      <td>4.305641</td>\n",
       "    </tr>\n",
       "    <tr>\n",
       "      <th>std</th>\n",
       "      <td>0.032026</td>\n",
       "      <td>1.518414</td>\n",
       "      <td>1.896280</td>\n",
       "      <td>0.735989</td>\n",
       "      <td>0.824943</td>\n",
       "      <td>0.555980</td>\n",
       "      <td>0.499675</td>\n",
       "      <td>0.910749</td>\n",
       "      <td>0.732439</td>\n",
       "      <td>0.817141</td>\n",
       "      <td>...</td>\n",
       "      <td>4.389346</td>\n",
       "      <td>0.957726</td>\n",
       "      <td>0.891644</td>\n",
       "      <td>0.842593</td>\n",
       "      <td>0.532722</td>\n",
       "      <td>1.065059</td>\n",
       "      <td>1.135458</td>\n",
       "      <td>0.552900</td>\n",
       "      <td>3.224973</td>\n",
       "      <td>2.857484</td>\n",
       "    </tr>\n",
       "    <tr>\n",
       "      <th>min</th>\n",
       "      <td>0.000000</td>\n",
       "      <td>0.000000</td>\n",
       "      <td>0.000000</td>\n",
       "      <td>0.000000</td>\n",
       "      <td>0.000000</td>\n",
       "      <td>0.000000</td>\n",
       "      <td>0.000000</td>\n",
       "      <td>0.000000</td>\n",
       "      <td>0.000000</td>\n",
       "      <td>0.000000</td>\n",
       "      <td>...</td>\n",
       "      <td>0.000000</td>\n",
       "      <td>0.000000</td>\n",
       "      <td>0.000000</td>\n",
       "      <td>0.000000</td>\n",
       "      <td>0.000000</td>\n",
       "      <td>0.000000</td>\n",
       "      <td>0.000000</td>\n",
       "      <td>0.000000</td>\n",
       "      <td>0.000000</td>\n",
       "      <td>0.000000</td>\n",
       "    </tr>\n",
       "    <tr>\n",
       "      <th>25%</th>\n",
       "      <td>1.000000</td>\n",
       "      <td>7.000000</td>\n",
       "      <td>0.000000</td>\n",
       "      <td>0.000000</td>\n",
       "      <td>0.000000</td>\n",
       "      <td>2.000000</td>\n",
       "      <td>0.000000</td>\n",
       "      <td>0.000000</td>\n",
       "      <td>2.000000</td>\n",
       "      <td>2.000000</td>\n",
       "      <td>...</td>\n",
       "      <td>0.000000</td>\n",
       "      <td>0.000000</td>\n",
       "      <td>0.000000</td>\n",
       "      <td>0.000000</td>\n",
       "      <td>0.000000</td>\n",
       "      <td>1.000000</td>\n",
       "      <td>1.000000</td>\n",
       "      <td>0.000000</td>\n",
       "      <td>3.000000</td>\n",
       "      <td>2.000000</td>\n",
       "    </tr>\n",
       "    <tr>\n",
       "      <th>50%</th>\n",
       "      <td>1.000000</td>\n",
       "      <td>7.000000</td>\n",
       "      <td>1.000000</td>\n",
       "      <td>0.000000</td>\n",
       "      <td>0.000000</td>\n",
       "      <td>2.000000</td>\n",
       "      <td>0.000000</td>\n",
       "      <td>2.000000</td>\n",
       "      <td>2.000000</td>\n",
       "      <td>2.000000</td>\n",
       "      <td>...</td>\n",
       "      <td>0.000000</td>\n",
       "      <td>0.000000</td>\n",
       "      <td>0.000000</td>\n",
       "      <td>0.000000</td>\n",
       "      <td>0.000000</td>\n",
       "      <td>1.000000</td>\n",
       "      <td>2.000000</td>\n",
       "      <td>0.000000</td>\n",
       "      <td>7.000000</td>\n",
       "      <td>5.000000</td>\n",
       "    </tr>\n",
       "    <tr>\n",
       "      <th>75%</th>\n",
       "      <td>1.000000</td>\n",
       "      <td>7.000000</td>\n",
       "      <td>4.000000</td>\n",
       "      <td>0.000000</td>\n",
       "      <td>1.000000</td>\n",
       "      <td>2.000000</td>\n",
       "      <td>1.000000</td>\n",
       "      <td>2.000000</td>\n",
       "      <td>2.000000</td>\n",
       "      <td>2.000000</td>\n",
       "      <td>...</td>\n",
       "      <td>6.000000</td>\n",
       "      <td>2.000000</td>\n",
       "      <td>2.000000</td>\n",
       "      <td>1.000000</td>\n",
       "      <td>0.000000</td>\n",
       "      <td>2.000000</td>\n",
       "      <td>3.000000</td>\n",
       "      <td>1.000000</td>\n",
       "      <td>9.000000</td>\n",
       "      <td>6.000000</td>\n",
       "    </tr>\n",
       "    <tr>\n",
       "      <th>max</th>\n",
       "      <td>1.000000</td>\n",
       "      <td>8.000000</td>\n",
       "      <td>5.000000</td>\n",
       "      <td>4.000000</td>\n",
       "      <td>4.000000</td>\n",
       "      <td>2.000000</td>\n",
       "      <td>1.000000</td>\n",
       "      <td>2.000000</td>\n",
       "      <td>2.000000</td>\n",
       "      <td>2.000000</td>\n",
       "      <td>...</td>\n",
       "      <td>12.000000</td>\n",
       "      <td>2.000000</td>\n",
       "      <td>2.000000</td>\n",
       "      <td>2.000000</td>\n",
       "      <td>2.000000</td>\n",
       "      <td>3.000000</td>\n",
       "      <td>4.000000</td>\n",
       "      <td>2.000000</td>\n",
       "      <td>11.000000</td>\n",
       "      <td>9.000000</td>\n",
       "    </tr>\n",
       "  </tbody>\n",
       "</table>\n",
       "<p>8 rows × 27 columns</p>\n",
       "</div>"
      ],
      "text/plain": [
       "               Q1          Q2          Q3          Q4          Q5          Q6  \\\n",
       "count  975.000000  975.000000  975.000000  975.000000  975.000000  975.000000   \n",
       "mean     0.998974    6.489231    1.795897    0.268718    0.689231    1.830769   \n",
       "std      0.032026    1.518414    1.896280    0.735989    0.824943    0.555980   \n",
       "min      0.000000    0.000000    0.000000    0.000000    0.000000    0.000000   \n",
       "25%      1.000000    7.000000    0.000000    0.000000    0.000000    2.000000   \n",
       "50%      1.000000    7.000000    1.000000    0.000000    0.000000    2.000000   \n",
       "75%      1.000000    7.000000    4.000000    0.000000    1.000000    2.000000   \n",
       "max      1.000000    8.000000    5.000000    4.000000    4.000000    2.000000   \n",
       "\n",
       "               Q7          Q8          Q9         Q10     ...             Q18  \\\n",
       "count  975.000000  975.000000  975.000000  975.000000     ...      975.000000   \n",
       "mean     0.475897    1.410256    1.678974    1.574359     ...        3.247179   \n",
       "std      0.499675    0.910749    0.732439    0.817141     ...        4.389346   \n",
       "min      0.000000    0.000000    0.000000    0.000000     ...        0.000000   \n",
       "25%      0.000000    0.000000    2.000000    2.000000     ...        0.000000   \n",
       "50%      0.000000    2.000000    2.000000    2.000000     ...        0.000000   \n",
       "75%      1.000000    2.000000    2.000000    2.000000     ...        6.000000   \n",
       "max      1.000000    2.000000    2.000000    2.000000     ...       12.000000   \n",
       "\n",
       "              Q19         Q20         Q21         Q22         Q23         Q24  \\\n",
       "count  975.000000  975.000000  975.000000  975.000000  975.000000  975.000000   \n",
       "mean     0.756923    0.574359    0.484103    0.168205    1.290256    1.697436   \n",
       "std      0.957726    0.891644    0.842593    0.532722    1.065059    1.135458   \n",
       "min      0.000000    0.000000    0.000000    0.000000    0.000000    0.000000   \n",
       "25%      0.000000    0.000000    0.000000    0.000000    1.000000    1.000000   \n",
       "50%      0.000000    0.000000    0.000000    0.000000    1.000000    2.000000   \n",
       "75%      2.000000    2.000000    1.000000    0.000000    2.000000    3.000000   \n",
       "max      2.000000    2.000000    2.000000    2.000000    3.000000    4.000000   \n",
       "\n",
       "              Q25         Q26         Q27  \n",
       "count  975.000000  975.000000  975.000000  \n",
       "mean     0.499487    6.110769    4.305641  \n",
       "std      0.552900    3.224973    2.857484  \n",
       "min      0.000000    0.000000    0.000000  \n",
       "25%      0.000000    3.000000    2.000000  \n",
       "50%      0.000000    7.000000    5.000000  \n",
       "75%      1.000000    9.000000    6.000000  \n",
       "max      2.000000   11.000000    9.000000  \n",
       "\n",
       "[8 rows x 27 columns]"
      ]
     },
     "execution_count": 16,
     "metadata": {},
     "output_type": "execute_result"
    }
   ],
   "source": [
    "df.describe()"
   ]
  },
  {
   "cell_type": "markdown",
   "metadata": {},
   "source": [
    "Correlations"
   ]
  },
  {
   "cell_type": "code",
   "execution_count": null,
   "metadata": {},
   "outputs": [
    {
     "data": {
      "text/plain": [
       "Text(0.5,1,'Thanksgiving Correlations')"
      ]
     },
     "execution_count": 17,
     "metadata": {},
     "output_type": "execute_result"
    }
   ],
   "source": [
    "plt.figure(figsize=(30,12))\n",
    "sns.heatmap(df.corr(),cmap = 'Oranges',annot=True, square=True, fmt='.2f', annot_kws={'size': 10})\n",
    "plt.title('Thanksgiving Correlations')"
   ]
  },
  {
   "cell_type": "code",
   "execution_count": null,
   "metadata": {},
   "outputs": [],
   "source": [
    "corr=df.corr()['Q24']\n",
    "corr[np.argsort(corr,axis=0)[::-1]]"
   ]
  },
  {
   "cell_type": "markdown",
   "metadata": {},
   "source": []
  },
  {
   "cell_type": "code",
   "execution_count": null,
   "metadata": {},
   "outputs": [],
   "source": [
    "X= df[['Q19', 'Q20', 'Q21', 'Q22', 'Q23', 'Q25', 'Q26', 'Q27']]\n",
    "y=df['Q24']"
   ]
  },
  {
   "cell_type": "markdown",
   "metadata": {},
   "source": [
    "I chose\n",
    "\n",
    "#Q19. Have you ever tried to meet up with hometown friends on Thanksgiving night?\n",
    "\n",
    "#Q20. Have you ever attended a Friendsgiving?\n",
    "\n",
    "#Q21. Will you shop any Black Friday sales on Thanksgiving Day?\n",
    "\n",
    "#Q22. Do you work in retail?\n",
    "\n",
    "#Q23. How would you describe where you live? - \n",
    "\n",
    "#Q25. What is your gender?\n",
    "\n",
    "#Q26. How much total combined money did all members of your HOUSEHOLD earn last year?\n",
    "\n",
    "#Q27. US Region\n",
    "\n",
    "#I chose these variables because of what type of age group has the best in each category. They will fit with my tests perfectly. "
   ]
  },
  {
   "cell_type": "code",
   "execution_count": null,
   "metadata": {},
   "outputs": [],
   "source": [
    "X_train, X_test, y_train, y_test = train_test_split(X,y, test_size = 0.3, random_state = 42)"
   ]
  },
  {
   "cell_type": "markdown",
   "metadata": {},
   "source": [
    "Logistic Regression"
   ]
  },
  {
   "cell_type": "code",
   "execution_count": null,
   "metadata": {},
   "outputs": [],
   "source": [
    "import timeit\n",
    "\n",
    "%timeit pass\n",
    "\n",
    "lr = LogisticRegression(random_state = 42)\n",
    "lr.fit(X_train, y_train)\n",
    "lr_predict = lr.predict(X_test)\n",
    "\n",
    "lr_conf_matrix = confusion_matrix(y_test, lr_predict)\n",
    "lr_acc_score = accuracy_score(y_test, lr_predict)\n",
    "\n",
    "print(\"\\n\")\n",
    "print(\"The Logistic Regression results are below:\")\n",
    "print(\"Accuracy:\",lr_acc_score*100)\n",
    "print(\"F1:\",f1_score(y_test, lr_predict, average=\"macro\")*100)\n",
    "print(\"Precision:\",precision_score(y_test,lr_predict, average=\"macro\")*100)\n",
    "print(\"Recall:\",recall_score(y_test, lr_predict, average=\"macro\")*100) \n",
    "print(\"Cross Validation:\", cross_val_score(lr, X_train, y_train, cv=3)*100)\n",
    "print(\"\\n\")\n",
    "\n",
    "print(\"Here is the confusion matrix below:\\n\",lr_conf_matrix)"
   ]
  },
  {
   "cell_type": "markdown",
   "metadata": {},
   "source": [
    "Gradient Boosting Classifier"
   ]
  },
  {
   "cell_type": "code",
   "execution_count": null,
   "metadata": {},
   "outputs": [],
   "source": [
    "%timeit pass\n",
    "\n",
    "gbc = ensemble.GradientBoostingClassifier(random_state = 42)\n",
    "gbc.fit(X_train, y_train)\n",
    "pred_gbc = gbc.predict(X_test)\n",
    "\n",
    "print(\"\\n\")\n",
    "print(\"The Gradient Boosting Classifier results are below:\")\n",
    "print(\"Accuracy:\",accuracy_score(y_test,pred_gbc )*100)\n",
    "print(\"F1:\",f1_score(y_test, pred_gbc, average=\"macro\")*100)\n",
    "print(\"Precision\",precision_score(y_test,pred_gbc, average=\"macro\")*100)\n",
    "print(\"Recall:\",recall_score(y_test, pred_gbc, average=\"macro\")*100) \n",
    "print(\"Cross Validation:\", cross_val_score(gbc, X_train, y_train, cv=3)*100)\n",
    "print(\"\\n\")\n",
    "print(\"Here is the confusion matrix below:\\n\", confusion_matrix(y_test,pred_gbc))"
   ]
  },
  {
   "cell_type": "markdown",
   "metadata": {},
   "source": [
    "Random Forest Classifier"
   ]
  },
  {
   "cell_type": "code",
   "execution_count": null,
   "metadata": {},
   "outputs": [],
   "source": [
    "%timeit pass\n",
    "\n",
    "rfc = RandomForestClassifier(random_state = 42)\n",
    "rfc.fit(X_train, y_train)\n",
    "pred_rfc = rfc.predict(X_test)\n",
    "\n",
    "print('\\n')\n",
    "print(\"The Random Forest Classifier results are below:\")\n",
    "print(\"Accuracy:\",accuracy_score(y_test,pred_rfc )*100)\n",
    "print(\"F1:\",f1_score(y_test,pred_rfc, average=\"macro\")*100)\n",
    "print(\"Precision:\",precision_score(y_test,pred_rfc, average=\"macro\")*100)\n",
    "print(\"Recall:\",recall_score(y_test, pred_rfc, average=\"macro\")*100) \n",
    "print(\"Cross Validation:\", cross_val_score(rfc, X_train, y_train, cv=3)*100)\n",
    "print(\"\\n\")\n",
    "print(\"Here is the confusion matrix below:\\n\", confusion_matrix(y_test,pred_rfc))"
   ]
  },
  {
   "cell_type": "markdown",
   "metadata": {},
   "source": [
    "Support Vector Machine (Classifier)"
   ]
  },
  {
   "cell_type": "code",
   "execution_count": null,
   "metadata": {},
   "outputs": [],
   "source": [
    "%timeit pass\n",
    "\n",
    "svc = SVC(random_state = 42)\n",
    "svc.fit(X_train, y_train)\n",
    "pred_svc = svc.predict(X_test)\n",
    "\n",
    "print('\\n')\n",
    "print(\"The Support Vector Machine (Classifier) results are below:\")\n",
    "print(\"Accuracy:\",accuracy_score(y_test,pred_svc )*100)\n",
    "print(\"F1:\",f1_score(y_test, pred_svc, average=\"macro\")*100)\n",
    "print(\"Precision:\",precision_score(y_test,pred_svc, average=\"macro\")*100)\n",
    "print(\"Recall:\",recall_score(y_test, pred_svc, average=\"macro\")*100) \n",
    "print(\"Cross Validation:\", cross_val_score(svc, X_train, y_train, cv=3)*100)\n",
    "print(\"\\n\")\n",
    "print(\"Here is the confusion matrix below:\\n\", confusion_matrix(y_test,pred_svc))"
   ]
  },
  {
   "cell_type": "markdown",
   "metadata": {},
   "source": [
    "How you chose your model specification and what alternatives you compared it to:\n",
    "\n",
    "I chose Logistic Regression because it was straightforward to use. Also, based on my data, I do not have much multicollinearity because of the majority the dataset questions are categorical. I chose Gradient Boosting because of the decision trees that can predict which age group has the most popularity with each of the questions. Also, it handles null values, which may be the most useful model for my dataset. I chose Random Forest because it is faster to produce results. Also, my data is not all balanced so this feature is efficient to use. I chose Support Vector Classifier due to its flexibility for datasets.\n",
    "\n",
    "Gradient Boosting, Random Forest, Support Vector Classifier, and Logistic Regression were the models I chose for this based on the lessons I read. I checked on all those 4 models to determine which model would fit accurately with my model.\n",
    "\n",
    "Gradient Boosting had the lowest accuracy score of 30.38%, Support Vector Classifier and Random Forest both tied with the second highest and lowest accuracy score of 35.49%. Logistic Regression had the highest accuracy score with 36.86%.\n",
    "\n",
    "For the cross-validation scores, Gradient Boosting had higher cross-validation scores than Random Forest and SVC even though it had the lowest accuracy score. The cross-validation scores were not consistent with the accuracy scores in those 3 models.\n",
    "\n",
    "The practical uses of your model for an audience of interest:\n",
    "\n",
    "The purpose of the dataset was to see how everything correlated together and it seems most young people who try to meet up with other friends on Thanksgiving enjoy Black Friday shopping and those type of people work in the retail business. These surveys can inspire other people to try out other activities during that holiday season. \n",
    "\n",
    "Any weak points or shortcomings of your model:\n",
    "\n",
    "The correlations in the variables (even after trying to drop to variables) did not correlate high with all of the other ones.  The accuracy rates may have gone higher if some of the respondents actually were honest during the survey (only 1 respondent said they did not celebrate Thanksgiving, for example).\n"
   ]
  }
 ],
 "metadata": {
  "kernelspec": {
   "display_name": "Python 3",
   "language": "python",
   "name": "python3"
  },
  "language_info": {
   "codemirror_mode": {
    "name": "ipython",
    "version": 3
   },
   "file_extension": ".py",
   "mimetype": "text/x-python",
   "name": "python",
   "nbconvert_exporter": "python",
   "pygments_lexer": "ipython3",
   "version": "3.7.0"
  }
 },
 "nbformat": 4,
 "nbformat_minor": 2
}
