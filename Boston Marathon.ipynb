{
 "cells": [
  {
   "cell_type": "code",
   "execution_count": 1,
   "metadata": {},
   "outputs": [],
   "source": [
    "import numpy as np\n",
    "import pandas as pd\n",
    "import scipy\n",
    "import matplotlib.pyplot as plt\n",
    "import seaborn as sns\n",
    "\n",
    "from sklearn import metrics\n",
    "from sklearn.model_selection import train_test_split\n",
    "from sklearn.cluster import KMeans, MeanShift, estimate_bandwidth, MiniBatchKMeans, DBSCAN\n",
    "from sklearn.preprocessing import StandardScaler, normalize\n",
    "from sklearn.decomposition import PCA \n",
    "\n",
    "%matplotlib inline"
   ]
  },
  {
   "cell_type": "code",
   "execution_count": 2,
   "metadata": {},
   "outputs": [],
   "source": [
    "df = pd.read_csv('https://raw.githubusercontent.com/llimllib/bostonmarathon/master/results/2013/results.csv')"
   ]
  },
  {
   "cell_type": "code",
   "execution_count": 3,
   "metadata": {},
   "outputs": [
    {
     "data": {
      "text/html": [
       "<div>\n",
       "<style scoped>\n",
       "    .dataframe tbody tr th:only-of-type {\n",
       "        vertical-align: middle;\n",
       "    }\n",
       "\n",
       "    .dataframe tbody tr th {\n",
       "        vertical-align: top;\n",
       "    }\n",
       "\n",
       "    .dataframe thead th {\n",
       "        text-align: right;\n",
       "    }\n",
       "</style>\n",
       "<table border=\"1\" class=\"dataframe\">\n",
       "  <thead>\n",
       "    <tr style=\"text-align: right;\">\n",
       "      <th></th>\n",
       "      <th>25k</th>\n",
       "      <th>age</th>\n",
       "      <th>name</th>\n",
       "      <th>division</th>\n",
       "      <th>10k</th>\n",
       "      <th>gender</th>\n",
       "      <th>half</th>\n",
       "      <th>official</th>\n",
       "      <th>bib</th>\n",
       "      <th>ctz</th>\n",
       "      <th>...</th>\n",
       "      <th>overall</th>\n",
       "      <th>pace</th>\n",
       "      <th>state</th>\n",
       "      <th>30k</th>\n",
       "      <th>5k</th>\n",
       "      <th>genderdiv</th>\n",
       "      <th>20k</th>\n",
       "      <th>35k</th>\n",
       "      <th>city</th>\n",
       "      <th>40k</th>\n",
       "    </tr>\n",
       "  </thead>\n",
       "  <tbody>\n",
       "    <tr>\n",
       "      <th>0</th>\n",
       "      <td>49.87</td>\n",
       "      <td>28</td>\n",
       "      <td>Cassidy, Josh R.</td>\n",
       "      <td>9</td>\n",
       "      <td>18.18</td>\n",
       "      <td>M</td>\n",
       "      <td>40.93</td>\n",
       "      <td>90.90</td>\n",
       "      <td>W1</td>\n",
       "      <td>NaN</td>\n",
       "      <td>...</td>\n",
       "      <td>9</td>\n",
       "      <td>3.47</td>\n",
       "      <td>ON</td>\n",
       "      <td>62.07</td>\n",
       "      <td>8.90</td>\n",
       "      <td>9</td>\n",
       "      <td>38.80</td>\n",
       "      <td>74.73</td>\n",
       "      <td>Toronto</td>\n",
       "      <td>85.55</td>\n",
       "    </tr>\n",
       "    <tr>\n",
       "      <th>1</th>\n",
       "      <td>77.27</td>\n",
       "      <td>30</td>\n",
       "      <td>Korir, Wesley</td>\n",
       "      <td>5</td>\n",
       "      <td>30.90</td>\n",
       "      <td>M</td>\n",
       "      <td>64.90</td>\n",
       "      <td>132.50</td>\n",
       "      <td>1</td>\n",
       "      <td>NaN</td>\n",
       "      <td>...</td>\n",
       "      <td>5</td>\n",
       "      <td>5.07</td>\n",
       "      <td>NaN</td>\n",
       "      <td>92.97</td>\n",
       "      <td>15.90</td>\n",
       "      <td>5</td>\n",
       "      <td>61.52</td>\n",
       "      <td>108.78</td>\n",
       "      <td>Kenya</td>\n",
       "      <td>124.77</td>\n",
       "    </tr>\n",
       "    <tr>\n",
       "      <th>2</th>\n",
       "      <td>77.23</td>\n",
       "      <td>23</td>\n",
       "      <td>Desisa, Lelisa</td>\n",
       "      <td>1</td>\n",
       "      <td>30.90</td>\n",
       "      <td>M</td>\n",
       "      <td>64.92</td>\n",
       "      <td>130.37</td>\n",
       "      <td>2</td>\n",
       "      <td>NaN</td>\n",
       "      <td>...</td>\n",
       "      <td>1</td>\n",
       "      <td>4.98</td>\n",
       "      <td>NaN</td>\n",
       "      <td>92.72</td>\n",
       "      <td>15.93</td>\n",
       "      <td>1</td>\n",
       "      <td>61.53</td>\n",
       "      <td>108.68</td>\n",
       "      <td>Ambo</td>\n",
       "      <td>123.78</td>\n",
       "    </tr>\n",
       "    <tr>\n",
       "      <th>3</th>\n",
       "      <td>50.50</td>\n",
       "      <td>32</td>\n",
       "      <td>Fearnley, Kurt H.</td>\n",
       "      <td>5</td>\n",
       "      <td>18.73</td>\n",
       "      <td>M</td>\n",
       "      <td>42.00</td>\n",
       "      <td>88.43</td>\n",
       "      <td>W2</td>\n",
       "      <td>NaN</td>\n",
       "      <td>...</td>\n",
       "      <td>5</td>\n",
       "      <td>3.38</td>\n",
       "      <td>NaN</td>\n",
       "      <td>61.35</td>\n",
       "      <td>8.98</td>\n",
       "      <td>5</td>\n",
       "      <td>39.88</td>\n",
       "      <td>73.00</td>\n",
       "      <td>Hamilton</td>\n",
       "      <td>83.43</td>\n",
       "    </tr>\n",
       "    <tr>\n",
       "      <th>4</th>\n",
       "      <td>48.75</td>\n",
       "      <td>39</td>\n",
       "      <td>Hokinoue, Kota</td>\n",
       "      <td>3</td>\n",
       "      <td>18.18</td>\n",
       "      <td>M</td>\n",
       "      <td>40.57</td>\n",
       "      <td>87.22</td>\n",
       "      <td>W3</td>\n",
       "      <td>NaN</td>\n",
       "      <td>...</td>\n",
       "      <td>3</td>\n",
       "      <td>3.33</td>\n",
       "      <td>NaN</td>\n",
       "      <td>59.92</td>\n",
       "      <td>8.92</td>\n",
       "      <td>3</td>\n",
       "      <td>38.55</td>\n",
       "      <td>71.68</td>\n",
       "      <td>Iizuka</td>\n",
       "      <td>81.88</td>\n",
       "    </tr>\n",
       "  </tbody>\n",
       "</table>\n",
       "<p>5 rows × 21 columns</p>\n",
       "</div>"
      ],
      "text/plain": [
       "     25k  age               name  division    10k gender   half  official bib  \\\n",
       "0  49.87   28   Cassidy, Josh R.         9  18.18      M  40.93     90.90  W1   \n",
       "1  77.27   30      Korir, Wesley         5  30.90      M  64.90    132.50   1   \n",
       "2  77.23   23     Desisa, Lelisa         1  30.90      M  64.92    130.37   2   \n",
       "3  50.50   32  Fearnley, Kurt H.         5  18.73      M  42.00     88.43  W2   \n",
       "4  48.75   39     Hokinoue, Kota         3  18.18      M  40.57     87.22  W3   \n",
       "\n",
       "   ctz   ...   overall  pace  state    30k     5k genderdiv    20k     35k  \\\n",
       "0  NaN   ...         9  3.47     ON  62.07   8.90         9  38.80   74.73   \n",
       "1  NaN   ...         5  5.07    NaN  92.97  15.90         5  61.52  108.78   \n",
       "2  NaN   ...         1  4.98    NaN  92.72  15.93         1  61.53  108.68   \n",
       "3  NaN   ...         5  3.38    NaN  61.35   8.98         5  39.88   73.00   \n",
       "4  NaN   ...         3  3.33    NaN  59.92   8.92         3  38.55   71.68   \n",
       "\n",
       "       city     40k  \n",
       "0   Toronto   85.55  \n",
       "1     Kenya  124.77  \n",
       "2      Ambo  123.78  \n",
       "3  Hamilton   83.43  \n",
       "4    Iizuka   81.88  \n",
       "\n",
       "[5 rows x 21 columns]"
      ]
     },
     "execution_count": 3,
     "metadata": {},
     "output_type": "execute_result"
    }
   ],
   "source": [
    "df.head()"
   ]
  },
  {
   "cell_type": "code",
   "execution_count": 4,
   "metadata": {},
   "outputs": [
    {
     "data": {
      "text/html": [
       "<div>\n",
       "<style scoped>\n",
       "    .dataframe tbody tr th:only-of-type {\n",
       "        vertical-align: middle;\n",
       "    }\n",
       "\n",
       "    .dataframe tbody tr th {\n",
       "        vertical-align: top;\n",
       "    }\n",
       "\n",
       "    .dataframe thead th {\n",
       "        text-align: right;\n",
       "    }\n",
       "</style>\n",
       "<table border=\"1\" class=\"dataframe\">\n",
       "  <thead>\n",
       "    <tr style=\"text-align: right;\">\n",
       "      <th></th>\n",
       "      <th>age</th>\n",
       "      <th>division</th>\n",
       "      <th>official</th>\n",
       "      <th>overall</th>\n",
       "      <th>pace</th>\n",
       "      <th>genderdiv</th>\n",
       "    </tr>\n",
       "  </thead>\n",
       "  <tbody>\n",
       "    <tr>\n",
       "      <th>count</th>\n",
       "      <td>14701.000000</td>\n",
       "      <td>14701.000000</td>\n",
       "      <td>14701.000000</td>\n",
       "      <td>14701.000000</td>\n",
       "      <td>14701.000000</td>\n",
       "      <td>14701.000000</td>\n",
       "    </tr>\n",
       "    <tr>\n",
       "      <th>mean</th>\n",
       "      <td>41.402422</td>\n",
       "      <td>1115.322359</td>\n",
       "      <td>208.724292</td>\n",
       "      <td>8536.029046</td>\n",
       "      <td>7.968954</td>\n",
       "      <td>4339.229304</td>\n",
       "    </tr>\n",
       "    <tr>\n",
       "      <th>std</th>\n",
       "      <td>10.426038</td>\n",
       "      <td>947.694827</td>\n",
       "      <td>23.382720</td>\n",
       "      <td>5042.430706</td>\n",
       "      <td>0.891978</td>\n",
       "      <td>2759.244643</td>\n",
       "    </tr>\n",
       "    <tr>\n",
       "      <th>min</th>\n",
       "      <td>18.000000</td>\n",
       "      <td>1.000000</td>\n",
       "      <td>90.900000</td>\n",
       "      <td>4.000000</td>\n",
       "      <td>3.470000</td>\n",
       "      <td>1.000000</td>\n",
       "    </tr>\n",
       "    <tr>\n",
       "      <th>25%</th>\n",
       "      <td>33.000000</td>\n",
       "      <td>370.000000</td>\n",
       "      <td>192.320000</td>\n",
       "      <td>4184.000000</td>\n",
       "      <td>7.350000</td>\n",
       "      <td>2044.000000</td>\n",
       "    </tr>\n",
       "    <tr>\n",
       "      <th>50%</th>\n",
       "      <td>42.000000</td>\n",
       "      <td>853.000000</td>\n",
       "      <td>209.830000</td>\n",
       "      <td>8403.000000</td>\n",
       "      <td>8.020000</td>\n",
       "      <td>4095.000000</td>\n",
       "    </tr>\n",
       "    <tr>\n",
       "      <th>75%</th>\n",
       "      <td>49.000000</td>\n",
       "      <td>1583.000000</td>\n",
       "      <td>225.550000</td>\n",
       "      <td>12758.000000</td>\n",
       "      <td>8.620000</td>\n",
       "      <td>6290.000000</td>\n",
       "    </tr>\n",
       "    <tr>\n",
       "      <th>max</th>\n",
       "      <td>80.000000</td>\n",
       "      <td>3834.000000</td>\n",
       "      <td>284.230000</td>\n",
       "      <td>17598.000000</td>\n",
       "      <td>10.850000</td>\n",
       "      <td>10648.000000</td>\n",
       "    </tr>\n",
       "  </tbody>\n",
       "</table>\n",
       "</div>"
      ],
      "text/plain": [
       "                age      division      official       overall          pace  \\\n",
       "count  14701.000000  14701.000000  14701.000000  14701.000000  14701.000000   \n",
       "mean      41.402422   1115.322359    208.724292   8536.029046      7.968954   \n",
       "std       10.426038    947.694827     23.382720   5042.430706      0.891978   \n",
       "min       18.000000      1.000000     90.900000      4.000000      3.470000   \n",
       "25%       33.000000    370.000000    192.320000   4184.000000      7.350000   \n",
       "50%       42.000000    853.000000    209.830000   8403.000000      8.020000   \n",
       "75%       49.000000   1583.000000    225.550000  12758.000000      8.620000   \n",
       "max       80.000000   3834.000000    284.230000  17598.000000     10.850000   \n",
       "\n",
       "          genderdiv  \n",
       "count  14701.000000  \n",
       "mean    4339.229304  \n",
       "std     2759.244643  \n",
       "min        1.000000  \n",
       "25%     2044.000000  \n",
       "50%     4095.000000  \n",
       "75%     6290.000000  \n",
       "max    10648.000000  "
      ]
     },
     "execution_count": 4,
     "metadata": {},
     "output_type": "execute_result"
    }
   ],
   "source": [
    "df.drop('ctz', axis=1).dropna().describe() #this will hurt the data set and it has zero relevance to the data."
   ]
  },
  {
   "cell_type": "code",
   "execution_count": 5,
   "metadata": {},
   "outputs": [],
   "source": [
    "df = df.drop('ctz', axis=1).dropna()"
   ]
  },
  {
   "cell_type": "code",
   "execution_count": 6,
   "metadata": {},
   "outputs": [
    {
     "name": "stderr",
     "output_type": "stream",
     "text": [
      "c:\\users\\ben\\appdata\\local\\programs\\python\\python37-32\\lib\\site-packages\\ipykernel_launcher.py:5: SettingWithCopyWarning: \n",
      "A value is trying to be set on a copy of a slice from a DataFrame.\n",
      "Try using .loc[row_indexer,col_indexer] = value instead\n",
      "\n",
      "See the caveats in the documentation: http://pandas.pydata.org/pandas-docs/stable/indexing.html#indexing-view-versus-copy\n",
      "  \"\"\"\n",
      "c:\\users\\ben\\appdata\\local\\programs\\python\\python37-32\\lib\\site-packages\\pandas\\core\\indexing.py:543: SettingWithCopyWarning: \n",
      "A value is trying to be set on a copy of a slice from a DataFrame.\n",
      "Try using .loc[row_indexer,col_indexer] = value instead\n",
      "\n",
      "See the caveats in the documentation: http://pandas.pydata.org/pandas-docs/stable/indexing.html#indexing-view-versus-copy\n",
      "  self.obj[item] = s\n"
     ]
    }
   ],
   "source": [
    "features = df[['5k','10k','20k','25k','30k','35k','40k','half','pace','official','age']]\n",
    "\n",
    "##\n",
    "\n",
    "features['genderfemale'] = 0\n",
    "features.loc[(df['gender'] == 'F'), 'genderfemale'] = 1"
   ]
  },
  {
   "cell_type": "code",
   "execution_count": 7,
   "metadata": {},
   "outputs": [
    {
     "name": "stderr",
     "output_type": "stream",
     "text": [
      "c:\\users\\ben\\appdata\\local\\programs\\python\\python37-32\\lib\\site-packages\\ipykernel_launcher.py:1: FutureWarning: convert_objects is deprecated.  To re-infer data dtypes for object columns, use DataFrame.infer_objects()\n",
      "For all other conversions use the data-type specific converters pd.to_datetime, pd.to_timedelta and pd.to_numeric.\n",
      "  \"\"\"Entry point for launching an IPython kernel.\n"
     ]
    }
   ],
   "source": [
    "features = features.convert_objects(convert_numeric=True)\n",
    "features = features.dropna()"
   ]
  },
  {
   "cell_type": "code",
   "execution_count": 8,
   "metadata": {},
   "outputs": [
    {
     "data": {
      "text/html": [
       "<div>\n",
       "<style scoped>\n",
       "    .dataframe tbody tr th:only-of-type {\n",
       "        vertical-align: middle;\n",
       "    }\n",
       "\n",
       "    .dataframe tbody tr th {\n",
       "        vertical-align: top;\n",
       "    }\n",
       "\n",
       "    .dataframe thead th {\n",
       "        text-align: right;\n",
       "    }\n",
       "</style>\n",
       "<table border=\"1\" class=\"dataframe\">\n",
       "  <thead>\n",
       "    <tr style=\"text-align: right;\">\n",
       "      <th></th>\n",
       "      <th>5k</th>\n",
       "      <th>10k</th>\n",
       "      <th>20k</th>\n",
       "      <th>25k</th>\n",
       "      <th>30k</th>\n",
       "      <th>35k</th>\n",
       "      <th>40k</th>\n",
       "      <th>half</th>\n",
       "      <th>pace</th>\n",
       "      <th>official</th>\n",
       "      <th>age</th>\n",
       "      <th>genderfemale</th>\n",
       "    </tr>\n",
       "  </thead>\n",
       "  <tbody>\n",
       "    <tr>\n",
       "      <th>0</th>\n",
       "      <td>8.90</td>\n",
       "      <td>18.18</td>\n",
       "      <td>38.80</td>\n",
       "      <td>49.87</td>\n",
       "      <td>62.07</td>\n",
       "      <td>74.73</td>\n",
       "      <td>85.55</td>\n",
       "      <td>40.93</td>\n",
       "      <td>3.47</td>\n",
       "      <td>90.90</td>\n",
       "      <td>28</td>\n",
       "      <td>0</td>\n",
       "    </tr>\n",
       "    <tr>\n",
       "      <th>8</th>\n",
       "      <td>9.38</td>\n",
       "      <td>19.77</td>\n",
       "      <td>41.77</td>\n",
       "      <td>52.62</td>\n",
       "      <td>64.00</td>\n",
       "      <td>75.95</td>\n",
       "      <td>86.48</td>\n",
       "      <td>43.97</td>\n",
       "      <td>3.50</td>\n",
       "      <td>91.78</td>\n",
       "      <td>49</td>\n",
       "      <td>0</td>\n",
       "    </tr>\n",
       "    <tr>\n",
       "      <th>17</th>\n",
       "      <td>9.38</td>\n",
       "      <td>19.75</td>\n",
       "      <td>42.05</td>\n",
       "      <td>53.07</td>\n",
       "      <td>65.68</td>\n",
       "      <td>79.13</td>\n",
       "      <td>89.88</td>\n",
       "      <td>44.20</td>\n",
       "      <td>3.65</td>\n",
       "      <td>95.48</td>\n",
       "      <td>46</td>\n",
       "      <td>0</td>\n",
       "    </tr>\n",
       "    <tr>\n",
       "      <th>22</th>\n",
       "      <td>9.37</td>\n",
       "      <td>19.78</td>\n",
       "      <td>42.02</td>\n",
       "      <td>53.08</td>\n",
       "      <td>65.97</td>\n",
       "      <td>79.82</td>\n",
       "      <td>90.45</td>\n",
       "      <td>44.18</td>\n",
       "      <td>3.67</td>\n",
       "      <td>95.98</td>\n",
       "      <td>29</td>\n",
       "      <td>0</td>\n",
       "    </tr>\n",
       "    <tr>\n",
       "      <th>23</th>\n",
       "      <td>15.57</td>\n",
       "      <td>30.92</td>\n",
       "      <td>61.52</td>\n",
       "      <td>77.28</td>\n",
       "      <td>93.17</td>\n",
       "      <td>109.25</td>\n",
       "      <td>125.18</td>\n",
       "      <td>64.92</td>\n",
       "      <td>5.05</td>\n",
       "      <td>132.20</td>\n",
       "      <td>32</td>\n",
       "      <td>0</td>\n",
       "    </tr>\n",
       "  </tbody>\n",
       "</table>\n",
       "</div>"
      ],
      "text/plain": [
       "       5k    10k    20k    25k    30k     35k     40k   half  pace  official  \\\n",
       "0    8.90  18.18  38.80  49.87  62.07   74.73   85.55  40.93  3.47     90.90   \n",
       "8    9.38  19.77  41.77  52.62  64.00   75.95   86.48  43.97  3.50     91.78   \n",
       "17   9.38  19.75  42.05  53.07  65.68   79.13   89.88  44.20  3.65     95.48   \n",
       "22   9.37  19.78  42.02  53.08  65.97   79.82   90.45  44.18  3.67     95.98   \n",
       "23  15.57  30.92  61.52  77.28  93.17  109.25  125.18  64.92  5.05    132.20   \n",
       "\n",
       "    age  genderfemale  \n",
       "0    28             0  \n",
       "8    49             0  \n",
       "17   46             0  \n",
       "22   29             0  \n",
       "23   32             0  "
      ]
     },
     "execution_count": 8,
     "metadata": {},
     "output_type": "execute_result"
    }
   ],
   "source": [
    "features.head()"
   ]
  },
  {
   "cell_type": "code",
   "execution_count": 9,
   "metadata": {},
   "outputs": [
    {
     "name": "stderr",
     "output_type": "stream",
     "text": [
      "c:\\users\\ben\\appdata\\local\\programs\\python\\python37-32\\lib\\site-packages\\ipykernel_launcher.py:1: UserWarning: Boolean Series key will be reindexed to match DataFrame index.\n",
      "  \"\"\"Entry point for launching an IPython kernel.\n",
      "c:\\users\\ben\\appdata\\local\\programs\\python\\python37-32\\lib\\site-packages\\ipykernel_launcher.py:2: UserWarning: Boolean Series key will be reindexed to match DataFrame index.\n",
      "  \n",
      "c:\\users\\ben\\appdata\\local\\programs\\python\\python37-32\\lib\\site-packages\\ipykernel_launcher.py:4: UserWarning: Boolean Series key will be reindexed to match DataFrame index.\n",
      "  after removing the cwd from sys.path.\n",
      "c:\\users\\ben\\appdata\\local\\programs\\python\\python37-32\\lib\\site-packages\\ipykernel_launcher.py:5: UserWarning: Boolean Series key will be reindexed to match DataFrame index.\n",
      "  \"\"\"\n"
     ]
    }
   ],
   "source": [
    "features.loc['over50menmedian'] = features[features['age'] >= 50][features['genderfemale'] == 1].median()\n",
    "features.loc['over50womenmedian'] = features[features['age'] >= 50][features['genderfemale'] == 0].median()\n",
    "\n",
    "features.loc['under50menmedian'] = features[features['age'] <= 49][features['genderfemale'] == 1].median()\n",
    "features.loc['under50womenmedian'] = features[features['age'] <= 49][features['genderfemale'] == 0].median()"
   ]
  },
  {
   "cell_type": "code",
   "execution_count": 10,
   "metadata": {},
   "outputs": [],
   "source": [
    "over50menmedianseconds = features.loc['over50menmedian'].iloc[:8].values.tolist()\n",
    "over50menmediansecondslist = []\n",
    "for j in over50menmedianseconds:\n",
    "    over50menmediansecondslist.append(j)\n",
    "\n",
    "over50womenmedianseconds = features.loc['over50womenmedian'].iloc[:8].values.tolist()\n",
    "over50womenmediansecondslist = []\n",
    "for j in over50womenmedianseconds:\n",
    "    over50womenmediansecondslist.append(j)\n",
    "    \n",
    "under50menmedianseconds = features.loc['under50menmedian'].iloc[:8].values.tolist()\n",
    "under50menmediansecondslist = []\n",
    "for j in under50menmedianseconds:\n",
    "    under50menmediansecondslist.append(j)\n",
    "\n",
    "under50womenmedianseconds = features.loc['under50womenmedian'].iloc[:8].values.tolist()\n",
    "under50womenmediansecondslist = []\n",
    "for j in under50womenmedianseconds:\n",
    "    under50womenmediansecondslist.append(j)"
   ]
  },
  {
   "cell_type": "code",
   "execution_count": 30,
   "metadata": {},
   "outputs": [
    {
     "data": {
      "image/png": "[encoded data removed]",
      "text/plain": [
       "<Figure size 1296x648 with 3 Axes>"
      ]
     },
     "metadata": {
      "needs_background": "light"
     },
     "output_type": "display_data"
    }
   ],
   "source": [
    "n_groups = 8\n",
    "\n",
    "fig, ax = plt.subplots(figsize=(18,9))\n",
    "ax.axes.get_xaxis().set_visible(False)\n",
    "ax.axes.get_yaxis().set_visible(False)\n",
    "\n",
    "ax = fig.add_subplot(121)\n",
    "\n",
    "index = np.arange(n_groups)\n",
    "bar_width = 0.36\n",
    "opacity = 0.9\n",
    "\n",
    "rects1 = plt.bar(index, under50menmediansecondslist, bar_width,\n",
    "                 alpha=opacity,\n",
    "                 color='teal',\n",
    "                 label='Average Male <50 by Seconds')\n",
    " \n",
    "rects2 = plt.bar(index + bar_width, under50womenmediansecondslist, bar_width,\n",
    "                 alpha=opacity,\n",
    "                 color='lightpink',\n",
    "                 label='Average Female <50 by Seconds')\n",
    " \n",
    "plt.xlabel('Race Milestones')\n",
    "plt.ylabel('Seconds')\n",
    "plt.title('2013 Race Results')\n",
    "plt.yticks(np.arange(0, 260, 50))\n",
    "plt.xticks(index, ('5K', '10K', '20K', '25K', '30K', '35K', '40K', 'half'))\n",
    "plt.legend()\n",
    "\n",
    "ax = fig.add_subplot(122)\n",
    "ax.axes.get_yaxis().set_visible(False)\n",
    "\n",
    "index = np.arange(n_groups)\n",
    "bar_width = 0.36\n",
    "opacity = 0.9\n",
    " \n",
    "rects1 = plt.bar(index, over50menmediansecondslist, bar_width,\n",
    "                 alpha=opacity,\n",
    "                 color='teal',\n",
    "                 label='Average Male 50+ by Seconds')\n",
    " \n",
    "rects2 = plt.bar(index + bar_width, over50womenmediansecondslist, bar_width,\n",
    "                 alpha=opacity,\n",
    "                 color='lightpink',\n",
    "                 label='Average Female 50+ by Seconds')\n",
    " \n",
    "plt.xlabel('Race Milestones')\n",
    "plt.ylabel('Seconds')\n",
    "plt.title('2013 Race Results')\n",
    "plt.xticks(index, ('5K', '10K', '20K', '25K', '30K', '35K', '40K', 'half'))\n",
    "plt.legend()\n",
    "\n",
    "plt.tight_layout()\n",
    "plt.show()"
   ]
  },
  {
   "cell_type": "markdown",
   "metadata": {},
   "source": [
    "The results with the participants in the race of the <50 vs. 50+ age groups same to trend the same way except that more participants went up in the 40K race in the 50+ age group than the younger age group."
   ]
  },
  {
   "cell_type": "markdown",
   "metadata": {},
   "source": [
    "# DBSCAN Results"
   ]
  },
  {
   "cell_type": "code",
   "execution_count": 12,
   "metadata": {},
   "outputs": [],
   "source": [
    "features1 = features[['5k', '10k', '20k', '25k', '30k', '35k', '40k', 'pace', 'official', 'age', 'genderfemale', 'half']]"
   ]
  },
  {
   "cell_type": "code",
   "execution_count": 13,
   "metadata": {},
   "outputs": [
    {
     "name": "stderr",
     "output_type": "stream",
     "text": [
      "c:\\users\\ben\\appdata\\local\\programs\\python\\python37-32\\lib\\site-packages\\ipykernel_launcher.py:1: UserWarning: Boolean Series key will be reindexed to match DataFrame index.\n",
      "  \"\"\"Entry point for launching an IPython kernel.\n",
      "c:\\users\\ben\\appdata\\local\\programs\\python\\python37-32\\lib\\site-packages\\ipykernel_launcher.py:2: UserWarning: Boolean Series key will be reindexed to match DataFrame index.\n",
      "  \n"
     ]
    }
   ],
   "source": [
    "features1_50overmale = features1[features1['genderfemale'] == 1][features1['age'] >= 50]\n",
    "features1_50overfemale = features1[features1['genderfemale'] == 0][features1['age'] >= 50]"
   ]
  },
  {
   "cell_type": "code",
   "execution_count": 14,
   "metadata": {},
   "outputs": [],
   "source": [
    "DBSCANdfmale = features1_50overmale[['half','pace']]\n",
    "DBSCANdffemale = features1_50overfemale[['half','pace']]"
   ]
  },
  {
   "cell_type": "code",
   "execution_count": 15,
   "metadata": {},
   "outputs": [],
   "source": [
    "dbsc = DBSCAN(eps = .5, min_samples = 30).fit(DBSCANdffemale)\n",
    "\n",
    "labels_female = dbsc.labels_\n",
    "coresamplesfemale = np.zeros_like(labels_female, dtype = bool)\n",
    "coresamplesfemale[dbsc.core_sample_indices_] = True"
   ]
  },
  {
   "cell_type": "code",
   "execution_count": 16,
   "metadata": {},
   "outputs": [],
   "source": [
    "dbsc = DBSCAN(eps = .5, min_samples = 30).fit(DBSCANdfmale)\n",
    "\n",
    "labelsmale = dbsc.labels_\n",
    "coresamplesmale = np.zeros_like(labelsmale, dtype = bool)\n",
    "coresamplesmale[dbsc.core_sample_indices_] = True"
   ]
  },
  {
   "cell_type": "code",
   "execution_count": 17,
   "metadata": {},
   "outputs": [
    {
     "name": "stderr",
     "output_type": "stream",
     "text": [
      "c:\\users\\ben\\appdata\\local\\programs\\python\\python37-32\\lib\\site-packages\\ipykernel_launcher.py:2: SettingWithCopyWarning: \n",
      "A value is trying to be set on a copy of a slice from a DataFrame.\n",
      "Try using .loc[row_indexer,col_indexer] = value instead\n",
      "\n",
      "See the caveats in the documentation: http://pandas.pydata.org/pandas-docs/stable/indexing.html#indexing-view-versus-copy\n",
      "  \n",
      "c:\\users\\ben\\appdata\\local\\programs\\python\\python37-32\\lib\\site-packages\\ipykernel_launcher.py:5: SettingWithCopyWarning: \n",
      "A value is trying to be set on a copy of a slice from a DataFrame.\n",
      "Try using .loc[row_indexer,col_indexer] = value instead\n",
      "\n",
      "See the caveats in the documentation: http://pandas.pydata.org/pandas-docs/stable/indexing.html#indexing-view-versus-copy\n",
      "  \"\"\"\n"
     ]
    }
   ],
   "source": [
    "resultsmale=list(coresamplesmale)\n",
    "DBSCANdfmale['Results']=resultsmale\n",
    "\n",
    "resultsfemale=list(coresamplesfemale)\n",
    "DBSCANdffemale['Results']=resultsfemale"
   ]
  },
  {
   "cell_type": "code",
   "execution_count": 18,
   "metadata": {},
   "outputs": [
    {
     "data": {
      "image/png": "[encoded data removed]",
      "text/plain": [
       "<Figure size 422.125x360 with 1 Axes>"
      ]
     },
     "metadata": {
      "needs_background": "light"
     },
     "output_type": "display_data"
    },
    {
     "data": {
      "image/png": "[encoded data removed]",
      "text/plain": [
       "<Figure size 422.125x360 with 1 Axes>"
      ]
     },
     "metadata": {
      "needs_background": "light"
     },
     "output_type": "display_data"
    }
   ],
   "source": [
    "sns.lmplot('half', 'pace', data=DBSCANdfmale, fit_reg=False, hue='Results')\n",
    "plt.title('Men over the age of 50: Pace (Seconds) and Age')\n",
    "\n",
    "sns.lmplot('half', 'pace', data=DBSCANdffemale, fit_reg=False, hue='Results')\n",
    "plt.title('Women over the age of 50: Pace (Seconds) and Age')\n",
    "\n",
    "plt.show()"
   ]
  },
  {
   "cell_type": "code",
   "execution_count": 19,
   "metadata": {},
   "outputs": [],
   "source": [
    "X = features[features['age'] >= 50].drop(['genderfemale'], axis=1)\n",
    "y = features['genderfemale'][features['age'] >= 50]\n",
    "\n",
    "X_train, X_test, y_train, y_test = train_test_split(\n",
    "    X,\n",
    "    y,\n",
    "    test_size=0.9,\n",
    "    random_state=42)"
   ]
  },
  {
   "cell_type": "markdown",
   "metadata": {},
   "source": [
    "# K-Means"
   ]
  },
  {
   "cell_type": "code",
   "execution_count": 20,
   "metadata": {},
   "outputs": [
    {
     "data": {
      "image/png": "[encoded data removed]",
      "text/plain": [
       "<Figure size 432x288 with 1 Axes>"
      ]
     },
     "metadata": {
      "needs_background": "light"
     },
     "output_type": "display_data"
    },
    {
     "name": "stdout",
     "output_type": "stream",
     "text": [
      "K-means vs. data:\n",
      "genderfemale   0.0  1.0\n",
      "row_0                  \n",
      "0              811  257\n",
      "1             1904  502\n"
     ]
    }
   ],
   "source": [
    "X_norm = normalize(X)\n",
    "\n",
    "X_pca = PCA(2).fit_transform(X_norm)\n",
    "\n",
    "y_pred = KMeans(n_clusters=2, random_state=42).fit_predict(X_pca)\n",
    "\n",
    "plt.scatter(X_pca[:, 0], X_pca[:, 1], c=y_pred)\n",
    "plt.show()\n",
    "\n",
    "print('K-means vs. data:')\n",
    "print(pd.crosstab(y_pred, y))"
   ]
  },
  {
   "cell_type": "markdown",
   "metadata": {},
   "source": [
    "# Mini-Batch"
   ]
  },
  {
   "cell_type": "code",
   "execution_count": 29,
   "metadata": {},
   "outputs": [
    {
     "name": "stdout",
     "output_type": "stream",
     "text": [
      "K-Means vs. mini batches:\n",
      "col_0     0     1\n",
      "row_0            \n",
      "0         0  2370\n",
      "1      1068    36\n"
     ]
    }
   ],
   "source": [
    "minibatchkmeans = MiniBatchKMeans(\n",
    "    init='random',\n",
    "    n_clusters=2,\n",
    "    batch_size=200)\n",
    "minibatchkmeans.fit(X_pca)\n",
    "\n",
    "predict_mini = minibatchkmeans.predict(X_pca)\n",
    "\n",
    "print('K-Means vs. mini batches:')\n",
    "print(pd.crosstab(predict_mini, y_pred))"
   ]
  },
  {
   "cell_type": "markdown",
   "metadata": {},
   "source": [
    "# Tables for Contingency"
   ]
  },
  {
   "cell_type": "code",
   "execution_count": 22,
   "metadata": {},
   "outputs": [
    {
     "data": {
      "text/html": [
       "<div>\n",
       "<style scoped>\n",
       "    .dataframe tbody tr th:only-of-type {\n",
       "        vertical-align: middle;\n",
       "    }\n",
       "\n",
       "    .dataframe tbody tr th {\n",
       "        vertical-align: top;\n",
       "    }\n",
       "\n",
       "    .dataframe thead th {\n",
       "        text-align: right;\n",
       "    }\n",
       "</style>\n",
       "<table border=\"1\" class=\"dataframe\">\n",
       "  <thead>\n",
       "    <tr style=\"text-align: right;\">\n",
       "      <th>col_0</th>\n",
       "      <th>0</th>\n",
       "      <th>1</th>\n",
       "    </tr>\n",
       "    <tr>\n",
       "      <th>genderfemale</th>\n",
       "      <th></th>\n",
       "      <th></th>\n",
       "    </tr>\n",
       "  </thead>\n",
       "  <tbody>\n",
       "    <tr>\n",
       "      <th>0.0</th>\n",
       "      <td>808</td>\n",
       "      <td>1907</td>\n",
       "    </tr>\n",
       "    <tr>\n",
       "      <th>1.0</th>\n",
       "      <td>253</td>\n",
       "      <td>506</td>\n",
       "    </tr>\n",
       "  </tbody>\n",
       "</table>\n",
       "</div>"
      ],
      "text/plain": [
       "col_0           0     1\n",
       "genderfemale           \n",
       "0.0           808  1907\n",
       "1.0           253   506"
      ]
     },
     "execution_count": 22,
     "metadata": {},
     "output_type": "execute_result"
    }
   ],
   "source": [
    "full_pred = KMeans(n_clusters=2, random_state=42).fit_predict(X_norm)\n",
    "\n",
    "pd.crosstab(y, full_pred)"
   ]
  },
  {
   "cell_type": "code",
   "execution_count": 28,
   "metadata": {},
   "outputs": [
    {
     "name": "stdout",
     "output_type": "stream",
     "text": [
      "0.01168531279227736 is the adjusted random index.\n"
     ]
    }
   ],
   "source": [
    "metrics1 = metrics.adjusted_rand_score(y, full_pred)\n",
    "print(\"{} is the adjusted random index.\".format(metrics1))"
   ]
  },
  {
   "cell_type": "code",
   "execution_count": 24,
   "metadata": {},
   "outputs": [
    {
     "name": "stdout",
     "output_type": "stream",
     "text": [
      "2 is the number of estimated clusters.\n"
     ]
    }
   ],
   "source": [
    "\n",
    "\n",
    "bandwidth = estimate_bandwidth(X_pca, quantile=0.2, n_samples=1000)\n",
    "\n",
    "ms = MeanShift(bandwidth=bandwidth, bin_seeding=True)\n",
    "ms.fit(X_pca)\n",
    "\n",
    "labels = ms.labels_\n",
    "\n",
    "cluster_centers = ms.cluster_centers_\n",
    "\n",
    "n_clusters_ = len(np.unique(labels))\n",
    "\n",
    "print(\"{} is the number of estimated clusters.\".format(n_clusters_))"
   ]
  },
  {
   "cell_type": "code",
   "execution_count": 25,
   "metadata": {},
   "outputs": [
    {
     "data": {
      "image/png": "[encoded data removed]",
      "text/plain": [
       "<Figure size 432x288 with 1 Axes>"
      ]
     },
     "metadata": {
      "needs_background": "light"
     },
     "output_type": "display_data"
    },
    {
     "name": "stdout",
     "output_type": "stream",
     "text": [
      "Categories vs. data:\n",
      "col_0     0   1\n",
      "row_0          \n",
      "0      1053  15\n",
      "1      2374  32\n"
     ]
    }
   ],
   "source": [
    "plt.scatter(X_pca[:, 0], X_pca[:, 1], c=labels)\n",
    "plt.show()\n",
    "\n",
    "print('Categories vs. data:')\n",
    "print(pd.crosstab(y_pred,labels))"
   ]
  }
 ],
 "metadata": {
  "kernelspec": {
   "display_name": "Python 3",
   "language": "python",
   "name": "python3"
  },
  "language_info": {
   "codemirror_mode": {
    "name": "ipython",
    "version": 3
   },
   "file_extension": ".py",
   "mimetype": "text/x-python",
   "name": "python",
   "nbconvert_exporter": "python",
   "pygments_lexer": "ipython3",
   "version": "3.7.0"
  }
 },
 "nbformat": 4,
 "nbformat_minor": 2
}
