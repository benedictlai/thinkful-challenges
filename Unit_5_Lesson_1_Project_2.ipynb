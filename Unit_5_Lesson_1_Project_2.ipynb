{
  "nbformat": 4,
  "nbformat_minor": 0,
  "metadata": {
    "colab": {
      "name": "Unit 5 Lesson 1 Project 2.ipynb",
      "version": "0.3.2",
      "provenance": [],
      "collapsed_sections": [],
      "include_colab_link": true
    },
    "kernelspec": {
      "name": "python3",
      "display_name": "Python 3"
    }
  },
  "cells": [
    {
      "cell_type": "markdown",
      "metadata": {
        "id": "view-in-github",
        "colab_type": "text"
      },
      "source": [
        "<a href=\"https://colab.research.google.com/github/benedictlai/thinkful-challenges/blob/master/Unit_5_Lesson_1_Project_2.ipynb\" target=\"_parent\"><img src=\"https://colab.research.google.com/assets/colab-badge.svg\" alt=\"Open In Colab\"/></a>"
      ]
    },
    {
      "cell_type": "code",
      "metadata": {
        "id": "kFcqoM_1gYWb",
        "colab_type": "code",
        "colab": {}
      },
      "source": [
        "import time\n",
        "import random"
      ],
      "execution_count": 0,
      "outputs": []
    },
    {
      "cell_type": "code",
      "metadata": {
        "id": "NtXYj27ngbiD",
        "colab_type": "code",
        "colab": {}
      },
      "source": [
        "random.seed(a=100)\n",
        "\n",
        "heapshort = list(random.sample(range(1000000), 10))\n",
        "heaplong = list(random.sample(range(1000000), 10000))\n",
        "\n",
        "selectionshort = list(random.sample(range(1000000), 10))\n",
        "selectionlong = list(random.sample(range(1000000), 10000))\n",
        "\n",
        "pyshort = list(random.sample(range(1000000), 10))\n",
        "pylong = list(random.sample(range(1000000), 10000))"
      ],
      "execution_count": 0,
      "outputs": []
    },
    {
      "cell_type": "code",
      "metadata": {
        "id": "gUfJpWxOnAIB",
        "colab_type": "code",
        "colab": {}
      },
      "source": [
        ""
      ],
      "execution_count": 0,
      "outputs": []
    },
    {
      "cell_type": "code",
      "metadata": {
        "id": "4N1_28ZyhXq4",
        "colab_type": "code",
        "colab": {}
      },
      "source": [
        "def heapsort(s):                               \n",
        "    sl = len(s)                                    \n",
        "\n",
        "    def swap(pi, ci):                              \n",
        "        if s[pi] < s[ci]:                          \n",
        "            s[pi], s[ci] = s[ci], s[pi]            \n",
        "\n",
        "    def sift(pi, unsorted):                        \n",
        "        i_gt = lambda a, b: a if s[a] > s[b] else b\n",
        "        while pi*2+2 < unsorted:                   \n",
        "            gtci = i_gt(pi*2+1, pi*2+2)            \n",
        "            swap(pi, gtci)                         \n",
        "            pi = gtci      \n",
        "            \n",
        "    for i in range((sl//2)-1, -1, -1):              \n",
        "        sift(i, sl)                                \n",
        "\n",
        "    for i in range(sl-1, 0, -1):                   \n",
        "        swap(i, 0)                                 \n",
        "        sift(0, i)"
      ],
      "execution_count": 0,
      "outputs": []
    },
    {
      "cell_type": "code",
      "metadata": {
        "id": "7asehpPlhYJh",
        "colab_type": "code",
        "colab": {}
      },
      "source": [
        ""
      ],
      "execution_count": 0,
      "outputs": []
    },
    {
      "cell_type": "code",
      "metadata": {
        "id": "qqarUoK0hX01",
        "colab_type": "code",
        "colab": {}
      },
      "source": [
        ""
      ],
      "execution_count": 0,
      "outputs": []
    },
    {
      "cell_type": "code",
      "metadata": {
        "id": "iWq1wQYthYUx",
        "colab_type": "code",
        "outputId": "d4770975-f7c2-469c-fab5-e0b300a0375f",
        "colab": {
          "base_uri": "https://localhost:8080/",
          "height": 52
        }
      },
      "source": [
        "starttime = time.time()\n",
        "\n",
        "heapsort(heapshort)\n",
        "\n",
        "heaptime = time.time() - starttime\n",
        "print(\"It took %s seconds.\" % (heaptime))\n",
        "print(heapshort)"
      ],
      "execution_count": 0,
      "outputs": [
        {
          "output_type": "stream",
          "text": [
            "It took 0.0012009143829345703 seconds.\n",
            "[152745, 183236, 366725, 412125, 477025, 481850, 739784, 767514, 808225, 997948]\n"
          ],
          "name": "stdout"
        }
      ]
    },
    {
      "cell_type": "code",
      "metadata": {
        "id": "zpc-I5L8nYTP",
        "colab_type": "code",
        "outputId": "0f15716b-64d7-4653-dc1b-42ab125c7fa0",
        "colab": {
          "base_uri": "https://localhost:8080/",
          "height": 34
        }
      },
      "source": [
        "starttime = time.time()\n",
        "\n",
        "heapsort(heaplong)\n",
        "\n",
        "print(\"It took %s seconds.\" % (time.time() - starttime))"
      ],
      "execution_count": 0,
      "outputs": [
        {
          "output_type": "stream",
          "text": [
            "It took 0.08035826683044434 seconds.\n"
          ],
          "name": "stdout"
        }
      ]
    },
    {
      "cell_type": "code",
      "metadata": {
        "id": "aV3BovinmZSb",
        "colab_type": "code",
        "colab": {}
      },
      "source": [
        "def selectionSort(alist):\n",
        "    for i in range(len(alist)):\n",
        "        minPosition = i\n",
        "        \n",
        "        for j in range(i+1, len(alist)):\n",
        "            if alist[minPosition] > alist[j]:\n",
        "                minPosition = j\n",
        "        temp = alist[i]\n",
        "        alist[i] = alist[minPosition]\n",
        "        alist[minPosition] = temp\n",
        "        \n",
        "    return alist"
      ],
      "execution_count": 0,
      "outputs": []
    },
    {
      "cell_type": "code",
      "metadata": {
        "id": "CFqQWhuNmjQr",
        "colab_type": "code",
        "outputId": "c44c21de-ae7c-4e2e-825a-c75c01c39d21",
        "colab": {
          "base_uri": "https://localhost:8080/",
          "height": 52
        }
      },
      "source": [
        "starttime = time.time()\n",
        "\n",
        "selectionSort(selectionshort)\n",
        "\n",
        "selectiontime = time.time() - starttime\n",
        "\n",
        "print(\"It took %s seconds.\" % (selectiontime))\n",
        "print(selectionshort)"
      ],
      "execution_count": 0,
      "outputs": [
        {
          "output_type": "stream",
          "text": [
            "It took 5.745887756347656e-05 seconds.\n",
            "[142308, 158968, 203147, 271434, 322428, 393382, 484317, 734720, 820597, 966692]\n"
          ],
          "name": "stdout"
        }
      ]
    },
    {
      "cell_type": "code",
      "metadata": {
        "id": "xXsoYktTnOGg",
        "colab_type": "code",
        "outputId": "c981b738-0a75-4803-ce19-a2d2daa95fc1",
        "colab": {
          "base_uri": "https://localhost:8080/",
          "height": 34
        }
      },
      "source": [
        "starttime = time.time()\n",
        "\n",
        "selectionSort(selectionlong)\n",
        "\n",
        "print(\"It took %s seconds.\" % (time.time() - starttime))"
      ],
      "execution_count": 0,
      "outputs": [
        {
          "output_type": "stream",
          "text": [
            "It took 3.910346746444702 seconds.\n"
          ],
          "name": "stdout"
        }
      ]
    },
    {
      "cell_type": "code",
      "metadata": {
        "id": "iSTmFvJHnBKn",
        "colab_type": "code",
        "outputId": "04afcf64-5a60-4009-dd3b-d775bf7e249a",
        "colab": {
          "base_uri": "https://localhost:8080/",
          "height": 34
        }
      },
      "source": [
        "starttime = time.time()\n",
        "\n",
        "sorted(pyshort)\n",
        "\n",
        "pytime = time.time() - starttime\n",
        "print(\"It took %s seconds.\" % (pytime))\n"
      ],
      "execution_count": 0,
      "outputs": [
        {
          "output_type": "stream",
          "text": [
            "It took 4.7206878662109375e-05 seconds.\n"
          ],
          "name": "stdout"
        }
      ]
    },
    {
      "cell_type": "code",
      "metadata": {
        "id": "IJbL2AlVnBUj",
        "colab_type": "code",
        "outputId": "313fa78e-8aa3-42df-b373-f64820fd57c8",
        "colab": {
          "base_uri": "https://localhost:8080/",
          "height": 34
        }
      },
      "source": [
        "starttime = time.time()\n",
        "\n",
        "sorted(pylong)\n",
        "\n",
        "print(\"It took %s seconds.\" % (time.time() - starttime))"
      ],
      "execution_count": 0,
      "outputs": [
        {
          "output_type": "stream",
          "text": [
            "It took 0.003070831298828125 seconds.\n"
          ],
          "name": "stdout"
        }
      ]
    },
    {
      "cell_type": "code",
      "metadata": {
        "id": "v1WPOeUcnBdB",
        "colab_type": "code",
        "outputId": "12d09a4d-45ac-460c-d385-8d3de1965ca0",
        "colab": {
          "base_uri": "https://localhost:8080/",
          "height": 70
        }
      },
      "source": [
        "print(\"It took %s seconds for heap.\" % heaptime)\n",
        "print(\"It took %s seconds for selection.\" % selectiontime)\n",
        "print(\"It took %s seconds for python.\" % pytime)"
      ],
      "execution_count": 0,
      "outputs": [
        {
          "output_type": "stream",
          "text": [
            "It took 0.0012009143829345703 seconds for heap.\n",
            "It took 5.745887756347656e-05 seconds for selection.\n",
            "It took 4.7206878662109375e-05 seconds for python.\n"
          ],
          "name": "stdout"
        }
      ]
    },
    {
      "cell_type": "code",
      "metadata": {
        "id": "I81yNcy7nBoD",
        "colab_type": "code",
        "colab": {}
      },
      "source": [
        ""
      ],
      "execution_count": 0,
      "outputs": []
    }
  ]
}