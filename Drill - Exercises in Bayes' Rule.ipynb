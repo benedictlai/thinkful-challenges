{
 "cells": [
  {
   "cell_type": "code",
   "execution_count": 39,
   "metadata": {},
   "outputs": [
    {
     "name": "stdout",
     "output_type": "stream",
     "text": [
      "Be Positive's answer is 10.44%.\n"
     ]
    }
   ],
   "source": [
    "diagnostic_test = 0.98\n",
    "non_sufferer = 0.10\n",
    "sufferers = 0.005\n",
    "answer = (diagnostic_test * sufferers) + (non_sufferer*(1-sufferers))\n",
    "print(\"Be Positive's answer is {}%.\".format(round(answer*100,2)))"
   ]
  },
  {
   "cell_type": "code",
   "execution_count": 22,
   "metadata": {},
   "outputs": [
    {
     "name": "stdout",
     "output_type": "stream",
     "text": [
      "Accurately diagnosing a sufferer with Thripshaw's is 98.0%.\n"
     ]
    }
   ],
   "source": [
    "print(\"Accurately diagnosing a sufferer with Thripshaw's is {}%.\".format(diagnostic_test*100))"
   ]
  },
  {
   "cell_type": "code",
   "execution_count": 21,
   "metadata": {},
   "outputs": [
    {
     "name": "stdout",
     "output_type": "stream",
     "text": [
      "Accurately identifying a non-sufferer with Thripshaw's is 90.0%.\n"
     ]
    }
   ],
   "source": [
    "print(\"Accurately identifying a non-sufferer with Thripshaw's is {}%.\".format(100 - non_sufferer*100))"
   ]
  },
  {
   "cell_type": "code",
   "execution_count": 50,
   "metadata": {},
   "outputs": [
    {
     "ename": "SyntaxError",
     "evalue": "invalid syntax (<ipython-input-50-e13f60d8a905>, line 5)",
     "output_type": "error",
     "traceback": [
      "\u001b[1;36m  File \u001b[1;32m\"<ipython-input-50-e13f60d8a905>\"\u001b[1;36m, line \u001b[1;32m5\u001b[0m\n\u001b[1;33m    print(\"Be Positive's answer is {}%.\".format(round(answer*100,2)))\u001b[0m\n\u001b[1;37m        ^\u001b[0m\n\u001b[1;31mSyntaxError\u001b[0m\u001b[1;31m:\u001b[0m invalid syntax\n"
     ]
    }
   ],
   "source": [
    "diagnostic_test = 0.98\n",
    "non_sufferer = 0.10\n",
    "sufferers = 0.005\n",
    "answer = 1(diagnostic_test * sufferers) + ((1-non_sufferer)*(1-sufferers))\n",
    "print(\"Be Positive's answer is {}%.\".format(round(answer*100,2)))"
   ]
  },
  {
   "cell_type": "code",
   "execution_count": null,
   "metadata": {},
   "outputs": [],
   "source": []
  },
  {
   "cell_type": "code",
   "execution_count": null,
   "metadata": {},
   "outputs": [],
   "source": []
  }
 ],
 "metadata": {
  "kernelspec": {
   "display_name": "Python 3",
   "language": "python",
   "name": "python3"
  },
  "language_info": {
   "codemirror_mode": {
    "name": "ipython",
    "version": 3
   },
   "file_extension": ".py",
   "mimetype": "text/x-python",
   "name": "python",
   "nbconvert_exporter": "python",
   "pygments_lexer": "ipython3",
   "version": "3.7.0"
  }
 },
 "nbformat": 4,
 "nbformat_minor": 2
}
