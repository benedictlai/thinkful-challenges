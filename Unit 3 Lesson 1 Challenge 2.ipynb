{
 "cells": [
  {
   "cell_type": "markdown",
   "metadata": {},
   "source": [
    "My answer to this challenge:"
   ]
  },
  {
   "cell_type": "code",
   "execution_count": 7,
   "metadata": {},
   "outputs": [
    {
     "name": "stdout",
     "output_type": "stream",
     "text": [
      "We should combine the data of dining out and entertainment into 'Fun Expenses' and we should combine the groceries and utilities to make the category called 'Required Expenses'.\n",
      "The aspects of KNN would be useful is to characterize people who spend more on 'Required' than 'Fun' expenses. Categories that should be split up is the demographics for each person that pays expenses versus those who do not pay bills on time.\n"
     ]
    }
   ],
   "source": [
    "print(\"We should combine the data of dining out and entertainment into 'Fun Expenses' and we should combine the groceries and utilities to make the category called 'Required Expenses'.\")\n",
    "print(\"The aspects of KNN would be useful is to characterize people who spend more on 'Required' than 'Fun' expenses. Categories that should be split up is the demographics for each person that pays expenses versus those who do not pay bills on time.\")\n",
    "     "
   ]
  }
 ],
 "metadata": {
  "kernelspec": {
   "display_name": "Python 3",
   "language": "python",
   "name": "python3"
  },
  "language_info": {
   "codemirror_mode": {
    "name": "ipython",
    "version": 3
   },
   "file_extension": ".py",
   "mimetype": "text/x-python",
   "name": "python",
   "nbconvert_exporter": "python",
   "pygments_lexer": "ipython3",
   "version": "3.7.0"
  }
 },
 "nbformat": 4,
 "nbformat_minor": 2
}
