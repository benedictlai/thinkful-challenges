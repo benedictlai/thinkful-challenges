{
 "cells": [
  {
   "cell_type": "code",
   "execution_count": 8,
   "metadata": {},
   "outputs": [
    {
     "data": {
      "image/png": "[encoded data removed]",
      "text/plain": [
       "<Figure size 432x288 with 1 Axes>"
      ]
     },
     "metadata": {
      "needs_background": "light"
     },
     "output_type": "display_data"
    },
    {
     "name": "stdout",
     "output_type": "stream",
     "text": [
      "These are the answers to the second set of questions.\n",
      "Results varies because of the random numbers.\n"
     ]
    }
   ],
   "source": [
    "\"1. Generate two normally-distributed variables, one with a mean of 5 and standard deviation of 0.5, and the other with a mean of 10 and standard deviation of 1\"\n",
    "\"2. Add them together to create a third variable\"\n",
    "\"3. Graph the third variable using a histogram\"\n",
    "\"4. Compute the mean and standard deviation and plot them as vertical lines on the histogram\"\n",
    "\"5. Evaluate the descriptive statistics against the data\"\n",
    "\n",
    "import numpy as np\n",
    "import matplotlib.pyplot as plt\n",
    "v1 = np.random.normal(5,.5, 100)\n",
    "v2 = np.random.normal(10,1, 100)\n",
    "v3 = v1+v2\n",
    "message1 = \"These are the answers to the second set of questions.\"\n",
    "message2 = \"Results varies because of the random numbers.\"\n",
    "\n",
    "\n",
    "mean = np.mean(v3)\n",
    "sd = np.std(v3)\n",
    "\n",
    "plt.hist(v3)\n",
    "plt.axvline(x=mean,color='green')\n",
    "plt.axvline(x=mean+sd, color='orange')\n",
    "plt.axvline(x=mean-sd, color='orange')\n",
    "plt.show()\n",
    "print(message1 + \"\\n\" + message2)"
   ]
  },
  {
   "cell_type": "code",
   "execution_count": null,
   "metadata": {},
   "outputs": [],
   "source": [
    "\"Generate a random variable with 100 datapoints using the code distributionvar = np.random.distributionname([arguments], 100), replacing distributionvar with an appropriate variable name and distributionname with the name of the distribution you’ve chosen, and filling in the empty space in the parentheses with your chosen values for the appropriate parameters. If you feel uncertain about how to do this, go back to the “Other Distributions” assignment for examples of code to use as a starting point.\"\n",
    "\"Graph the variable using a histogram\"\n",
    "\"Compute the mean and standard deviation and plot them as vertical lines on the histogram. (Hint: the “When Does It Break?” assignment you just completed can help you here.)\"\n",
    "\"Evaluate whether the descriptive statistics provided useful information about the variable. Can you identify any common characteristics of the distributions that could be usefully described using the mean and/or standard deviation, versus the ones that could not?\""
   ]
  },
  {
   "cell_type": "code",
   "execution_count": 8,
   "metadata": {},
   "outputs": [
    {
     "data": {
      "image/png": "[encoded data removed]",
      "text/plain": [
       "<Figure size 432x288 with 1 Axes>"
      ]
     },
     "metadata": {
      "needs_background": "light"
     },
     "output_type": "display_data"
    },
    {
     "name": "stdout",
     "output_type": "stream",
     "text": [
      "These are the answers to the first set of questions 1-3.\n",
      "The answer to #4 is that the result varies because of the random numbers. The common characteristics I found is that the standard deviation was in the same ballpark as the mean.\n"
     ]
    }
   ],
   "source": [
    "import numpy as np\n",
    "import matplotlib.pyplot as plt\n",
    "v1 = np.random.normal(10,.8, 100)\n",
    "message1 = \"These are the answers to the first set of questions 1-3.\"\n",
    "message2 = \"The answer to #4 is that the result varies because of the random numbers. The common characteristics I found is that the standard deviation was in the same ballpark as the mean.\"\n",
    "\n",
    "\n",
    "mean = np.mean(v1)\n",
    "sd = np.std(v1)\n",
    "\n",
    "plt.hist(v1)\n",
    "plt.axvline(x=mean,color='green')\n",
    "plt.axvline(x=mean+sd, color='yellow')\n",
    "plt.axvline(x=mean-sd, color='yellow')\n",
    "plt.show()\n",
    "print(message1 + \"\\n\" + message2)"
   ]
  },
  {
   "cell_type": "code",
   "execution_count": null,
   "metadata": {},
   "outputs": [],
   "source": []
  }
 ],
 "metadata": {
  "kernelspec": {
   "display_name": "Python 3",
   "language": "python",
   "name": "python3"
  },
  "language_info": {
   "codemirror_mode": {
    "name": "ipython",
    "version": 3
   },
   "file_extension": ".py",
   "mimetype": "text/x-python",
   "name": "python",
   "nbconvert_exporter": "python",
   "pygments_lexer": "ipython3",
   "version": "3.7.0"
  }
 },
 "nbformat": 4,
 "nbformat_minor": 2
}
