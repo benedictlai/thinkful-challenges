{
 "cells": [
  {
   "cell_type": "code",
   "execution_count": 13,
   "metadata": {},
   "outputs": [
    {
     "name": "stdout",
     "output_type": "stream",
     "text": [
      "The answer is 0.25 because those are the odds if I wanted to switch doors to get the winning prize. However, the odds are better when I choose just one door out of three. \n"
     ]
    }
   ],
   "source": [
    "#Bayes' rule applies by the following:\n",
    "\n",
    "winningprize = 1/3 #P(Prize)\n",
    "non_winningprize = 2/3 #P(Dud)\n",
    "prize_or_dud = 1/2 #P(Prize/Two Doors)\n",
    "answer =  winningprize * prize_or_dud / non_winningprize\n",
    "\n",
    "print(\"The answer is {} because those are the odds if I wanted to switch doors to get the winning prize. However, the odds are better when I choose just one door out of three. \".format(answer))"
   ]
  },
  {
   "cell_type": "code",
   "execution_count": null,
   "metadata": {},
   "outputs": [],
   "source": []
  }
 ],
 "metadata": {
  "kernelspec": {
   "display_name": "Python 3",
   "language": "python",
   "name": "python3"
  },
  "language_info": {
   "codemirror_mode": {
    "name": "ipython",
    "version": 3
   },
   "file_extension": ".py",
   "mimetype": "text/x-python",
   "name": "python",
   "nbconvert_exporter": "python",
   "pygments_lexer": "ipython3",
   "version": "3.7.0"
  }
 },
 "nbformat": 4,
 "nbformat_minor": 2
}
