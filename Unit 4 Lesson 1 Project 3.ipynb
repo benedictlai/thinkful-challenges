{
 "cells": [
  {
   "cell_type": "markdown",
   "metadata": {},
   "source": [
    "Define the likelihood that an individual will contract a specific disease\n",
    "- Because we can intrepret the statistics of those who have a disease, I will choose supervised.\n",
    "\n",
    "Translate a set of images into variables for modeling\n",
    "- If you use labeled images, use supervised. If you use unlabeled (non-labeled) images, use unsupervised.\n",
    "\n",
    "An ecommerce company wants to identify power users\n",
    "- Unsupervised because it has many data involved.\n",
    "\n",
    "That same company wants to see shopping patterns in users\n",
    "- Unsupervised because of the many data involved.\n",
    "\n",
    "You want to reduce the number of variables inputting into your random forest model\n",
    "- Unsupervised because of PCA (Principal Component Analysis) involved."
   ]
  }
 ],
 "metadata": {
  "kernelspec": {
   "display_name": "Python 3",
   "language": "python",
   "name": "python3"
  },
  "language_info": {
   "codemirror_mode": {
    "name": "ipython",
    "version": 3
   },
   "file_extension": ".py",
   "mimetype": "text/x-python",
   "name": "python",
   "nbconvert_exporter": "python",
   "pygments_lexer": "ipython3",
   "version": "3.7.0"
  }
 },
 "nbformat": 4,
 "nbformat_minor": 2
}
