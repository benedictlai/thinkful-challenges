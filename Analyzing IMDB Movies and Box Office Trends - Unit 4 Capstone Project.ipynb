{
 "cells": [
  {
   "cell_type": "markdown",
   "metadata": {},
   "source": [
    "# Analyzing IMDB Movies and Box Office Trends - Unit 4 Capstone Project"
   ]
  },
  {
   "cell_type": "markdown",
   "metadata": {},
   "source": [
    "# 1. Introduction\n",
    "For this project, I will use a dataset from Kaggle regarding the top 1000 movies from 2006-2016 according to IMDB (Internet Movie Database), which users voted the most for each movie from 2006-2016. The variables are genre, year, runtime, revenue (millions), metascore, and audience rating score. IMDB (Internet Movie Database) is a company that provides information about the movie. The significance of this project emphasizes the data relating to movies. The dataset helps recommend moviegoers into a certain movie. I am doing this project because I want to find out how the variables relate to each other for each movie especially the audience ratings. This way, we can find out what factors are related with the ratings."
   ]
  },
  {
   "cell_type": "code",
   "execution_count": 1,
   "metadata": {},
   "outputs": [
    {
     "data": {
      "text/html": [
       "<div>\n",
       "<style scoped>\n",
       "    .dataframe tbody tr th:only-of-type {\n",
       "        vertical-align: middle;\n",
       "    }\n",
       "\n",
       "    .dataframe tbody tr th {\n",
       "        vertical-align: top;\n",
       "    }\n",
       "\n",
       "    .dataframe thead th {\n",
       "        text-align: right;\n",
       "    }\n",
       "</style>\n",
       "<table border=\"1\" class=\"dataframe\">\n",
       "  <thead>\n",
       "    <tr style=\"text-align: right;\">\n",
       "      <th></th>\n",
       "      <th>Rank</th>\n",
       "      <th>Title</th>\n",
       "      <th>Genre</th>\n",
       "      <th>Description</th>\n",
       "      <th>Director</th>\n",
       "      <th>Actors</th>\n",
       "      <th>Year</th>\n",
       "      <th>Runtime (Minutes)</th>\n",
       "      <th>Rating</th>\n",
       "      <th>Votes</th>\n",
       "      <th>Revenue (Millions)</th>\n",
       "      <th>Metascore</th>\n",
       "    </tr>\n",
       "  </thead>\n",
       "  <tbody>\n",
       "    <tr>\n",
       "      <th>0</th>\n",
       "      <td>51</td>\n",
       "      <td>Star Wars: Episode VII - The Force Awakens</td>\n",
       "      <td>Action,Adventure,Fantasy</td>\n",
       "      <td>Three decades after the defeat of the Galactic...</td>\n",
       "      <td>J.J. Abrams</td>\n",
       "      <td>Daisy Ridley, John Boyega, Oscar Isaac, Domhna...</td>\n",
       "      <td>2015</td>\n",
       "      <td>136</td>\n",
       "      <td>8.1</td>\n",
       "      <td>661608</td>\n",
       "      <td>936.63</td>\n",
       "      <td>81.0</td>\n",
       "    </tr>\n",
       "    <tr>\n",
       "      <th>1</th>\n",
       "      <td>88</td>\n",
       "      <td>Avatar</td>\n",
       "      <td>Action,Adventure,Fantasy</td>\n",
       "      <td>A paraplegic marine dispatched to the moon Pan...</td>\n",
       "      <td>James Cameron</td>\n",
       "      <td>Sam Worthington, Zoe Saldana, Sigourney Weaver...</td>\n",
       "      <td>2009</td>\n",
       "      <td>162</td>\n",
       "      <td>7.8</td>\n",
       "      <td>935408</td>\n",
       "      <td>760.51</td>\n",
       "      <td>83.0</td>\n",
       "    </tr>\n",
       "    <tr>\n",
       "      <th>2</th>\n",
       "      <td>86</td>\n",
       "      <td>Jurassic World</td>\n",
       "      <td>Action,Adventure,Sci-Fi</td>\n",
       "      <td>A new theme park, built on the original site o...</td>\n",
       "      <td>Colin Trevorrow</td>\n",
       "      <td>Chris Pratt, Bryce Dallas Howard, Ty Simpkins,...</td>\n",
       "      <td>2015</td>\n",
       "      <td>124</td>\n",
       "      <td>7.0</td>\n",
       "      <td>455169</td>\n",
       "      <td>652.18</td>\n",
       "      <td>59.0</td>\n",
       "    </tr>\n",
       "    <tr>\n",
       "      <th>3</th>\n",
       "      <td>77</td>\n",
       "      <td>The Avengers</td>\n",
       "      <td>Action,Sci-Fi</td>\n",
       "      <td>Earth's mightiest heroes must come together an...</td>\n",
       "      <td>Joss Whedon</td>\n",
       "      <td>Robert Downey Jr., Chris Evans, Scarlett Johan...</td>\n",
       "      <td>2012</td>\n",
       "      <td>143</td>\n",
       "      <td>8.1</td>\n",
       "      <td>1045588</td>\n",
       "      <td>623.28</td>\n",
       "      <td>69.0</td>\n",
       "    </tr>\n",
       "    <tr>\n",
       "      <th>4</th>\n",
       "      <td>55</td>\n",
       "      <td>The Dark Knight</td>\n",
       "      <td>Action,Crime,Drama</td>\n",
       "      <td>When the menace known as the Joker wreaks havo...</td>\n",
       "      <td>Christopher Nolan</td>\n",
       "      <td>Christian Bale, Heath Ledger, Aaron Eckhart,Mi...</td>\n",
       "      <td>2008</td>\n",
       "      <td>152</td>\n",
       "      <td>9.0</td>\n",
       "      <td>1791916</td>\n",
       "      <td>533.32</td>\n",
       "      <td>82.0</td>\n",
       "    </tr>\n",
       "  </tbody>\n",
       "</table>\n",
       "</div>"
      ],
      "text/plain": [
       "   Rank                                       Title                     Genre  \\\n",
       "0    51  Star Wars: Episode VII - The Force Awakens  Action,Adventure,Fantasy   \n",
       "1    88                                      Avatar  Action,Adventure,Fantasy   \n",
       "2    86                              Jurassic World   Action,Adventure,Sci-Fi   \n",
       "3    77                                The Avengers             Action,Sci-Fi   \n",
       "4    55                             The Dark Knight        Action,Crime,Drama   \n",
       "\n",
       "                                         Description           Director  \\\n",
       "0  Three decades after the defeat of the Galactic...        J.J. Abrams   \n",
       "1  A paraplegic marine dispatched to the moon Pan...      James Cameron   \n",
       "2  A new theme park, built on the original site o...    Colin Trevorrow   \n",
       "3  Earth's mightiest heroes must come together an...        Joss Whedon   \n",
       "4  When the menace known as the Joker wreaks havo...  Christopher Nolan   \n",
       "\n",
       "                                              Actors  Year  Runtime (Minutes)  \\\n",
       "0  Daisy Ridley, John Boyega, Oscar Isaac, Domhna...  2015                136   \n",
       "1  Sam Worthington, Zoe Saldana, Sigourney Weaver...  2009                162   \n",
       "2  Chris Pratt, Bryce Dallas Howard, Ty Simpkins,...  2015                124   \n",
       "3  Robert Downey Jr., Chris Evans, Scarlett Johan...  2012                143   \n",
       "4  Christian Bale, Heath Ledger, Aaron Eckhart,Mi...  2008                152   \n",
       "\n",
       "   Rating    Votes  Revenue (Millions)  Metascore  \n",
       "0     8.1   661608              936.63       81.0  \n",
       "1     7.8   935408              760.51       83.0  \n",
       "2     7.0   455169              652.18       59.0  \n",
       "3     8.1  1045588              623.28       69.0  \n",
       "4     9.0  1791916              533.32       82.0  "
      ]
     },
     "execution_count": 1,
     "metadata": {},
     "output_type": "execute_result"
    }
   ],
   "source": [
    "import pandas as pd\n",
    "import numpy as np\n",
    "import seaborn as sns\n",
    "import matplotlib.pyplot as plt\n",
    "%matplotlib inline\n",
    "\n",
    "movies = pd.read_csv('moviedata-IMDB.csv')\n",
    "movies.head()"
   ]
  },
  {
   "cell_type": "markdown",
   "metadata": {},
   "source": [
    "# 2. Data Set Description\n",
    "Genre – What type of movie is it?\n",
    "\n",
    "Year – The year the movie was produced (anywhere from 2006-2016)\n",
    "\n",
    "Runtime – The duration of the movie\n",
    "\n",
    "Revenue – How much did the movie earn domestically?\n",
    "\n",
    "Metascore – The average score of professional critics from publications from 0 to 100.\n",
    "\n",
    "Rating – How the audiences rated the movie on a scale from 0 to 10\n",
    "\n",
    "I found some missing data in the variables of \"Revenue\" and \"Metascore\" because these movies were not available in theaters. Also, some of those movies did not have a Metascore because that movie had a low number of reviews. However, I ignored the missing data and moved on with the project because the small missing data did not have a major effect on the dataset.\n",
    "\n",
    "Because there is more than one genre in many movies, I will split them up and write a code to only show the first genre.\n"
   ]
  },
  {
   "cell_type": "code",
   "execution_count": 2,
   "metadata": {},
   "outputs": [
    {
     "data": {
      "text/html": [
       "<div>\n",
       "<style scoped>\n",
       "    .dataframe tbody tr th:only-of-type {\n",
       "        vertical-align: middle;\n",
       "    }\n",
       "\n",
       "    .dataframe tbody tr th {\n",
       "        vertical-align: top;\n",
       "    }\n",
       "\n",
       "    .dataframe thead th {\n",
       "        text-align: right;\n",
       "    }\n",
       "</style>\n",
       "<table border=\"1\" class=\"dataframe\">\n",
       "  <thead>\n",
       "    <tr style=\"text-align: right;\">\n",
       "      <th></th>\n",
       "      <th>Rank</th>\n",
       "      <th>Title</th>\n",
       "      <th>Genre</th>\n",
       "      <th>Description</th>\n",
       "      <th>Director</th>\n",
       "      <th>Actors</th>\n",
       "      <th>Year</th>\n",
       "      <th>Runtime (Minutes)</th>\n",
       "      <th>Rating</th>\n",
       "      <th>Votes</th>\n",
       "      <th>Revenue (Millions)</th>\n",
       "      <th>Metascore</th>\n",
       "      <th>FirstGenre</th>\n",
       "    </tr>\n",
       "  </thead>\n",
       "  <tbody>\n",
       "    <tr>\n",
       "      <th>0</th>\n",
       "      <td>51</td>\n",
       "      <td>Star Wars: Episode VII - The Force Awakens</td>\n",
       "      <td>Action,Adventure,Fantasy</td>\n",
       "      <td>Three decades after the defeat of the Galactic...</td>\n",
       "      <td>J.J. Abrams</td>\n",
       "      <td>Daisy Ridley, John Boyega, Oscar Isaac, Domhna...</td>\n",
       "      <td>2015</td>\n",
       "      <td>136</td>\n",
       "      <td>8.1</td>\n",
       "      <td>661608</td>\n",
       "      <td>936.63</td>\n",
       "      <td>81.0</td>\n",
       "      <td>Action</td>\n",
       "    </tr>\n",
       "    <tr>\n",
       "      <th>1</th>\n",
       "      <td>88</td>\n",
       "      <td>Avatar</td>\n",
       "      <td>Action,Adventure,Fantasy</td>\n",
       "      <td>A paraplegic marine dispatched to the moon Pan...</td>\n",
       "      <td>James Cameron</td>\n",
       "      <td>Sam Worthington, Zoe Saldana, Sigourney Weaver...</td>\n",
       "      <td>2009</td>\n",
       "      <td>162</td>\n",
       "      <td>7.8</td>\n",
       "      <td>935408</td>\n",
       "      <td>760.51</td>\n",
       "      <td>83.0</td>\n",
       "      <td>Action</td>\n",
       "    </tr>\n",
       "    <tr>\n",
       "      <th>2</th>\n",
       "      <td>86</td>\n",
       "      <td>Jurassic World</td>\n",
       "      <td>Action,Adventure,Sci-Fi</td>\n",
       "      <td>A new theme park, built on the original site o...</td>\n",
       "      <td>Colin Trevorrow</td>\n",
       "      <td>Chris Pratt, Bryce Dallas Howard, Ty Simpkins,...</td>\n",
       "      <td>2015</td>\n",
       "      <td>124</td>\n",
       "      <td>7.0</td>\n",
       "      <td>455169</td>\n",
       "      <td>652.18</td>\n",
       "      <td>59.0</td>\n",
       "      <td>Action</td>\n",
       "    </tr>\n",
       "    <tr>\n",
       "      <th>3</th>\n",
       "      <td>77</td>\n",
       "      <td>The Avengers</td>\n",
       "      <td>Action,Sci-Fi</td>\n",
       "      <td>Earth's mightiest heroes must come together an...</td>\n",
       "      <td>Joss Whedon</td>\n",
       "      <td>Robert Downey Jr., Chris Evans, Scarlett Johan...</td>\n",
       "      <td>2012</td>\n",
       "      <td>143</td>\n",
       "      <td>8.1</td>\n",
       "      <td>1045588</td>\n",
       "      <td>623.28</td>\n",
       "      <td>69.0</td>\n",
       "      <td>Action</td>\n",
       "    </tr>\n",
       "    <tr>\n",
       "      <th>4</th>\n",
       "      <td>55</td>\n",
       "      <td>The Dark Knight</td>\n",
       "      <td>Action,Crime,Drama</td>\n",
       "      <td>When the menace known as the Joker wreaks havo...</td>\n",
       "      <td>Christopher Nolan</td>\n",
       "      <td>Christian Bale, Heath Ledger, Aaron Eckhart,Mi...</td>\n",
       "      <td>2008</td>\n",
       "      <td>152</td>\n",
       "      <td>9.0</td>\n",
       "      <td>1791916</td>\n",
       "      <td>533.32</td>\n",
       "      <td>82.0</td>\n",
       "      <td>Action</td>\n",
       "    </tr>\n",
       "  </tbody>\n",
       "</table>\n",
       "</div>"
      ],
      "text/plain": [
       "   Rank                                       Title                     Genre  \\\n",
       "0    51  Star Wars: Episode VII - The Force Awakens  Action,Adventure,Fantasy   \n",
       "1    88                                      Avatar  Action,Adventure,Fantasy   \n",
       "2    86                              Jurassic World   Action,Adventure,Sci-Fi   \n",
       "3    77                                The Avengers             Action,Sci-Fi   \n",
       "4    55                             The Dark Knight        Action,Crime,Drama   \n",
       "\n",
       "                                         Description           Director  \\\n",
       "0  Three decades after the defeat of the Galactic...        J.J. Abrams   \n",
       "1  A paraplegic marine dispatched to the moon Pan...      James Cameron   \n",
       "2  A new theme park, built on the original site o...    Colin Trevorrow   \n",
       "3  Earth's mightiest heroes must come together an...        Joss Whedon   \n",
       "4  When the menace known as the Joker wreaks havo...  Christopher Nolan   \n",
       "\n",
       "                                              Actors  Year  Runtime (Minutes)  \\\n",
       "0  Daisy Ridley, John Boyega, Oscar Isaac, Domhna...  2015                136   \n",
       "1  Sam Worthington, Zoe Saldana, Sigourney Weaver...  2009                162   \n",
       "2  Chris Pratt, Bryce Dallas Howard, Ty Simpkins,...  2015                124   \n",
       "3  Robert Downey Jr., Chris Evans, Scarlett Johan...  2012                143   \n",
       "4  Christian Bale, Heath Ledger, Aaron Eckhart,Mi...  2008                152   \n",
       "\n",
       "   Rating    Votes  Revenue (Millions)  Metascore FirstGenre  \n",
       "0     8.1   661608              936.63       81.0     Action  \n",
       "1     7.8   935408              760.51       83.0     Action  \n",
       "2     7.0   455169              652.18       59.0     Action  \n",
       "3     8.1  1045588              623.28       69.0     Action  \n",
       "4     9.0  1791916              533.32       82.0     Action  "
      ]
     },
     "execution_count": 2,
     "metadata": {},
     "output_type": "execute_result"
    }
   ],
   "source": [
    "movies[\"FirstGenre\"] = movies[\"Genre\"]\n",
    "movies.head()\n",
    "\n",
    "movies[\"FirstGenre\"]= movies[\"FirstGenre\"].apply(lambda x: x.split(\",\")[0])\n",
    "movies.head()"
   ]
  },
  {
   "cell_type": "markdown",
   "metadata": {},
   "source": [
    "# 3. Exploratory Data Analysis"
   ]
  },
  {
   "cell_type": "markdown",
   "metadata": {},
   "source": [
    "# 3.1. Here are the correlations between all of the variables below:"
   ]
  },
  {
   "cell_type": "code",
   "execution_count": 3,
   "metadata": {},
   "outputs": [
    {
     "data": {
      "text/html": [
       "<div>\n",
       "<style scoped>\n",
       "    .dataframe tbody tr th:only-of-type {\n",
       "        vertical-align: middle;\n",
       "    }\n",
       "\n",
       "    .dataframe tbody tr th {\n",
       "        vertical-align: top;\n",
       "    }\n",
       "\n",
       "    .dataframe thead th {\n",
       "        text-align: right;\n",
       "    }\n",
       "</style>\n",
       "<table border=\"1\" class=\"dataframe\">\n",
       "  <thead>\n",
       "    <tr style=\"text-align: right;\">\n",
       "      <th></th>\n",
       "      <th>Rank</th>\n",
       "      <th>Year</th>\n",
       "      <th>Runtime (Minutes)</th>\n",
       "      <th>Rating</th>\n",
       "      <th>Votes</th>\n",
       "      <th>Revenue (Millions)</th>\n",
       "      <th>Metascore</th>\n",
       "    </tr>\n",
       "  </thead>\n",
       "  <tbody>\n",
       "    <tr>\n",
       "      <th>Rank</th>\n",
       "      <td>1.000000</td>\n",
       "      <td>-0.261605</td>\n",
       "      <td>-0.221739</td>\n",
       "      <td>-0.219555</td>\n",
       "      <td>-0.283876</td>\n",
       "      <td>-0.272570</td>\n",
       "      <td>-0.193347</td>\n",
       "    </tr>\n",
       "    <tr>\n",
       "      <th>Year</th>\n",
       "      <td>-0.261605</td>\n",
       "      <td>1.000000</td>\n",
       "      <td>-0.164900</td>\n",
       "      <td>-0.211219</td>\n",
       "      <td>-0.411904</td>\n",
       "      <td>-0.127622</td>\n",
       "      <td>-0.078258</td>\n",
       "    </tr>\n",
       "    <tr>\n",
       "      <th>Runtime (Minutes)</th>\n",
       "      <td>-0.221739</td>\n",
       "      <td>-0.164900</td>\n",
       "      <td>1.000000</td>\n",
       "      <td>0.392214</td>\n",
       "      <td>0.407062</td>\n",
       "      <td>0.269224</td>\n",
       "      <td>0.216068</td>\n",
       "    </tr>\n",
       "    <tr>\n",
       "      <th>Rating</th>\n",
       "      <td>-0.219555</td>\n",
       "      <td>-0.211219</td>\n",
       "      <td>0.392214</td>\n",
       "      <td>1.000000</td>\n",
       "      <td>0.511537</td>\n",
       "      <td>0.219329</td>\n",
       "      <td>0.642396</td>\n",
       "    </tr>\n",
       "    <tr>\n",
       "      <th>Votes</th>\n",
       "      <td>-0.283876</td>\n",
       "      <td>-0.411904</td>\n",
       "      <td>0.407062</td>\n",
       "      <td>0.511537</td>\n",
       "      <td>1.000000</td>\n",
       "      <td>0.640738</td>\n",
       "      <td>0.328678</td>\n",
       "    </tr>\n",
       "    <tr>\n",
       "      <th>Revenue (Millions)</th>\n",
       "      <td>-0.272570</td>\n",
       "      <td>-0.127622</td>\n",
       "      <td>0.269224</td>\n",
       "      <td>0.219329</td>\n",
       "      <td>0.640738</td>\n",
       "      <td>1.000000</td>\n",
       "      <td>0.143371</td>\n",
       "    </tr>\n",
       "    <tr>\n",
       "      <th>Metascore</th>\n",
       "      <td>-0.193347</td>\n",
       "      <td>-0.078258</td>\n",
       "      <td>0.216068</td>\n",
       "      <td>0.642396</td>\n",
       "      <td>0.328678</td>\n",
       "      <td>0.143371</td>\n",
       "      <td>1.000000</td>\n",
       "    </tr>\n",
       "  </tbody>\n",
       "</table>\n",
       "</div>"
      ],
      "text/plain": [
       "                        Rank      Year  Runtime (Minutes)    Rating     Votes  \\\n",
       "Rank                1.000000 -0.261605          -0.221739 -0.219555 -0.283876   \n",
       "Year               -0.261605  1.000000          -0.164900 -0.211219 -0.411904   \n",
       "Runtime (Minutes)  -0.221739 -0.164900           1.000000  0.392214  0.407062   \n",
       "Rating             -0.219555 -0.211219           0.392214  1.000000  0.511537   \n",
       "Votes              -0.283876 -0.411904           0.407062  0.511537  1.000000   \n",
       "Revenue (Millions) -0.272570 -0.127622           0.269224  0.219329  0.640738   \n",
       "Metascore          -0.193347 -0.078258           0.216068  0.642396  0.328678   \n",
       "\n",
       "                    Revenue (Millions)  Metascore  \n",
       "Rank                         -0.272570  -0.193347  \n",
       "Year                         -0.127622  -0.078258  \n",
       "Runtime (Minutes)             0.269224   0.216068  \n",
       "Rating                        0.219329   0.642396  \n",
       "Votes                         0.640738   0.328678  \n",
       "Revenue (Millions)            1.000000   0.143371  \n",
       "Metascore                     0.143371   1.000000  "
      ]
     },
     "execution_count": 3,
     "metadata": {},
     "output_type": "execute_result"
    }
   ],
   "source": [
    "movies.corr()"
   ]
  },
  {
   "cell_type": "markdown",
   "metadata": {},
   "source": [
    "The rank does not have a value to any of the variables because that variable selected movies randomly from this dataset. However, the strongest correlations that I noticed is the relationship between Metascore and Revenue (Millions). Also, I noticed a positive correlation between Votes and Revenue (Millions)."
   ]
  },
  {
   "cell_type": "markdown",
   "metadata": {},
   "source": [
    "# 3.2. Do genres correlate well with the box office and the audience ratings on average for each film?"
   ]
  },
  {
   "cell_type": "markdown",
   "metadata": {},
   "source": [
    "I ask this question because we want to find out if there are some variances between genres and revenues."
   ]
  },
  {
   "cell_type": "code",
   "execution_count": 6,
   "metadata": {
    "scrolled": true
   },
   "outputs": [
    {
     "data": {
      "image/png": "[encoded data removed]",
      "text/plain": [
       "<Figure size 432x288 with 1 Axes>"
      ]
     },
     "metadata": {
      "needs_background": "light"
     },
     "output_type": "display_data"
    }
   ],
   "source": [
    "title = movies.groupby('FirstGenre').mean()\n",
    "\n",
    "title = title.sort_values(by = 'Rating', ascending = False)[0:10]\n",
    "\n",
    "title['Revenue (Millions)'].plot(kind='bar')\n",
    "\n",
    "plt.xlabel('Genres')\n",
    "plt.ylabel('Revenue (Millions)')\n",
    "plt.title('Top Genres Based on the Average of Revenue (Millions)')\n",
    "plt.subplots_adjust(top=2.00, bottom=1.25, right=1.55)\n",
    "\n",
    "plt.show()"
   ]
  },
  {
   "cell_type": "markdown",
   "metadata": {},
   "source": [
    "Animation films correlate well with the box office and their average audience rating. Most animation films do well because they are accessible to a quadrant audience unlike the majority of R-rated critically-acclaimed movies. However, adventure and action movies scored lower on IMDB; yet, they scored higher at the box office. The reason for it is that those movies are from familiar franchises that audiences have seen before. Biography and drama movies have better quality. However, those type of movies deflates its box office. The reason is the nature of the movie and some of those movies may not be accessible to mainstream audiences."
   ]
  },
  {
   "cell_type": "markdown",
   "metadata": {},
   "source": [
    "# 3.3. Do audience ratings correlate well with the 10 Top Grossers?"
   ]
  },
  {
   "cell_type": "markdown",
   "metadata": {},
   "source": [
    "I ask this question because I want to find out if the box office revenue goes higher as audience ratings go higher."
   ]
  },
  {
   "cell_type": "code",
   "execution_count": 7,
   "metadata": {},
   "outputs": [
    {
     "data": {
      "image/png": "[encoded data removed]",
      "text/plain": [
       "<Figure size 432x288 with 1 Axes>"
      ]
     },
     "metadata": {
      "needs_background": "light"
     },
     "output_type": "display_data"
    }
   ],
   "source": [
    "title = movies.groupby('Title').mean()\n",
    "\n",
    "title = title.sort_values(by = 'Revenue (Millions)', ascending = False)[0:10]\n",
    "\n",
    "title['Rating'].plot(kind='bar')\n",
    "\n",
    "plt.xlabel('Titles')\n",
    "plt.ylabel('Ratings')\n",
    "plt.title('Top 10 Box Office Grossers from 2006-2016')\n",
    "plt.subplots_adjust(top=1.88, bottom=1.17, right=1.47)\n",
    "\n",
    "plt.show()"
   ]
  },
  {
   "cell_type": "markdown",
   "metadata": {},
   "source": [
    "The IMDB scores are not all high compared to the top 10 movies among 1000 users. Therefore, only one of them (Avatar) is an original. Out of all the top 10 best movies according to IMDB users, only one of them (The Dark Knight) made it to the top 10 for the box office. Back in the 1990s, there were more originals that were in the top 10 in terms of box office grosses. When sequels are made, if the quality is great from its predecessor, moviegoers will pay money to go see it. Now of these days, sequels have a better chance of getting greenlighted by Hollywood than original movies. Jurassic World, Finding Dory, and Avengers: Age of Ultron did not live up to their quality compared to their respective predecessors."
   ]
  },
  {
   "cell_type": "markdown",
   "metadata": {},
   "source": [
    "# 3.4. Does the relationship between the audience ratings and box office revenues for each movie correlate well?"
   ]
  },
  {
   "cell_type": "markdown",
   "metadata": {},
   "source": [
    "I am asking this question because I want to find out if a movie that audiences enjoyed always gets the most revenue for that particular movie."
   ]
  },
  {
   "cell_type": "code",
   "execution_count": 8,
   "metadata": {
    "scrolled": true
   },
   "outputs": [
    {
     "data": {
      "image/png": "[encoded data removed]",
      "text/plain": [
       "<Figure size 432x288 with 1 Axes>"
      ]
     },
     "metadata": {
      "needs_background": "light"
     },
     "output_type": "display_data"
    }
   ],
   "source": [
    "plt.scatter(x=movies['Rating'], y=movies['Revenue (Millions)'])\n",
    "plt.title(\"The correlation between the Rating and Revenue (Millions) are \" + str(movies.corr().iloc[3,5]) + \".\")\n",
    "plt.xlabel('Ratings')\n",
    "plt.ylabel('Revenue (Millions)')\n",
    "plt.subplots_adjust(top=1.88, bottom=1.11, right=1.37)\n",
    "plt.show()"
   ]
  },
  {
   "cell_type": "markdown",
   "metadata": {},
   "source": [
    "There is no definite answer. Some critically-acclaimed movies that audiences enjoyed (Fantastic Mr. Fox, Her, Room) make lower money than movies with negative reviews that audiences disliked (Fifty Shades of Grey, Clash of the Titans, 2012). Transformers series stands out as an example. Those movies made more revenue than some movies with fantastic reviews and audience ratings. Also, audiences were familiar with those movies because they came from a familiar adaptation. Overall, there is a mild positive correlation between audience ratings and box office revenues."
   ]
  },
  {
   "cell_type": "markdown",
   "metadata": {},
   "source": [
    "# 3.5. Does metascore correlate with audience ratings?"
   ]
  },
  {
   "cell_type": "markdown",
   "metadata": {},
   "source": [
    "I wrote this question because I want to find out whether the audience ratings are in line with professional critics."
   ]
  },
  {
   "cell_type": "code",
   "execution_count": 9,
   "metadata": {},
   "outputs": [
    {
     "data": {
      "image/png": "[encoded data removed]",
      "text/plain": [
       "<Figure size 432x288 with 1 Axes>"
      ]
     },
     "metadata": {
      "needs_background": "light"
     },
     "output_type": "display_data"
    }
   ],
   "source": [
    "plt.scatter(x=movies['Metascore'], y=movies['Rating'])\n",
    "plt.title(\"The correlation between Metascore and Ratings is \" + str(movies.corr().iloc[3,-1]) + \".\")\n",
    "plt.subplots_adjust(top=1.88, bottom=1.09, right=1.20)\n",
    "plt.xlabel('Metascore')\n",
    "plt.ylabel('Ratings')\n",
    "plt.show()"
   ]
  },
  {
   "cell_type": "markdown",
   "metadata": {},
   "source": [
    "There is no definite answer for this even though there is a positive correlation between those two variables. However, there are exceptions such as movies with big stars (Chris Pratt from Passengers, most Adam Sandler and Will Smith movies, Gerald Butler from Law Abiding Citizen) do better with audiences than critics while other highly-reviewed movies (Tree of Life, Love of Friendship, Under the Skin) score significantly higher with critics than audiences."
   ]
  },
  {
   "cell_type": "markdown",
   "metadata": {},
   "source": [
    "# 3.6. Does the number of IMDB votes correlate with box office well?"
   ]
  },
  {
   "cell_type": "markdown",
   "metadata": {},
   "source": [
    "I made this question because I want to find out if a high number of IMDB votes are on par with box office revenues."
   ]
  },
  {
   "cell_type": "code",
   "execution_count": null,
   "metadata": {},
   "outputs": [],
   "source": [
    "plt.scatter(x=movies['Revenue (Millions)'], y=movies['Votes'])\n",
    "plt.title(\"The correlation between Revenue (Millions) and Votes is \" + str(movies.corr().iloc[5,4]) + \".\")\n",
    "plt.subplots_adjust(top=1.89, bottom=1.06, right=1.32)\n",
    "plt.xlabel('Revenue (Millions)')\n",
    "plt.ylabel('Number of Votes')\n",
    "plt.show()"
   ]
  },
  {
   "cell_type": "markdown",
   "metadata": {},
   "source": [
    "For most movies, the more people vote for how much they rated the film, the more money it makes at the box office. However, there are exceptions to this rule. The Prestige has over 900,000 votes; yet, it grossed a modest 53 million. It had more votes than Star Wars: The Force Awakens, which was the highest grosser of 2015. The high number of votes for The Prestige implicates that it did much better when it was released on DVD when audiences caught up with the movie. Children's movies including Sing, Hotel Transylvania, Trolls, and Home scored lower in IMDB votes because of that demographic not able to vote for movies. Even with those exceptions, the number of IMDB votes and the box office correlate positively.\n"
   ]
  },
  {
   "cell_type": "markdown",
   "metadata": {},
   "source": [
    "# 3.7. Does Metascore correlate with Box Office well?"
   ]
  },
  {
   "cell_type": "markdown",
   "metadata": {},
   "source": [
    "I made this question because I want to find out if the high score from professional critics indicate a high box office gross."
   ]
  },
  {
   "cell_type": "markdown",
   "metadata": {},
   "source": [
    "# Here are two graphs about the top 20 and bottom 20 Metascores from 2006-2016 and their box office grosses below:"
   ]
  },
  {
   "cell_type": "code",
   "execution_count": null,
   "metadata": {},
   "outputs": [],
   "source": [
    "title = movies.groupby('Title').mean()\n",
    "\n",
    "title = title.sort_values(by = 'Metascore', ascending = False)[0:20]\n",
    "\n",
    "title['Revenue (Millions)'].plot(kind='bar')\n",
    "\n",
    "plt.xlabel('Titles')\n",
    "plt.ylabel('Revenue (Millions)')\n",
    "plt.title('Top 20 Metascores from 2006-2016 with their Box Office Revenue')\n",
    "plt.subplots_adjust(top=1.88, bottom=0.89, right=1.87)\n",
    "plt.show()"
   ]
  },
  {
   "cell_type": "code",
   "execution_count": null,
   "metadata": {},
   "outputs": [],
   "source": [
    "title = movies.groupby('Title').mean()\n",
    "\n",
    "title = title.sort_values(by = 'Metascore', ascending = True)[0:20]\n",
    "\n",
    "title['Revenue (Millions)'].plot(kind='bar')\n",
    "\n",
    "plt.xlabel('Titles')\n",
    "plt.ylabel('Revenue (Millions)')\n",
    "plt.title('Bottom 20 Metascores from 2006-2016 with their Box Office Revenue')\n",
    "plt.subplots_adjust(top=1.84, bottom=0.88, right=1.87)\n",
    "\n",
    "plt.show()"
   ]
  },
  {
   "cell_type": "markdown",
   "metadata": {},
   "source": [
    "There is no definite answer. It depends on these factors: the storyline of the movie, if the movie is a sequel, and if the movie comes from the director of a previous popular movie. Some critically-acclaimed movies that audiences enjoyed (The Hurt Locker, Boyhood, Moonlight) may make lower money than movies with mixed to negative reviews that audiences disliked (Grown Ups 2, Bride Wars, Couples Retreat). The Last Airbender made more revenue than other movies with fantastic reviews and audience ratings because they came from an adaptation (A popular show on Nickelodeon)."
   ]
  },
  {
   "cell_type": "markdown",
   "metadata": {},
   "source": [
    "# 4. Conclusion and Further Research #\n",
    "Overall, I have found ratings have the most significant relationship to any variables from the questions I answered. For the majority of movies, the number of votes correlated well with Revenue (Millions) because they vote for the movie after they purchased the ticket and saw the movie in theaters. Additionally, I did not use rank, year, and runtime in this dataset because of those variables lacking a significance in a movie's success. Critics and audiences rating a movie and how many votes and money each movie earned indicates a movie's success.\n",
    "\n",
    "I plan to find more information on those analytical questions I listed. I hope to forecast models with Python related to box office. Also, I hope to add more attributes such as budget, international gross, studio and gross profit for each of the movies. If I am able to find a dataset for them, I will be able to write more questions for them and relate those attributes to this dataset. A further question I hope to accomplish: Does a big budget correlate well with high-grossing movies?  "
   ]
  },
  {
   "cell_type": "code",
   "execution_count": null,
   "metadata": {},
   "outputs": [],
   "source": []
  },
  {
   "cell_type": "code",
   "execution_count": null,
   "metadata": {},
   "outputs": [],
   "source": []
  },
  {
   "cell_type": "code",
   "execution_count": null,
   "metadata": {},
   "outputs": [],
   "source": []
  }
 ],
 "metadata": {
  "kernelspec": {
   "display_name": "Python 3",
   "language": "python",
   "name": "python3"
  },
  "language_info": {
   "codemirror_mode": {
    "name": "ipython",
    "version": 3
   },
   "file_extension": ".py",
   "mimetype": "text/x-python",
   "name": "python",
   "nbconvert_exporter": "python",
   "pygments_lexer": "ipython3",
   "version": "3.7.0"
  }
 },
 "nbformat": 4,
 "nbformat_minor": 2
}
