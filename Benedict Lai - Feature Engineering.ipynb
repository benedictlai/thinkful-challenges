{
 "cells": [
  {
   "cell_type": "markdown",
   "metadata": {},
   "source": [
    "Categorical/Nominal:\n",
    "'cntry'\n",
    "'gndr'\n",
    "'partner'\n",
    "Continuous-Ordinal:\n",
    "'idno'\n",
    "'tvtot'\n",
    "'ppltrst'\n",
    "'pplfair'\n",
    "'happy'\n",
    "'sclmeet'\n",
    "'sclact'\n",
    "Continuous-Interval:\n",
    "'year'\n",
    "'pplhlp'\n",
    "Continuous-Ratio:\n",
    "'agea'"
   ]
  }
 ],
 "metadata": {
  "kernelspec": {
   "display_name": "Python 3",
   "language": "python",
   "name": "python3"
  },
  "language_info": {
   "codemirror_mode": {
    "name": "ipython",
    "version": 3
   },
   "file_extension": ".py",
   "mimetype": "text/x-python",
   "name": "python",
   "nbconvert_exporter": "python",
   "pygments_lexer": "ipython3",
   "version": "3.7.0"
  }
 },
 "nbformat": 4,
 "nbformat_minor": 2
}
