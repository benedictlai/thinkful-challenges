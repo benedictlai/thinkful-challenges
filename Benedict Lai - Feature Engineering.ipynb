{
 "cells": [
  {
   "cell_type": "markdown",
   "metadata": {},
   "source": [
    "Categorical/Nominal:\n",
    "\n",
    "'cntry'\n",
    "\n",
    "'gndr'\n",
    "\n",
    "'partner'\n",
    "\n",
    "Continuous-Ordinal:\n",
    "\n",
    "'idno'\n",
    "\n",
    "'tvtot'\n",
    "\n",
    "'ppltrst'\n",
    "\n",
    "'pplfair'\n",
    "\n",
    "'happy'\n",
    "\n",
    "'sclmeet'\n",
    "\n",
    "'sclact'\n",
    "\n",
    "Continuous-Interval:\n",
    "\n",
    "'year'\n",
    "\n",
    "'pplhlp'\n",
    "\n",
    "Continuous-Ratio:\n",
    "\n",
    "'agea'"
   ]
  }
 ],
 "metadata": {
  "kernelspec": {
   "display_name": "Python 3",
   "language": "python",
   "name": "python3"
  },
  "language_info": {
   "codemirror_mode": {
    "name": "ipython",
    "version": 3
   },
   "file_extension": ".py",
   "mimetype": "text/x-python",
   "name": "python",
   "nbconvert_exporter": "python",
   "pygments_lexer": "ipython3",
   "version": "3.7.0"
  }
 },
 "nbformat": 4,
 "nbformat_minor": 2
}
