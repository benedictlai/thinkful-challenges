{
  "nbformat": 4,
  "nbformat_minor": 0,
  "metadata": {
    "colab": {
      "name": "Benedict Lai - Final Capstone Project - Thinkful - November 30, 2019.ipynb",
      "provenance": [],
      "collapsed_sections": [],
      "include_colab_link": true
    },
    "kernelspec": {
      "name": "python3",
      "display_name": "Python 3"
    }
  },
  "cells": [
    {
      "cell_type": "markdown",
      "metadata": {
        "id": "view-in-github",
        "colab_type": "text"
      },
      "source": [
        "<a href=\"https://colab.research.google.com/github/benedictlai/thinkful-challenges/blob/master/Benedict_Lai_Final_Capstone_Project_Thinkful_November_30%2C_2019.ipynb\" target=\"_parent\"><img src=\"https://colab.research.google.com/assets/colab-badge.svg\" alt=\"Open In Colab\"/></a>"
      ]
    },
    {
      "cell_type": "code",
      "metadata": {
        "id": "jwNM4PtUykvc",
        "colab_type": "code",
        "colab": {}
      },
      "source": [
        "import numpy as np\n",
        "import pandas as pd\n",
        "import seaborn as sns\n",
        "import math\n",
        "import sklearn\n",
        "import scipy\n",
        "import matplotlib.pyplot as plt\n",
        "import scipy.stats as stats\n",
        "import warnings\n",
        "from sklearn import ensemble\n",
        "from sklearn.ensemble import RandomForestClassifier\n",
        "from sklearn.linear_model import LogisticRegression\n",
        "from sklearn.metrics import accuracy_score, classification_report, confusion_matrix, f1_score, precision_score, recall_score \n",
        "from sklearn.model_selection import GridSearchCV, cross_val_score, train_test_split\n",
        "from sklearn.preprocessing import LabelEncoder\n",
        "from sklearn.svm import SVC\n",
        "%matplotlib inline\n",
        "warnings.filterwarnings(\"ignore\")"
      ],
      "execution_count": 0,
      "outputs": []
    },
    {
      "cell_type": "markdown",
      "metadata": {
        "id": "ZLFmWqXzZb8H",
        "colab_type": "text"
      },
      "source": [
        "# Introduction to my Final Project"
      ]
    },
    {
      "cell_type": "markdown",
      "metadata": {
        "id": "my6IMZP3WV_l",
        "colab_type": "text"
      },
      "source": [
        "What is the problem you are attempting to solve?\n",
        "\n",
        "I am attempting to solve customer trends with Telco Company. For example, I want to solve if a customer is going to churn based on the tenure of the customer, the preferences for contracts and if they are a senior citizen. I mention senior citizens because they are used to paying bills through the mail and they may not be benefitting from getting a discount to keep them from staying with the company.\n",
        "\n",
        "How is your solution valuable?\n",
        "\n",
        "My solution is valuable because it will help determine if tenure customers are more likely to churn based on customer behavior such as the preferences for contracts, how long they have been a customer with Telco, and if they are a senior citizen. These factors may impact on customer retention. The results of my research will not only benefit Telco Company but it will also benefit other companies so it can inspire other customers to give true feedback to the company especially with the preferences of contracts.\n",
        "\n",
        "What is your data source and how will you access it?\n",
        "\n",
        "The data source is from https://www.kaggle.com/blastchar/telco-customer-churn. They are 7,043 customers in the dataset. I will not use the whole data set due to the null values (Total Charges group has null values) potentially impacting my project in a negative way.\n",
        "\n",
        "What techniques from the course do you anticipate using?\n",
        "\n",
        "I anticipate using Logistic Regression, Gradient Boosting Classifier, Random Forest Classifier, Support Vector Classifier, and Feature Importances.\n",
        "\n",
        "What do you anticipate to be the biggest challenge you’ll face?\n",
        "\n",
        "Getting the best accuracy rate on churn, cleaning messy data, handling the class imbalance are the biggest hurdles I will face."
      ]
    },
    {
      "cell_type": "markdown",
      "metadata": {
        "id": "awh5g0xtWPKF",
        "colab_type": "text"
      },
      "source": [
        "# Introducing Data"
      ]
    },
    {
      "cell_type": "code",
      "metadata": {
        "id": "hkTFKlTn2XGw",
        "colab_type": "code",
        "outputId": "73830934-121b-4470-c1ff-b43003efcde7",
        "colab": {
          "base_uri": "https://localhost:8080/",
          "height": 593
        }
      },
      "source": [
        "telco = pd.read_csv('https://raw.githubusercontent.com/benedictlai/thinkful-challenges/master/telco(7).csv')\n",
        "telco"
      ],
      "execution_count": 40,
      "outputs": [
        {
          "output_type": "execute_result",
          "data": {
            "text/html": [
              "<div>\n",
              "<style scoped>\n",
              "    .dataframe tbody tr th:only-of-type {\n",
              "        vertical-align: middle;\n",
              "    }\n",
              "\n",
              "    .dataframe tbody tr th {\n",
              "        vertical-align: top;\n",
              "    }\n",
              "\n",
              "    .dataframe thead th {\n",
              "        text-align: right;\n",
              "    }\n",
              "</style>\n",
              "<table border=\"1\" class=\"dataframe\">\n",
              "  <thead>\n",
              "    <tr style=\"text-align: right;\">\n",
              "      <th></th>\n",
              "      <th>customerID</th>\n",
              "      <th>gender</th>\n",
              "      <th>SeniorCitizen</th>\n",
              "      <th>Partner</th>\n",
              "      <th>Dependents</th>\n",
              "      <th>tenure</th>\n",
              "      <th>PhoneService</th>\n",
              "      <th>MultipleLines</th>\n",
              "      <th>InternetService</th>\n",
              "      <th>OnlineSecurity</th>\n",
              "      <th>OnlineBackup</th>\n",
              "      <th>DeviceProtection</th>\n",
              "      <th>TechSupport</th>\n",
              "      <th>StreamingTV</th>\n",
              "      <th>StreamingMovies</th>\n",
              "      <th>Contract</th>\n",
              "      <th>PaperlessBilling</th>\n",
              "      <th>PaymentMethod</th>\n",
              "      <th>MonthlyCharges</th>\n",
              "      <th>TotalCharges</th>\n",
              "      <th>Churn</th>\n",
              "      <th>TenureGroup</th>\n",
              "      <th>MCGroup</th>\n",
              "      <th>TCGroup</th>\n",
              "    </tr>\n",
              "  </thead>\n",
              "  <tbody>\n",
              "    <tr>\n",
              "      <th>0</th>\n",
              "      <td>6260-XLACS</td>\n",
              "      <td>Male</td>\n",
              "      <td>0</td>\n",
              "      <td>No</td>\n",
              "      <td>No</td>\n",
              "      <td>4</td>\n",
              "      <td>Yes</td>\n",
              "      <td>No</td>\n",
              "      <td>No</td>\n",
              "      <td>No internet service</td>\n",
              "      <td>No internet service</td>\n",
              "      <td>No internet service</td>\n",
              "      <td>No internet service</td>\n",
              "      <td>No internet service</td>\n",
              "      <td>No internet service</td>\n",
              "      <td>One year</td>\n",
              "      <td>No</td>\n",
              "      <td>Mailed check</td>\n",
              "      <td>19.70</td>\n",
              "      <td>117.8</td>\n",
              "      <td>No</td>\n",
              "      <td>0-14</td>\n",
              "      <td>$0-$19.99</td>\n",
              "      <td>$0-$999.99</td>\n",
              "    </tr>\n",
              "    <tr>\n",
              "      <th>1</th>\n",
              "      <td>0661-KQHNK</td>\n",
              "      <td>Female</td>\n",
              "      <td>0</td>\n",
              "      <td>Yes</td>\n",
              "      <td>Yes</td>\n",
              "      <td>6</td>\n",
              "      <td>Yes</td>\n",
              "      <td>No</td>\n",
              "      <td>No</td>\n",
              "      <td>No internet service</td>\n",
              "      <td>No internet service</td>\n",
              "      <td>No internet service</td>\n",
              "      <td>No internet service</td>\n",
              "      <td>No internet service</td>\n",
              "      <td>No internet service</td>\n",
              "      <td>One year</td>\n",
              "      <td>No</td>\n",
              "      <td>Credit card (automatic)</td>\n",
              "      <td>19.00</td>\n",
              "      <td>105.5</td>\n",
              "      <td>No</td>\n",
              "      <td>0-14</td>\n",
              "      <td>$0-$19.99</td>\n",
              "      <td>$0-$999.99</td>\n",
              "    </tr>\n",
              "    <tr>\n",
              "      <th>2</th>\n",
              "      <td>0895-LNKRC</td>\n",
              "      <td>Male</td>\n",
              "      <td>0</td>\n",
              "      <td>Yes</td>\n",
              "      <td>Yes</td>\n",
              "      <td>6</td>\n",
              "      <td>Yes</td>\n",
              "      <td>No</td>\n",
              "      <td>No</td>\n",
              "      <td>No internet service</td>\n",
              "      <td>No internet service</td>\n",
              "      <td>No internet service</td>\n",
              "      <td>No internet service</td>\n",
              "      <td>No internet service</td>\n",
              "      <td>No internet service</td>\n",
              "      <td>One year</td>\n",
              "      <td>No</td>\n",
              "      <td>Mailed check</td>\n",
              "      <td>19.45</td>\n",
              "      <td>113.5</td>\n",
              "      <td>No</td>\n",
              "      <td>0-14</td>\n",
              "      <td>$0-$19.99</td>\n",
              "      <td>$0-$999.99</td>\n",
              "    </tr>\n",
              "    <tr>\n",
              "      <th>3</th>\n",
              "      <td>1015-JPFYW</td>\n",
              "      <td>Male</td>\n",
              "      <td>0</td>\n",
              "      <td>No</td>\n",
              "      <td>Yes</td>\n",
              "      <td>7</td>\n",
              "      <td>Yes</td>\n",
              "      <td>No</td>\n",
              "      <td>No</td>\n",
              "      <td>No internet service</td>\n",
              "      <td>No internet service</td>\n",
              "      <td>No internet service</td>\n",
              "      <td>No internet service</td>\n",
              "      <td>No internet service</td>\n",
              "      <td>No internet service</td>\n",
              "      <td>One year</td>\n",
              "      <td>No</td>\n",
              "      <td>Mailed check</td>\n",
              "      <td>19.45</td>\n",
              "      <td>136.75</td>\n",
              "      <td>No</td>\n",
              "      <td>0-14</td>\n",
              "      <td>$0-$19.99</td>\n",
              "      <td>$0-$999.99</td>\n",
              "    </tr>\n",
              "    <tr>\n",
              "      <th>4</th>\n",
              "      <td>1226-JZNKR</td>\n",
              "      <td>Female</td>\n",
              "      <td>0</td>\n",
              "      <td>Yes</td>\n",
              "      <td>Yes</td>\n",
              "      <td>8</td>\n",
              "      <td>Yes</td>\n",
              "      <td>No</td>\n",
              "      <td>No</td>\n",
              "      <td>No internet service</td>\n",
              "      <td>No internet service</td>\n",
              "      <td>No internet service</td>\n",
              "      <td>No internet service</td>\n",
              "      <td>No internet service</td>\n",
              "      <td>No internet service</td>\n",
              "      <td>One year</td>\n",
              "      <td>No</td>\n",
              "      <td>Electronic check</td>\n",
              "      <td>19.80</td>\n",
              "      <td>160.05</td>\n",
              "      <td>No</td>\n",
              "      <td>0-14</td>\n",
              "      <td>$0-$19.99</td>\n",
              "      <td>$0-$999.99</td>\n",
              "    </tr>\n",
              "    <tr>\n",
              "      <th>...</th>\n",
              "      <td>...</td>\n",
              "      <td>...</td>\n",
              "      <td>...</td>\n",
              "      <td>...</td>\n",
              "      <td>...</td>\n",
              "      <td>...</td>\n",
              "      <td>...</td>\n",
              "      <td>...</td>\n",
              "      <td>...</td>\n",
              "      <td>...</td>\n",
              "      <td>...</td>\n",
              "      <td>...</td>\n",
              "      <td>...</td>\n",
              "      <td>...</td>\n",
              "      <td>...</td>\n",
              "      <td>...</td>\n",
              "      <td>...</td>\n",
              "      <td>...</td>\n",
              "      <td>...</td>\n",
              "      <td>...</td>\n",
              "      <td>...</td>\n",
              "      <td>...</td>\n",
              "      <td>...</td>\n",
              "      <td>...</td>\n",
              "    </tr>\n",
              "    <tr>\n",
              "      <th>7038</th>\n",
              "      <td>7569-NMZYQ</td>\n",
              "      <td>Female</td>\n",
              "      <td>0</td>\n",
              "      <td>Yes</td>\n",
              "      <td>Yes</td>\n",
              "      <td>72</td>\n",
              "      <td>Yes</td>\n",
              "      <td>Yes</td>\n",
              "      <td>Fiber optic</td>\n",
              "      <td>Yes</td>\n",
              "      <td>Yes</td>\n",
              "      <td>Yes</td>\n",
              "      <td>Yes</td>\n",
              "      <td>Yes</td>\n",
              "      <td>Yes</td>\n",
              "      <td>Two year</td>\n",
              "      <td>Yes</td>\n",
              "      <td>Bank transfer (automatic)</td>\n",
              "      <td>118.75</td>\n",
              "      <td>8672.45</td>\n",
              "      <td>No</td>\n",
              "      <td>70-75</td>\n",
              "      <td>$90-$119.99</td>\n",
              "      <td>$8500-$8999.99</td>\n",
              "    </tr>\n",
              "    <tr>\n",
              "      <th>7039</th>\n",
              "      <td>8879-XUAHX</td>\n",
              "      <td>Male</td>\n",
              "      <td>0</td>\n",
              "      <td>Yes</td>\n",
              "      <td>No</td>\n",
              "      <td>71</td>\n",
              "      <td>Yes</td>\n",
              "      <td>Yes</td>\n",
              "      <td>Fiber optic</td>\n",
              "      <td>Yes</td>\n",
              "      <td>Yes</td>\n",
              "      <td>Yes</td>\n",
              "      <td>Yes</td>\n",
              "      <td>Yes</td>\n",
              "      <td>Yes</td>\n",
              "      <td>Two year</td>\n",
              "      <td>Yes</td>\n",
              "      <td>Electronic check</td>\n",
              "      <td>116.25</td>\n",
              "      <td>8564.75</td>\n",
              "      <td>No</td>\n",
              "      <td>70-75</td>\n",
              "      <td>$90-$119.99</td>\n",
              "      <td>$8500-$8999.99</td>\n",
              "    </tr>\n",
              "    <tr>\n",
              "      <th>7040</th>\n",
              "      <td>9739-JLPQJ</td>\n",
              "      <td>Female</td>\n",
              "      <td>0</td>\n",
              "      <td>Yes</td>\n",
              "      <td>Yes</td>\n",
              "      <td>72</td>\n",
              "      <td>Yes</td>\n",
              "      <td>Yes</td>\n",
              "      <td>Fiber optic</td>\n",
              "      <td>Yes</td>\n",
              "      <td>Yes</td>\n",
              "      <td>Yes</td>\n",
              "      <td>Yes</td>\n",
              "      <td>Yes</td>\n",
              "      <td>Yes</td>\n",
              "      <td>Two year</td>\n",
              "      <td>No</td>\n",
              "      <td>Credit card (automatic)</td>\n",
              "      <td>117.50</td>\n",
              "      <td>8670.1</td>\n",
              "      <td>No</td>\n",
              "      <td>70-75</td>\n",
              "      <td>$90-$119.99</td>\n",
              "      <td>$8500-$8999.99</td>\n",
              "    </tr>\n",
              "    <tr>\n",
              "      <th>7041</th>\n",
              "      <td>9788-HNGUT</td>\n",
              "      <td>Male</td>\n",
              "      <td>0</td>\n",
              "      <td>Yes</td>\n",
              "      <td>No</td>\n",
              "      <td>72</td>\n",
              "      <td>Yes</td>\n",
              "      <td>Yes</td>\n",
              "      <td>Fiber optic</td>\n",
              "      <td>Yes</td>\n",
              "      <td>Yes</td>\n",
              "      <td>Yes</td>\n",
              "      <td>Yes</td>\n",
              "      <td>Yes</td>\n",
              "      <td>Yes</td>\n",
              "      <td>Two year</td>\n",
              "      <td>Yes</td>\n",
              "      <td>Credit card (automatic)</td>\n",
              "      <td>116.95</td>\n",
              "      <td>8594.4</td>\n",
              "      <td>No</td>\n",
              "      <td>70-75</td>\n",
              "      <td>$90-$119.99</td>\n",
              "      <td>$8500-$8999.99</td>\n",
              "    </tr>\n",
              "    <tr>\n",
              "      <th>7042</th>\n",
              "      <td>9924-JPRMC</td>\n",
              "      <td>Male</td>\n",
              "      <td>0</td>\n",
              "      <td>No</td>\n",
              "      <td>No</td>\n",
              "      <td>72</td>\n",
              "      <td>Yes</td>\n",
              "      <td>Yes</td>\n",
              "      <td>Fiber optic</td>\n",
              "      <td>Yes</td>\n",
              "      <td>Yes</td>\n",
              "      <td>Yes</td>\n",
              "      <td>Yes</td>\n",
              "      <td>Yes</td>\n",
              "      <td>Yes</td>\n",
              "      <td>Two year</td>\n",
              "      <td>Yes</td>\n",
              "      <td>Electronic check</td>\n",
              "      <td>118.20</td>\n",
              "      <td>8547.15</td>\n",
              "      <td>No</td>\n",
              "      <td>70-75</td>\n",
              "      <td>$90-$119.99</td>\n",
              "      <td>$8500-$8999.99</td>\n",
              "    </tr>\n",
              "  </tbody>\n",
              "</table>\n",
              "<p>7043 rows × 24 columns</p>\n",
              "</div>"
            ],
            "text/plain": [
              "      customerID  gender  ...      MCGroup         TCGroup\n",
              "0     6260-XLACS    Male  ...    $0-$19.99      $0-$999.99\n",
              "1     0661-KQHNK  Female  ...    $0-$19.99      $0-$999.99\n",
              "2     0895-LNKRC    Male  ...    $0-$19.99      $0-$999.99\n",
              "3     1015-JPFYW    Male  ...    $0-$19.99      $0-$999.99\n",
              "4     1226-JZNKR  Female  ...    $0-$19.99      $0-$999.99\n",
              "...          ...     ...  ...          ...             ...\n",
              "7038  7569-NMZYQ  Female  ...  $90-$119.99  $8500-$8999.99\n",
              "7039  8879-XUAHX    Male  ...  $90-$119.99  $8500-$8999.99\n",
              "7040  9739-JLPQJ  Female  ...  $90-$119.99  $8500-$8999.99\n",
              "7041  9788-HNGUT    Male  ...  $90-$119.99  $8500-$8999.99\n",
              "7042  9924-JPRMC    Male  ...  $90-$119.99  $8500-$8999.99\n",
              "\n",
              "[7043 rows x 24 columns]"
            ]
          },
          "metadata": {
            "tags": []
          },
          "execution_count": 40
        }
      ]
    },
    {
      "cell_type": "markdown",
      "metadata": {
        "id": "WWSEzsG-2K22",
        "colab_type": "text"
      },
      "source": [
        "# Data Information"
      ]
    },
    {
      "cell_type": "markdown",
      "metadata": {
        "id": "ahA7lmiVJI_W",
        "colab_type": "text"
      },
      "source": [
        "Q1: Gender? - Categorical\n",
        "\n",
        "Classes: Male or Female\n",
        "\n",
        "Q2: SeniorCitizen? - Numerical \n",
        "\n",
        "Classes: 0 (No) or 1(Yes)\n",
        "\n",
        "Q3: Partner - Categorical\n",
        "\n",
        "Classes: Yes or No \n",
        "\n",
        "Q4: Dependents - Categorical\n",
        "\n",
        "Classes: Yes or No \n",
        "\n",
        "Q5: tenure - Numerical\n",
        "\n",
        "Classes: 1-72\n",
        "\n",
        "Q6: PhoneService - Categorical\n",
        "\n",
        "Classes: Yes or No \n",
        "\n",
        "Q7: MultipleLines - Categorical\n",
        "\n",
        "Classes: Yes, No, or No Phone Service\n",
        "\n",
        "Q8: InternetService - Categorical\n",
        "\n",
        "Classes: DSL, Fiber Optic, or No\n",
        "\n",
        "Q9. OnlineSecurity - Categorical\n",
        "\n",
        "Classes: Yes, No, or No Internet Service\n",
        "\n",
        "Q10. OnlineBackup - Categorical\n",
        "\n",
        "Classes: Yes, No, or No Internet Service\n",
        "\n",
        "Q11. DeviceProtection - Categorical\n",
        "\n",
        "Classes: Yes, No, or No Internet Service\n",
        "\n",
        "Q12. TechSupport - Categorical \n",
        "\n",
        "Classes: Yes, No, or No Internet Service\n",
        "\n",
        "Q13. StreamingTV - Categorical \n",
        "\n",
        "Classes: Yes, No, or No Internet Service\n",
        "\n",
        "Q14. StreamingMovies - Categorical\n",
        "\n",
        "Classes: Yes, No, or No Internet Service\n",
        "\n",
        "Q15. Contract - Categorical\n",
        "\n",
        "Classes: Month-to-Month, One Year, Two Year \n",
        "\n",
        "Q16. PaperlessBilling\t- Categorical \n",
        "\n",
        "Classes: Yes or No  \n",
        "\n",
        "Q17. PaymentMethod - Categorical\n",
        "\n",
        "Classes: Bank transfer (automatic), Credit card (automatic), Electronic check, Mailed check\n",
        "\n",
        "Q18. MonthlyCharges - Continuous\n",
        "\n",
        "Classes: 18.25-118.75\n",
        "\n",
        "Q19: TotalCharges - Continuous\n",
        "\n",
        "Classes: 18.8-8684.8 \n",
        "\n",
        "Q20. Churn - Categorical\n",
        "\n",
        "Classes: Yes or No\n",
        "\n",
        "I added three categories below to cluster them into groups in Excel since the data was all over the place for Tenure, MonthlyCharges, and TotalCharges.\n",
        "\n",
        "Q21. TenureGroup - Continuous\n",
        "\n",
        "Classes: 0-14,15-19,20-24,25-29,30-34,35-39,40-44,45-49,50-54,55-59,60-64,65-69,70-74\n",
        "\n",
        "Q22. MCGroup - Continuous\n",
        "\n",
        "Classes: 0-19.99, 20-29.99, 30-39.99, 40-49.99, 50-59.99, 60-69.99, 70-79.99, 80-89.99, 90-119.99\n",
        "\n",
        "Q23. TCGroup - Continuous\n",
        "\n",
        "Classes: 0-999.99, 1000-1499.99, 1500-1999.99, 2000-2499.99, 2500-2999.99, 3000-3499.99, 3500-3999.99, 4000-4499.99, 4500-4999.99, 5000-5499.99, 5500-5999.99, 6000-6499.99, 6500-6999.99, 7000-7499.99, 7500-7999.99, 8000-8499.99, 8500-8999.99\n",
        "\n",
        "I added this category to target variables, which is the main purpose of the project.\n",
        "\n",
        "I got this data from Kaggle, which is from https://www.kaggle.com/blastchar/telco-customer-churn.\n",
        "\n"
      ]
    },
    {
      "cell_type": "code",
      "metadata": {
        "id": "3iXvuCOMOnhH",
        "colab_type": "code",
        "outputId": "7664eef1-3ae0-4983-d711-379c661c4357",
        "colab": {
          "base_uri": "https://localhost:8080/",
          "height": 461
        }
      },
      "source": [
        "telco.dtypes"
      ],
      "execution_count": 41,
      "outputs": [
        {
          "output_type": "execute_result",
          "data": {
            "text/plain": [
              "customerID           object\n",
              "gender               object\n",
              "SeniorCitizen         int64\n",
              "Partner              object\n",
              "Dependents           object\n",
              "tenure                int64\n",
              "PhoneService         object\n",
              "MultipleLines        object\n",
              "InternetService      object\n",
              "OnlineSecurity       object\n",
              "OnlineBackup         object\n",
              "DeviceProtection     object\n",
              "TechSupport          object\n",
              "StreamingTV          object\n",
              "StreamingMovies      object\n",
              "Contract             object\n",
              "PaperlessBilling     object\n",
              "PaymentMethod        object\n",
              "MonthlyCharges      float64\n",
              "TotalCharges         object\n",
              "Churn                object\n",
              "TenureGroup          object\n",
              "MCGroup              object\n",
              "TCGroup              object\n",
              "dtype: object"
            ]
          },
          "metadata": {
            "tags": []
          },
          "execution_count": 41
        }
      ]
    },
    {
      "cell_type": "code",
      "metadata": {
        "id": "uLKWaf9JB4HJ",
        "colab_type": "code",
        "outputId": "c8d4f03a-4ef9-4af8-b578-5e0fafd31c74",
        "colab": {
          "base_uri": "https://localhost:8080/",
          "height": 461
        }
      },
      "source": [
        "telco.isnull().sum().sort_values(ascending=False) "
      ],
      "execution_count": 42,
      "outputs": [
        {
          "output_type": "execute_result",
          "data": {
            "text/plain": [
              "TCGroup             11\n",
              "MCGroup              0\n",
              "gender               0\n",
              "SeniorCitizen        0\n",
              "Partner              0\n",
              "Dependents           0\n",
              "tenure               0\n",
              "PhoneService         0\n",
              "MultipleLines        0\n",
              "InternetService      0\n",
              "OnlineSecurity       0\n",
              "OnlineBackup         0\n",
              "DeviceProtection     0\n",
              "TechSupport          0\n",
              "StreamingTV          0\n",
              "StreamingMovies      0\n",
              "Contract             0\n",
              "PaperlessBilling     0\n",
              "PaymentMethod        0\n",
              "MonthlyCharges       0\n",
              "TotalCharges         0\n",
              "Churn                0\n",
              "TenureGroup          0\n",
              "customerID           0\n",
              "dtype: int64"
            ]
          },
          "metadata": {
            "tags": []
          },
          "execution_count": 42
        }
      ]
    },
    {
      "cell_type": "markdown",
      "metadata": {
        "id": "HBYOn0VdnVHZ",
        "colab_type": "text"
      },
      "source": [
        "Because I have null Values in TCGroup (Total Charges Group), I will drop the null values below."
      ]
    },
    {
      "cell_type": "code",
      "metadata": {
        "id": "jM2HwpNqOthW",
        "colab_type": "code",
        "colab": {}
      },
      "source": [
        "telco.dropna(subset=['TCGroup'], inplace=True)"
      ],
      "execution_count": 0,
      "outputs": []
    },
    {
      "cell_type": "markdown",
      "metadata": {
        "id": "SU-6a6jqmleq",
        "colab_type": "text"
      },
      "source": [
        "# Data Analysis"
      ]
    },
    {
      "cell_type": "code",
      "metadata": {
        "id": "iWIsA20iPGGA",
        "colab_type": "code",
        "outputId": "298736f2-cdbe-46e1-c9cb-e34bf027fa31",
        "colab": {
          "base_uri": "https://localhost:8080/",
          "height": 360
        }
      },
      "source": [
        "plt.figure(figsize=(10,5))\n",
        "sns.countplot(\"Churn\", hue=\"Contract\", palette=\"Oranges\",data=telco)\n",
        "plt.title(\"Churn vs. Contract\",fontsize=10,fontweight=\"bold\")\n",
        "plt.xlabel(\"Churn vs. Contract\")\n",
        "plt.ylabel(\"Count\")\n",
        "plt.subplots_adjust(top=1.88, bottom=1.09, right=1.48)\n",
        "plt.show()"
      ],
      "execution_count": 44,
      "outputs": [
        {
          "output_type": "display_data",
          "data": {
            "image/png": "[encoded data removed]",
            "text/plain": [
              "<Figure size 720x360 with 1 Axes>"
            ]
          },
          "metadata": {
            "tags": []
          }
        }
      ]
    },
    {
      "cell_type": "markdown",
      "metadata": {
        "id": "_of4gld-mqwK",
        "colab_type": "text"
      },
      "source": [
        "More customers are more likely to not recommend the company with a month-to-month contract based on those who voted \"Yes\" to churn. A reason those types of customers only can to month-to-month contract is that they have a limited budget that prevents them from doing yearly contracts. Those types of customers may experience late fees for not paying on time, which inflates their decision to not recommend the company when the company is not at fault."
      ]
    },
    {
      "cell_type": "code",
      "metadata": {
        "id": "hHa56QfGU9Bi",
        "colab_type": "code",
        "outputId": "c914fca8-eb39-4b75-a73b-7f165d381a26",
        "colab": {
          "base_uri": "https://localhost:8080/",
          "height": 360
        }
      },
      "source": [
        "plt.figure(figsize=(10,5))\n",
        "sns.countplot(\"Churn\", hue=\"SeniorCitizen\", palette=\"Oranges\",data=telco)\n",
        "plt.title(\"Churn vs. Senior Citizen\",fontsize=10,fontweight=\"bold\")\n",
        "plt.xlabel(\"Churn vs. Senior Citizen\")\n",
        "plt.ylabel(\"Count\")\n",
        "plt.subplots_adjust(top=1.88, bottom=1.09, right=1.48)\n",
        "plt.show()"
      ],
      "execution_count": 45,
      "outputs": [
        {
          "output_type": "display_data",
          "data": {
            "image/png": "[encoded data removed]",
            "text/plain": [
              "<Figure size 720x360 with 1 Axes>"
            ]
          },
          "metadata": {
            "tags": []
          }
        }
      ]
    },
    {
      "cell_type": "markdown",
      "metadata": {
        "id": "Otdu6vY8ttF5",
        "colab_type": "text"
      },
      "source": [
        "Senior citizens are less likely to churn because there is an implication they receive a discount on services. Another implication may not be the discount, but their loyalty to the company (which causes them to have more incentives for them being with the company long). I predicted senior citizens were going to churn from the company because companies now emphasize on paperless billing. In the graph below, senior citizens did not sign up for paperless billing, which meant they are used to paying bills by mail."
      ]
    },
    {
      "cell_type": "code",
      "metadata": {
        "id": "TYfqLMuOQA9P",
        "colab_type": "code",
        "outputId": "7695053b-7cdc-4d1c-9034-275c84e73626",
        "colab": {
          "base_uri": "https://localhost:8080/",
          "height": 360
        }
      },
      "source": [
        "plt.figure(figsize=(10,5))\n",
        "sns.countplot(\"PaperlessBilling\", hue=\"SeniorCitizen\", palette=\"Oranges\",data=telco)\n",
        "plt.title(\"PaperlessBilling vs. Senior Citizen\",fontsize=10,fontweight=\"bold\")\n",
        "plt.xlabel(\"PaperlessBilling vs. Senior Citizen\")\n",
        "plt.ylabel(\"Count\")\n",
        "plt.subplots_adjust(top=1.88, bottom=1.09, right=1.48)\n",
        "plt.show()"
      ],
      "execution_count": 46,
      "outputs": [
        {
          "output_type": "display_data",
          "data": {
            "image/png": "[encoded data removed]",
            "text/plain": [
              "<Figure size 720x360 with 1 Axes>"
            ]
          },
          "metadata": {
            "tags": []
          }
        }
      ]
    },
    {
      "cell_type": "code",
      "metadata": {
        "id": "7s1BpmurREmq",
        "colab_type": "code",
        "outputId": "c426e0d9-fedd-42c3-e2f7-6278e58f9855",
        "colab": {
          "base_uri": "https://localhost:8080/",
          "height": 360
        }
      },
      "source": [
        "plt.figure(figsize=(10,5))\n",
        "sns.countplot(\"Churn\", hue=\"TenureGroup\", palette=\"Oranges\",data=telco)\n",
        "plt.title(\"Churn vs. TenureGroup\",fontsize=10,fontweight=\"bold\")\n",
        "plt.xlabel(\"Churn vs. TenureGroup\")\n",
        "plt.ylabel(\"Count\")\n",
        "plt.subplots_adjust(top=1.88, bottom=1.09, right=1.48)\n",
        "plt.show()"
      ],
      "execution_count": 47,
      "outputs": [
        {
          "output_type": "display_data",
          "data": {
            "image/png": "[encoded data removed]",
            "text/plain": [
              "<Figure size 720x360 with 1 Axes>"
            ]
          },
          "metadata": {
            "tags": []
          }
        }
      ]
    },
    {
      "cell_type": "markdown",
      "metadata": {
        "id": "OgY9IaPA39HW",
        "colab_type": "text"
      },
      "source": [
        "Customers who have been with the company longer are less likely to churn because there is an implication they receive a special discount for staying with the company for a while. Those customers who have stayed with the company for less than 15 years did not recommend the company and did not show enough patience to stay longer with the company.\n",
        "\n",
        "\n"
      ]
    },
    {
      "cell_type": "code",
      "metadata": {
        "id": "FAVFJcoezbL8",
        "colab_type": "code",
        "outputId": "03bb1926-d949-485e-975d-e7daef934d0d",
        "colab": {
          "base_uri": "https://localhost:8080/",
          "height": 350
        }
      },
      "source": [
        "plt.figure(figsize=(10,5))\n",
        "sns.countplot(\"Churn\", hue=\"MCGroup\", palette=\"Oranges\",data=telco)\n",
        "plt.title(\"Churn vs. Monthly Charges\",fontsize=10,fontweight=\"bold\")\n",
        "plt.xlabel(\"Churn vs. Monthly Charges\")\n",
        "plt.ylabel(\"Count\")\n",
        "plt.subplots_adjust(top=2.35, bottom=1.59, right=2.48)\n",
        "plt.show()"
      ],
      "execution_count": 48,
      "outputs": [
        {
          "output_type": "display_data",
          "data": {
            "image/png": "[encoded data removed]",
            "text/plain": [
              "<Figure size 720x360 with 1 Axes>"
            ]
          },
          "metadata": {
            "tags": []
          }
        }
      ]
    },
    {
      "cell_type": "markdown",
      "metadata": {
        "id": "qjHxPkMLrQ8v",
        "colab_type": "text"
      },
      "source": [
        "Customers who paid `$70/month` are most likely to churn due to the expensive services offered. Those who paid less than $30 are satisfied with the services, which implicates they still recommended the service."
      ]
    },
    {
      "cell_type": "code",
      "metadata": {
        "id": "vL3C9QbQURcE",
        "colab_type": "code",
        "outputId": "09e554c7-c8cf-4ea8-86a0-7d9948c8071e",
        "colab": {
          "base_uri": "https://localhost:8080/",
          "height": 360
        }
      },
      "source": [
        "plt.figure(figsize=(10,5))\n",
        "sns.countplot(\"Churn\", hue=\"PhoneService\", palette=\"Oranges\",data=telco)\n",
        "plt.title(\"Churn vs. PhoneServices\",fontsize=10,fontweight=\"bold\")\n",
        "plt.xlabel(\"Churn vs. PhoneServices\")\n",
        "plt.ylabel(\"Count\")\n",
        "plt.subplots_adjust(top=1.88, bottom=1.09, right=1.48)\n",
        "plt.show()"
      ],
      "execution_count": 49,
      "outputs": [
        {
          "output_type": "display_data",
          "data": {
            "image/png": "[encoded data removed]",
            "text/plain": [
              "<Figure size 720x360 with 1 Axes>"
            ]
          },
          "metadata": {
            "tags": []
          }
        }
      ]
    },
    {
      "cell_type": "markdown",
      "metadata": {
        "id": "_RX-5yH2vJmw",
        "colab_type": "text"
      },
      "source": [
        "More customers (who churned) voted yes to having phone service. Those churned customers that had phone service were unlikely satisfied with their services based on quality, and/or price."
      ]
    },
    {
      "cell_type": "code",
      "metadata": {
        "id": "7maiUADFXzgh",
        "colab_type": "code",
        "outputId": "033aa98e-c92a-4f46-b102-5ff49fc38da7",
        "colab": {
          "base_uri": "https://localhost:8080/",
          "height": 360
        }
      },
      "source": [
        "plt.figure(figsize=(10,5))\n",
        "sns.countplot(\"Churn\", hue=\"InternetService\", palette=\"Oranges\",data=telco)\n",
        "plt.title(\"Churn vs. InternetServices\",fontsize=10,fontweight=\"bold\")\n",
        "plt.xlabel(\"Churn vs. InternetServices\")\n",
        "plt.ylabel(\"Count\")\n",
        "plt.subplots_adjust(top=1.88, bottom=1.09, right=1.48)\n",
        "plt.show()"
      ],
      "execution_count": 50,
      "outputs": [
        {
          "output_type": "display_data",
          "data": {
            "image/png": "[encoded data removed]",
            "text/plain": [
              "<Figure size 720x360 with 1 Axes>"
            ]
          },
          "metadata": {
            "tags": []
          }
        }
      ]
    },
    {
      "cell_type": "markdown",
      "metadata": {
        "id": "12j1XpAK9Aco",
        "colab_type": "text"
      },
      "source": [
        "Those churned customers are the ones who use Fiber Optic. Because Fiber Optic is faster than DSL, it is an implication that it is more expensive."
      ]
    },
    {
      "cell_type": "code",
      "metadata": {
        "id": "kVJXkc7ZY8rU",
        "colab_type": "code",
        "outputId": "3c50e7ba-cc73-4b98-fb05-9ffd84fd692b",
        "colab": {
          "base_uri": "https://localhost:8080/",
          "height": 467
        }
      },
      "source": [
        "plt.figure(figsize=(10,5))\n",
        "sns.countplot(\"Churn\", hue=\"TCGroup\", palette=\"Oranges\",data=telco)\n",
        "plt.title(\"Churn vs. Total Charges\",fontsize=10,fontweight=\"bold\")\n",
        "plt.xlabel(\"Churn vs. Total Charges\")\n",
        "plt.ylabel(\"Count\")\n",
        "plt.subplots_adjust(top=4.88, bottom=3.79, right=2.76)\n",
        "plt.show()"
      ],
      "execution_count": 51,
      "outputs": [
        {
          "output_type": "display_data",
          "data": {
            "image/png": "[encoded data removed]",
            "text/plain": [
              "<Figure size 720x360 with 1 Axes>"
            ]
          },
          "metadata": {
            "tags": []
          }
        }
      ]
    },
    {
      "cell_type": "markdown",
      "metadata": {
        "id": "7i0SO_0FIZL7",
        "colab_type": "text"
      },
      "source": [
        "Those churned customers are theones that paid a total of $1,000 month. The more they paid in total, they less of a chance they would churn the company."
      ]
    },
    {
      "cell_type": "code",
      "metadata": {
        "id": "aXYAXrE3X5Kc",
        "colab_type": "code",
        "outputId": "7159a10a-ddfe-476e-c8ea-6a5417babef1",
        "colab": {
          "base_uri": "https://localhost:8080/",
          "height": 360
        }
      },
      "source": [
        "plt.figure(figsize=(10,5))\n",
        "sns.countplot(\"Churn\", hue=\"PaperlessBilling\", palette=\"Oranges\",data=telco)\n",
        "plt.title(\"Churn vs. Paperless Billing\",fontsize=10,fontweight=\"bold\")\n",
        "plt.xlabel(\"Churn vs. Paperless Billing\")\n",
        "plt.ylabel(\"Count\")\n",
        "plt.subplots_adjust(top=1.88, bottom=1.09, right=1.48)\n",
        "plt.show()"
      ],
      "execution_count": 52,
      "outputs": [
        {
          "output_type": "display_data",
          "data": {
            "image/png": "[encoded data removed]",
            "text/plain": [
              "<Figure size 720x360 with 1 Axes>"
            ]
          },
          "metadata": {
            "tags": []
          }
        }
      ]
    },
    {
      "cell_type": "markdown",
      "metadata": {
        "id": "jTuJMB3NIg2w",
        "colab_type": "text"
      },
      "source": [
        "Those who did churn actually did vote for paperless billing as their preference. What I learned from it is that not choosing paperless billing does not always play in a factor of a customer churning.\n",
        "\n",
        "---\n",
        "\n"
      ]
    },
    {
      "cell_type": "code",
      "metadata": {
        "id": "JzV9HFlYCke5",
        "colab_type": "code",
        "colab": {}
      },
      "source": [
        "lb = LabelEncoder()\n",
        "\n",
        "for col in telco.columns:\n",
        "  telco[col]=lb.fit_transform(telco[col])"
      ],
      "execution_count": 0,
      "outputs": []
    },
    {
      "cell_type": "code",
      "metadata": {
        "id": "dFSjqty1FmMm",
        "colab_type": "code",
        "outputId": "3a6ffcd5-fcd4-49bd-f896-5b9e66c7e131",
        "colab": {
          "base_uri": "https://localhost:8080/",
          "height": 307
        }
      },
      "source": [
        "telco.describe()"
      ],
      "execution_count": 54,
      "outputs": [
        {
          "output_type": "execute_result",
          "data": {
            "text/html": [
              "<div>\n",
              "<style scoped>\n",
              "    .dataframe tbody tr th:only-of-type {\n",
              "        vertical-align: middle;\n",
              "    }\n",
              "\n",
              "    .dataframe tbody tr th {\n",
              "        vertical-align: top;\n",
              "    }\n",
              "\n",
              "    .dataframe thead th {\n",
              "        text-align: right;\n",
              "    }\n",
              "</style>\n",
              "<table border=\"1\" class=\"dataframe\">\n",
              "  <thead>\n",
              "    <tr style=\"text-align: right;\">\n",
              "      <th></th>\n",
              "      <th>customerID</th>\n",
              "      <th>gender</th>\n",
              "      <th>SeniorCitizen</th>\n",
              "      <th>Partner</th>\n",
              "      <th>Dependents</th>\n",
              "      <th>tenure</th>\n",
              "      <th>PhoneService</th>\n",
              "      <th>MultipleLines</th>\n",
              "      <th>InternetService</th>\n",
              "      <th>OnlineSecurity</th>\n",
              "      <th>OnlineBackup</th>\n",
              "      <th>DeviceProtection</th>\n",
              "      <th>TechSupport</th>\n",
              "      <th>StreamingTV</th>\n",
              "      <th>StreamingMovies</th>\n",
              "      <th>Contract</th>\n",
              "      <th>PaperlessBilling</th>\n",
              "      <th>PaymentMethod</th>\n",
              "      <th>MonthlyCharges</th>\n",
              "      <th>TotalCharges</th>\n",
              "      <th>Churn</th>\n",
              "      <th>TenureGroup</th>\n",
              "      <th>MCGroup</th>\n",
              "      <th>TCGroup</th>\n",
              "    </tr>\n",
              "  </thead>\n",
              "  <tbody>\n",
              "    <tr>\n",
              "      <th>count</th>\n",
              "      <td>7032.000000</td>\n",
              "      <td>7032.000000</td>\n",
              "      <td>7032.000000</td>\n",
              "      <td>7032.000000</td>\n",
              "      <td>7032.000000</td>\n",
              "      <td>7032.000000</td>\n",
              "      <td>7032.000000</td>\n",
              "      <td>7032.000000</td>\n",
              "      <td>7032.000000</td>\n",
              "      <td>7032.000000</td>\n",
              "      <td>7032.000000</td>\n",
              "      <td>7032.000000</td>\n",
              "      <td>7032.000000</td>\n",
              "      <td>7032.000000</td>\n",
              "      <td>7032.000000</td>\n",
              "      <td>7032.000000</td>\n",
              "      <td>7032.000000</td>\n",
              "      <td>7032.000000</td>\n",
              "      <td>7032.000000</td>\n",
              "      <td>7032.000000</td>\n",
              "      <td>7032.000000</td>\n",
              "      <td>7032.000000</td>\n",
              "      <td>7032.000000</td>\n",
              "      <td>7032.000000</td>\n",
              "    </tr>\n",
              "    <tr>\n",
              "      <th>mean</th>\n",
              "      <td>3515.500000</td>\n",
              "      <td>0.504693</td>\n",
              "      <td>0.162400</td>\n",
              "      <td>0.482509</td>\n",
              "      <td>0.298493</td>\n",
              "      <td>31.421786</td>\n",
              "      <td>0.903299</td>\n",
              "      <td>0.940557</td>\n",
              "      <td>0.872582</td>\n",
              "      <td>0.789249</td>\n",
              "      <td>0.905859</td>\n",
              "      <td>0.903868</td>\n",
              "      <td>0.796359</td>\n",
              "      <td>0.984926</td>\n",
              "      <td>0.992890</td>\n",
              "      <td>0.688567</td>\n",
              "      <td>0.592719</td>\n",
              "      <td>1.573237</td>\n",
              "      <td>683.446815</td>\n",
              "      <td>3261.890216</td>\n",
              "      <td>0.265785</td>\n",
              "      <td>4.538680</td>\n",
              "      <td>4.819824</td>\n",
              "      <td>3.396473</td>\n",
              "    </tr>\n",
              "    <tr>\n",
              "      <th>std</th>\n",
              "      <td>2030.107879</td>\n",
              "      <td>0.500014</td>\n",
              "      <td>0.368844</td>\n",
              "      <td>0.499729</td>\n",
              "      <td>0.457629</td>\n",
              "      <td>24.545260</td>\n",
              "      <td>0.295571</td>\n",
              "      <td>0.948627</td>\n",
              "      <td>0.737271</td>\n",
              "      <td>0.859962</td>\n",
              "      <td>0.880394</td>\n",
              "      <td>0.880178</td>\n",
              "      <td>0.861674</td>\n",
              "      <td>0.885285</td>\n",
              "      <td>0.885385</td>\n",
              "      <td>0.832934</td>\n",
              "      <td>0.491363</td>\n",
              "      <td>1.067504</td>\n",
              "      <td>478.099359</td>\n",
              "      <td>1885.766048</td>\n",
              "      <td>0.441782</td>\n",
              "      <td>4.427444</td>\n",
              "      <td>2.823563</td>\n",
              "      <td>4.249920</td>\n",
              "    </tr>\n",
              "    <tr>\n",
              "      <th>min</th>\n",
              "      <td>0.000000</td>\n",
              "      <td>0.000000</td>\n",
              "      <td>0.000000</td>\n",
              "      <td>0.000000</td>\n",
              "      <td>0.000000</td>\n",
              "      <td>0.000000</td>\n",
              "      <td>0.000000</td>\n",
              "      <td>0.000000</td>\n",
              "      <td>0.000000</td>\n",
              "      <td>0.000000</td>\n",
              "      <td>0.000000</td>\n",
              "      <td>0.000000</td>\n",
              "      <td>0.000000</td>\n",
              "      <td>0.000000</td>\n",
              "      <td>0.000000</td>\n",
              "      <td>0.000000</td>\n",
              "      <td>0.000000</td>\n",
              "      <td>0.000000</td>\n",
              "      <td>0.000000</td>\n",
              "      <td>0.000000</td>\n",
              "      <td>0.000000</td>\n",
              "      <td>0.000000</td>\n",
              "      <td>0.000000</td>\n",
              "      <td>0.000000</td>\n",
              "    </tr>\n",
              "    <tr>\n",
              "      <th>25%</th>\n",
              "      <td>1757.750000</td>\n",
              "      <td>0.000000</td>\n",
              "      <td>0.000000</td>\n",
              "      <td>0.000000</td>\n",
              "      <td>0.000000</td>\n",
              "      <td>8.000000</td>\n",
              "      <td>1.000000</td>\n",
              "      <td>0.000000</td>\n",
              "      <td>0.000000</td>\n",
              "      <td>0.000000</td>\n",
              "      <td>0.000000</td>\n",
              "      <td>0.000000</td>\n",
              "      <td>0.000000</td>\n",
              "      <td>0.000000</td>\n",
              "      <td>0.000000</td>\n",
              "      <td>0.000000</td>\n",
              "      <td>0.000000</td>\n",
              "      <td>1.000000</td>\n",
              "      <td>200.750000</td>\n",
              "      <td>1609.000000</td>\n",
              "      <td>0.000000</td>\n",
              "      <td>0.000000</td>\n",
              "      <td>2.000000</td>\n",
              "      <td>0.000000</td>\n",
              "    </tr>\n",
              "    <tr>\n",
              "      <th>50%</th>\n",
              "      <td>3515.500000</td>\n",
              "      <td>1.000000</td>\n",
              "      <td>0.000000</td>\n",
              "      <td>0.000000</td>\n",
              "      <td>0.000000</td>\n",
              "      <td>28.000000</td>\n",
              "      <td>1.000000</td>\n",
              "      <td>1.000000</td>\n",
              "      <td>1.000000</td>\n",
              "      <td>1.000000</td>\n",
              "      <td>1.000000</td>\n",
              "      <td>1.000000</td>\n",
              "      <td>1.000000</td>\n",
              "      <td>1.000000</td>\n",
              "      <td>1.000000</td>\n",
              "      <td>0.000000</td>\n",
              "      <td>1.000000</td>\n",
              "      <td>2.000000</td>\n",
              "      <td>721.000000</td>\n",
              "      <td>3253.500000</td>\n",
              "      <td>0.000000</td>\n",
              "      <td>3.000000</td>\n",
              "      <td>6.000000</td>\n",
              "      <td>1.000000</td>\n",
              "    </tr>\n",
              "    <tr>\n",
              "      <th>75%</th>\n",
              "      <td>5273.250000</td>\n",
              "      <td>1.000000</td>\n",
              "      <td>0.000000</td>\n",
              "      <td>1.000000</td>\n",
              "      <td>1.000000</td>\n",
              "      <td>54.000000</td>\n",
              "      <td>1.000000</td>\n",
              "      <td>2.000000</td>\n",
              "      <td>1.000000</td>\n",
              "      <td>2.000000</td>\n",
              "      <td>2.000000</td>\n",
              "      <td>2.000000</td>\n",
              "      <td>2.000000</td>\n",
              "      <td>2.000000</td>\n",
              "      <td>2.000000</td>\n",
              "      <td>1.000000</td>\n",
              "      <td>1.000000</td>\n",
              "      <td>2.000000</td>\n",
              "      <td>1089.250000</td>\n",
              "      <td>4903.250000</td>\n",
              "      <td>1.000000</td>\n",
              "      <td>9.000000</td>\n",
              "      <td>7.000000</td>\n",
              "      <td>6.000000</td>\n",
              "    </tr>\n",
              "    <tr>\n",
              "      <th>max</th>\n",
              "      <td>7031.000000</td>\n",
              "      <td>1.000000</td>\n",
              "      <td>1.000000</td>\n",
              "      <td>1.000000</td>\n",
              "      <td>1.000000</td>\n",
              "      <td>71.000000</td>\n",
              "      <td>1.000000</td>\n",
              "      <td>2.000000</td>\n",
              "      <td>2.000000</td>\n",
              "      <td>2.000000</td>\n",
              "      <td>2.000000</td>\n",
              "      <td>2.000000</td>\n",
              "      <td>2.000000</td>\n",
              "      <td>2.000000</td>\n",
              "      <td>2.000000</td>\n",
              "      <td>2.000000</td>\n",
              "      <td>1.000000</td>\n",
              "      <td>3.000000</td>\n",
              "      <td>1583.000000</td>\n",
              "      <td>6529.000000</td>\n",
              "      <td>1.000000</td>\n",
              "      <td>12.000000</td>\n",
              "      <td>8.000000</td>\n",
              "      <td>16.000000</td>\n",
              "    </tr>\n",
              "  </tbody>\n",
              "</table>\n",
              "</div>"
            ],
            "text/plain": [
              "        customerID       gender  ...      MCGroup      TCGroup\n",
              "count  7032.000000  7032.000000  ...  7032.000000  7032.000000\n",
              "mean   3515.500000     0.504693  ...     4.819824     3.396473\n",
              "std    2030.107879     0.500014  ...     2.823563     4.249920\n",
              "min       0.000000     0.000000  ...     0.000000     0.000000\n",
              "25%    1757.750000     0.000000  ...     2.000000     0.000000\n",
              "50%    3515.500000     1.000000  ...     6.000000     1.000000\n",
              "75%    5273.250000     1.000000  ...     7.000000     6.000000\n",
              "max    7031.000000     1.000000  ...     8.000000    16.000000\n",
              "\n",
              "[8 rows x 24 columns]"
            ]
          },
          "metadata": {
            "tags": []
          },
          "execution_count": 54
        }
      ]
    },
    {
      "cell_type": "code",
      "metadata": {
        "id": "7akfgkEogFEv",
        "colab_type": "code",
        "colab": {}
      },
      "source": [
        "X= telco[['Contract', 'SeniorCitizen', 'TenureGroup','MCGroup','PhoneService','InternetService','TCGroup','PaperlessBilling']]\n",
        "y= telco['Churn']"
      ],
      "execution_count": 0,
      "outputs": []
    },
    {
      "cell_type": "code",
      "metadata": {
        "id": "h_IYi7HIgel4",
        "colab_type": "code",
        "colab": {}
      },
      "source": [
        "X_train, X_test, y_train, y_test = train_test_split(X,y, test_size = 0.3, random_state = 42)"
      ],
      "execution_count": 0,
      "outputs": []
    },
    {
      "cell_type": "markdown",
      "metadata": {
        "id": "UkdpXUlXgq9X",
        "colab_type": "text"
      },
      "source": [
        "# Random Forest Classifier"
      ]
    },
    {
      "cell_type": "code",
      "metadata": {
        "id": "VQF7rUsAghAW",
        "colab_type": "code",
        "outputId": "7ef47eb0-bb84-4dd1-ddfd-e7c3d1eae164",
        "colab": {
          "base_uri": "https://localhost:8080/",
          "height": 265
        }
      },
      "source": [
        "import timeit\n",
        "\n",
        "%timeit pass\n",
        "\n",
        "rfc = RandomForestClassifier(random_state = 42)\n",
        "rfc.fit(X_train, y_train)\n",
        "pred_rfc = rfc.predict(X_test)\n",
        "\n",
        "print('\\n')\n",
        "print(\"The Random Forest Classifier results are below:\")\n",
        "print(\"Accuracy:\",accuracy_score(y_test,pred_rfc )*100)\n",
        "print(\"F1:\",f1_score(y_test,pred_rfc, average=\"macro\")*100)\n",
        "print(\"Precision:\",precision_score(y_test,pred_rfc, average=\"macro\")*100)\n",
        "print(\"Recall:\",recall_score(y_test, pred_rfc, average=\"macro\")*100) \n",
        "print(\"Cross Validation:\", cross_val_score(rfc, X_train, y_train, cv=3)*100)\n",
        "print(\"\\n\")\n",
        "print(\"Here is the confusion matrix below:\\n\", confusion_matrix(y_test,pred_rfc))\n"
      ],
      "execution_count": 57,
      "outputs": [
        {
          "output_type": "stream",
          "text": [
            "100000000 loops, best of 3: 7.39 ns per loop\n",
            "\n",
            "\n",
            "The Random Forest Classifier results are below:\n",
            "Accuracy: 78.34123222748815\n",
            "F1: 71.37321693055408\n",
            "Precision: 73.62026466009341\n",
            "Recall: 70.1157013288196\n",
            "Cross Validation: [77.64920828 78.41463415 74.81707317]\n",
            "\n",
            "\n",
            "Here is the confusion matrix below:\n",
            " [[1347  164]\n",
            " [ 293  306]]\n"
          ],
          "name": "stdout"
        }
      ]
    },
    {
      "cell_type": "markdown",
      "metadata": {
        "id": "Q1EWRCxFhbys",
        "colab_type": "text"
      },
      "source": [
        "# Support Vector Classifier"
      ]
    },
    {
      "cell_type": "code",
      "metadata": {
        "id": "2Oq_iKVRBeIf",
        "colab_type": "code",
        "outputId": "3fad00c0-fc96-4eea-d0f3-282e7d148e31",
        "colab": {
          "base_uri": "https://localhost:8080/",
          "height": 265
        }
      },
      "source": [
        "%timeit pass\n",
        "\n",
        "svc = SVC(random_state = 42)\n",
        "svc.fit(X_train, y_train)\n",
        "pred_svc = svc.predict(X_test)\n",
        "\n",
        "print('\\n')\n",
        "print(\"The Support Vector Classifier) results are below:\")\n",
        "print(\"Accuracy:\",accuracy_score(y_test,pred_svc )*100)\n",
        "print(\"F1:\",f1_score(y_test, pred_svc, average=\"macro\")*100)\n",
        "print(\"Precision:\",precision_score(y_test,pred_svc, average=\"macro\")*100)\n",
        "print(\"Recall:\",recall_score(y_test, pred_svc, average=\"macro\")*100) \n",
        "print(\"Cross Validation:\", cross_val_score(svc, X_train, y_train, cv=3)*100)\n",
        "print(\"\\n\")\n",
        "print(\"Here is the confusion matrix below:\\n\", confusion_matrix(y_test,pred_svc))"
      ],
      "execution_count": 58,
      "outputs": [
        {
          "output_type": "stream",
          "text": [
            "100000000 loops, best of 3: 7.35 ns per loop\n",
            "\n",
            "\n",
            "The Support Vector Classifier) results are below:\n",
            "Accuracy: 78.72037914691943\n",
            "F1: 70.05602307297222\n",
            "Precision: 75.28482294044025\n",
            "Recall: 68.21400989294976\n",
            "Cross Validation: [79.71985384 79.32926829 79.02439024]\n",
            "\n",
            "\n",
            "Here is the confusion matrix below:\n",
            " [[1398  113]\n",
            " [ 336  263]]\n"
          ],
          "name": "stdout"
        }
      ]
    },
    {
      "cell_type": "markdown",
      "metadata": {
        "id": "HiV9LOVUhm3M",
        "colab_type": "text"
      },
      "source": [
        "# Logistic Regression"
      ]
    },
    {
      "cell_type": "code",
      "metadata": {
        "id": "QaiornUBBeTx",
        "colab_type": "code",
        "outputId": "31d1cb2d-f540-4596-9c4f-d86b0211a297",
        "colab": {
          "base_uri": "https://localhost:8080/",
          "height": 247
        }
      },
      "source": [
        "lr = LogisticRegression(random_state = 42)\n",
        "lr.fit(X_train, y_train)\n",
        "lr_predict = lr.predict(X_test)\n",
        "\n",
        "lr_conf_matrix = confusion_matrix(y_test, lr_predict)\n",
        "lr_acc_score = accuracy_score(y_test, lr_predict)\n",
        "\n",
        "print(\"\\n\")\n",
        "print(\"The Logistic Regression results are below:\")\n",
        "print(\"Accuracy:\",lr_acc_score*100)\n",
        "print(\"F1:\",f1_score(y_test, lr_predict, average=\"macro\")*100)\n",
        "print(\"Precision:\",precision_score(y_test,lr_predict, average=\"macro\")*100)\n",
        "print(\"Recall:\",recall_score(y_test, lr_predict, average=\"macro\")*100) \n",
        "print(\"Cross Validation:\", cross_val_score(lr, X_train, y_train, cv=3)*100)\n",
        "print(\"\\n\")\n",
        "\n",
        "\n",
        "print(\"Here is the confusion matrix below:\\n\",lr_conf_matrix)"
      ],
      "execution_count": 59,
      "outputs": [
        {
          "output_type": "stream",
          "text": [
            "\n",
            "\n",
            "The Logistic Regression results are below:\n",
            "Accuracy: 78.86255924170617\n",
            "F1: 71.32117745726183\n",
            "Precision: 74.75487035272876\n",
            "Recall: 69.7239718966864\n",
            "Cross Validation: [79.47624848 78.90243902 77.98780488]\n",
            "\n",
            "\n",
            "Here is the confusion matrix below:\n",
            " [[1373  138]\n",
            " [ 308  291]]\n"
          ],
          "name": "stdout"
        }
      ]
    },
    {
      "cell_type": "markdown",
      "metadata": {
        "id": "NSLXSDuMhriN",
        "colab_type": "text"
      },
      "source": [
        "# Gradient Boosting Classifier"
      ]
    },
    {
      "cell_type": "code",
      "metadata": {
        "id": "upvCGUBdBeer",
        "colab_type": "code",
        "outputId": "cc46a74b-19d8-41d4-9e08-ad36e9c32308",
        "colab": {
          "base_uri": "https://localhost:8080/",
          "height": 265
        }
      },
      "source": [
        "%timeit pass\n",
        "\n",
        "gbc = ensemble.GradientBoostingClassifier(random_state = 42)\n",
        "gbc.fit(X_train, y_train)\n",
        "pred_gbc = gbc.predict(X_test)\n",
        "\n",
        "print(\"\\n\")\n",
        "print(\"The Gradient Boosting Classifier results are below:\")\n",
        "print(\"Accuracy:\",accuracy_score(y_test,pred_gbc )*100)\n",
        "print(\"F1:\",f1_score(y_test, pred_gbc, average=\"macro\")*100)\n",
        "print(\"Precision:\",precision_score(y_test,pred_gbc, average=\"macro\")*100)\n",
        "print(\"Recall:\",recall_score(y_test, pred_gbc, average=\"macro\")*100) \n",
        "print(\"Cross Validation:\", cross_val_score(gbc, X_train, y_train, cv=3)*100)\n",
        "print(\"\\n\")\n",
        "print(\"Here is the confusion matrix below:\\n\", confusion_matrix(y_test,pred_gbc))"
      ],
      "execution_count": 60,
      "outputs": [
        {
          "output_type": "stream",
          "text": [
            "100000000 loops, best of 3: 7.37 ns per loop\n",
            "\n",
            "\n",
            "The Gradient Boosting Classifier results are below:\n",
            "Accuracy: 79.81042654028437\n",
            "F1: 72.60722331119626\n",
            "Precision: 76.21781351704017\n",
            "Recall: 70.88960312190294\n",
            "Cross Validation: [80.02436054 79.3902439  78.96341463]\n",
            "\n",
            "\n",
            "Here is the confusion matrix below:\n",
            " [[1383  128]\n",
            " [ 298  301]]\n"
          ],
          "name": "stdout"
        }
      ]
    },
    {
      "cell_type": "markdown",
      "metadata": {
        "id": "YM3-Ukno1xbj",
        "colab_type": "text"
      },
      "source": [
        "*Describe your model in detail: why you chose it, why it works, what problem it solves, how it will run in a production like environment. What would you need to do to maintain it going forward?*\n",
        "\n",
        "I chose Random Forest because it is faster to produce results. Also, my data is not all balanced so this feature is efficient to use. \n",
        "\n",
        "I chose Support Vector Classifier due to its flexibility for datasets.\n",
        "\n",
        "I chose Logistic Regression because it is straightforward to use and easy to train. \n",
        "\n",
        "I chose Gradient Boosting because of the decision trees that can predict which variables has the most popularity with each of the questions. Also, it handles null values, which may be the most useful model for my dataset. \n",
        "\n",
        "\n",
        "Gradient Boosting, Random Forest, Support Vector Classifier, and Logistic Regression are the models I chose for this based on the lessons I read. I checked on all those 4 models to determine which model would fit accurately with my model.\n",
        "\n",
        "Random Forest Classifier has the lowest accuracy score of 78.34% and the lowest overall for cross validation scores. Support Vector Machine ranks only 3rd in accuracy score with 78.72%, but it ranks 2nd in cross validation scores. Logistic Regression ranks 2nd in accuracy score with 78.86%, but it only ranks 3rd for cross validation scores. Gradient Boosting has the highest accuracy score of 79.81% and ranks the highest in cross validation scores. Based on Support Vector Machine and Logisitc Regression, the cross validation scores is inconsistent with the four models I used in terms of ranking. \n",
        "\n",
        "The models work because of the consistent scores (mainly in the 78-79 range) among the models and higher than expected scores. The problem that it helped determine if tenure customers are more likely to churn based on customer behavior such as the preferences for contracts, how long they have been a customer with Telco, and how much they pay monthly and in total charges. These factors may impact on customer retention. The results of my research will not only benefit Telco Company but it will also benefit other companies so it can inspire other customers to give true feedback to the company especially with the preferences of contracts.\n",
        "\n",
        "What I would need to do to maintain it going forward is to test out one more model (which is Feature Importances) to determine which variables are the most relevant. Also, I need to do model tuning after choosing the best prediction model.\n",
        "\n",
        "For *model tuning*, I will be presenting *4 different version of models* by changing a few variables to see which version works based on the improvement for **Gradient Boosting Models**, which is the best prediction model."
      ]
    },
    {
      "cell_type": "markdown",
      "metadata": {
        "id": "6eBj3oH0iEkL",
        "colab_type": "text"
      },
      "source": [
        "*What do the metrics you present (ie, Precision, Recall, Accuracy) mean in terms of the goals you set out for this project?*\n",
        "\n",
        "The best model is **Gradient Boosting** because they scored higher in all of these metrics than any of the prediction models. I will describe these metrics below:\n",
        "\n",
        "**76.21%** of precision means it is the ratio of accurately predicted positive observations out of the overall observations (True Positive divided by True Positive + False Positive). \n",
        "\n",
        "For Recall (sensitivity), **70.89%** is the ratio of the accurately predicted positive observations out of the overall observations in the actual class labeled (True Positive divided by True Positive + False Negative). The recall score is lower because there are more false negative observations in the dataset. \n",
        "\n",
        "**79.81%** of accuracy means (True Positive + True Negative)/(True Positive + False Positive + False Negative + True Negative)). This is the highest out of the three because there are more true negative observations."
      ]
    },
    {
      "cell_type": "markdown",
      "metadata": {
        "id": "NBJViXtziMA3",
        "colab_type": "text"
      },
      "source": [
        "# Should accuracy or recall be treated higher than sensitivity? Bring up these questions and an answer in your conclusions.\n"
      ]
    },
    {
      "cell_type": "markdown",
      "metadata": {
        "id": "wGkQfimviTk4",
        "colab_type": "text"
      },
      "source": [
        "Accuracy takes precedence over recall and sensitivity because it helps me choose the best model. Yes, there are some inconsistencies with recall score and confusion matrix not correlating well with accuracy scores. For example, Random Forest Classifier ranked 2nd in the recall score category and has a lower false negative score than Gradient Boosting, the best model. However, RFC has the lowest true positive and accuracy score.  \n",
        "\n",
        "Despite the cons of accuracy I listed, I still choose accuracy for these reasons:\n",
        "\n",
        "1.   The accuracy scores are consistent (meaning none went way above 79 or way below 78) for all the other models.\n",
        "2.   Accuracy has the full formula and true story in every model. Therefore, all categories are expected to rank higher than every scoring category than the other prediction models.\n"
      ]
    },
    {
      "cell_type": "markdown",
      "metadata": {
        "id": "c-yHCqQ6GTCn",
        "colab_type": "text"
      },
      "source": [
        "# Model Tuning - Gradient Boosting Classifier\n"
      ]
    },
    {
      "cell_type": "code",
      "metadata": {
        "id": "JKO9-GkiU08V",
        "colab_type": "code",
        "outputId": "fbab3a95-a73b-45ce-f0e7-7445efc0e059",
        "colab": {
          "base_uri": "https://localhost:8080/",
          "height": 265
        }
      },
      "source": [
        "%timeit pass\n",
        "\n",
        "gbc = ensemble.GradientBoostingClassifier(loss='deviance', learning_rate=0.1, n_estimators=100, subsample=1.0, criterion='friedman_mse', min_samples_split=2, min_samples_leaf=1, min_weight_fraction_leaf=0.0, max_depth=3, min_impurity_decrease=0.0, min_impurity_split=None, init=None, random_state=42, max_features=None, verbose=0, max_leaf_nodes=None, warm_start=False, presort='auto', validation_fraction=0.1, n_iter_no_change=None, tol=0.0001)\n",
        "gbc.fit(X_train, y_train)\n",
        "pred_gbc = gbc.predict(X_test)\n",
        "\n",
        "print(\"\\n\")\n",
        "print(\"The Gradient Boosting Classifier results are below:\")\n",
        "print(\"Accuracy:\",accuracy_score(y_test,pred_gbc )*100)\n",
        "print(\"F1:\",f1_score(y_test, pred_gbc, average=\"macro\")*100)\n",
        "print(\"Precision:\",precision_score(y_test,pred_gbc, average=\"macro\")*100)\n",
        "print(\"Recall:\",recall_score(y_test, pred_gbc, average=\"macro\")*100) \n",
        "print(\"Cross Validation:\", cross_val_score(gbc, X_train, y_train, cv=3)*100)\n",
        "print(\"\\n\")\n",
        "print(\"Here is the confusion matrix below:\\n\", confusion_matrix(y_test,pred_gbc))"
      ],
      "execution_count": 61,
      "outputs": [
        {
          "output_type": "stream",
          "text": [
            "100000000 loops, best of 3: 7.46 ns per loop\n",
            "\n",
            "\n",
            "The Gradient Boosting Classifier results are below:\n",
            "Accuracy: 79.81042654028437\n",
            "F1: 72.60722331119626\n",
            "Precision: 76.21781351704017\n",
            "Recall: 70.88960312190294\n",
            "Cross Validation: [80.02436054 79.3902439  78.96341463]\n",
            "\n",
            "\n",
            "Here is the confusion matrix below:\n",
            " [[1383  128]\n",
            " [ 298  301]]\n"
          ],
          "name": "stdout"
        }
      ]
    },
    {
      "cell_type": "markdown",
      "metadata": {
        "id": "ztVBNgTJGVld",
        "colab_type": "text"
      },
      "source": [
        "# Version A - I will increase the max depth to 4 and decrease the estimators to 50.\n"
      ]
    },
    {
      "cell_type": "code",
      "metadata": {
        "id": "IwU9tMXnGiGP",
        "colab_type": "code",
        "outputId": "baff0b42-ff25-4091-fb23-4f9bbd08d9cb",
        "colab": {
          "base_uri": "https://localhost:8080/",
          "height": 265
        }
      },
      "source": [
        "%timeit pass\n",
        "\n",
        "gbc = ensemble.GradientBoostingClassifier(loss='deviance', learning_rate=0.1, n_estimators=50, subsample=1.0, criterion='friedman_mse', min_samples_split=2, min_samples_leaf=1, min_weight_fraction_leaf=0.0, max_depth=4, min_impurity_decrease=0.0, min_impurity_split=None, init=None, random_state=42, max_features=None, verbose=0, max_leaf_nodes=None, warm_start=False, presort='auto', validation_fraction=0.1, n_iter_no_change=None, tol=0.0001)\n",
        "gbc.fit(X_train, y_train)\n",
        "pred_gbc = gbc.predict(X_test)\n",
        "\n",
        "print(\"\\n\")\n",
        "print(\"The Gradient Boosting Classifier for Version A results are below:\")\n",
        "print(\"Accuracy:\",accuracy_score(y_test,pred_gbc )*100)\n",
        "print(\"F1:\",f1_score(y_test, pred_gbc, average=\"macro\")*100)\n",
        "print(\"Precision:\",precision_score(y_test,pred_gbc, average=\"macro\")*100)\n",
        "print(\"Recall:\",recall_score(y_test, pred_gbc, average=\"macro\")*100) \n",
        "print(\"Cross Validation:\", cross_val_score(gbc, X_train, y_train, cv=3)*100)\n",
        "print(\"\\n\")\n",
        "print(\"Here is the confusion matrix below:\\n\", confusion_matrix(y_test,pred_gbc))"
      ],
      "execution_count": 62,
      "outputs": [
        {
          "output_type": "stream",
          "text": [
            "100000000 loops, best of 3: 7.4 ns per loop\n",
            "\n",
            "\n",
            "The Gradient Boosting Classifier for Version A results are below:\n",
            "Accuracy: 79.71563981042654\n",
            "F1: 72.25785681284222\n",
            "Precision: 76.24411988424617\n",
            "Recall: 70.47074928542939\n",
            "Cross Validation: [80.08526188 79.26829268 79.08536585]\n",
            "\n",
            "\n",
            "Here is the confusion matrix below:\n",
            " [[1388  123]\n",
            " [ 305  294]]\n"
          ],
          "name": "stdout"
        }
      ]
    },
    {
      "cell_type": "markdown",
      "metadata": {
        "id": "Kr66gRU3Uvyz",
        "colab_type": "text"
      },
      "source": [
        "For the accuracy, F1, precision and recall scores, they decreased by 0.0948, 0.3493, and 0.4189, respectively. However, the precision score trended up by 0.0263.\n",
        "\n",
        "The cross validation scores went down in the second column (down by 0.1220), but it went up in the first and third columns by 0.069 and 0.1220, respectively.\n",
        "\n",
        "Unfortunately, the downsides of the model is where false negatives went in the wrong direction (up by 7 to 305).\n",
        "\n",
        "On the bright side, the true positives (up by 5 to 1388) went in the right direction. For the next model (Version B), I will test if increasing the estimators back to 100, which I hope will help my model better.\n",
        "\n"
      ]
    },
    {
      "cell_type": "markdown",
      "metadata": {
        "id": "qxqKz_CBGXY4",
        "colab_type": "text"
      },
      "source": [
        "# Version B - I will keep the max depth at 4 and increase the estimators back to 100.\n",
        "\n"
      ]
    },
    {
      "cell_type": "code",
      "metadata": {
        "id": "NGbsBI7QGi-L",
        "colab_type": "code",
        "outputId": "cec389ed-d7b3-48fd-da01-1a2d09d238bc",
        "colab": {
          "base_uri": "https://localhost:8080/",
          "height": 265
        }
      },
      "source": [
        "%timeit pass\n",
        "\n",
        "gbc = ensemble.GradientBoostingClassifier(loss='deviance', learning_rate=0.1, n_estimators=100, subsample=1.0, criterion='friedman_mse', min_samples_split=2, min_samples_leaf=1, min_weight_fraction_leaf=0.0,\n",
        "                                          max_depth=4, min_impurity_decrease=0.0, min_impurity_split=None, init=None, random_state=42, max_features=None, verbose=0, max_leaf_nodes=None, warm_start=False, presort='auto', validation_fraction=0.1, n_iter_no_change=None, tol=0.0001)\n",
        "gbc.fit(X_train, y_train)\n",
        "pred_gbc = gbc.predict(X_test)\n",
        "\n",
        "print(\"\\n\")\n",
        "print(\"The Gradient Boosting Classifier for Version B results are below:\")\n",
        "print(\"Accuracy:\",accuracy_score(y_test,pred_gbc )*100)\n",
        "print(\"F1:\",f1_score(y_test, pred_gbc, average=\"macro\")*100)\n",
        "print(\"Precision:\",precision_score(y_test,pred_gbc, average=\"macro\")*100)\n",
        "print(\"Recall:\",recall_score(y_test, pred_gbc, average=\"macro\")*100) \n",
        "print(\"cross validation:\", cross_val_score(gbc, X_train, y_train, cv=3)*100)\n",
        "print(\"\\n\")\n",
        "print(\"Here is the confusion matrix below:\\n\", confusion_matrix(y_test,pred_gbc))"
      ],
      "execution_count": 63,
      "outputs": [
        {
          "output_type": "stream",
          "text": [
            "100000000 loops, best of 3: 7.51 ns per loop\n",
            "\n",
            "\n",
            "The Gradient Boosting Classifier for Version B results are below:\n",
            "Accuracy: 79.81042654028437\n",
            "F1: 72.92593623381178\n",
            "Precision: 75.98649915720625\n",
            "Recall: 71.34303919283076\n",
            "cross validation: [79.90255786 79.3902439  78.7195122 ]\n",
            "\n",
            "\n",
            "Here is the confusion matrix below:\n",
            " [[1374  137]\n",
            " [ 289  310]]\n"
          ],
          "name": "stdout"
        }
      ]
    },
    {
      "cell_type": "markdown",
      "metadata": {
        "id": "rIYzJX4GZzZE",
        "colab_type": "text"
      },
      "source": [
        "For the accuracy, F1, and recall scores, they improved by 0.0948, 0.6681, and 0.8723, respectively compared to Version A.\n",
        "\n",
        "However, the precision score unusually went down by 0.2576. Additionally, the cross validation scores went down in the first and third column by 0.1827 and 0.3659, respectively. However, the second column went up by 0.1220.\n",
        "\n",
        "Also, the true positive went in the wrong direction (went down by 14 to 1374). Despite this disappointment, the false negative did trim down by 16 from 305 to 289, which went in the right direction.\n",
        "\n",
        "For the next model (Version C), I will test if increasing the estimators up to 150 will help my model better.\n"
      ]
    },
    {
      "cell_type": "markdown",
      "metadata": {
        "id": "ydoZy_tAGkZj",
        "colab_type": "text"
      },
      "source": [
        "# Version C - I will keep the max depth at 4 and increase the estimators to 150.\n",
        "\n",
        "\n"
      ]
    },
    {
      "cell_type": "code",
      "metadata": {
        "id": "mkHh0NX3GlzP",
        "colab_type": "code",
        "outputId": "00257c56-c940-450e-8c27-07f0b5fecafc",
        "colab": {
          "base_uri": "https://localhost:8080/",
          "height": 265
        }
      },
      "source": [
        "%timeit pass\n",
        "\n",
        "gbc = ensemble.GradientBoostingClassifier(loss='deviance', learning_rate=0.1, n_estimators=150, subsample=1.0, criterion='friedman_mse', min_samples_split=2, min_samples_leaf=1, min_weight_fraction_leaf=0.0,\n",
        "                                          max_depth=4, min_impurity_decrease=0.0, min_impurity_split=None, init=None, random_state=42, max_features=None, verbose=0, max_leaf_nodes=None, warm_start=False, presort='auto', validation_fraction=0.1, n_iter_no_change=None, tol=0.0001)\n",
        "gbc.fit(X_train, y_train)\n",
        "pred_gbc = gbc.predict(X_test)\n",
        "\n",
        "print(\"\\n\")\n",
        "print(\"The Gradient Boosting Classifier results for Version C are below:\")\n",
        "print(\"Accuracy:\",accuracy_score(y_test,pred_gbc )*100)\n",
        "print(\"F1:\",f1_score(y_test, pred_gbc, average=\"macro\")*100)\n",
        "print(\"Precision:\",precision_score(y_test,pred_gbc, average=\"macro\")*100)\n",
        "print(\"Recall:\",recall_score(y_test, pred_gbc, average=\"macro\")*100) \n",
        "print(\"Cross Validation:\", cross_val_score(gbc, X_train, y_train, cv=3)*100)\n",
        "print(\"\\n\")\n",
        "print(\"Here is the confusion matrix below:\\n\", confusion_matrix(y_test,pred_gbc))"
      ],
      "execution_count": 64,
      "outputs": [
        {
          "output_type": "stream",
          "text": [
            "100000000 loops, best of 3: 7.49 ns per loop\n",
            "\n",
            "\n",
            "The Gradient Boosting Classifier results for Version C are below:\n",
            "Accuracy: 79.71563981042654\n",
            "F1: 72.40569266270339\n",
            "Precision: 76.127072787572\n",
            "Recall: 70.67227642806398\n",
            "Cross Validation: [79.6589525  78.84146341 78.90243902]\n",
            "\n",
            "\n",
            "Here is the confusion matrix below:\n",
            " [[1384  127]\n",
            " [ 301  298]]\n"
          ],
          "name": "stdout"
        }
      ]
    },
    {
      "cell_type": "markdown",
      "metadata": {
        "id": "UsG4cQS1aTwn",
        "colab_type": "text"
      },
      "source": [
        "Despite increasing the estimators up to 150, the scores went down in most of the categories.\n",
        "\n",
        "For the accuracy, F1, and recall scores, they decreased by 0.0948, 0.5202, and 0.6708, respectively compared to Version B. Also, the false negatives went in the wrong direction (going up 12 from 289 to 301). Additionally, the cross validation scores went down in the first two columns by 0.2436 and 0.5488, respectively. However, the third column went up by 0.1829.\n",
        "\n",
        "Despite this disappointment in the model, the true positive did improved by 10 from 1374 to 1384 and the precision score went up by 0.1406.\n",
        "\n",
        "An assumption of the model not meeting my high expectations is where I went over a certain limit where I cannot make the estimators too high. Increasing the estimators higher than 150 may cause the model to perform worse than the original model.\n",
        "\n",
        "Therefore, I will test if increasing the estimators down to 125 and reducing the max depth back to 3 will help the next model (Version D) better.\n",
        "\n"
      ]
    },
    {
      "cell_type": "markdown",
      "metadata": {
        "id": "FRBuaYO7a0B9",
        "colab_type": "text"
      },
      "source": [
        "# Version D - I will reduce the max depth back to 3 and decrease the estimators to 125.\n"
      ]
    },
    {
      "cell_type": "code",
      "metadata": {
        "id": "06ZqqBSmbA4h",
        "colab_type": "code",
        "outputId": "00863ea1-7cd2-4be7-aca4-550b2acadc71",
        "colab": {
          "base_uri": "https://localhost:8080/",
          "height": 265
        }
      },
      "source": [
        "%timeit pass\n",
        "\n",
        "gbc = ensemble.GradientBoostingClassifier(loss='deviance', learning_rate=0.1, n_estimators=125, subsample=1.0, criterion='friedman_mse', min_samples_split=2, min_samples_leaf=1, min_weight_fraction_leaf=0.0,\n",
        "                                          max_depth=3, min_impurity_decrease=0.0, min_impurity_split=None, init=None, random_state=40, max_features=None, verbose=0, max_leaf_nodes=None, warm_start=False, presort='auto', validation_fraction=0.1, n_iter_no_change=None, tol=0.0001)\n",
        "gbc.fit(X_train, y_train)\n",
        "pred_gbc = gbc.predict(X_test)\n",
        "\n",
        "print(\"\\n\")\n",
        "print(\"The Gradient Boosting Classifier results for Version D are below:\")\n",
        "print(\"Accuracy:\",accuracy_score(y_test,pred_gbc )*100)\n",
        "print(\"F1:\",f1_score(y_test, pred_gbc, average=\"macro\")*100)\n",
        "print(\"Precision:\",precision_score(y_test,pred_gbc, average=\"macro\")*100)\n",
        "print(\"Recall:\",recall_score(y_test, pred_gbc, average=\"macro\")*100) \n",
        "print(\"Cross Validation:\", cross_val_score(gbc, X_train, y_train, cv=3)*100)\n",
        "print(\"\\n\")\n",
        "print(\"Here is the confusion matrix below:\\n\", confusion_matrix(y_test,pred_gbc))"
      ],
      "execution_count": 65,
      "outputs": [
        {
          "output_type": "stream",
          "text": [
            "100000000 loops, best of 3: 7.56 ns per loop\n",
            "\n",
            "\n",
            "The Gradient Boosting Classifier results for Version D are below:\n",
            "Accuracy: 80.0\n",
            "F1: 72.82856134980183\n",
            "Precision: 76.53946824631493\n",
            "Recall: 71.07234758128759\n",
            "Cross Validation: [80.08526188 79.3902439  78.96341463]\n",
            "\n",
            "\n",
            "Here is the confusion matrix below:\n",
            " [[1386  125]\n",
            " [ 297  302]]\n"
          ],
          "name": "stdout"
        }
      ]
    },
    {
      "cell_type": "markdown",
      "metadata": {
        "id": "s9bqLndmbKfV",
        "colab_type": "text"
      },
      "source": [
        "This strategy paid off of decreasing the estimators to 125 and reducing the max depth back to 3, which caused the scores in all categories to go up vs. Version C. For example, the accuracy, F1, precision, and recall scores, improved by 0.2844, 0.4229, 0.4124, 0.40, respectively. \n",
        "\n",
        "Also, true positives (up 2 from 1384 to 1386) and false negatives (down 4 from 301 to 297) went in the right direction. Additionally, all the columns went up by 0.4263, 0.5488, and 0.0698 respectively.\n",
        "\n",
        "\n",
        "This is the only model that changed in every category in the same way for the scores.\n"
      ]
    },
    {
      "cell_type": "markdown",
      "metadata": {
        "id": "B0ryG4XqduBo",
        "colab_type": "text"
      },
      "source": [
        "# Findings on Model Tuning\n"
      ]
    },
    {
      "cell_type": "markdown",
      "metadata": {
        "id": "4YK3gYCLdxXO",
        "colab_type": "text"
      },
      "source": [
        "*Why did you choose not to decrease the max depth or increase it further?*\n",
        "\n",
        "When I realized I went to far by increasing the estimators dramatically when it hurt Version C model, the models indicate changing the max depth dramatically (regardless of increasing and decreasing) would also hurt my model.\n",
        "\n",
        "*What kind of inconsistences did you see for the models?*\n",
        "\n",
        "Version D had lower true positives (1374 vs. 1386) and higher false negatives (297 vs. 289) than Version B even though Version D had a higher accuracy score. Also, Version B had the lowest number of false negatives and highest of true positives; yet, it had the lowest score in the precision category. Furthermore, the precision score did not trend the same way as the other category scores in Versions A-C compared to the original model. \n",
        "\n",
        "*Which version of the models are the best?*\n",
        "\n",
        "Version D is the best for model tuning because it is the only model that reduced false negatives (down 4 to 297) and true positives (up 2 to 1386) at the same time. Also, it is the only model that has an accuracy score that improved vs. the original model. Additionally, Version D improved in every category vs. the original model and is the only model that matched (second column and third columns) or exceeded (first column by 0.0609) in cross-validation scores vs. the original model.\n",
        "\n"
      ]
    },
    {
      "cell_type": "markdown",
      "metadata": {
        "id": "1GLeXvPCcWbt",
        "colab_type": "text"
      },
      "source": [
        "# Unit 5 Specialization\n"
      ]
    },
    {
      "cell_type": "markdown",
      "metadata": {
        "id": "eIH7obWTcYzz",
        "colab_type": "text"
      },
      "source": [
        "# Which gender of tenured customers are more likely to churn?\n",
        "\n",
        "0 is Female and 1 is Male"
      ]
    },
    {
      "cell_type": "code",
      "metadata": {
        "id": "5XeRlSUsv2iG",
        "colab_type": "code",
        "outputId": "80797ba0-d991-4902-dfa7-8080db399d2a",
        "colab": {
          "base_uri": "https://localhost:8080/",
          "height": 230
        }
      },
      "source": [
        "telco.gender"
      ],
      "execution_count": 66,
      "outputs": [
        {
          "output_type": "execute_result",
          "data": {
            "text/plain": [
              "0       1\n",
              "1       0\n",
              "2       1\n",
              "3       1\n",
              "4       0\n",
              "       ..\n",
              "7038    0\n",
              "7039    1\n",
              "7040    0\n",
              "7041    1\n",
              "7042    1\n",
              "Name: gender, Length: 7032, dtype: int64"
            ]
          },
          "metadata": {
            "tags": []
          },
          "execution_count": 66
        }
      ]
    },
    {
      "cell_type": "code",
      "metadata": {
        "id": "E_Z7dKqKcZj3",
        "colab_type": "code",
        "outputId": "7723995e-d2ae-4f30-a126-a480a2de28a6",
        "colab": {
          "base_uri": "https://localhost:8080/",
          "height": 585
        }
      },
      "source": [
        "print('1 Year at Telco Company')\n",
        "telco1 = telco.loc[telco['tenure'] == 1]\n",
        "telco1 = telco1.groupby(telco1['gender'])['Churn'].mean()\n",
        "print(telco1)\n",
        "print(stats.kstest(telco1, 'norm'))\n",
        "print('\\n')\n",
        "\n",
        "print('2 Years at Telco Company')\n",
        "telco2 = telco.loc[telco['tenure'] == 2]\n",
        "telco2 = telco2.groupby(telco2['gender'])['Churn'].mean()\n",
        "print(telco2)\n",
        "print(stats.kstest(telco2, 'norm'))\n",
        "print('\\n')\n",
        "\n",
        "print('3 Years at Telco Company')\n",
        "telco3 = telco.loc[telco['tenure'] == 3]\n",
        "telco3= telco3.groupby(telco3['gender'])['Churn'].mean()\n",
        "print(telco3)\n",
        "print(stats.kstest(telco3, 'norm'))\n",
        "print('\\n')\n",
        "\n",
        "print('4 Years at Telco Company')\n",
        "telco4 = telco.loc[telco['tenure'] == 4]\n",
        "telco4= telco4.groupby(telco4['gender'])['Churn'].mean()\n",
        "print(telco4)\n",
        "print(stats.kstest(telco4, 'norm'))\n",
        "print('\\n')"
      ],
      "execution_count": 67,
      "outputs": [
        {
          "output_type": "stream",
          "text": [
            "1 Year at Telco Company\n",
            "gender\n",
            "0    0.523077\n",
            "1    0.509259\n",
            "Name: Churn, dtype: float64\n",
            "KstestResult(statistic=0.6947147446423894, pvalue=0.18639817427752306)\n",
            "\n",
            "\n",
            "2 Years at Telco Company\n",
            "gender\n",
            "0    0.495050\n",
            "1    0.444444\n",
            "Name: Churn, dtype: float64\n",
            "KstestResult(statistic=0.6716393567181147, pvalue=0.21564142411298706)\n",
            "\n",
            "\n",
            "3 Years at Telco Company\n",
            "gender\n",
            "0    0.534091\n",
            "1    0.409091\n",
            "Name: Churn, dtype: float64\n",
            "KstestResult(statistic=0.6587635262502591, pvalue=0.23288466203431518)\n",
            "\n",
            "\n",
            "4 Years at Telco Company\n",
            "gender\n",
            "0    0.469697\n",
            "1    0.492537\n",
            "Name: Churn, dtype: float64\n",
            "KstestResult(statistic=0.6807142334114626, pvalue=0.20388680149205993)\n",
            "\n",
            "\n"
          ],
          "name": "stdout"
        }
      ]
    },
    {
      "cell_type": "markdown",
      "metadata": {
        "id": "1St1FV7Kclez",
        "colab_type": "text"
      },
      "source": [
        "I chose tenured customers because they are relevant to the data set with churning. I broke down by each gender and it seems that more Telco female customers are more likely to churn. This indicates more females are likely to call out every mistake on a bill. Also, those type of customers are savvy, meaning they wanted a cheaper service since the service did not live up to quality.\n",
        "\n",
        "Also, for the customers that were with Telco for only one year, new customers may not have seniority and get special treatment on certain services like the tenured customers do.\n",
        "\n",
        "Because the p-values in all tenured customer groups are higher than 0.05 for tenure vs. churning, we cannot reject the null hypothesis. Therefore, the relationship between tenure and churning does not correlate well. However, as the tenured customers got younger, the p-value kept going lower."
      ]
    },
    {
      "cell_type": "markdown",
      "metadata": {
        "id": "90-CjH90c0lw",
        "colab_type": "text"
      },
      "source": [
        "# Which gender of senior citizens are more likely to churn?\n"
      ]
    },
    {
      "cell_type": "code",
      "metadata": {
        "id": "-iypgL88c6Sg",
        "colab_type": "code",
        "outputId": "891b8f66-faba-4e5b-b905-9cc9de004baa",
        "colab": {
          "base_uri": "https://localhost:8080/",
          "height": 105
        }
      },
      "source": [
        "telcosc1 = telco.loc[telco['SeniorCitizen'] == 1]\n",
        "telcosc1 = telcosc1.groupby(telcosc1['gender'])['Churn'].mean()\n",
        "print(telcosc1)\n",
        "print(stats.kstest(telcosc1, 'norm'))\n"
      ],
      "execution_count": 68,
      "outputs": [
        {
          "output_type": "stream",
          "text": [
            "gender\n",
            "0    0.422535\n",
            "1    0.411150\n",
            "Name: Churn, dtype: float64\n",
            "KstestResult(statistic=0.6595186617539919, pvalue=0.2318550833875852)\n"
          ],
          "name": "stdout"
        }
      ]
    },
    {
      "cell_type": "markdown",
      "metadata": {
        "id": "aFlmkPyic9Jx",
        "colab_type": "text"
      },
      "source": [
        "I chose senior citizen because they are relevant to the data set with churning. With the increase of paying bills online electronically, I figured this type of demographic will likely churn since they have yet to transition into the new technology era.\n",
        "\n",
        "I broke down by each gender and it seems more female senior citizens are likely to churn Telco Company. Similar to my previous question in Unit 5, this indicates more females are likely to call out every mistake on a bill. Also, those type of customers are savvy, meaning they wanted a cheaper service since the service did not live up to quality.\n",
        "\n",
        "Because the p-value is higher than 0.05 for senior citizens vs. churning, we cannot reject the null hypothesis. Therefore, the relationship between senior citizens and churning do not correlate well."
      ]
    },
    {
      "cell_type": "markdown",
      "metadata": {
        "id": "8lPOPFIedleG",
        "colab_type": "text"
      },
      "source": [
        "# Feature Importances"
      ]
    },
    {
      "cell_type": "code",
      "metadata": {
        "id": "-_jjBuOHW32L",
        "colab_type": "code",
        "outputId": "dc59a356-2644-4757-94a4-38e549f6e96b",
        "colab": {
          "base_uri": "https://localhost:8080/",
          "height": 141
        }
      },
      "source": [
        "\n",
        "rfr = ensemble.RandomForestRegressor()\n",
        "rfr.fit(X_train, y_train)\n"
      ],
      "execution_count": 69,
      "outputs": [
        {
          "output_type": "execute_result",
          "data": {
            "text/plain": [
              "RandomForestRegressor(bootstrap=True, criterion='mse', max_depth=None,\n",
              "                      max_features='auto', max_leaf_nodes=None,\n",
              "                      min_impurity_decrease=0.0, min_impurity_split=None,\n",
              "                      min_samples_leaf=1, min_samples_split=2,\n",
              "                      min_weight_fraction_leaf=0.0, n_estimators=10,\n",
              "                      n_jobs=None, oob_score=False, random_state=None,\n",
              "                      verbose=0, warm_start=False)"
            ]
          },
          "metadata": {
            "tags": []
          },
          "execution_count": 69
        }
      ]
    },
    {
      "cell_type": "code",
      "metadata": {
        "id": "Z3T5C8KgW4O8",
        "colab_type": "code",
        "outputId": "f17a9f69-5f47-4316-897c-a9858d42081b",
        "colab": {
          "base_uri": "https://localhost:8080/",
          "height": 34
        }
      },
      "source": [
        "rfr.score(X_test, y_test)"
      ],
      "execution_count": 70,
      "outputs": [
        {
          "output_type": "execute_result",
          "data": {
            "text/plain": [
              "0.22308952388233882"
            ]
          },
          "metadata": {
            "tags": []
          },
          "execution_count": 70
        }
      ]
    },
    {
      "cell_type": "code",
      "metadata": {
        "id": "JjhDEpCgW8As",
        "colab_type": "code",
        "outputId": "1dda173f-ee7e-4353-9e4e-213c4f6bd0e2",
        "colab": {
          "base_uri": "https://localhost:8080/",
          "height": 34
        }
      },
      "source": [
        "print(cross_val_score(rfr, X_train, y_train, cv=5))"
      ],
      "execution_count": 71,
      "outputs": [
        {
          "output_type": "stream",
          "text": [
            "[0.13553548 0.19670624 0.20035754 0.0843747  0.08982843]\n"
          ],
          "name": "stdout"
        }
      ]
    },
    {
      "cell_type": "code",
      "metadata": {
        "id": "D8KvqBl2BesJ",
        "colab_type": "code",
        "outputId": "5b5ab9ff-0bbe-44f2-cce6-f493c6f72da9",
        "colab": {
          "base_uri": "https://localhost:8080/",
          "height": 194
        }
      },
      "source": [
        "importances = rfr.feature_importances_ \n",
        "stdev = np.std([tree.feature_importances_ for tree in rfr.estimators_],\n",
        "             axis=0)\n",
        "indices = np.argsort(importances)[::-1]\n",
        "\n",
        "print(\"Feature rankings:\")\n",
        "g = 1\n",
        "for f in range(X.shape[1]):\n",
        "    if importances[indices[f]] > 0.01:\n",
        "        print(\"%d. feature %d (%f)\" % (f + 1, indices[f], importances[indices[f]]))\n",
        "        g += 1\n",
        "    else:\n",
        "        continue\n",
        "print(g)"
      ],
      "execution_count": 72,
      "outputs": [
        {
          "output_type": "stream",
          "text": [
            "Feature rankings:\n",
            "1. feature 0 (0.338167)\n",
            "2. feature 2 (0.185789)\n",
            "3. feature 3 (0.155077)\n",
            "4. feature 6 (0.130739)\n",
            "5. feature 7 (0.063807)\n",
            "6. feature 5 (0.058502)\n",
            "7. feature 1 (0.055527)\n",
            "8. feature 4 (0.012392)\n",
            "9\n"
          ],
          "name": "stdout"
        }
      ]
    },
    {
      "cell_type": "code",
      "metadata": {
        "id": "w78PqgVQZpRF",
        "colab_type": "code",
        "colab": {}
      },
      "source": [
        "feat = {}\n",
        "for feature, importance in zip(X.columns, rfr.feature_importances_):\n",
        "    feat[feature] = importance\n",
        "importances = pd.DataFrame.from_dict(feat, orient='index').rename(columns={0: 'Feature Importances'})\n",
        "importances = importances.sort_values(['Feature Importances'], ascending=[0])"
      ],
      "execution_count": 0,
      "outputs": []
    },
    {
      "cell_type": "code",
      "metadata": {
        "id": "4xro2YBS_1N5",
        "colab_type": "code",
        "outputId": "b047320c-9a2a-4df2-bc8e-205e819d807a",
        "colab": {
          "base_uri": "https://localhost:8080/",
          "height": 287
        }
      },
      "source": [
        "imp = importances[:8]\n",
        "imp"
      ],
      "execution_count": 74,
      "outputs": [
        {
          "output_type": "execute_result",
          "data": {
            "text/html": [
              "<div>\n",
              "<style scoped>\n",
              "    .dataframe tbody tr th:only-of-type {\n",
              "        vertical-align: middle;\n",
              "    }\n",
              "\n",
              "    .dataframe tbody tr th {\n",
              "        vertical-align: top;\n",
              "    }\n",
              "\n",
              "    .dataframe thead th {\n",
              "        text-align: right;\n",
              "    }\n",
              "</style>\n",
              "<table border=\"1\" class=\"dataframe\">\n",
              "  <thead>\n",
              "    <tr style=\"text-align: right;\">\n",
              "      <th></th>\n",
              "      <th>Feature Importances</th>\n",
              "    </tr>\n",
              "  </thead>\n",
              "  <tbody>\n",
              "    <tr>\n",
              "      <th>Contract</th>\n",
              "      <td>0.338167</td>\n",
              "    </tr>\n",
              "    <tr>\n",
              "      <th>TenureGroup</th>\n",
              "      <td>0.185789</td>\n",
              "    </tr>\n",
              "    <tr>\n",
              "      <th>MCGroup</th>\n",
              "      <td>0.155077</td>\n",
              "    </tr>\n",
              "    <tr>\n",
              "      <th>TCGroup</th>\n",
              "      <td>0.130739</td>\n",
              "    </tr>\n",
              "    <tr>\n",
              "      <th>PaperlessBilling</th>\n",
              "      <td>0.063807</td>\n",
              "    </tr>\n",
              "    <tr>\n",
              "      <th>InternetService</th>\n",
              "      <td>0.058502</td>\n",
              "    </tr>\n",
              "    <tr>\n",
              "      <th>SeniorCitizen</th>\n",
              "      <td>0.055527</td>\n",
              "    </tr>\n",
              "    <tr>\n",
              "      <th>PhoneService</th>\n",
              "      <td>0.012392</td>\n",
              "    </tr>\n",
              "  </tbody>\n",
              "</table>\n",
              "</div>"
            ],
            "text/plain": [
              "                  Feature Importances\n",
              "Contract                     0.338167\n",
              "TenureGroup                  0.185789\n",
              "MCGroup                      0.155077\n",
              "TCGroup                      0.130739\n",
              "PaperlessBilling             0.063807\n",
              "InternetService              0.058502\n",
              "SeniorCitizen                0.055527\n",
              "PhoneService                 0.012392"
            ]
          },
          "metadata": {
            "tags": []
          },
          "execution_count": 74
        }
      ]
    },
    {
      "cell_type": "code",
      "metadata": {
        "id": "CY9lSLOiawa0",
        "colab_type": "code",
        "outputId": "cdd94985-ee21-4bac-fa70-5475e6dc2b26",
        "colab": {
          "base_uri": "https://localhost:8080/",
          "height": 661
        }
      },
      "source": [
        "imp.sort_values(by='Feature Importances', ascending= False).plot(kind='bar', rot=90,figsize=(20, 10));"
      ],
      "execution_count": 75,
      "outputs": [
        {
          "output_type": "display_data",
          "data": {
            "image/png": "[encoded data removed]",
            "text/plain": [
              "<Figure size 1440x720 with 1 Axes>"
            ]
          },
          "metadata": {
            "tags": []
          }
        }
      ]
    },
    {
      "cell_type": "markdown",
      "metadata": {
        "colab_type": "text",
        "id": "EAbXurLUrETw"
      },
      "source": [
        "Contract and Tenure Group rank the highest because those groups correlate well in determining whether a customer will churn. With contracts, the majority of churned customers represent the month-to-month contract, which correlates well with customer churning. With Tenure Group, the majority of customers rank younger, which correlates well with churning Telco. \n",
        "\n",
        "Senior Citizen and Phone Service ranks the lowest because they had a lower than expected number in customer churning.\n",
        "\n",
        "I indicated those variables in the graphs earlier in the code.\n",
        "\n"
      ]
    },
    {
      "cell_type": "markdown",
      "metadata": {
        "id": "8cxaBBC6R0pM",
        "colab_type": "text"
      },
      "source": [
        "\n",
        "\n",
        "# Conclusion"
      ]
    },
    {
      "cell_type": "markdown",
      "metadata": {
        "id": "Qmk7Y82OR2YP",
        "colab_type": "text"
      },
      "source": [
        "*Based on your modeling and analysis, what recommendations would you be able to confidently give in order to prevent a customer from churning?*\n",
        "\n",
        "The recommendations to prevent from a customer from churning are the following: \n",
        "- Meet or exceed customer expectations\n",
        "- Turn weaknesses into strengths\n",
        "- Offer more discounts for certain services and less tenured customers\n",
        "- Emphasize on customers' complaints\n",
        "- Assuming the customer has a good profile, if they are attempting to cancel, we should offer incentives for them to stay at least a few months \n",
        "- Improve communication skills with the customer(s)\n",
        "- Look out for other competition and match or better their competitors' offer for that particular competition\n",
        "\n",
        "*What you set out to do?*\n",
        "\n",
        "If the duration of a customer staying with the company, the total and monthly charges paid by the customer, the type of the contract, internet service, phone service, and the preference of paperless billing for the customer and the customer's age would be good indicators of customer churning.\n",
        "\n",
        "*What you learned along the way?*\n",
        "\n",
        "I learned that just because customers take advantage of paperless billing and pay electronically can still mean they vote to churn. It's other factors that caused them to churn.\n",
        "\n",
        "*What conclusions you were able to confidently come to?*\n",
        "\n",
        "The tenure of the customer, the type of contract and the total/monthly charges of the customer predicts accurately when it comes to customer churning.\n"
      ]
    }
  ]
}