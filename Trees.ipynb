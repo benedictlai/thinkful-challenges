{
  "nbformat": 4,
  "nbformat_minor": 0,
  "metadata": {
    "colab": {
      "name": "Trees.ipynb",
      "version": "0.3.2",
      "provenance": [],
      "collapsed_sections": [],
      "include_colab_link": true
    },
    "kernelspec": {
      "name": "python3",
      "display_name": "Python 3"
    }
  },
  "cells": [
    {
      "cell_type": "markdown",
      "metadata": {
        "id": "view-in-github",
        "colab_type": "text"
      },
      "source": [
        "<a href=\"https://colab.research.google.com/github/benedictlai/thinkful-challenges/blob/master/Trees.ipynb\" target=\"_parent\"><img src=\"https://colab.research.google.com/assets/colab-badge.svg\" alt=\"Open In Colab\"/></a>"
      ]
    },
    {
      "cell_type": "code",
      "metadata": {
        "id": "lUURR3eWw5Ur",
        "colab_type": "code",
        "colab": {}
      },
      "source": [
        "import random"
      ],
      "execution_count": 0,
      "outputs": []
    },
    {
      "cell_type": "code",
      "metadata": {
        "id": "3k_Txu1aw6vZ",
        "colab_type": "code",
        "colab": {}
      },
      "source": [
        "class Node:\n",
        "    def __init__(self, key):\n",
        "        self.data = key \n",
        "        self.left = None\n",
        "        self.right = None\n",
        "\n",
        "def printLevelOrder(root):\n",
        "    h = height(root)\n",
        "    for i in range(1, h+1):\n",
        "        printGivenLevel(root, i)\n",
        "        print()\n",
        "\n",
        "def printGivenLevel(root , level):\n",
        "    if root is None:\n",
        "        return\n",
        "    if level == 1:\n",
        "        print(\"%d\" %(root.data)),\n",
        "    elif level > 1 :\n",
        "        printGivenLevel(root.left , level-1)\n",
        "        printGivenLevel(root.right , level-1)\n",
        "\n",
        "def height(node):\n",
        "    if node is None:\n",
        "        return 0\n",
        "    else :\n",
        "        lheight = height(node.left)\n",
        "        rheight = height(node.right)\n",
        "        \n",
        "        if lheight > rheight :\n",
        "            return lheight+1\n",
        "        else:\n",
        "            return rheight+1"
      ],
      "execution_count": 0,
      "outputs": []
    },
    {
      "cell_type": "code",
      "metadata": {
        "id": "tRzfFmqbxH9u",
        "colab_type": "code",
        "outputId": "ec8ff2c2-8616-40eb-fef1-f6e5eb4214ee",
        "colab": {
          "base_uri": "https://localhost:8080/",
          "height": 372
        }
      },
      "source": [
        "root = Node(1)\n",
        "\n",
        "root.left = Node(2)\n",
        "root.right = Node(3)\n",
        "\n",
        "root.left.left = Node(4)\n",
        "root.left.right = Node(5)\n",
        "\n",
        "root.right.left = Node(6)\n",
        "root.right.right = Node(7)\n",
        "\n",
        "root.left.left.left = Node(8)\n",
        "root.left.left.right = Node(9)\n",
        "root.left.right.left = Node(10)\n",
        "root.left.right.right = Node(11)\n",
        "\n",
        "root.right.left.left = Node(12)\n",
        "root.right.left.right = Node(13)\n",
        "root.right.right.left = Node(14)\n",
        "root.right.right.right = Node(15)\n",
        "\n",
        "print(\"Level Order-\")\n",
        "printLevelOrder(root)"
      ],
      "execution_count": 4,
      "outputs": [
        {
          "output_type": "stream",
          "text": [
            "Level Order-\n",
            "1\n",
            "\n",
            "2\n",
            "3\n",
            "\n",
            "4\n",
            "5\n",
            "6\n",
            "7\n",
            "\n",
            "8\n",
            "9\n",
            "10\n",
            "11\n",
            "12\n",
            "13\n",
            "14\n",
            "15\n",
            "\n"
          ],
          "name": "stdout"
        }
      ]
    },
    {
      "cell_type": "code",
      "metadata": {
        "id": "EPtRUHCIxIL8",
        "colab_type": "code",
        "colab": {}
      },
      "source": [
        "class Node:\n",
        "    def __init__(self,key):\n",
        "        self.left = None\n",
        "        self.right = None\n",
        "        self.val = key\n",
        "\n",
        "def printInorder(root):\n",
        "    if root:\n",
        "        printInorder(root.left)\n",
        "        print(root.val),\n",
        "        printInorder(root.right)\n",
        "\n",
        "def printPostorder(root):\n",
        "    if root:\n",
        "        printPostorder(root.left)\n",
        "        printPostorder(root.right)\n",
        "        print(root.val),\n",
        "\n",
        "def printPreorder(root):\n",
        "    if root:\n",
        "        print(root.val),\n",
        "        printPreorder(root.left)\n",
        "        printPreorder(root.right)"
      ],
      "execution_count": 0,
      "outputs": []
    },
    {
      "cell_type": "code",
      "metadata": {
        "id": "osSUb5jy2GpC",
        "colab_type": "code",
        "outputId": "ef680305-a1c0-473f-cbd1-f2a90d65c647",
        "colab": {
          "base_uri": "https://localhost:8080/",
          "height": 923
        }
      },
      "source": [
        "root = Node(1)\n",
        "\n",
        "root.left = Node(2)\n",
        "root.right = Node(3)\n",
        "\n",
        "root.left.left = Node(4)\n",
        "root.left.right = Node(5)\n",
        "\n",
        "root.right.left = Node(6)\n",
        "root.right.right = Node(7)\n",
        "\n",
        "root.left.left.left = Node(8)\n",
        "root.left.left.right = Node(9)\n",
        "root.left.right.left = Node(10)\n",
        "root.left.right.right = Node(11)\n",
        "\n",
        "root.right.left.left = Node(12)\n",
        "root.right.left.right = Node(13)\n",
        "root.right.right.left = Node(14)\n",
        "root.right.right.right = Node(15)\n",
        "\n",
        "print(\"\\nPreorder\")\n",
        "printPreorder(root)\n",
        " \n",
        "print(\"\\nInorder\")\n",
        "printInorder(root)\n",
        " \n",
        "print(\"\\nPostorder\")\n",
        "printPostorder(root)"
      ],
      "execution_count": 6,
      "outputs": [
        {
          "output_type": "stream",
          "text": [
            "\n",
            "Preorder\n",
            "1\n",
            "2\n",
            "4\n",
            "8\n",
            "9\n",
            "5\n",
            "10\n",
            "11\n",
            "3\n",
            "6\n",
            "12\n",
            "13\n",
            "7\n",
            "14\n",
            "15\n",
            "\n",
            "Inorder\n",
            "8\n",
            "4\n",
            "9\n",
            "2\n",
            "10\n",
            "5\n",
            "11\n",
            "1\n",
            "12\n",
            "6\n",
            "13\n",
            "3\n",
            "14\n",
            "7\n",
            "15\n",
            "\n",
            "Postorder\n",
            "8\n",
            "9\n",
            "4\n",
            "10\n",
            "11\n",
            "5\n",
            "2\n",
            "12\n",
            "13\n",
            "6\n",
            "14\n",
            "15\n",
            "7\n",
            "3\n",
            "1\n"
          ],
          "name": "stdout"
        }
      ]
    }
  ]
}