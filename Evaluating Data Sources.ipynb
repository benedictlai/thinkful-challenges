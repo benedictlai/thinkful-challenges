{
 "cells": [
  {
   "cell_type": "code",
   "execution_count": 1,
   "metadata": {},
   "outputs": [
    {
     "name": "stdout",
     "output_type": "stream",
     "text": [
      "Christmas Eve occurs on December 24. The availability in AirBnB for customers will be limited because they are uncomfortable providing housing during the holiday season. I would chose a period that is a non-holiday to get a better answer for the question.\n"
     ]
    }
   ],
   "source": [
    "question1 = \"Christmas Eve occurs on December 24. The availability in AirBnB for customers will be limited because they are uncomfortable providing housing during the holiday season. I would chose a period that is a non-holiday to get a better answer for the question.\"\n",
    "print(question1)"
   ]
  },
  {
   "cell_type": "code",
   "execution_count": 4,
   "metadata": {},
   "outputs": [
    {
     "name": "stdout",
     "output_type": "stream",
     "text": [
      "The unfortunate tragedy happened on Tuesday, September 11, 2001. The patterns are likely different from San Francisco compared to New York because the unfortunate tragedy happened in New York.\n"
     ]
    }
   ],
   "source": [
    "question2 = \"The unfortunate tragedy happened on Tuesday, September 11, 2001. The patterns are likely different from San Francisco compared to New York because the unfortunate tragedy happened in New York.\"\n",
    "print(question2)"
   ]
  },
  {
   "cell_type": "code",
   "execution_count": 5,
   "metadata": {},
   "outputs": [
    {
     "name": "stdout",
     "output_type": "stream",
     "text": [
      "According to the survey, the most common reasons for visiting the pub are: Hanging out with friends, special events, and birthday celebrations.\n"
     ]
    }
   ],
   "source": [
    "question3 = \"According to the survey, the most common reasons for visiting the pub are: Hanging out with friends, special events, and birthday celebrations.\"\n",
    "print(question3)"
   ]
  },
  {
   "cell_type": "code",
   "execution_count": null,
   "metadata": {},
   "outputs": [],
   "source": []
  }
 ],
 "metadata": {
  "kernelspec": {
   "display_name": "Python 3",
   "language": "python",
   "name": "python3"
  },
  "language_info": {
   "codemirror_mode": {
    "name": "ipython",
    "version": 3
   },
   "file_extension": ".py",
   "mimetype": "text/x-python",
   "name": "python",
   "nbconvert_exporter": "python",
   "pygments_lexer": "ipython3",
   "version": "3.7.0"
  }
 },
 "nbformat": 4,
 "nbformat_minor": 2
}
