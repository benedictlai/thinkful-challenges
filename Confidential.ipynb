{
  "nbformat": 4,
  "nbformat_minor": 0,
  "metadata": {
    "colab": {
      "name": "Confidential.ipynb",
      "provenance": [],
      "collapsed_sections": [],
      "include_colab_link": true
    },
    "kernelspec": {
      "name": "python3",
      "display_name": "Python 3"
    }
  },
  "cells": [
    {
      "cell_type": "markdown",
      "metadata": {
        "id": "view-in-github",
        "colab_type": "text"
      },
      "source": [
        "<a href=\"https://colab.research.google.com/github/benedictlai/thinkful-challenges/blob/master/Confidential.ipynb\" target=\"_parent\"><img src=\"https://colab.research.google.com/assets/colab-badge.svg\" alt=\"Open In Colab\"/></a>"
      ]
    },
    {
      "cell_type": "code",
      "metadata": {
        "id": "zWRvQ_ZhB2lP",
        "colab_type": "code",
        "colab": {}
      },
      "source": [
        "import numpy as np \n",
        "import pandas as pd \n",
        "import seaborn as sns\n",
        "import sklearn \n",
        "import scipy\n",
        "import matplotlib.pyplot as plt\n",
        "%matplotlib inline\n",
        "\n",
        "from sklearn.model_selection import GridSearchCV\n",
        "from imblearn.over_sampling import SMOTE \n",
        "from scipy.stats import mstats\n",
        "\n",
        "from sklearn import preprocessing\n",
        "from sklearn.ensemble import GradientBoostingClassifier, RandomForestClassifier, VotingClassifier\n",
        "from sklearn.linear_model import LogisticRegression, RidgeClassifier\n",
        "from sklearn.model_selection import train_test_split, cross_val_score\n",
        "from sklearn.metrics import confusion_matrix, classification_report\n",
        "from sklearn.naive_bayes import BernoulliNB, GaussianNB, MultinomialNB\n",
        "from sklearn.neighbors import KNeighborsClassifier\n",
        "from sklearn.svm import SVC\n",
        "from sklearn.tree import DecisionTreeClassifier"
      ],
      "execution_count": 0,
      "outputs": []
    },
    {
      "cell_type": "markdown",
      "metadata": {
        "id": "eAix3Hpmjnhf",
        "colab_type": "text"
      },
      "source": [
        "# Exploring/Cleaning Data\n",
        "\n"
      ]
    },
    {
      "cell_type": "code",
      "metadata": {
        "id": "7q3O7qgHCB_Y",
        "colab_type": "code",
        "outputId": "0f132a27-854e-4f52-8d48-b3f8dc222c87",
        "colab": {
          "base_uri": "https://localhost:8080/",
          "height": 406
        }
      },
      "source": [
        "customers = pd.read_csv('https://raw.githubusercontent.com/Thinkful-Ed/data-201-resources/master/customers_data.csv')\n",
        "customers=customers.drop(['Unnamed: 0'],axis=1)\n",
        "customers"
      ],
      "execution_count": 0,
      "outputs": [
        {
          "output_type": "execute_result",
          "data": {
            "text/html": [
              "<div>\n",
              "<style scoped>\n",
              "    .dataframe tbody tr th:only-of-type {\n",
              "        vertical-align: middle;\n",
              "    }\n",
              "\n",
              "    .dataframe tbody tr th {\n",
              "        vertical-align: top;\n",
              "    }\n",
              "\n",
              "    .dataframe thead th {\n",
              "        text-align: right;\n",
              "    }\n",
              "</style>\n",
              "<table border=\"1\" class=\"dataframe\">\n",
              "  <thead>\n",
              "    <tr style=\"text-align: right;\">\n",
              "      <th></th>\n",
              "      <th>purch_amt</th>\n",
              "      <th>gender</th>\n",
              "      <th>card_on_file</th>\n",
              "      <th>age</th>\n",
              "      <th>days_since_last_purch</th>\n",
              "      <th>loyalty</th>\n",
              "    </tr>\n",
              "  </thead>\n",
              "  <tbody>\n",
              "    <tr>\n",
              "      <th>0</th>\n",
              "      <td>19.58</td>\n",
              "      <td>male</td>\n",
              "      <td>no</td>\n",
              "      <td>31.0</td>\n",
              "      <td>35.0</td>\n",
              "      <td>False</td>\n",
              "    </tr>\n",
              "    <tr>\n",
              "      <th>1</th>\n",
              "      <td>65.16</td>\n",
              "      <td>male</td>\n",
              "      <td>yes</td>\n",
              "      <td>23.0</td>\n",
              "      <td>61.0</td>\n",
              "      <td>False</td>\n",
              "    </tr>\n",
              "    <tr>\n",
              "      <th>2</th>\n",
              "      <td>40.60</td>\n",
              "      <td>female</td>\n",
              "      <td>no</td>\n",
              "      <td>36.0</td>\n",
              "      <td>49.0</td>\n",
              "      <td>False</td>\n",
              "    </tr>\n",
              "    <tr>\n",
              "      <th>3</th>\n",
              "      <td>38.01</td>\n",
              "      <td>male</td>\n",
              "      <td>yes</td>\n",
              "      <td>47.0</td>\n",
              "      <td>57.0</td>\n",
              "      <td>False</td>\n",
              "    </tr>\n",
              "    <tr>\n",
              "      <th>4</th>\n",
              "      <td>22.32</td>\n",
              "      <td>female</td>\n",
              "      <td>yes</td>\n",
              "      <td>5.0</td>\n",
              "      <td>39.0</td>\n",
              "      <td>False</td>\n",
              "    </tr>\n",
              "    <tr>\n",
              "      <th>...</th>\n",
              "      <td>...</td>\n",
              "      <td>...</td>\n",
              "      <td>...</td>\n",
              "      <td>...</td>\n",
              "      <td>...</td>\n",
              "      <td>...</td>\n",
              "    </tr>\n",
              "    <tr>\n",
              "      <th>119995</th>\n",
              "      <td>55.33</td>\n",
              "      <td>female</td>\n",
              "      <td>yes</td>\n",
              "      <td>22.0</td>\n",
              "      <td>41.0</td>\n",
              "      <td>False</td>\n",
              "    </tr>\n",
              "    <tr>\n",
              "      <th>119996</th>\n",
              "      <td>55.86</td>\n",
              "      <td>male</td>\n",
              "      <td>yes</td>\n",
              "      <td>22.0</td>\n",
              "      <td>58.0</td>\n",
              "      <td>False</td>\n",
              "    </tr>\n",
              "    <tr>\n",
              "      <th>119997</th>\n",
              "      <td>30.16</td>\n",
              "      <td>male</td>\n",
              "      <td>yes</td>\n",
              "      <td>25.0</td>\n",
              "      <td>79.0</td>\n",
              "      <td>False</td>\n",
              "    </tr>\n",
              "    <tr>\n",
              "      <th>119998</th>\n",
              "      <td>2.71</td>\n",
              "      <td>female</td>\n",
              "      <td>yes</td>\n",
              "      <td>25.0</td>\n",
              "      <td>60.0</td>\n",
              "      <td>False</td>\n",
              "    </tr>\n",
              "    <tr>\n",
              "      <th>119999</th>\n",
              "      <td>62.75</td>\n",
              "      <td>female</td>\n",
              "      <td>yes</td>\n",
              "      <td>21.0</td>\n",
              "      <td>50.0</td>\n",
              "      <td>False</td>\n",
              "    </tr>\n",
              "  </tbody>\n",
              "</table>\n",
              "<p>120000 rows × 6 columns</p>\n",
              "</div>"
            ],
            "text/plain": [
              "        purch_amt  gender card_on_file   age  days_since_last_purch  loyalty\n",
              "0           19.58    male           no  31.0                   35.0    False\n",
              "1           65.16    male          yes  23.0                   61.0    False\n",
              "2           40.60  female           no  36.0                   49.0    False\n",
              "3           38.01    male          yes  47.0                   57.0    False\n",
              "4           22.32  female          yes   5.0                   39.0    False\n",
              "...           ...     ...          ...   ...                    ...      ...\n",
              "119995      55.33  female          yes  22.0                   41.0    False\n",
              "119996      55.86    male          yes  22.0                   58.0    False\n",
              "119997      30.16    male          yes  25.0                   79.0    False\n",
              "119998       2.71  female          yes  25.0                   60.0    False\n",
              "119999      62.75  female          yes  21.0                   50.0    False\n",
              "\n",
              "[120000 rows x 6 columns]"
            ]
          },
          "metadata": {
            "tags": []
          },
          "execution_count": 65
        }
      ]
    },
    {
      "cell_type": "code",
      "metadata": {
        "id": "mNbKxZz-Csau",
        "colab_type": "code",
        "colab": {}
      },
      "source": [
        "object_cols = customers.select_dtypes(['object']).columns.tolist()\n",
        "\n",
        "for cols in object_cols:\n",
        "    customers[cols] = customers[cols].astype('category')"
      ],
      "execution_count": 0,
      "outputs": []
    },
    {
      "cell_type": "markdown",
      "metadata": {
        "id": "VU0Gmv7YlHk1",
        "colab_type": "text"
      },
      "source": [
        "# Visualizing Data\n"
      ]
    },
    {
      "cell_type": "markdown",
      "metadata": {
        "id": "DwjLiqBXlLrC",
        "colab_type": "text"
      },
      "source": [
        "# Gender vs. Numerical Data\n"
      ]
    },
    {
      "cell_type": "code",
      "metadata": {
        "id": "ku_R8QKEC8O4",
        "colab_type": "code",
        "outputId": "f379dc47-7919-408f-ea77-5cd47a94fe15",
        "colab": {
          "base_uri": "https://localhost:8080/",
          "height": 650
        }
      },
      "source": [
        "labels = ['Female','Male']\n",
        "\n",
        "sns.set_style('dark')\n",
        "f, axes = plt.subplots(1,3, figsize = (18,10))\n",
        "\n",
        "sns.boxplot(data = customers, x = 'gender', y = 'purch_amt', palette ='Paired', ax = axes[0])\n",
        "axes[0].set_xlabel('1st graph', fontsize=12)\n",
        "axes[0].set_xticklabels(labels, fontsize=12)\n",
        "axes[0].set_ylabel('', fontsize=12)\n",
        "axes[0].set_title('Gender vs. Purchase Amount', fontsize=18)\n",
        "\n",
        "sns.boxplot(x = 'gender', y = 'days_since_last_purch', data = customers, palette = 'autumn', ax = axes[1])\n",
        "axes[1].set_xlabel('2nd graph', fontsize=12)\n",
        "axes[1].set_xticklabels(labels, fontsize=12)\n",
        "axes[1].set_ylabel('',fontsize=12)\n",
        "axes[1].set_title('Gender vs. Last Purchase',fontsize=18)\n",
        "\n",
        "sns.boxplot(x = 'gender', y = 'age', data = customers, palette ='Blues', ax = axes[2])\n",
        "axes[2].set_xlabel('3rd graph', fontsize=12)\n",
        "axes[2].set_xticklabels(labels, fontsize=12)\n",
        "axes[2].set_ylabel('',fontsize=12)\n",
        "axes[2].set_title('Gender vs. Age',fontsize=18)"
      ],
      "execution_count": 0,
      "outputs": [
        {
          "output_type": "execute_result",
          "data": {
            "text/plain": [
              "Text(0.5, 1.0, 'Gender vs. Age')"
            ]
          },
          "metadata": {
            "tags": []
          },
          "execution_count": 67
        },
        {
          "output_type": "display_data",
          "data": {
            "image/png": "[encoded data removed]",
            "text/plain": [
              "<Figure size 1296x720 with 3 Axes>"
            ]
          },
          "metadata": {
            "tags": []
          }
        }
      ]
    },
    {
      "cell_type": "markdown",
      "metadata": {
        "id": "sMwTIjTNmfei",
        "colab_type": "text"
      },
      "source": [
        "# Loyalty vs. Numerical Data\n"
      ]
    },
    {
      "cell_type": "code",
      "metadata": {
        "id": "ErEMIzgJHNFv",
        "colab_type": "code",
        "outputId": "688947f1-d681-4440-c90f-ce171b893991",
        "colab": {
          "base_uri": "https://localhost:8080/",
          "height": 650
        }
      },
      "source": [
        "labels = ['False','True']\n",
        "\n",
        "sns.set_style('dark')\n",
        "f, axes = plt.subplots(1,3, figsize = (18,10))\n",
        "\n",
        "sns.boxplot(data = customers, x = 'loyalty', y = 'purch_amt', palette ='autumn', ax = axes[0])\n",
        "axes[0].set_xlabel('1st graph', fontsize=12)\n",
        "axes[0].set_xticklabels(labels, fontsize=12)\n",
        "axes[0].set_ylabel('', fontsize=12)\n",
        "axes[0].set_title('Loyalty vs. Purchase Amount', fontsize=18)\n",
        "\n",
        "sns.boxplot(x = 'loyalty', y = 'days_since_last_purch', data = customers, palette = 'Paired', ax = axes[1])\n",
        "axes[1].set_xlabel('2nd graph', fontsize=12)\n",
        "axes[1].set_xticklabels(labels, fontsize=12)\n",
        "axes[1].set_ylabel('',fontsize=12)\n",
        "axes[1].set_title('Loyalty vs. Last Purchase',fontsize=18)\n",
        "\n",
        "sns.boxplot(x = 'loyalty', y = 'age', data = customers, palette ='Blues', ax = axes[2])\n",
        "axes[2].set_xlabel('3rd graph', fontsize=12)\n",
        "axes[2].set_xticklabels(labels, fontsize=12)\n",
        "axes[2].set_ylabel('',fontsize=12)\n",
        "axes[2].set_title('Loyalty vs. Age',fontsize=18)\n"
      ],
      "execution_count": 0,
      "outputs": [
        {
          "output_type": "execute_result",
          "data": {
            "text/plain": [
              "Text(0.5, 1.0, 'Loyalty vs. Age')"
            ]
          },
          "metadata": {
            "tags": []
          },
          "execution_count": 68
        },
        {
          "output_type": "display_data",
          "data": {
            "image/png": "[encoded data removed]",
            "text/plain": [
              "<Figure size 1296x720 with 3 Axes>"
            ]
          },
          "metadata": {
            "tags": []
          }
        }
      ]
    },
    {
      "cell_type": "markdown",
      "metadata": {
        "id": "JYSADQZonvJu",
        "colab_type": "text"
      },
      "source": [
        "# Engineering Features\n"
      ]
    },
    {
      "cell_type": "markdown",
      "metadata": {
        "id": "WPzgT18AnySM",
        "colab_type": "text"
      },
      "source": [
        "# Data Encoding\n",
        "\n"
      ]
    },
    {
      "cell_type": "code",
      "metadata": {
        "id": "YQ1-9UJ-MQgH",
        "colab_type": "code",
        "outputId": "cb2776be-9491-4e89-e526-7b39b1454a94",
        "colab": {
          "base_uri": "https://localhost:8080/",
          "height": 197
        }
      },
      "source": [
        "customersencode = customers.copy()\n",
        "lb = LabelEncoder()\n",
        "\n",
        "customersencode['gender'] = lb.fit_transform(customers['gender'])\n",
        "customersencode['card_on_file'] = lb.fit_transform(customers['card_on_file'])\n",
        "customersencode['loyalty'] = lb.fit_transform(customers['loyalty'])\n",
        "\n",
        "customersencode.head()"
      ],
      "execution_count": 0,
      "outputs": [
        {
          "output_type": "execute_result",
          "data": {
            "text/html": [
              "<div>\n",
              "<style scoped>\n",
              "    .dataframe tbody tr th:only-of-type {\n",
              "        vertical-align: middle;\n",
              "    }\n",
              "\n",
              "    .dataframe tbody tr th {\n",
              "        vertical-align: top;\n",
              "    }\n",
              "\n",
              "    .dataframe thead th {\n",
              "        text-align: right;\n",
              "    }\n",
              "</style>\n",
              "<table border=\"1\" class=\"dataframe\">\n",
              "  <thead>\n",
              "    <tr style=\"text-align: right;\">\n",
              "      <th></th>\n",
              "      <th>purch_amt</th>\n",
              "      <th>gender</th>\n",
              "      <th>card_on_file</th>\n",
              "      <th>age</th>\n",
              "      <th>days_since_last_purch</th>\n",
              "      <th>loyalty</th>\n",
              "    </tr>\n",
              "  </thead>\n",
              "  <tbody>\n",
              "    <tr>\n",
              "      <th>0</th>\n",
              "      <td>19.58</td>\n",
              "      <td>1</td>\n",
              "      <td>0</td>\n",
              "      <td>31.0</td>\n",
              "      <td>35.0</td>\n",
              "      <td>0</td>\n",
              "    </tr>\n",
              "    <tr>\n",
              "      <th>1</th>\n",
              "      <td>65.16</td>\n",
              "      <td>1</td>\n",
              "      <td>1</td>\n",
              "      <td>23.0</td>\n",
              "      <td>61.0</td>\n",
              "      <td>0</td>\n",
              "    </tr>\n",
              "    <tr>\n",
              "      <th>2</th>\n",
              "      <td>40.60</td>\n",
              "      <td>0</td>\n",
              "      <td>0</td>\n",
              "      <td>36.0</td>\n",
              "      <td>49.0</td>\n",
              "      <td>0</td>\n",
              "    </tr>\n",
              "    <tr>\n",
              "      <th>3</th>\n",
              "      <td>38.01</td>\n",
              "      <td>1</td>\n",
              "      <td>1</td>\n",
              "      <td>47.0</td>\n",
              "      <td>57.0</td>\n",
              "      <td>0</td>\n",
              "    </tr>\n",
              "    <tr>\n",
              "      <th>4</th>\n",
              "      <td>22.32</td>\n",
              "      <td>0</td>\n",
              "      <td>1</td>\n",
              "      <td>5.0</td>\n",
              "      <td>39.0</td>\n",
              "      <td>0</td>\n",
              "    </tr>\n",
              "  </tbody>\n",
              "</table>\n",
              "</div>"
            ],
            "text/plain": [
              "   purch_amt  gender  card_on_file   age  days_since_last_purch  loyalty\n",
              "0      19.58       1             0  31.0                   35.0        0\n",
              "1      65.16       1             1  23.0                   61.0        0\n",
              "2      40.60       0             0  36.0                   49.0        0\n",
              "3      38.01       1             1  47.0                   57.0        0\n",
              "4      22.32       0             1   5.0                   39.0        0"
            ]
          },
          "metadata": {
            "tags": []
          },
          "execution_count": 69
        }
      ]
    },
    {
      "cell_type": "markdown",
      "metadata": {
        "id": "K3FwtKotn5yC",
        "colab_type": "text"
      },
      "source": [
        "# Model Improvements\n"
      ]
    },
    {
      "cell_type": "code",
      "metadata": {
        "id": "RnxkpEA4j50O",
        "colab_type": "code",
        "outputId": "793a3736-2a7e-4808-9e03-5fe15783acc2",
        "colab": {
          "base_uri": "https://localhost:8080/",
          "height": 87
        }
      },
      "source": [
        "labenc = preprocessing.LabelEncoder()\n",
        "labenc.fit(customers['loyalty'])\n",
        "t = labenc.transform(customers['loyalty'])\n",
        "customers['loyalty_int'] = t\n",
        "customers.groupby('loyalty_int').size()\n",
        "#0=False #1=True"
      ],
      "execution_count": 0,
      "outputs": [
        {
          "output_type": "execute_result",
          "data": {
            "text/plain": [
              "loyalty_int\n",
              "0    100000\n",
              "1     20000\n",
              "dtype: int64"
            ]
          },
          "metadata": {
            "tags": []
          },
          "execution_count": 70
        }
      ]
    },
    {
      "cell_type": "code",
      "metadata": {
        "id": "sPnS5j8WDek3",
        "colab_type": "code",
        "outputId": "a2d7a61a-988f-42b7-f8f0-e054970f0152",
        "colab": {
          "base_uri": "https://localhost:8080/",
          "height": 52
        }
      },
      "source": [
        "print(round(customersencode['loyalty'].value_counts()[0]/len(customersencode) * 100,2), '% of the loyalty dataset comes from false statements.')\n",
        "print(round(customersencode['loyalty'].value_counts()[1]/len(customersencode) * 100,2), '% of the loyalty dataset comes from true statements.')"
      ],
      "execution_count": 0,
      "outputs": [
        {
          "output_type": "stream",
          "text": [
            "83.33 % of the loyalty dataset comes from false statements.\n",
            "16.67 % of the loyalty dataset comes from true statements.\n"
          ],
          "name": "stdout"
        }
      ]
    },
    {
      "cell_type": "markdown",
      "metadata": {
        "id": "_7E5NLxxoFcY",
        "colab_type": "text"
      },
      "source": [
        "# Fixing the Oversampling Data\n",
        "\n"
      ]
    },
    {
      "cell_type": "code",
      "metadata": {
        "id": "kFwlByBYDvGs",
        "colab_type": "code",
        "outputId": "a161ed73-6b53-467a-ac79-331375182921",
        "colab": {
          "base_uri": "https://localhost:8080/",
          "height": 70
        }
      },
      "source": [
        "x = customersencode.drop('loyalty', axis=1)\n",
        "y = customers['loyalty']\n",
        "\n",
        "sm = SMOTE(random_state=42)\n",
        "X_res, y_res = sm.fit_sample(x, y)\n",
        "\n",
        "balancedcustomers = pd.DataFrame(X_res)\n",
        "balancedcustomers['Class'] = y_res\n",
        "\n",
        "pd.DataFrame(y_res)[0].value_counts()"
      ],
      "execution_count": 0,
      "outputs": [
        {
          "output_type": "execute_result",
          "data": {
            "text/plain": [
              "True     100000\n",
              "False    100000\n",
              "Name: 0, dtype: int64"
            ]
          },
          "metadata": {
            "tags": []
          },
          "execution_count": 72
        }
      ]
    },
    {
      "cell_type": "markdown",
      "metadata": {
        "id": "BicHlJq9oP5t",
        "colab_type": "text"
      },
      "source": [
        "# Split Train and Test Data\n"
      ]
    },
    {
      "cell_type": "code",
      "metadata": {
        "id": "RxG4BYI-D8PB",
        "colab_type": "code",
        "colab": {}
      },
      "source": [
        "X_train, X_test, y_train, y_test = train_test_split(X_res, y_res, test_size=0.2, random_state=42)"
      ],
      "execution_count": 0,
      "outputs": []
    },
    {
      "cell_type": "markdown",
      "metadata": {
        "id": "0t5xJi10oWf0",
        "colab_type": "text"
      },
      "source": [
        "# Types of Models\n"
      ]
    },
    {
      "cell_type": "markdown",
      "metadata": {
        "id": "uqHHtL-zoYp7",
        "colab_type": "text"
      },
      "source": [
        "# Logistic Regression"
      ]
    },
    {
      "cell_type": "code",
      "metadata": {
        "id": "VuDQbZf6D-NQ",
        "colab_type": "code",
        "outputId": "8d9060ab-c493-4515-c371-7e557f05044c",
        "colab": {
          "base_uri": "https://localhost:8080/",
          "height": 105
        }
      },
      "source": [
        "lr = LogisticRegression()\n",
        "lr.fit(X_train, y_train)\n",
        "\n",
        "print('The Logistic Regression score is', round(lr.score(X_test, y_test) * 100,2),'%')\n",
        "\n",
        "y_pred = lr.predict(X_test)\n",
        "confusion_matrix(y_test, y_pred)"
      ],
      "execution_count": 0,
      "outputs": [
        {
          "output_type": "stream",
          "text": [
            "/usr/local/lib/python3.6/dist-packages/sklearn/linear_model/logistic.py:432: FutureWarning: Default solver will be changed to 'lbfgs' in 0.22. Specify a solver to silence this warning.\n",
            "  FutureWarning)\n"
          ],
          "name": "stderr"
        },
        {
          "output_type": "stream",
          "text": [
            "The Logistic Regression score is 79.71 %\n"
          ],
          "name": "stdout"
        },
        {
          "output_type": "execute_result",
          "data": {
            "text/plain": [
              "array([[15683,  4217],\n",
              "       [ 3900, 16200]])"
            ]
          },
          "metadata": {
            "tags": []
          },
          "execution_count": 74
        }
      ]
    },
    {
      "cell_type": "markdown",
      "metadata": {
        "id": "y4WzJu1IjgJP",
        "colab_type": "text"
      },
      "source": [
        "# Testing Other Models\n"
      ]
    },
    {
      "cell_type": "code",
      "metadata": {
        "id": "j0JKQNe5sGeJ",
        "colab_type": "code",
        "outputId": "0125eef5-6dc5-40bc-8138-31e5f98f0259",
        "colab": {
          "base_uri": "https://localhost:8080/",
          "height": 141
        }
      },
      "source": [
        "dtc = DecisionTreeClassifier()\n",
        "gb = GradientBoostingClassifier()\n",
        "knn = KNeighborsClassifier()\n",
        "rf = RandomForestClassifier()\n",
        "rig = RidgeClassifier()\n",
        "\n",
        "dtc.fit(X_train, y_train)\n",
        "gb.fit(X_train, y_train)\n",
        "knn.fit(X_train, y_train)\n",
        "rig.fit(X_train, y_train)\n",
        "rf.fit(X_train, y_train)\n",
        "\n",
        "print('Decision Tree\\'s score is:', round(dtc.score(X_test, y_test) * 100,2),'%.')\n",
        "print('Gradient Boosting\\'s score is:', round(gb.score(X_test, y_test) * 100,2),'%.')\n",
        "print('KNeighbors\\' score is:', round(knn.score(X_test, y_test) * 100,2),'%.')\n",
        "print('Random Forest\\'s score is:', round(rf.score(X_test, y_test) * 100,2),'%.')\n",
        "print('Ridge\\'s score is:', round(rig.score(X_test,y_test) *100,2),'%.')"
      ],
      "execution_count": 0,
      "outputs": [
        {
          "output_type": "stream",
          "text": [
            "/usr/local/lib/python3.6/dist-packages/sklearn/ensemble/forest.py:245: FutureWarning: The default value of n_estimators will change from 10 in version 0.20 to 100 in 0.22.\n",
            "  \"10 in version 0.20 to 100 in 0.22.\", FutureWarning)\n"
          ],
          "name": "stderr"
        },
        {
          "output_type": "stream",
          "text": [
            "Decision Tree's score is: 87.67 %.\n",
            "Gradient Boosting's score is: 86.96 %.\n",
            "KNeighbors' score is: 85.9 %.\n",
            "Random Forest's score is: 90.32 %.\n",
            "Ridge's score is: 79.74 %.\n"
          ],
          "name": "stdout"
        }
      ]
    },
    {
      "cell_type": "markdown",
      "metadata": {
        "id": "QF1gHVfZoeTJ",
        "colab_type": "text"
      },
      "source": [
        "# Voting Classifer Model\n"
      ]
    },
    {
      "cell_type": "code",
      "metadata": {
        "id": "5C_1Lk65sZFy",
        "colab_type": "code",
        "outputId": "8495f102-cfea-484d-a08c-f4f576bc2bc8",
        "colab": {
          "base_uri": "https://localhost:8080/",
          "height": 34
        }
      },
      "source": [
        "vc = VotingClassifier(estimators=[('dtc',dtc),('gb', gb),('rf', rf)], voting='hard')\n",
        "vc.fit(X_train, y_train)\n",
        "print('The voting classifer percentage is: ', round(vc.score(X_test,y_test) *100,2),'%')"
      ],
      "execution_count": 0,
      "outputs": [
        {
          "output_type": "stream",
          "text": [
            "The voting classifer percentage is:  90.27 %\n"
          ],
          "name": "stdout"
        }
      ]
    },
    {
      "cell_type": "markdown",
      "metadata": {
        "id": "g-siHJ3g3mWx",
        "colab_type": "text"
      },
      "source": [
        "# Evaluating Models\n"
      ]
    },
    {
      "cell_type": "code",
      "metadata": {
        "id": "n8RyMypKtHP8",
        "colab_type": "code",
        "outputId": "081db351-f36e-40ae-d9cb-1a3eb4b57d0a",
        "colab": {
          "base_uri": "https://localhost:8080/",
          "height": 390
        }
      },
      "source": [
        "y_pred_rf = rf.predict(X_test)\n",
        "y_pred_vc = vc.predict(X_test)\n",
        "print ('Classification Report for Random Forest Classifer Model\\n', classification_report(y_test, y_pred_rf))\n",
        "print ('\\nClassification Report for Voting Classifer Model\\n', classification_report(y_test, y_pred_vc))"
      ],
      "execution_count": 0,
      "outputs": [
        {
          "output_type": "stream",
          "text": [
            "Classification Report for Random Forest Classifer Model\n",
            "               precision    recall  f1-score   support\n",
            "\n",
            "       False       0.89      0.92      0.90     19900\n",
            "        True       0.92      0.88      0.90     20100\n",
            "\n",
            "    accuracy                           0.90     40000\n",
            "   macro avg       0.90      0.90      0.90     40000\n",
            "weighted avg       0.90      0.90      0.90     40000\n",
            "\n",
            "\n",
            "Classification Report for Voting Classifer Model\n",
            "               precision    recall  f1-score   support\n",
            "\n",
            "       False       0.90      0.91      0.90     19900\n",
            "        True       0.91      0.89      0.90     20100\n",
            "\n",
            "    accuracy                           0.90     40000\n",
            "   macro avg       0.90      0.90      0.90     40000\n",
            "weighted avg       0.90      0.90      0.90     40000\n",
            "\n"
          ],
          "name": "stdout"
        }
      ]
    },
    {
      "cell_type": "markdown",
      "metadata": {
        "id": "MInlG4Kh3urZ",
        "colab_type": "text"
      },
      "source": [
        "# Cross Validation Models\n"
      ]
    },
    {
      "cell_type": "code",
      "metadata": {
        "id": "PP3FwE2NucHK",
        "colab_type": "code",
        "outputId": "27893a62-8341-4db7-9b9a-0cade44154ff",
        "colab": {
          "base_uri": "https://localhost:8080/",
          "height": 87
        }
      },
      "source": [
        "print('The Random Forest\\'s cross-validation scores are:\\n', cross_val_score(rf, X_test, y_test, cv=5))\n",
        "print('The Voting Classifier\\'s cross-validation scores are:\\n', cross_val_score(vc, X_test, y_test, cv=5))"
      ],
      "execution_count": 0,
      "outputs": [
        {
          "output_type": "stream",
          "text": [
            "The Random Forest's cross-validation scores are:\n",
            " [0.868625 0.872125 0.876    0.871125 0.870875]\n",
            "The Voting Classifier's cross-validation scores are:\n",
            " [0.877   0.87125 0.87975 0.87475 0.877  ]\n"
          ],
          "name": "stdout"
        }
      ]
    },
    {
      "cell_type": "markdown",
      "metadata": {
        "id": "jADDyxbs3zBj",
        "colab_type": "text"
      },
      "source": [
        "# Improve Model Performance: Random Forest\n",
        "\n"
      ]
    },
    {
      "cell_type": "code",
      "metadata": {
        "id": "gZTw7GdTzc6r",
        "colab_type": "code",
        "outputId": "a1b1a447-9810-4dab-be64-90925318b48c",
        "colab": {
          "base_uri": "https://localhost:8080/",
          "height": 34
        }
      },
      "source": [
        "rf = RandomForestClassifier(max_features='sqrt', min_samples_leaf=1, max_depth=30, n_estimators=54)\n",
        "\n",
        "rf.fit(X_train, y_train)\n",
        "\n",
        "print('The Random Forest\\'s score:', round(rf.score(X_test, y_test) * 100,2),'%')"
      ],
      "execution_count": 0,
      "outputs": [
        {
          "output_type": "stream",
          "text": [
            "The Random Forest's score: 90.8 %\n"
          ],
          "name": "stdout"
        }
      ]
    },
    {
      "cell_type": "markdown",
      "metadata": {
        "id": "c707M1s69Wml",
        "colab_type": "text"
      },
      "source": [
        "\n",
        "\n"
      ]
    },
    {
      "cell_type": "code",
      "metadata": {
        "id": "SbpTHincGJWA",
        "colab_type": "code",
        "outputId": "1d0e28f2-9c3e-4ad7-d9ae-fae6daf1cf05",
        "colab": {
          "base_uri": "https://localhost:8080/",
          "height": 52
        }
      },
      "source": [
        "print('The Random Forest\\'s cross-validation scores are:\\n', cross_val_score(rf, X_test, y_test, cv=5))"
      ],
      "execution_count": 0,
      "outputs": [
        {
          "output_type": "stream",
          "text": [
            "The Random Forest's cross-validation scores are:\n",
            " [0.8775   0.872625 0.880375 0.8745   0.879125]\n"
          ],
          "name": "stdout"
        }
      ]
    }
  ]
}