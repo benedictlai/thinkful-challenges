{
 "cells": [
  {
   "cell_type": "markdown",
   "metadata": {},
   "source": [
    "# Formulating Good Research Questions #"
   ]
  },
  {
   "cell_type": "markdown",
   "metadata": {},
   "source": [
    "What is the 1994 rate of juvenile delinquency in the U.S.?\n",
    "Bad. Instead, I would say, \"What factors caused the rate of juvenile deliquency in the U.S. to increase in 1994?\"\n",
    "\n",
    "What can we do to reduce juvenile delinquency in the U.S.?\n",
    "Bad. Instead, I would say, \"What situations will probably reduce the juvenile deliquency rate in the United States?\"\n",
    "\n",
    "Does education play a role in reducing juvenile delinquents' return to crime? \n",
    "Good.\n",
    "\n",
    "How many customers does AT&T currently serve in Washington, DC? \n",
    "Good.\n",
    "\n",
    "What factors lead consumers to choose AT&T over other service providers? \n",
    "Good.\n",
    "\n",
    "How can AT&T attract more customers? \n",
    "Bad. Instead, I would say, \"What kind of factors will cause an increase of customers for AT&T?\" or \"Has the change of marketing improve the number of customers for AT&T?\"\n",
    "\n",
    "Why did the Challenger Shuttle explode?\n",
    "Bad. Instead, I would say, \"What are possible factors that caused the Challenge Shuttle to explode?\"\n",
    "\n",
    "Which genes are associated with increased risk of breast cancer? \n",
    "Good.\n",
    "\n",
    "Is it better to read to children at night or in the morning?\n",
    "Bad. Instead, I would say, \"What factors cause a person to read to children at night over in the morning?\" and\n",
    "\"What factors cause a person to read to children in the morning over at night?\"\n",
    "\n",
    "How does Google’s search algorithm work?\n",
    "Bad. Instead, I would say, \"What are possible factors for Google's search algorithm?\" or\n",
    "\"What factors cause a high accuracy rate for Google's search algorithm?\""
   ]
  }
 ],
 "metadata": {
  "kernelspec": {
   "display_name": "Python 3",
   "language": "python",
   "name": "python3"
  },
  "language_info": {
   "codemirror_mode": {
    "name": "ipython",
    "version": 3
   },
   "file_extension": ".py",
   "mimetype": "text/x-python",
   "name": "python",
   "nbconvert_exporter": "python",
   "pygments_lexer": "ipython3",
   "version": "3.7.0"
  }
 },
 "nbformat": 4,
 "nbformat_minor": 2
}
