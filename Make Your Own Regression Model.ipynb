{
 "cells": [
  {
   "cell_type": "code",
   "execution_count": 1,
   "metadata": {},
   "outputs": [],
   "source": [
    "import matplotlib.pyplot as plt\n",
    "import numpy as np\n",
    "import pandas as pd\n",
    "import scipy\n",
    "import sklearn\n",
    "import seaborn as sns\n",
    "from matplotlib import pyplot as plt\n",
    "from sklearn import linear_model\n",
    "%matplotlib inline\n",
    "pd.options.display.float_format = '{:.3f}'.format\n",
    "from matplotlib.mlab import PCA as mlabPCA\n",
    "from sklearn import preprocessing\n",
    "from sklearn.decomposition import PCA\n",
    "from sklearn.feature_selection import SelectKBest\n",
    "from sklearn.model_selection import cross_val_score\n",
    "from sklearn.model_selection import train_test_split\n",
    "from sklearn.preprocessing import StandardScaler\n",
    "\n",
    "import warnings\n",
    "warnings.filterwarnings(action='ignore', module='scipy', message='^internal gelsd')"
   ]
  },
  {
   "cell_type": "code",
   "execution_count": 2,
   "metadata": {},
   "outputs": [
    {
     "data": {
      "text/html": [
       "<div>\n",
       "<style scoped>\n",
       "    .dataframe tbody tr th:only-of-type {\n",
       "        vertical-align: middle;\n",
       "    }\n",
       "\n",
       "    .dataframe tbody tr th {\n",
       "        vertical-align: top;\n",
       "    }\n",
       "\n",
       "    .dataframe thead th {\n",
       "        text-align: right;\n",
       "    }\n",
       "</style>\n",
       "<table border=\"1\" class=\"dataframe\">\n",
       "  <thead>\n",
       "    <tr style=\"text-align: right;\">\n",
       "      <th></th>\n",
       "      <th>City</th>\n",
       "      <th>Population</th>\n",
       "      <th>Violent\n",
       "crime</th>\n",
       "      <th>Murder</th>\n",
       "      <th>Rape\n",
       "(revised\n",
       "definition)1</th>\n",
       "      <th>Rape\n",
       "(legacy\n",
       "definition)2</th>\n",
       "      <th>Robbery</th>\n",
       "      <th>Aggravated\n",
       "assault</th>\n",
       "      <th>Property\n",
       "crime</th>\n",
       "      <th>Burglary</th>\n",
       "      <th>Larceny-\n",
       "theft</th>\n",
       "      <th>Motor\n",
       "vehicle\n",
       "theft</th>\n",
       "      <th>Arson3</th>\n",
       "    </tr>\n",
       "  </thead>\n",
       "  <tbody>\n",
       "    <tr>\n",
       "      <th>0</th>\n",
       "      <td>Adams Village</td>\n",
       "      <td>1,861</td>\n",
       "      <td>0</td>\n",
       "      <td>0.000</td>\n",
       "      <td>nan</td>\n",
       "      <td>0</td>\n",
       "      <td>0</td>\n",
       "      <td>0</td>\n",
       "      <td>12</td>\n",
       "      <td>2</td>\n",
       "      <td>10</td>\n",
       "      <td>0</td>\n",
       "      <td>0.000</td>\n",
       "    </tr>\n",
       "    <tr>\n",
       "      <th>1</th>\n",
       "      <td>Addison Town and Village</td>\n",
       "      <td>2,577</td>\n",
       "      <td>3</td>\n",
       "      <td>0.000</td>\n",
       "      <td>nan</td>\n",
       "      <td>0</td>\n",
       "      <td>0</td>\n",
       "      <td>3</td>\n",
       "      <td>24</td>\n",
       "      <td>3</td>\n",
       "      <td>20</td>\n",
       "      <td>1</td>\n",
       "      <td>0.000</td>\n",
       "    </tr>\n",
       "    <tr>\n",
       "      <th>2</th>\n",
       "      <td>Akron Village</td>\n",
       "      <td>2,846</td>\n",
       "      <td>3</td>\n",
       "      <td>0.000</td>\n",
       "      <td>nan</td>\n",
       "      <td>0</td>\n",
       "      <td>0</td>\n",
       "      <td>3</td>\n",
       "      <td>16</td>\n",
       "      <td>1</td>\n",
       "      <td>15</td>\n",
       "      <td>0</td>\n",
       "      <td>0.000</td>\n",
       "    </tr>\n",
       "    <tr>\n",
       "      <th>3</th>\n",
       "      <td>Albany</td>\n",
       "      <td>97,956</td>\n",
       "      <td>791</td>\n",
       "      <td>8.000</td>\n",
       "      <td>nan</td>\n",
       "      <td>30</td>\n",
       "      <td>227</td>\n",
       "      <td>526</td>\n",
       "      <td>4,090</td>\n",
       "      <td>705</td>\n",
       "      <td>3,243</td>\n",
       "      <td>142</td>\n",
       "      <td>nan</td>\n",
       "    </tr>\n",
       "    <tr>\n",
       "      <th>4</th>\n",
       "      <td>Albion Village</td>\n",
       "      <td>6,388</td>\n",
       "      <td>23</td>\n",
       "      <td>0.000</td>\n",
       "      <td>nan</td>\n",
       "      <td>3</td>\n",
       "      <td>4</td>\n",
       "      <td>16</td>\n",
       "      <td>223</td>\n",
       "      <td>53</td>\n",
       "      <td>165</td>\n",
       "      <td>5</td>\n",
       "      <td>nan</td>\n",
       "    </tr>\n",
       "  </tbody>\n",
       "</table>\n",
       "</div>"
      ],
      "text/plain": [
       "                       City Population Violent\\ncrime  Murder  \\\n",
       "0             Adams Village      1,861              0   0.000   \n",
       "1  Addison Town and Village      2,577              3   0.000   \n",
       "2             Akron Village      2,846              3   0.000   \n",
       "3                    Albany     97,956            791   8.000   \n",
       "4            Albion Village      6,388             23   0.000   \n",
       "\n",
       "   Rape\\n(revised\\ndefinition)1 Rape\\n(legacy\\ndefinition)2 Robbery  \\\n",
       "0                           nan                           0       0   \n",
       "1                           nan                           0       0   \n",
       "2                           nan                           0       0   \n",
       "3                           nan                          30     227   \n",
       "4                           nan                           3       4   \n",
       "\n",
       "  Aggravated\\nassault Property\\ncrime Burglary Larceny-\\ntheft  \\\n",
       "0                   0              12        2              10   \n",
       "1                   3              24        3              20   \n",
       "2                   3              16        1              15   \n",
       "3                 526           4,090      705           3,243   \n",
       "4                  16             223       53             165   \n",
       "\n",
       "  Motor\\nvehicle\\ntheft  Arson3  \n",
       "0                     0   0.000  \n",
       "1                     1   0.000  \n",
       "2                     0   0.000  \n",
       "3                   142     nan  \n",
       "4                     5     nan  "
      ]
     },
     "execution_count": 2,
     "metadata": {},
     "output_type": "execute_result"
    }
   ],
   "source": [
    "crime = pd.read_csv('Prepare the Data DRILL.csv')\n",
    "crime.head()"
   ]
  },
  {
   "cell_type": "code",
   "execution_count": 3,
   "metadata": {},
   "outputs": [],
   "source": [
    "#The purpose of this is to separate the commas out of the numbers that is more than 1,000.\n",
    "def convert_number(number):\n",
    "    try:\n",
    "        new = float(number.replace(',', ''))\n",
    "    except:\n",
    "        new = number\n",
    "    return new"
   ]
  },
  {
   "cell_type": "code",
   "execution_count": 4,
   "metadata": {},
   "outputs": [
    {
     "data": {
      "text/plain": [
       "City                             object\n",
       "Population                       object\n",
       "Violent\\ncrime                   object\n",
       "Murder                          float64\n",
       "Rape\\n(revised\\ndefinition)1    float64\n",
       "Rape\\n(legacy\\ndefinition)2      object\n",
       "Robbery                          object\n",
       "Aggravated\\nassault              object\n",
       "Property\\ncrime                  object\n",
       "Burglary                         object\n",
       "Larceny-\\ntheft                  object\n",
       "Motor\\nvehicle\\ntheft            object\n",
       "Arson3                          float64\n",
       "dtype: object"
      ]
     },
     "execution_count": 4,
     "metadata": {},
     "output_type": "execute_result"
    }
   ],
   "source": [
    "crime.dtypes"
   ]
  },
  {
   "cell_type": "code",
   "execution_count": 5,
   "metadata": {},
   "outputs": [],
   "source": [
    "#This is to make the numbers permanently without the commas\n",
    "crime['Population'] = crime['Population'].apply(lambda x: convert_number(x))\n",
    "crime['Murder'] = crime['Murder'].apply(lambda x: convert_number(x))\n",
    "crime['Robbery'] = crime['Robbery'].apply(lambda x: convert_number(x))\n",
    "crime['Violent\\ncrime'] = crime['Violent\\ncrime'].apply(lambda x: convert_number(x))\n",
    "crime['Property\\ncrime'] = crime['Property\\ncrime'].apply(lambda x: convert_number(x))\n",
    "crime['Larceny-\\ntheft'] = crime['Larceny-\\ntheft'].apply(lambda x: convert_number(x))"
   ]
  },
  {
   "cell_type": "code",
   "execution_count": 6,
   "metadata": {},
   "outputs": [],
   "source": [
    "#I'm making a new column to make robbery and murder categorial.\n",
    "#1=Murder or Robbery Existed in that county 0=Murder or Robbery DID NOT Exist\n",
    "crime['Robbery?'] = np.where(crime['Robbery']>0, 1, 0)\n",
    "crime['Murder?'] = np.where(crime['Murder']>0, 1, 0)"
   ]
  },
  {
   "cell_type": "code",
   "execution_count": 7,
   "metadata": {
    "scrolled": false
   },
   "outputs": [
    {
     "data": {
      "text/html": [
       "<div>\n",
       "<style scoped>\n",
       "    .dataframe tbody tr th:only-of-type {\n",
       "        vertical-align: middle;\n",
       "    }\n",
       "\n",
       "    .dataframe tbody tr th {\n",
       "        vertical-align: top;\n",
       "    }\n",
       "\n",
       "    .dataframe thead th {\n",
       "        text-align: right;\n",
       "    }\n",
       "</style>\n",
       "<table border=\"1\" class=\"dataframe\">\n",
       "  <thead>\n",
       "    <tr style=\"text-align: right;\">\n",
       "      <th></th>\n",
       "      <th>City</th>\n",
       "      <th>Population</th>\n",
       "      <th>Violent\n",
       "crime</th>\n",
       "      <th>Murder</th>\n",
       "      <th>Rape\n",
       "(revised\n",
       "definition)1</th>\n",
       "      <th>Rape\n",
       "(legacy\n",
       "definition)2</th>\n",
       "      <th>Robbery</th>\n",
       "      <th>Aggravated\n",
       "assault</th>\n",
       "      <th>Property\n",
       "crime</th>\n",
       "      <th>Burglary</th>\n",
       "      <th>Larceny-\n",
       "theft</th>\n",
       "      <th>Motor\n",
       "vehicle\n",
       "theft</th>\n",
       "      <th>Arson3</th>\n",
       "      <th>Robbery?</th>\n",
       "      <th>Murder?</th>\n",
       "    </tr>\n",
       "  </thead>\n",
       "  <tbody>\n",
       "    <tr>\n",
       "      <th>0</th>\n",
       "      <td>Adams Village</td>\n",
       "      <td>1861.000</td>\n",
       "      <td>0.000</td>\n",
       "      <td>0.000</td>\n",
       "      <td>nan</td>\n",
       "      <td>0</td>\n",
       "      <td>0.000</td>\n",
       "      <td>0</td>\n",
       "      <td>12.000</td>\n",
       "      <td>2</td>\n",
       "      <td>10.000</td>\n",
       "      <td>0</td>\n",
       "      <td>0.000</td>\n",
       "      <td>0</td>\n",
       "      <td>0</td>\n",
       "    </tr>\n",
       "    <tr>\n",
       "      <th>1</th>\n",
       "      <td>Addison Town and Village</td>\n",
       "      <td>2577.000</td>\n",
       "      <td>3.000</td>\n",
       "      <td>0.000</td>\n",
       "      <td>nan</td>\n",
       "      <td>0</td>\n",
       "      <td>0.000</td>\n",
       "      <td>3</td>\n",
       "      <td>24.000</td>\n",
       "      <td>3</td>\n",
       "      <td>20.000</td>\n",
       "      <td>1</td>\n",
       "      <td>0.000</td>\n",
       "      <td>0</td>\n",
       "      <td>0</td>\n",
       "    </tr>\n",
       "    <tr>\n",
       "      <th>2</th>\n",
       "      <td>Akron Village</td>\n",
       "      <td>2846.000</td>\n",
       "      <td>3.000</td>\n",
       "      <td>0.000</td>\n",
       "      <td>nan</td>\n",
       "      <td>0</td>\n",
       "      <td>0.000</td>\n",
       "      <td>3</td>\n",
       "      <td>16.000</td>\n",
       "      <td>1</td>\n",
       "      <td>15.000</td>\n",
       "      <td>0</td>\n",
       "      <td>0.000</td>\n",
       "      <td>0</td>\n",
       "      <td>0</td>\n",
       "    </tr>\n",
       "    <tr>\n",
       "      <th>3</th>\n",
       "      <td>Albany</td>\n",
       "      <td>97956.000</td>\n",
       "      <td>791.000</td>\n",
       "      <td>8.000</td>\n",
       "      <td>nan</td>\n",
       "      <td>30</td>\n",
       "      <td>227.000</td>\n",
       "      <td>526</td>\n",
       "      <td>4090.000</td>\n",
       "      <td>705</td>\n",
       "      <td>3243.000</td>\n",
       "      <td>142</td>\n",
       "      <td>nan</td>\n",
       "      <td>1</td>\n",
       "      <td>1</td>\n",
       "    </tr>\n",
       "    <tr>\n",
       "      <th>4</th>\n",
       "      <td>Albion Village</td>\n",
       "      <td>6388.000</td>\n",
       "      <td>23.000</td>\n",
       "      <td>0.000</td>\n",
       "      <td>nan</td>\n",
       "      <td>3</td>\n",
       "      <td>4.000</td>\n",
       "      <td>16</td>\n",
       "      <td>223.000</td>\n",
       "      <td>53</td>\n",
       "      <td>165.000</td>\n",
       "      <td>5</td>\n",
       "      <td>nan</td>\n",
       "      <td>1</td>\n",
       "      <td>0</td>\n",
       "    </tr>\n",
       "  </tbody>\n",
       "</table>\n",
       "</div>"
      ],
      "text/plain": [
       "                       City  Population  Violent\\ncrime  Murder  \\\n",
       "0             Adams Village    1861.000           0.000   0.000   \n",
       "1  Addison Town and Village    2577.000           3.000   0.000   \n",
       "2             Akron Village    2846.000           3.000   0.000   \n",
       "3                    Albany   97956.000         791.000   8.000   \n",
       "4            Albion Village    6388.000          23.000   0.000   \n",
       "\n",
       "   Rape\\n(revised\\ndefinition)1 Rape\\n(legacy\\ndefinition)2  Robbery  \\\n",
       "0                           nan                           0    0.000   \n",
       "1                           nan                           0    0.000   \n",
       "2                           nan                           0    0.000   \n",
       "3                           nan                          30  227.000   \n",
       "4                           nan                           3    4.000   \n",
       "\n",
       "  Aggravated\\nassault  Property\\ncrime Burglary  Larceny-\\ntheft  \\\n",
       "0                   0           12.000        2           10.000   \n",
       "1                   3           24.000        3           20.000   \n",
       "2                   3           16.000        1           15.000   \n",
       "3                 526         4090.000      705         3243.000   \n",
       "4                  16          223.000       53          165.000   \n",
       "\n",
       "  Motor\\nvehicle\\ntheft  Arson3  Robbery?  Murder?  \n",
       "0                     0   0.000         0        0  \n",
       "1                     1   0.000         0        0  \n",
       "2                     0   0.000         0        0  \n",
       "3                   142     nan         1        1  \n",
       "4                     5     nan         1        0  "
      ]
     },
     "execution_count": 7,
     "metadata": {},
     "output_type": "execute_result"
    }
   ],
   "source": [
    "crime.head()"
   ]
  },
  {
   "cell_type": "code",
   "execution_count": 8,
   "metadata": {
    "scrolled": true
   },
   "outputs": [
    {
     "data": {
      "image/png": "[encoded data removed]",
      "text/plain": [
       "<Figure size 432x288 with 1 Axes>"
      ]
     },
     "metadata": {
      "needs_background": "light"
     },
     "output_type": "display_data"
    },
    {
     "name": "stdout",
     "output_type": "stream",
     "text": [
      "The median:  7233.5\n",
      "The mean: 40037.63218390805\n",
      "The standard deviation:  450037.3675209857\n",
      "Outliers above the limit are:  907308.2350419714\n"
     ]
    },
    {
     "data": {
      "image/png": "[encoded data removed]",
      "text/plain": [
       "<Figure size 432x288 with 1 Axes>"
      ]
     },
     "metadata": {
      "needs_background": "light"
     },
     "output_type": "display_data"
    },
    {
     "name": "stdout",
     "output_type": "stream",
     "text": [
      "The median:  0.0\n",
      "The mean: 1.5660919540229885\n",
      "The standard deviation:  18.303672792887753\n",
      "Outliers above the limit are:  36.607345585775505\n"
     ]
    },
    {
     "data": {
      "image/png": "[encoded data removed]",
      "text/plain": [
       "<Figure size 432x288 with 1 Axes>"
      ]
     },
     "metadata": {
      "needs_background": "light"
     },
     "output_type": "display_data"
    },
    {
     "name": "stdout",
     "output_type": "stream",
     "text": [
      "The median:  6.0\n",
      "The mean: 201.5948275862069\n",
      "The standard deviation:  2815.268503874344\n",
      "Outliers above the limit are:  5636.537007748688\n"
     ]
    },
    {
     "data": {
      "image/png": "[encoded data removed]",
      "text/plain": [
       "<Figure size 432x288 with 1 Axes>"
      ]
     },
     "metadata": {
      "needs_background": "light"
     },
     "output_type": "display_data"
    },
    {
     "name": "stdout",
     "output_type": "stream",
     "text": [
      "The median:  112.5\n",
      "The mean: 792.6063218390805\n",
      "The standard deviation:  7659.724745633149\n",
      "Outliers above the limit are:  15431.949491266298\n"
     ]
    },
    {
     "data": {
      "image/png": "[encoded data removed]",
      "text/plain": [
       "<Figure size 432x288 with 1 Axes>"
      ]
     },
     "metadata": {
      "needs_background": "light"
     },
     "output_type": "display_data"
    },
    {
     "name": "stdout",
     "output_type": "stream",
     "text": [
      "The median:  1.0\n",
      "The mean: 72.90229885057471\n",
      "The standard deviation:  1031.0328732955247\n",
      "Outliers above the limit are:  2063.0657465910494\n"
     ]
    }
   ],
   "source": [
    "#Distributing all the variables\n",
    "crime['Population'].hist(bins=70)\n",
    "plt.title('The population of the town')\n",
    "plt.show()\n",
    "\n",
    "#Mean, Median, Std. Deviation, and outliers\n",
    "mean = crime.Population.mean()\n",
    "median = crime.Population.median()\n",
    "std = crime.Population.std()\n",
    "population = median + 2*std\n",
    "\n",
    "print('The median: ', median)\n",
    "print('The mean:', mean)\n",
    "print('The standard deviation: ', std)\n",
    "print('Outliers above the limit are: ', population)\n",
    "\n",
    "#Distributing all the variables\n",
    "crime['Murder'].hist(bins=70)\n",
    "plt.title('The number of murders in the town')\n",
    "plt.show()\n",
    "\n",
    "#Mean, Median, Std. Deviation, and outliers\n",
    "mean = crime.Murder.mean()\n",
    "median = crime.Murder.median()\n",
    "std = crime.Murder.std()\n",
    "murders = median + 2*std\n",
    "\n",
    "print('The median: ', median)\n",
    "print('The mean:', mean)\n",
    "print('The standard deviation: ', std)\n",
    "print('Outliers above the limit are: ', murders)\n",
    "\n",
    "\n",
    "#Distributing all the variables\n",
    "crime['Violent\\ncrime'].hist(bins=70)\n",
    "plt.title('The number of violent Crimes in the town')\n",
    "plt.show()\n",
    "\n",
    "#Mean, Median, Std. Deviation, and outliers\n",
    "mean = crime['Violent\\ncrime'].mean()\n",
    "median = crime['Violent\\ncrime'].median()\n",
    "std = crime['Violent\\ncrime'].std()\n",
    "violentcrimes = median + 2*std\n",
    "\n",
    "print('The median: ', median)\n",
    "print('The mean:', mean)\n",
    "print('The standard deviation: ', std)\n",
    "print('Outliers above the limit are: ', violentcrimes)\n",
    "\n",
    "#Distributing all the variables\n",
    "crime['Property\\ncrime'].hist(bins=70)\n",
    "plt.title('The number of Property Crimes in the town')\n",
    "plt.show()\n",
    "\n",
    "#Mean, Median, Std. Deviation, and outliers\n",
    "mean = crime['Property\\ncrime'].mean()\n",
    "median = crime['Property\\ncrime'].median()\n",
    "std = crime['Property\\ncrime'].std()\n",
    "propertycrimes = median + 2*std\n",
    "\n",
    "print('The median: ', median)\n",
    "print('The mean:', mean)\n",
    "print('The standard deviation: ', std)\n",
    "print('Outliers above the limit are: ', propertycrimes)\n",
    "\n",
    "#Distributing all the variables\n",
    "crime.Robbery.hist(bins=70)\n",
    "plt.title('The number of robberies in the town')\n",
    "plt.show()\n",
    "\n",
    "#Mean, Median, Std. Deviation, and outliers\n",
    "mean = crime.Robbery.mean()\n",
    "median = crime.Robbery.median()\n",
    "std = crime.Robbery.std()\n",
    "robberies = median + 2*std\n",
    "\n",
    "print('The median: ', median)\n",
    "print('The mean:', mean)\n",
    "print('The standard deviation: ', std)\n",
    "print('Outliers above the limit are: ', robberies)"
   ]
  },
  {
   "cell_type": "code",
   "execution_count": 9,
   "metadata": {},
   "outputs": [],
   "source": [
    "#Removing Outliers\n",
    "crime.Population = crime.Population.map(lambda x: x if x < population else None)\n",
    "crime.Murder = crime.Murder.map(lambda x: x if x < murders else None)\n",
    "crime.Robbery = crime.Robbery.map(lambda x: x if x < robberies else None)\n",
    "crime['Violent\\ncrime'] = crime['Violent\\ncrime'].map(lambda x: x if x < violentcrimes else None)\n",
    "crime['Property\\ncrime'] = crime['Property\\ncrime'].map(lambda x: x if x < propertycrimes else None)"
   ]
  },
  {
   "cell_type": "code",
   "execution_count": 10,
   "metadata": {},
   "outputs": [
    {
     "data": {
      "image/png": "[encoded data removed]",
      "text/plain": [
       "<Figure size 936x936 with 3 Axes>"
      ]
     },
     "metadata": {
      "needs_background": "light"
     },
     "output_type": "display_data"
    }
   ],
   "source": [
    "#Here are the graphs after the outliers were removed\n",
    "plt.figure(figsize=(13,13))\n",
    "plt.subplot(221)\n",
    "crime['Population'].hist(bins=70)\n",
    "plt.title('The number of population')\n",
    "\n",
    "plt.subplot(222)\n",
    "crime['Murder'].hist(bins=70)\n",
    "plt.title('The number of murders')\n",
    "\n",
    "plt.subplot(223)\n",
    "crime['Robbery'].hist(bins=40)\n",
    "plt.title('The number of robberies')\n",
    "\n",
    "plt.show()"
   ]
  },
  {
   "cell_type": "code",
   "execution_count": 11,
   "metadata": {},
   "outputs": [
    {
     "data": {
      "image/png": "[encoded data removed]",
      "text/plain": [
       "<Figure size 936x936 with 2 Axes>"
      ]
     },
     "metadata": {
      "needs_background": "light"
     },
     "output_type": "display_data"
    }
   ],
   "source": [
    "plt.figure(figsize=(13,13))\n",
    "plt.subplot(221)\n",
    "crime['Property\\ncrime'].hist(bins=70)\n",
    "plt.title('The number of Property Crimes')\n",
    "\n",
    "plt.subplot(222)\n",
    "crime['Violent\\ncrime'].hist(bins=40)\n",
    "plt.title('The number of Violent Crimes')\n",
    "\n",
    "plt.show()"
   ]
  },
  {
   "cell_type": "code",
   "execution_count": 12,
   "metadata": {},
   "outputs": [
    {
     "data": {
      "text/html": [
       "<div>\n",
       "<style scoped>\n",
       "    .dataframe tbody tr th:only-of-type {\n",
       "        vertical-align: middle;\n",
       "    }\n",
       "\n",
       "    .dataframe tbody tr th {\n",
       "        vertical-align: top;\n",
       "    }\n",
       "\n",
       "    .dataframe thead th {\n",
       "        text-align: right;\n",
       "    }\n",
       "</style>\n",
       "<table border=\"1\" class=\"dataframe\">\n",
       "  <thead>\n",
       "    <tr style=\"text-align: right;\">\n",
       "      <th></th>\n",
       "      <th>Population</th>\n",
       "      <th>Murder?</th>\n",
       "      <th>Robbery?</th>\n",
       "      <th>Violent\n",
       "crime</th>\n",
       "      <th>Property\n",
       "crime</th>\n",
       "    </tr>\n",
       "  </thead>\n",
       "  <tbody>\n",
       "    <tr>\n",
       "      <th>0</th>\n",
       "      <td>1861.000</td>\n",
       "      <td>0</td>\n",
       "      <td>0</td>\n",
       "      <td>0.000</td>\n",
       "      <td>12.000</td>\n",
       "    </tr>\n",
       "    <tr>\n",
       "      <th>1</th>\n",
       "      <td>2577.000</td>\n",
       "      <td>0</td>\n",
       "      <td>0</td>\n",
       "      <td>3.000</td>\n",
       "      <td>24.000</td>\n",
       "    </tr>\n",
       "    <tr>\n",
       "      <th>2</th>\n",
       "      <td>2846.000</td>\n",
       "      <td>0</td>\n",
       "      <td>0</td>\n",
       "      <td>3.000</td>\n",
       "      <td>16.000</td>\n",
       "    </tr>\n",
       "    <tr>\n",
       "      <th>3</th>\n",
       "      <td>97956.000</td>\n",
       "      <td>1</td>\n",
       "      <td>1</td>\n",
       "      <td>791.000</td>\n",
       "      <td>4090.000</td>\n",
       "    </tr>\n",
       "    <tr>\n",
       "      <th>4</th>\n",
       "      <td>6388.000</td>\n",
       "      <td>0</td>\n",
       "      <td>1</td>\n",
       "      <td>23.000</td>\n",
       "      <td>223.000</td>\n",
       "    </tr>\n",
       "  </tbody>\n",
       "</table>\n",
       "</div>"
      ],
      "text/plain": [
       "   Population  Murder?  Robbery?  Violent\\ncrime  Property\\ncrime\n",
       "0    1861.000        0         0           0.000           12.000\n",
       "1    2577.000        0         0           3.000           24.000\n",
       "2    2846.000        0         0           3.000           16.000\n",
       "3   97956.000        1         1         791.000         4090.000\n",
       "4    6388.000        0         1          23.000          223.000"
      ]
     },
     "execution_count": 12,
     "metadata": {},
     "output_type": "execute_result"
    }
   ],
   "source": [
    "features = crime[['Population', 'Murder?', 'Robbery?', 'Violent\\ncrime', 'Property\\ncrime']].dropna()\n",
    "features.head()"
   ]
  },
  {
   "cell_type": "code",
   "execution_count": 15,
   "metadata": {},
   "outputs": [
    {
     "name": "stdout",
     "output_type": "stream",
     "text": [
      "The coefficients are: [ 1.15647206e-02 -5.86556491e+00  1.00927757e+02  2.99806687e+00] .\n",
      "The intercept is: -12.010327784847163 .\n",
      "The R-squared is: 0.9283335755221495 .\n"
     ]
    }
   ],
   "source": [
    "# Building\n",
    "regression = linear_model.LinearRegression()\n",
    "Y = features['Property\\ncrime']\n",
    "X = features[['Population', 'Murder?', 'Robbery?', 'Violent\\ncrime']]\n",
    "\n",
    "# Fitting\n",
    "regression.fit(X, Y)\n",
    "\n",
    "# Calculations\n",
    "print('The coefficients are:', regression.coef_, '.')\n",
    "print('The intercept is:', regression.intercept_, '.')\n",
    "print('The R-squared is:', regression.score(X, Y), '.')"
   ]
  },
  {
   "cell_type": "code",
   "execution_count": 16,
   "metadata": {},
   "outputs": [
    {
     "data": {
      "image/png": "[encoded data removed]",
      "text/plain": [
       "<Figure size 432x288 with 1 Axes>"
      ]
     },
     "metadata": {
      "needs_background": "light"
     },
     "output_type": "display_data"
    }
   ],
   "source": [
    "predicted = regression.predict(X).ravel()\n",
    "actual = features['Property\\ncrime']\n",
    "\n",
    "residual = actual - predicted\n",
    "\n",
    "plt.hist(residual)\n",
    "plt.xlabel('Residual')\n",
    "plt.ylabel('Count')\n",
    "plt.title('Residual vs. Count')\n",
    "plt.show()"
   ]
  },
  {
   "cell_type": "code",
   "execution_count": 17,
   "metadata": {},
   "outputs": [
    {
     "data": {
      "image/png": "[encoded data removed]",
      "text/plain": [
       "<Figure size 432x288 with 1 Axes>"
      ]
     },
     "metadata": {
      "needs_background": "light"
     },
     "output_type": "display_data"
    }
   ],
   "source": [
    "#Now, I'm showing how homoscedasicity works.\n",
    "plt.scatter(predicted, residual)\n",
    "plt.xlabel('Predicted')\n",
    "plt.ylabel('Residual')\n",
    "plt.axhline(y=0)\n",
    "plt.title('The Residual vs. Predicted Values')\n",
    "plt.show()"
   ]
  },
  {
   "cell_type": "code",
   "execution_count": 18,
   "metadata": {},
   "outputs": [
    {
     "data": {
      "text/html": [
       "<div>\n",
       "<style scoped>\n",
       "    .dataframe tbody tr th:only-of-type {\n",
       "        vertical-align: middle;\n",
       "    }\n",
       "\n",
       "    .dataframe tbody tr th {\n",
       "        vertical-align: top;\n",
       "    }\n",
       "\n",
       "    .dataframe thead th {\n",
       "        text-align: right;\n",
       "    }\n",
       "</style>\n",
       "<table border=\"1\" class=\"dataframe\">\n",
       "  <thead>\n",
       "    <tr style=\"text-align: right;\">\n",
       "      <th></th>\n",
       "      <th>Population</th>\n",
       "      <th>Murder?</th>\n",
       "      <th>Robbery?</th>\n",
       "      <th>Violent\n",
       "crime</th>\n",
       "    </tr>\n",
       "  </thead>\n",
       "  <tbody>\n",
       "    <tr>\n",
       "      <th>Population</th>\n",
       "      <td>1.000</td>\n",
       "      <td>0.503</td>\n",
       "      <td>0.344</td>\n",
       "      <td>0.829</td>\n",
       "    </tr>\n",
       "    <tr>\n",
       "      <th>Murder?</th>\n",
       "      <td>0.503</td>\n",
       "      <td>1.000</td>\n",
       "      <td>0.311</td>\n",
       "      <td>0.406</td>\n",
       "    </tr>\n",
       "    <tr>\n",
       "      <th>Robbery?</th>\n",
       "      <td>0.344</td>\n",
       "      <td>0.311</td>\n",
       "      <td>1.000</td>\n",
       "      <td>0.168</td>\n",
       "    </tr>\n",
       "    <tr>\n",
       "      <th>Violent\\ncrime</th>\n",
       "      <td>0.829</td>\n",
       "      <td>0.406</td>\n",
       "      <td>0.168</td>\n",
       "      <td>1.000</td>\n",
       "    </tr>\n",
       "  </tbody>\n",
       "</table>\n",
       "</div>"
      ],
      "text/plain": [
       "                Population  Murder?  Robbery?  Violent\\ncrime\n",
       "Population           1.000    0.503     0.344           0.829\n",
       "Murder?              0.503    1.000     0.311           0.406\n",
       "Robbery?             0.344    0.311     1.000           0.168\n",
       "Violent\\ncrime       0.829    0.406     0.168           1.000"
      ]
     },
     "metadata": {},
     "output_type": "display_data"
    },
    {
     "data": {
      "text/plain": [
       "<matplotlib.axes._subplots.AxesSubplot at 0x1e12e230>"
      ]
     },
     "execution_count": 18,
     "metadata": {},
     "output_type": "execute_result"
    },
    {
     "data": {
      "image/png": "[encoded data removed]",
      "text/plain": [
       "<Figure size 432x288 with 2 Axes>"
      ]
     },
     "metadata": {
      "needs_background": "light"
     },
     "output_type": "display_data"
    }
   ],
   "source": [
    "#These are the correlations for the x variables\n",
    "correlation_matrix = X.corr()\n",
    "display(correlation_matrix)\n",
    "sns.heatmap(crime.corr())"
   ]
  },
  {
   "cell_type": "code",
   "execution_count": 19,
   "metadata": {},
   "outputs": [
    {
     "data": {
      "text/plain": [
       "0     12.000\n",
       "1     24.000\n",
       "2     16.000\n",
       "3   4090.000\n",
       "4    223.000\n",
       "Name: Property\\ncrime, dtype: float64"
      ]
     },
     "execution_count": 19,
     "metadata": {},
     "output_type": "execute_result"
    }
   ],
   "source": [
    "#Now I will be using PCA concepts#\n",
    "Y_target = Y\n",
    "Y_target.head()"
   ]
  },
  {
   "cell_type": "code",
   "execution_count": 20,
   "metadata": {},
   "outputs": [
    {
     "data": {
      "text/html": [
       "<div>\n",
       "<style scoped>\n",
       "    .dataframe tbody tr th:only-of-type {\n",
       "        vertical-align: middle;\n",
       "    }\n",
       "\n",
       "    .dataframe tbody tr th {\n",
       "        vertical-align: top;\n",
       "    }\n",
       "\n",
       "    .dataframe thead th {\n",
       "        text-align: right;\n",
       "    }\n",
       "</style>\n",
       "<table border=\"1\" class=\"dataframe\">\n",
       "  <thead>\n",
       "    <tr style=\"text-align: right;\">\n",
       "      <th></th>\n",
       "      <th>Population</th>\n",
       "      <th>Murder?</th>\n",
       "      <th>Robbery?</th>\n",
       "      <th>Violent\n",
       "crime</th>\n",
       "    </tr>\n",
       "  </thead>\n",
       "  <tbody>\n",
       "    <tr>\n",
       "      <th>0</th>\n",
       "      <td>1861.000</td>\n",
       "      <td>0</td>\n",
       "      <td>0</td>\n",
       "      <td>0.000</td>\n",
       "    </tr>\n",
       "    <tr>\n",
       "      <th>1</th>\n",
       "      <td>2577.000</td>\n",
       "      <td>0</td>\n",
       "      <td>0</td>\n",
       "      <td>3.000</td>\n",
       "    </tr>\n",
       "    <tr>\n",
       "      <th>2</th>\n",
       "      <td>2846.000</td>\n",
       "      <td>0</td>\n",
       "      <td>0</td>\n",
       "      <td>3.000</td>\n",
       "    </tr>\n",
       "    <tr>\n",
       "      <th>3</th>\n",
       "      <td>97956.000</td>\n",
       "      <td>1</td>\n",
       "      <td>1</td>\n",
       "      <td>791.000</td>\n",
       "    </tr>\n",
       "    <tr>\n",
       "      <th>4</th>\n",
       "      <td>6388.000</td>\n",
       "      <td>0</td>\n",
       "      <td>1</td>\n",
       "      <td>23.000</td>\n",
       "    </tr>\n",
       "  </tbody>\n",
       "</table>\n",
       "</div>"
      ],
      "text/plain": [
       "   Population  Murder?  Robbery?  Violent\\ncrime\n",
       "0    1861.000        0         0           0.000\n",
       "1    2577.000        0         0           3.000\n",
       "2    2846.000        0         0           3.000\n",
       "3   97956.000        1         1         791.000\n",
       "4    6388.000        0         1          23.000"
      ]
     },
     "execution_count": 20,
     "metadata": {},
     "output_type": "execute_result"
    }
   ],
   "source": [
    "#Now I will be using PCA concepts#\n",
    "X_data = X\n",
    "X_data.head()"
   ]
  },
  {
   "cell_type": "code",
   "execution_count": 21,
   "metadata": {},
   "outputs": [
    {
     "name": "stderr",
     "output_type": "stream",
     "text": [
      "c:\\users\\ben\\appdata\\local\\programs\\python\\python37-32\\lib\\site-packages\\sklearn\\preprocessing\\data.py:617: DataConversionWarning: Data with input dtype int32, float64 were all converted to float64 by StandardScaler.\n",
      "  return self.partial_fit(X, y)\n",
      "c:\\users\\ben\\appdata\\local\\programs\\python\\python37-32\\lib\\site-packages\\ipykernel_launcher.py:8: DataConversionWarning: Data with input dtype int32, float64 were all converted to float64 by StandardScaler.\n",
      "  \n",
      "c:\\users\\ben\\appdata\\local\\programs\\python\\python37-32\\lib\\site-packages\\ipykernel_launcher.py:9: DataConversionWarning: Data with input dtype int32, float64 were all converted to float64 by StandardScaler.\n",
      "  if __name__ == '__main__':\n"
     ]
    }
   ],
   "source": [
    "train_crime, test_crime, train_target, test_target = train_test_split(\n",
    "    X_data, Y_target, test_size=0.20, random_state=0)\n",
    "\n",
    "scaler = StandardScaler()\n",
    "\n",
    "scaler.fit(train_crime)\n",
    "\n",
    "train_crime = scaler.transform(train_crime)\n",
    "test_crime = scaler.transform(test_crime)"
   ]
  },
  {
   "cell_type": "code",
   "execution_count": 22,
   "metadata": {},
   "outputs": [
    {
     "data": {
      "text/plain": [
       "PCA(copy=True, iterated_power='auto', n_components=3, random_state=None,\n",
       "  svd_solver='auto', tol=0.0, whiten=False)"
      ]
     },
     "execution_count": 22,
     "metadata": {},
     "output_type": "execute_result"
    }
   ],
   "source": [
    "pca = PCA(n_components=3)\n",
    "pca.fit(train_crime)"
   ]
  },
  {
   "cell_type": "code",
   "execution_count": 23,
   "metadata": {},
   "outputs": [
    {
     "data": {
      "text/plain": [
       "LinearRegression(copy_X=True, fit_intercept=True, n_jobs=None,\n",
       "         normalize=False)"
      ]
     },
     "execution_count": 23,
     "metadata": {},
     "output_type": "execute_result"
    }
   ],
   "source": [
    "regression = linear_model.LinearRegression()\n",
    "regression.fit(train_crime, train_target)"
   ]
  },
  {
   "cell_type": "code",
   "execution_count": 24,
   "metadata": {},
   "outputs": [
    {
     "name": "stdout",
     "output_type": "stream",
     "text": [
      "The coefficients are: [257.54048852   5.18962147  59.32978594 668.60494927] .\n",
      "The intercept is: 371.72563176895306 .\n",
      "The R-squared is: 0.9091952317192017 .\n"
     ]
    }
   ],
   "source": [
    "print('The coefficients are:', regression.coef_, '.')\n",
    "print('The intercept is:', regression.intercept_, '.')\n",
    "print('The R-squared is:', regression.score(train_crime, train_target), '.')"
   ]
  },
  {
   "cell_type": "code",
   "execution_count": 25,
   "metadata": {},
   "outputs": [
    {
     "name": "stdout",
     "output_type": "stream",
     "text": [
      "[0.98892737 0.54189431 0.75686177 0.9896933  0.97300494]\n"
     ]
    }
   ],
   "source": [
    "#Measuring Performance to see how accurate the model is.\n",
    "cross = cross_val_score(regression, test_crime, test_target, cv=5)\n",
    "print(cross)"
   ]
  },
  {
   "cell_type": "code",
   "execution_count": 27,
   "metadata": {},
   "outputs": [
    {
     "name": "stdout",
     "output_type": "stream",
     "text": [
      "The accuracy for the model is: 0.8501 (+/- 0.3550)\n"
     ]
    }
   ],
   "source": [
    "print(\"The accuracy for the model is: %0.4f (+/- %0.4f)\" % (cross.mean(), cross.std() * 2))"
   ]
  },
  {
   "cell_type": "code",
   "execution_count": null,
   "metadata": {},
   "outputs": [],
   "source": []
  }
 ],
 "metadata": {
  "kernelspec": {
   "display_name": "Python 3",
   "language": "python",
   "name": "python3"
  },
  "language_info": {
   "codemirror_mode": {
    "name": "ipython",
    "version": 3
   },
   "file_extension": ".py",
   "mimetype": "text/x-python",
   "name": "python",
   "nbconvert_exporter": "python",
   "pygments_lexer": "ipython3",
   "version": "3.7.0"
  }
 },
 "nbformat": 4,
 "nbformat_minor": 2
}
