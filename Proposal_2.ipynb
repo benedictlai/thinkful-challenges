{
  "nbformat": 4,
  "nbformat_minor": 0,
  "metadata": {
    "colab": {
      "name": "Proposal - 2.ipynb",
      "provenance": [],
      "collapsed_sections": [],
      "include_colab_link": true
    },
    "kernelspec": {
      "name": "python3",
      "display_name": "Python 3"
    }
  },
  "cells": [
    {
      "cell_type": "markdown",
      "metadata": {
        "id": "view-in-github",
        "colab_type": "text"
      },
      "source": [
        "<a href=\"https://colab.research.google.com/github/benedictlai/thinkful-challenges/blob/master/Proposal_2.ipynb\" target=\"_parent\"><img src=\"https://colab.research.google.com/assets/colab-badge.svg\" alt=\"Open In Colab\"/></a>"
      ]
    },
    {
      "cell_type": "code",
      "metadata": {
        "id": "czWW43eR1ZFJ",
        "colab_type": "code",
        "colab": {}
      },
      "source": [
        ""
      ],
      "execution_count": 0,
      "outputs": []
    },
    {
      "cell_type": "markdown",
      "metadata": {
        "id": "dpy8fHEK1ajW",
        "colab_type": "text"
      },
      "source": [
        "What is the problem you are attempting to solve?\n",
        "- I am attempting to solve customer trends with Telco Company. For example, I want to solve if a customer is going to churn (stop being a customer) based on how much they pay overall for their services,  how long they've been a customer, and whether they are a senior citizen. \n",
        "\n",
        "How is your solution valuable?\n",
        "- My solution is valuable because it will help determine if older customers are more likely to churn, pay bills electronically or the old school way, and analyze customer behavior. (What are you trying to solve?) For example, I'm trying to find the pattern usage of online paying and whether it affects customer retention.\n",
        "\n",
        "What is your data source and how will you access it?\n",
        "- The data source is from https://www.kaggle.com/blastchar/telco-customer-churn. I will not be using the whole dataset because of some of the null values (some of the total charges are blank) that may affect it.\n",
        "\n",
        "What techniques from the course do you anticipate using?\n",
        "- I anticipate using Logistic Regression, Gradient Boosting & Random Forest Classifier, Support Vector Machine, Feature Importances.\n",
        "\n",
        "What do you anticipate to be the biggest challenge you’ll face?\n",
        "- Getting the best accuracy rate on churn, cleaning messy data, handling the class imbalance are the biggest hurdles I'll face."
      ]
    }
  ]
}