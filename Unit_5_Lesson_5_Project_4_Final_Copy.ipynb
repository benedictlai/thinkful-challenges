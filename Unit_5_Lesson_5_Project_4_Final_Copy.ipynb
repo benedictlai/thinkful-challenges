{
  "nbformat": 4,
  "nbformat_minor": 0,
  "metadata": {
    "colab": {
      "name": "Unit 5 Lesson 5 Project 4 - Final Copy.ipynb",
      "version": "0.3.2",
      "provenance": [],
      "collapsed_sections": [],
      "include_colab_link": true
    },
    "kernelspec": {
      "name": "python3",
      "display_name": "Python 3"
    }
  },
  "cells": [
    {
      "cell_type": "markdown",
      "metadata": {
        "id": "view-in-github",
        "colab_type": "text"
      },
      "source": [
        "<a href=\"https://colab.research.google.com/github/benedictlai/thinkful-challenges/blob/master/Unit_5_Lesson_5_Project_4_Final_Copy.ipynb\" target=\"_parent\"><img src=\"https://colab.research.google.com/assets/colab-badge.svg\" alt=\"Open In Colab\"/></a>"
      ]
    },
    {
      "cell_type": "code",
      "metadata": {
        "id": "dHDq5Pz9DPBj",
        "colab_type": "code",
        "colab": {}
      },
      "source": [
        "import pandas as pd\n",
        "import numpy as np\n",
        "import matplotlib.pyplot as plt\n",
        "import seaborn as sns\n",
        "%matplotlib inline\n",
        "from scipy.stats import f_oneway, kruskal, shapiro, ttest_ind, ttest_rel, wilcoxon\n",
        "from statsmodels.stats.multicomp import pairwise_tukeyhsd"
      ],
      "execution_count": 0,
      "outputs": []
    },
    {
      "cell_type": "code",
      "metadata": {
        "id": "zlDANaxWDlXf",
        "colab_type": "code",
        "outputId": "720843e4-e7de-42d6-825a-653190cdac78",
        "colab": {
          "base_uri": "https://localhost:8080/",
          "height": 197
        }
      },
      "source": [
        "raw = pd.read_csv(\"https://raw.githubusercontent.com/Thinkful-Ed/data-201-resources/master/ESS_practice_data/ESSdata_Thinkful.csv\")\n",
        "raw.head()"
      ],
      "execution_count": 2,
      "outputs": [
        {
          "output_type": "execute_result",
          "data": {
            "text/html": [
              "<div>\n",
              "<style scoped>\n",
              "    .dataframe tbody tr th:only-of-type {\n",
              "        vertical-align: middle;\n",
              "    }\n",
              "\n",
              "    .dataframe tbody tr th {\n",
              "        vertical-align: top;\n",
              "    }\n",
              "\n",
              "    .dataframe thead th {\n",
              "        text-align: right;\n",
              "    }\n",
              "</style>\n",
              "<table border=\"1\" class=\"dataframe\">\n",
              "  <thead>\n",
              "    <tr style=\"text-align: right;\">\n",
              "      <th></th>\n",
              "      <th>cntry</th>\n",
              "      <th>idno</th>\n",
              "      <th>year</th>\n",
              "      <th>tvtot</th>\n",
              "      <th>ppltrst</th>\n",
              "      <th>pplfair</th>\n",
              "      <th>pplhlp</th>\n",
              "      <th>happy</th>\n",
              "      <th>sclmeet</th>\n",
              "      <th>sclact</th>\n",
              "      <th>gndr</th>\n",
              "      <th>agea</th>\n",
              "      <th>partner</th>\n",
              "    </tr>\n",
              "  </thead>\n",
              "  <tbody>\n",
              "    <tr>\n",
              "      <th>0</th>\n",
              "      <td>CH</td>\n",
              "      <td>5.0</td>\n",
              "      <td>6</td>\n",
              "      <td>3.0</td>\n",
              "      <td>3.0</td>\n",
              "      <td>10.0</td>\n",
              "      <td>5.0</td>\n",
              "      <td>8.0</td>\n",
              "      <td>5.0</td>\n",
              "      <td>4.0</td>\n",
              "      <td>2.0</td>\n",
              "      <td>60.0</td>\n",
              "      <td>1.0</td>\n",
              "    </tr>\n",
              "    <tr>\n",
              "      <th>1</th>\n",
              "      <td>CH</td>\n",
              "      <td>25.0</td>\n",
              "      <td>6</td>\n",
              "      <td>6.0</td>\n",
              "      <td>5.0</td>\n",
              "      <td>7.0</td>\n",
              "      <td>5.0</td>\n",
              "      <td>9.0</td>\n",
              "      <td>3.0</td>\n",
              "      <td>2.0</td>\n",
              "      <td>2.0</td>\n",
              "      <td>59.0</td>\n",
              "      <td>1.0</td>\n",
              "    </tr>\n",
              "    <tr>\n",
              "      <th>2</th>\n",
              "      <td>CH</td>\n",
              "      <td>26.0</td>\n",
              "      <td>6</td>\n",
              "      <td>1.0</td>\n",
              "      <td>8.0</td>\n",
              "      <td>8.0</td>\n",
              "      <td>8.0</td>\n",
              "      <td>7.0</td>\n",
              "      <td>6.0</td>\n",
              "      <td>3.0</td>\n",
              "      <td>1.0</td>\n",
              "      <td>24.0</td>\n",
              "      <td>2.0</td>\n",
              "    </tr>\n",
              "    <tr>\n",
              "      <th>3</th>\n",
              "      <td>CH</td>\n",
              "      <td>28.0</td>\n",
              "      <td>6</td>\n",
              "      <td>4.0</td>\n",
              "      <td>6.0</td>\n",
              "      <td>6.0</td>\n",
              "      <td>7.0</td>\n",
              "      <td>10.0</td>\n",
              "      <td>6.0</td>\n",
              "      <td>2.0</td>\n",
              "      <td>2.0</td>\n",
              "      <td>64.0</td>\n",
              "      <td>1.0</td>\n",
              "    </tr>\n",
              "    <tr>\n",
              "      <th>4</th>\n",
              "      <td>CH</td>\n",
              "      <td>29.0</td>\n",
              "      <td>6</td>\n",
              "      <td>5.0</td>\n",
              "      <td>6.0</td>\n",
              "      <td>7.0</td>\n",
              "      <td>5.0</td>\n",
              "      <td>8.0</td>\n",
              "      <td>7.0</td>\n",
              "      <td>2.0</td>\n",
              "      <td>2.0</td>\n",
              "      <td>55.0</td>\n",
              "      <td>1.0</td>\n",
              "    </tr>\n",
              "  </tbody>\n",
              "</table>\n",
              "</div>"
            ],
            "text/plain": [
              "  cntry  idno  year  tvtot  ppltrst  ...  sclmeet  sclact  gndr  agea  partner\n",
              "0    CH   5.0     6    3.0      3.0  ...      5.0     4.0   2.0  60.0      1.0\n",
              "1    CH  25.0     6    6.0      5.0  ...      3.0     2.0   2.0  59.0      1.0\n",
              "2    CH  26.0     6    1.0      8.0  ...      6.0     3.0   1.0  24.0      2.0\n",
              "3    CH  28.0     6    4.0      6.0  ...      6.0     2.0   2.0  64.0      1.0\n",
              "4    CH  29.0     6    5.0      6.0  ...      7.0     2.0   2.0  55.0      1.0\n",
              "\n",
              "[5 rows x 13 columns]"
            ]
          },
          "metadata": {
            "tags": []
          },
          "execution_count": 2
        }
      ]
    },
    {
      "cell_type": "code",
      "metadata": {
        "id": "f9CHEypILm_d",
        "colab_type": "code",
        "outputId": "920a97da-12f9-40c7-b9de-5655010f5930",
        "colab": {
          "base_uri": "https://localhost:8080/",
          "height": 34
        }
      },
      "source": [
        "raw.shape"
      ],
      "execution_count": 3,
      "outputs": [
        {
          "output_type": "execute_result",
          "data": {
            "text/plain": [
              "(8594, 13)"
            ]
          },
          "metadata": {
            "tags": []
          },
          "execution_count": 3
        }
      ]
    },
    {
      "cell_type": "code",
      "metadata": {
        "id": "L_Civ_kvNBDT",
        "colab_type": "code",
        "colab": {}
      },
      "source": [
        "data = raw.dropna()"
      ],
      "execution_count": 0,
      "outputs": []
    },
    {
      "cell_type": "code",
      "metadata": {
        "id": "5l65g10WNBLJ",
        "colab_type": "code",
        "outputId": "c884bf33-bcce-4938-9aaa-94cee0b96d39",
        "colab": {
          "base_uri": "https://localhost:8080/",
          "height": 34
        }
      },
      "source": [
        "data.shape"
      ],
      "execution_count": 5,
      "outputs": [
        {
          "output_type": "execute_result",
          "data": {
            "text/plain": [
              "(8147, 13)"
            ]
          },
          "metadata": {
            "tags": []
          },
          "execution_count": 5
        }
      ]
    },
    {
      "cell_type": "code",
      "metadata": {
        "id": "ohLDD5yMDljF",
        "colab_type": "code",
        "outputId": "e23b4dbb-4b15-4438-f5e1-a3c635d7b163",
        "colab": {
          "base_uri": "https://localhost:8080/",
          "height": 796
        }
      },
      "source": [
        "g = sns.FacetGrid(raw, row='year', col='cntry', palette='pastel', dropna=True, sharey=False)\n",
        "g = g.map(plt.hist, 'ppltrst', alpha=0.8)\n",
        "print('\\t\\t\\t\\t\\tDistribution of Trust')\n",
        "plt.show()\n",
        "\n",
        "cntrys = list(raw.cntry.unique())\n",
        "years = [6,7]\n",
        "print('Shapiro Tests')\n",
        "for cnt in cntrys:\n",
        "    temp = raw[raw.cntry ==cnt].dropna()\n",
        "    for year in years:\n",
        "        print(cnt, year, shapiro(temp[temp.year ==year].ppltrst))\n",
        "    print()"
      ],
      "execution_count": 6,
      "outputs": [
        {
          "output_type": "stream",
          "text": [
            "\t\t\t\t\tDistribution of Trust\n"
          ],
          "name": "stdout"
        },
        {
          "output_type": "display_data",
          "data": {
            "image/png": "[encoded data removed]",
            "text/plain": [
              "<Figure size 1296x432 with 12 Axes>"
            ]
          },
          "metadata": {
            "tags": []
          }
        },
        {
          "output_type": "stream",
          "text": [
            "Shapiro Tests\n",
            "CH 6 (0.9517108201980591, 9.511383786695374e-15)\n",
            "CH 7 (0.9547930955886841, 2.4654701498145852e-14)\n",
            "\n",
            "CZ 6 (0.9680074453353882, 3.6126571179018185e-10)\n",
            "CZ 7 (0.9715775847434998, 1.8777941424019673e-09)\n",
            "\n",
            "DE 6 (0.8929166197776794, 0.10693283379077911)\n",
            "DE 7 (0.9425466060638428, 0.4519253373146057)\n",
            "\n",
            "ES 6 (0.949491024017334, 1.6942651933374377e-19)\n",
            "ES 7 (0.9663601517677307, 1.5275811452092943e-15)\n",
            "\n",
            "NO 6 (0.9211018085479736, 8.881221102071063e-19)\n",
            "NO 7 (0.9292040467262268, 7.928973676032161e-18)\n",
            "\n",
            "SE 6 (0.9367397427558899, 1.2586250953636158e-18)\n",
            "SE 7 (0.9376322627067566, 1.3852298444033788e-18)\n",
            "\n"
          ],
          "name": "stdout"
        }
      ]
    },
    {
      "cell_type": "code",
      "metadata": {
        "id": "8rTVYeYgJJn8",
        "colab_type": "code",
        "outputId": "b5ec1858-b47b-4acd-d292-3d19ba18a99f",
        "colab": {
          "base_uri": "https://localhost:8080/",
          "height": 247
        }
      },
      "source": [
        "print('Wilcoxon Reults are below:')\n",
        "for cnt in cntrys:\n",
        "    \n",
        "    pdtemp = raw[raw.cntry ==cnt]\n",
        "    \n",
        "    print(cnt, wilcoxon(pdtemp[pdtemp.year == 6].happy, y=pdtemp[pdtemp.year == 7].happy))\n",
        "    print()"
      ],
      "execution_count": 38,
      "outputs": [
        {
          "output_type": "stream",
          "text": [
            "Wilcoxon Reults are below:\n",
            "CZ WilcoxonResult(statistic=73213.0, pvalue=0.01064243454053068)\n",
            "\n",
            "DE WilcoxonResult(statistic=23.5, pvalue=0.393351316918508)\n",
            "\n",
            "ES WilcoxonResult(statistic=231958.5, pvalue=0.04923868084306013)\n",
            "\n",
            "NO WilcoxonResult(statistic=67571.5, pvalue=2.7264367804254175e-06)\n",
            "\n"
          ],
          "name": "stdout"
        },
        {
          "output_type": "stream",
          "text": [
            "/usr/local/lib/python3.6/dist-packages/scipy/stats/morestats.py:2866: RuntimeWarning: invalid value encountered in greater\n",
            "  r_plus = np.sum((d > 0) * r, axis=0)\n",
            "/usr/local/lib/python3.6/dist-packages/scipy/stats/morestats.py:2867: RuntimeWarning: invalid value encountered in less\n",
            "  r_minus = np.sum((d < 0) * r, axis=0)\n"
          ],
          "name": "stderr"
        }
      ]
    },
    {
      "cell_type": "code",
      "metadata": {
        "id": "W7XVA3LTN4UH",
        "colab_type": "code",
        "outputId": "c1552439-c61c-481f-d607-fe28aac55ea7",
        "colab": {
          "base_uri": "https://localhost:8080/",
          "height": 796
        }
      },
      "source": [
        "g = sns.FacetGrid(raw, row='year', col='cntry', dropna=True, sharey=False)\n",
        "g = g.map(plt.hist, 'happy', alpha=0.8, color='purple')\n",
        "\n",
        "print('\\tHappiness from 2012-2014 for Six European Countries')\n",
        "plt.show()\n",
        "\n",
        "cntrys = list(data.cntry.unique())\n",
        "years = [6,7]\n",
        "print('Shapiro Tests')\n",
        "for cnt in cntrys:\n",
        "    temp = data[data.cntry ==cnt]\n",
        "    for year in years:\n",
        "        print(cnt, year, shapiro(temp[temp.year ==year].happy))\n",
        "    print()"
      ],
      "execution_count": 8,
      "outputs": [
        {
          "output_type": "stream",
          "text": [
            "\tHappiness from 2012-2014 for Six European Countries\n"
          ],
          "name": "stdout"
        },
        {
          "output_type": "display_data",
          "data": {
            "image/png": "[encoded data removed]",
            "text/plain": [
              "<Figure size 1296x432 with 12 Axes>"
            ]
          },
          "metadata": {
            "tags": []
          }
        },
        {
          "output_type": "stream",
          "text": [
            "Shapiro Tests\n",
            "CH 6 (0.8773602843284607, 1.4611401593361174e-23)\n",
            "CH 7 (0.8950787782669067, 4.273768685964887e-22)\n",
            "\n",
            "CZ 6 (0.9462587833404541, 5.939277796787254e-14)\n",
            "CZ 7 (0.9448645710945129, 3.1643033327052525e-14)\n",
            "\n",
            "DE 6 (0.9160983562469482, 0.22210942208766937)\n",
            "DE 7 (0.9213663339614868, 0.23006466031074524)\n",
            "\n",
            "ES 6 (0.9052610397338867, 3.4151276945678624e-26)\n",
            "ES 7 (0.9136462211608887, 6.898763644671094e-25)\n",
            "\n",
            "NO 6 (0.8498518466949463, 2.291937245544563e-25)\n",
            "NO 7 (0.8795287609100342, 4.6808705797415216e-23)\n",
            "\n",
            "SE 6 (0.9025380611419678, 5.918160728712866e-23)\n",
            "SE 7 (0.912103533744812, 5.600742285549146e-22)\n",
            "\n"
          ],
          "name": "stdout"
        }
      ]
    },
    {
      "cell_type": "code",
      "metadata": {
        "id": "EDqrGx4zN4eV",
        "colab_type": "code",
        "outputId": "f7a34048-2c95-4032-f5b1-4693fbce557b",
        "colab": {
          "base_uri": "https://localhost:8080/",
          "height": 318
        }
      },
      "source": [
        "print('Wilcoxon')\n",
        "for cnt in cntrys:\n",
        "    temp = raw[raw.cntry ==cnt]\n",
        "    print(cnt, wilcoxon(temp[temp.year == 6].happy, y=temp[temp.year == 7].happy))\n",
        "    print()\n"
      ],
      "execution_count": 9,
      "outputs": [
        {
          "output_type": "stream",
          "text": [
            "Wilcoxon\n",
            "CH WilcoxonResult(statistic=92816.5, pvalue=0.8208688161425343)\n",
            "\n",
            "CZ WilcoxonResult(statistic=73213.0, pvalue=0.01064243454053068)\n",
            "\n",
            "DE WilcoxonResult(statistic=23.5, pvalue=0.393351316918508)\n",
            "\n",
            "ES WilcoxonResult(statistic=231958.5, pvalue=0.04923868084306013)\n",
            "\n",
            "NO WilcoxonResult(statistic=67571.5, pvalue=2.7264367804254175e-06)\n",
            "\n",
            "SE WilcoxonResult(statistic=125481.0, pvalue=0.5136403441005022)\n",
            "\n"
          ],
          "name": "stdout"
        },
        {
          "output_type": "stream",
          "text": [
            "/usr/local/lib/python3.6/dist-packages/scipy/stats/morestats.py:2866: RuntimeWarning: invalid value encountered in greater\n",
            "  r_plus = np.sum((d > 0) * r, axis=0)\n",
            "/usr/local/lib/python3.6/dist-packages/scipy/stats/morestats.py:2867: RuntimeWarning: invalid value encountered in less\n",
            "  r_minus = np.sum((d < 0) * r, axis=0)\n"
          ],
          "name": "stderr"
        }
      ]
    },
    {
      "cell_type": "code",
      "metadata": {
        "id": "Iwp0zyEqN4m5",
        "colab_type": "code",
        "colab": {}
      },
      "source": [
        ""
      ],
      "execution_count": 0,
      "outputs": []
    },
    {
      "cell_type": "code",
      "metadata": {
        "id": "l86ghxGtN4wF",
        "colab_type": "code",
        "colab": {}
      },
      "source": [
        "data2012 = raw[raw.year==6]"
      ],
      "execution_count": 0,
      "outputs": []
    },
    {
      "cell_type": "code",
      "metadata": {
        "id": "Iw3tP1u6N46P",
        "colab_type": "code",
        "outputId": "64815cd4-2cd3-4384-b35a-7706fba9ae12",
        "colab": {
          "base_uri": "https://localhost:8080/",
          "height": 70
        }
      },
      "source": [
        "data2012['gndr'].value_counts()"
      ],
      "execution_count": 11,
      "outputs": [
        {
          "output_type": "execute_result",
          "data": {
            "text/plain": [
              "1.0    2154\n",
              "2.0    2143\n",
              "Name: gndr, dtype: int64"
            ]
          },
          "metadata": {
            "tags": []
          },
          "execution_count": 11
        }
      ]
    },
    {
      "cell_type": "code",
      "metadata": {
        "id": "Ho6NXeazN5Cr",
        "colab_type": "code",
        "outputId": "5895d72d-e15a-4051-e868-f6ea417a8672",
        "colab": {
          "base_uri": "https://localhost:8080/",
          "height": 277
        }
      },
      "source": [
        "g = sns.FacetGrid(data2012, col='gndr', dropna=True, sharey=True)\n",
        "g = g.map(plt.hist, 'tvtot', alpha=0.8, color='teal', bins=8)\n",
        "\n",
        "print('\\t\\tTV Watching in 2012 about Men vs. Women')\n",
        "plt.show()\n",
        "\n",
        "print('Males = 1.0:', shapiro(data2012[data2012.gndr ==1].tvtot.dropna()))\n",
        "print('Females = 2.0:', shapiro(data2012[data2012.gndr ==2].tvtot.dropna()))"
      ],
      "execution_count": 12,
      "outputs": [
        {
          "output_type": "stream",
          "text": [
            "\t\tTV Watching in 2012 about Men vs. Women\n"
          ],
          "name": "stdout"
        },
        {
          "output_type": "display_data",
          "data": {
            "image/png": "[encoded data removed]",
            "text/plain": [
              "<Figure size 432x216 with 2 Axes>"
            ]
          },
          "metadata": {
            "tags": []
          }
        },
        {
          "output_type": "stream",
          "text": [
            "Males = 1.0: (0.9434293508529663, 5.994494507539187e-28)\n",
            "Females = 2.0: (0.9390434622764587, 8.488309331265169e-29)\n"
          ],
          "name": "stdout"
        }
      ]
    },
    {
      "cell_type": "code",
      "metadata": {
        "id": "L02crK8_N5Le",
        "colab_type": "code",
        "outputId": "e8190431-dc37-4cbc-bf52-e10041109ade",
        "colab": {
          "base_uri": "https://localhost:8080/",
          "height": 34
        }
      },
      "source": [
        "print('Wilcoxon Test results are:', wilcoxon(data2012[data2012.gndr == 1].tvtot.dropna()[:2140], \n",
        "                                 y=data2012[data2012.gndr == 2].tvtot.dropna()))"
      ],
      "execution_count": 13,
      "outputs": [
        {
          "output_type": "stream",
          "text": [
            "Wilcoxon Test results are: WilcoxonResult(statistic=782530.0, pvalue=0.5033507782372963)\n"
          ],
          "name": "stdout"
        }
      ]
    },
    {
      "cell_type": "code",
      "metadata": {
        "id": "uT3uQK6TN5UD",
        "colab_type": "code",
        "colab": {}
      },
      "source": [
        ""
      ],
      "execution_count": 0,
      "outputs": []
    },
    {
      "cell_type": "code",
      "metadata": {
        "id": "a0W3X6lcN5pP",
        "colab_type": "code",
        "outputId": "cd7b0474-60ad-43cc-fe2a-ff269cf89690",
        "colab": {
          "base_uri": "https://localhost:8080/",
          "height": 331
        }
      },
      "source": [
        "\n",
        "g = sns.FacetGrid(data2012, col='partner', dropna=True, sharey=True)\n",
        "g = g.map(plt.hist, 'pplfair', alpha=0.8, color='teal', bins=8, normed=True)\n",
        "\n",
        "print('\\t\\tFairness for People who Live with Partner vs. without a Partner (2012)')\n",
        "plt.show()\n",
        "\n",
        "print('Lives with Partner = 1.0:', shapiro(data2012[data2012.partner ==1].tvtot.dropna()))\n",
        "print('Lives Alone = 2.0:', shapiro(data2012[data2012.partner ==2].tvtot.dropna()))"
      ],
      "execution_count": 14,
      "outputs": [
        {
          "output_type": "stream",
          "text": [
            "/usr/local/lib/python3.6/dist-packages/matplotlib/axes/_axes.py:6521: MatplotlibDeprecationWarning: \n",
            "The 'normed' kwarg was deprecated in Matplotlib 2.1 and will be removed in 3.1. Use 'density' instead.\n",
            "  alternative=\"'density'\", removal=\"3.1\")\n"
          ],
          "name": "stderr"
        },
        {
          "output_type": "stream",
          "text": [
            "\t\tFairness for People who Live with Partner vs. without a Partner (2012)\n"
          ],
          "name": "stdout"
        },
        {
          "output_type": "display_data",
          "data": {
            "image/png": "[encoded data removed]",
            "text/plain": [
              "<Figure size 432x216 with 2 Axes>"
            ]
          },
          "metadata": {
            "tags": []
          }
        },
        {
          "output_type": "stream",
          "text": [
            "Lives with Partner = 1.0: (0.94523686170578, 2.068099309311279e-30)\n",
            "Lives Alone = 2.0: (0.9332861304283142, 2.8958550733254737e-26)\n"
          ],
          "name": "stdout"
        }
      ]
    },
    {
      "cell_type": "code",
      "metadata": {
        "id": "BucY_LS_aICE",
        "colab_type": "code",
        "colab": {
          "base_uri": "https://localhost:8080/",
          "height": 34
        },
        "outputId": "3f3f534b-b12a-4353-ead8-621aa0b55836"
      },
      "source": [
        "data2012[data2012.partner == 2].pplfair.dropna().count()"
      ],
      "execution_count": 31,
      "outputs": [
        {
          "output_type": "execute_result",
          "data": {
            "text/plain": [
              "1608"
            ]
          },
          "metadata": {
            "tags": []
          },
          "execution_count": 31
        }
      ]
    },
    {
      "cell_type": "code",
      "metadata": {
        "id": "pc6XajXAaRVs",
        "colab_type": "code",
        "colab": {
          "base_uri": "https://localhost:8080/",
          "height": 34
        },
        "outputId": "b9a019d9-2a74-4708-9283-ffc0b527a276"
      },
      "source": [
        "print('The Wilcoxon Test is:', wilcoxon(data2012[data2012.partner == 1].pplfair.dropna()[:1608], \n",
        "                                 y=data2012[data2012.partner == 2].pplfair.dropna()))"
      ],
      "execution_count": 30,
      "outputs": [
        {
          "output_type": "stream",
          "text": [
            "The Wilcoxon Test is: WilcoxonResult(statistic=426739.0, pvalue=0.004340158276254172)\n"
          ],
          "name": "stdout"
        }
      ]
    },
    {
      "cell_type": "code",
      "metadata": {
        "id": "Dg2lUBUjaSIp",
        "colab_type": "code",
        "colab": {
          "base_uri": "https://localhost:8080/",
          "height": 52
        },
        "outputId": "20f5fb81-d28b-4fbb-f609-a7a5ed76f64b"
      },
      "source": [
        "print('The median for people living with partners is:', data2012[data2012.partner == 1].pplfair.median())\n",
        "print('The median for people living without partners is:', data2012[data2012.partner == 2].pplfair.median())"
      ],
      "execution_count": 34,
      "outputs": [
        {
          "output_type": "stream",
          "text": [
            "The median for people living with partners is: 7.0\n",
            "The median for people living without partners is: 6.0\n"
          ],
          "name": "stdout"
        }
      ]
    },
    {
      "cell_type": "code",
      "metadata": {
        "id": "1CLbsX-mab9p",
        "colab_type": "code",
        "colab": {}
      },
      "source": [
        ""
      ],
      "execution_count": 0,
      "outputs": []
    },
    {
      "cell_type": "code",
      "metadata": {
        "id": "yi_Ky8BRN5xz",
        "colab_type": "code",
        "outputId": "79e5c717-e7b1-4652-fdf6-c921766db652",
        "colab": {
          "base_uri": "https://localhost:8080/",
          "height": 34
        }
      },
      "source": [
        "print('Wilcoxon Test results are:', wilcoxon(data2012[data2012.partner == 1].pplfair.dropna()[:1608], \n",
        "                                 y=data2012[data2012.partner == 2].pplfair.dropna()))"
      ],
      "execution_count": 15,
      "outputs": [
        {
          "output_type": "stream",
          "text": [
            "Wilcoxon Test results are: WilcoxonResult(statistic=426739.0, pvalue=0.004340158276254172)\n"
          ],
          "name": "stdout"
        }
      ]
    },
    {
      "cell_type": "code",
      "metadata": {
        "id": "p_hEhdyhN55o",
        "colab_type": "code",
        "colab": {}
      },
      "source": [
        "listing = ['CZ', 'DE', 'ES','NO']\n",
        "co = raw[(raw.cntry.isin(listing)) & (raw.year == 7)]"
      ],
      "execution_count": 0,
      "outputs": []
    },
    {
      "cell_type": "code",
      "metadata": {
        "id": "tCGzMekSN6B0",
        "colab_type": "code",
        "outputId": "47532b86-1f53-419d-986c-8b3ff12e92ae",
        "colab": {
          "base_uri": "https://localhost:8080/",
          "height": 402
        }
      },
      "source": [
        "g = sns.FacetGrid(co, col='cntry', dropna=True, sharey=False)\n",
        "g = g.map(plt.hist, 'sclmeet', alpha=0.8, color='teal', bins=7)\n",
        "\n",
        "print('\\t\\tSocial Meetings for CZ, DE, ES, NO (2014)')\n",
        "plt.show()\n",
        "\n",
        "cntrys = list(co.cntry.unique())\n",
        "print('Shapiro Tests')\n",
        "for cnt in cntrys:\n",
        "    print(cnt, shapiro(co[co.cntry ==cnt].sclmeet.dropna()))\n",
        "    print()"
      ],
      "execution_count": 17,
      "outputs": [
        {
          "output_type": "stream",
          "text": [
            "\t\tSocial Meetings for CZ, DE, ES, NO (2014)\n"
          ],
          "name": "stdout"
        },
        {
          "output_type": "display_data",
          "data": {
            "image/png": "[encoded data removed]",
            "text/plain": [
              "<Figure size 864x216 with 4 Axes>"
            ]
          },
          "metadata": {
            "tags": []
          }
        },
        {
          "output_type": "stream",
          "text": [
            "Shapiro Tests\n",
            "CZ (0.9451602101325989, 7.663770300607355e-15)\n",
            "\n",
            "DE (0.8616600036621094, 0.032099850475788116)\n",
            "\n",
            "ES (0.8880351781845093, 9.848293928138278e-29)\n",
            "\n",
            "NO (0.8881818056106567, 1.422473605641294e-22)\n",
            "\n"
          ],
          "name": "stdout"
        }
      ]
    },
    {
      "cell_type": "code",
      "metadata": {
        "id": "9zuEVxM2N6KQ",
        "colab_type": "code",
        "outputId": "d09a738a-e01e-4ad1-b2d5-1c64ee2248c2",
        "colab": {
          "base_uri": "https://localhost:8080/",
          "height": 123
        }
      },
      "source": [
        "print('CZ vs DE:', ttest_ind(co[co.cntry == 'CZ'].sclmeet.dropna(),\n",
        "             co[co.cntry == 'DE'].sclmeet.dropna()))\n",
        "print('CZ vs ES:', ttest_ind(co[co.cntry == 'CZ'].sclmeet.dropna(),\n",
        "             co[co.cntry == 'ES'].sclmeet.dropna()))\n",
        "print('CZ vs NO:', ttest_ind(co[co.cntry == 'CZ'].sclmeet.dropna(),\n",
        "             co[co.cntry == 'NO'].sclmeet.dropna()))\n",
        "print('DE vs ES:', ttest_ind(co[co.cntry == 'DE'].sclmeet.dropna(),\n",
        "             co[co.cntry == 'ES'].sclmeet.dropna()))\n",
        "print('ES vs NO:', ttest_ind(co[co.cntry == 'ES'].sclmeet.dropna(),\n",
        "             co[co.cntry == 'NO'].sclmeet.dropna()))\n",
        "print('DE vs NO:', ttest_ind(co[co.cntry == 'DE'].sclmeet.dropna(),\n",
        "             co[co.cntry == 'NO'].sclmeet.dropna()))"
      ],
      "execution_count": 18,
      "outputs": [
        {
          "output_type": "stream",
          "text": [
            "CZ vs DE: Ttest_indResult(statistic=0.0433661445611368, pvalue=0.9654226437207307)\n",
            "CZ vs ES: Ttest_indResult(statistic=-11.400026538179093, pvalue=3.7676844407353374e-29)\n",
            "CZ vs NO: Ttest_indResult(statistic=-11.269186128577815, pvalue=3.0334022155191707e-28)\n",
            "DE vs ES: Ttest_indResult(statistic=-2.115791799094089, pvalue=0.03456418756613026)\n",
            "ES vs NO: Ttest_indResult(statistic=-0.632916395870007, pvalue=0.5268628350318294)\n",
            "DE vs NO: Ttest_indResult(statistic=-2.4172026189301423, pvalue=0.0158801026958694)\n"
          ],
          "name": "stdout"
        }
      ]
    },
    {
      "cell_type": "code",
      "metadata": {
        "id": "JroeGQ6qN6Sf",
        "colab_type": "code",
        "colab": {}
      },
      "source": [
        ""
      ],
      "execution_count": 0,
      "outputs": []
    },
    {
      "cell_type": "code",
      "metadata": {
        "id": "3lx34dQiN6bL",
        "colab_type": "code",
        "outputId": "8ae31ac9-768d-4711-9e49-a65b4f1ed9ba",
        "colab": {
          "base_uri": "https://localhost:8080/",
          "height": 402
        }
      },
      "source": [
        "g = sns.FacetGrid(co, col='cntry', dropna=True, sharey=False)\n",
        "g = g.map(plt.hist, 'sclact', alpha=0.8, color='pink', bins=5)\n",
        "\n",
        "print('\\t\\tSocial Activities for CZ, DE, ES, NO (2014)')\n",
        "plt.show()\n",
        "\n",
        "cntrys = list(co.cntry.unique())\n",
        "print('Shapiro Tests')\n",
        "for cnt in cntrys:\n",
        "    print(cnt, shapiro(co[co.cntry ==cnt].sclact.dropna()))\n",
        "    print()"
      ],
      "execution_count": 36,
      "outputs": [
        {
          "output_type": "stream",
          "text": [
            "\t\tSocial Activities for CZ, DE, ES, NO (2014)\n"
          ],
          "name": "stdout"
        },
        {
          "output_type": "display_data",
          "data": {
            "image/png": "[encoded data removed]",
            "text/plain": [
              "<Figure size 864x216 with 4 Axes>"
            ]
          },
          "metadata": {
            "tags": []
          }
        },
        {
          "output_type": "stream",
          "text": [
            "Shapiro Tests\n",
            "CZ (0.8517600893974304, 3.2631608025549396e-24)\n",
            "\n",
            "DE (0.7937105894088745, 0.004176934715360403)\n",
            "\n",
            "ES (0.892457902431488, 5.746904176126056e-28)\n",
            "\n",
            "NO (0.8678725957870483, 2.398206966061988e-24)\n",
            "\n"
          ],
          "name": "stdout"
        }
      ]
    },
    {
      "cell_type": "code",
      "metadata": {
        "id": "XhOxNQieN6ju",
        "colab_type": "code",
        "outputId": "db42e59c-31f7-490f-8703-e8f328185d1b",
        "colab": {
          "base_uri": "https://localhost:8080/",
          "height": 123
        }
      },
      "source": [
        "print('CZ vs DE:', ttest_ind(co[co.cntry == 'CZ'].sclmeet.dropna(),\n",
        "             co[co.cntry == 'DE'].sclmeet.dropna()))\n",
        "print('CZ vs ES:', ttest_ind(co[co.cntry == 'CZ'].sclmeet.dropna(),\n",
        "             co[co.cntry == 'ES'].sclmeet.dropna()))\n",
        "print('CZ vs NO:', ttest_ind(co[co.cntry == 'CZ'].sclmeet.dropna(),\n",
        "             co[co.cntry == 'NO'].sclmeet.dropna()))\n",
        "print('DE vs ES:', ttest_ind(co[co.cntry == 'DE'].sclmeet.dropna(),\n",
        "             co[co.cntry == 'ES'].sclmeet.dropna()))\n",
        "print('ES vs NO:', ttest_ind(co[co.cntry == 'ES'].sclmeet.dropna(),\n",
        "             co[co.cntry == 'NO'].sclmeet.dropna()))\n",
        "print('DE vs NO:', ttest_ind(co[co.cntry == 'DE'].sclmeet.dropna(),\n",
        "             co[co.cntry == 'NO'].sclmeet.dropna()))"
      ],
      "execution_count": 20,
      "outputs": [
        {
          "output_type": "stream",
          "text": [
            "CZ vs DE: Ttest_indResult(statistic=0.0433661445611368, pvalue=0.9654226437207307)\n",
            "CZ vs ES: Ttest_indResult(statistic=-11.400026538179093, pvalue=3.7676844407353374e-29)\n",
            "CZ vs NO: Ttest_indResult(statistic=-11.269186128577815, pvalue=3.0334022155191707e-28)\n",
            "DE vs ES: Ttest_indResult(statistic=-2.115791799094089, pvalue=0.03456418756613026)\n",
            "ES vs NO: Ttest_indResult(statistic=-0.632916395870007, pvalue=0.5268628350318294)\n",
            "DE vs NO: Ttest_indResult(statistic=-2.4172026189301423, pvalue=0.0158801026958694)\n"
          ],
          "name": "stdout"
        }
      ]
    },
    {
      "cell_type": "markdown",
      "metadata": {
        "id": "aepW-WGHXU2b",
        "colab_type": "text"
      },
      "source": [
        "Answers to the Questions\n",
        "1. In 2012-2014, Norway, Spain and the Czech Republic are the three countries whose trust in people changed. Therefore, we reject the null hypothesis for these countries.\n",
        "2. Similar to Question 1, Norway, Spain, and Czech are the three countries whose happiness changed. Therefore, we reject the null hypothesis for these countries.\n",
        "3. The p-value is 0.503, which is ten times more than the normal p-value. Therefore, we cannot reject the null hypothesis and conclude that there is zero difference between the habits of television among males and females.\n",
        "4. People who did not live alone believed other people were fair than those who did live alone.\n",
        "\n",
        "5. Based on the p-values,\n",
        "The Czech Republic and Denmark are not significantly different from each other, just like Spain and Norway are not significantly different.\n",
        "The Czech Republic is barely different from Spain and Norway unlike Denmark, which is significantly different from those two countries.\n",
        "\n",
        "6. Based on the p-values,\n",
        "The Czech Republic and Denmark are not significantly different from each other, just like Spain and Norway are not significantly different.\n",
        "The Czech Republic is barely different from Spain and Norway unlike Denmark, which is significantly different from those two countries."
      ]
    }
  ]
}