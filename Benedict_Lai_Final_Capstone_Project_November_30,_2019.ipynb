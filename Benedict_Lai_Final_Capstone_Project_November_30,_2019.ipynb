{
  "nbformat": 4,
  "nbformat_minor": 0,
  "metadata": {
    "colab": {
      "name": "Benedict Lai - Final Capstone Project - November 30, 2019.ipynb",
      "provenance": [],
      "collapsed_sections": [],
      "include_colab_link": true
    },
    "kernelspec": {
      "name": "python3",
      "display_name": "Python 3"
    }
  },
  "cells": [
    {
      "cell_type": "markdown",
      "metadata": {
        "id": "view-in-github",
        "colab_type": "text"
      },
      "source": [
        "<a href=\"https://colab.research.google.com/github/benedictlai/thinkful-challenges/blob/master/Benedict_Lai_Final_Capstone_Project_November_30%2C_2019.ipynb\" target=\"_parent\"><img src=\"https://colab.research.google.com/assets/colab-badge.svg\" alt=\"Open In Colab\"/></a>"
      ]
    },
    {
      "cell_type": "code",
      "metadata": {
        "id": "jwNM4PtUykvc",
        "colab_type": "code",
        "colab": {}
      },
      "source": [
        "import numpy as np\n",
        "import pandas as pd\n",
        "import seaborn as sns\n",
        "import math\n",
        "import sklearn\n",
        "import scipy\n",
        "import matplotlib.pyplot as plt\n",
        "import scipy.stats as stats\n",
        "import warnings\n",
        "from sklearn import ensemble\n",
        "from sklearn.ensemble import RandomForestClassifier\n",
        "from sklearn.linear_model import LogisticRegression\n",
        "from sklearn.metrics import accuracy_score, classification_report, confusion_matrix, f1_score, precision_score, recall_score \n",
        "from sklearn.model_selection import GridSearchCV, cross_val_score, train_test_split\n",
        "from sklearn.preprocessing import LabelEncoder\n",
        "from sklearn.svm import SVC\n",
        "%matplotlib inline\n",
        "warnings.filterwarnings(\"ignore\")"
      ],
      "execution_count": 0,
      "outputs": []
    },
    {
      "cell_type": "markdown",
      "metadata": {
        "id": "ZLFmWqXzZb8H",
        "colab_type": "text"
      },
      "source": [
        "# Introduction to my Final Project"
      ]
    },
    {
      "cell_type": "markdown",
      "metadata": {
        "id": "my6IMZP3WV_l",
        "colab_type": "text"
      },
      "source": [
        "What is the problem you are attempting to solve?\n",
        "\n",
        "I am attempting to solve customer trends with Telco Company. For example, I want to solve if a customer is going to churn based on the tenure of the customer, the preferences for contracts and if they are a senior citizen. I mention senior citizens because they are used to paying bills through the mail and they may not be benefitting from getting a discount to keep them from staying with the company.\n",
        "\n",
        "How is your solution valuable?\n",
        "\n",
        "My solution is valuable because it will help determine if tenure customers are more likely to churn based on customer behavior such as the preferences for contracts, how long they have been a customer with Telco, and if they are a senior citizen. These factors may impact on customer retention. The results of my research will not only benefit Telco Company but it will also benefit other companies so it can inspire other customers to give true feedback to the company especially with the preferences of contracts.\n",
        "\n",
        "What is your data source and how will you access it?\n",
        "\n",
        "The data source is from https://www.kaggle.com/blastchar/telco-customer-churn. They are 7,044 customers in the dataset. I will not be using the whole data set because of some of the null values (TotalCharges) that may affect it.\n",
        "\n",
        "What techniques from the course do you anticipate using?\n",
        "\n",
        "I anticipate using Logistic Regression, Gradient Boosting & Random Forest Classifier, Support Vector Machine, Feature Importances.\n",
        "\n",
        "What do you anticipate to be the biggest challenge you’ll face?\n",
        "\n",
        "Getting the best accuracy rate on churn, cleaning messy data, handling the class imbalance are the biggest hurdles I'll face."
      ]
    },
    {
      "cell_type": "markdown",
      "metadata": {
        "id": "awh5g0xtWPKF",
        "colab_type": "text"
      },
      "source": [
        "# Introducing Data"
      ]
    },
    {
      "cell_type": "markdown",
      "metadata": {
        "id": "4mDQGN5WlUqg",
        "colab_type": "text"
      },
      "source": [
        ""
      ]
    },
    {
      "cell_type": "code",
      "metadata": {
        "id": "hkTFKlTn2XGw",
        "colab_type": "code",
        "outputId": "b1848358-2f27-428b-fd1a-744a9c60c2bb",
        "colab": {
          "base_uri": "https://localhost:8080/",
          "height": 593
        }
      },
      "source": [
        "telco = pd.read_csv('https://raw.githubusercontent.com/benedictlai/thinkful-challenges/master/telco(7).csv')\n",
        "telco"
      ],
      "execution_count": 2,
      "outputs": [
        {
          "output_type": "execute_result",
          "data": {
            "text/html": [
              "<div>\n",
              "<style scoped>\n",
              "    .dataframe tbody tr th:only-of-type {\n",
              "        vertical-align: middle;\n",
              "    }\n",
              "\n",
              "    .dataframe tbody tr th {\n",
              "        vertical-align: top;\n",
              "    }\n",
              "\n",
              "    .dataframe thead th {\n",
              "        text-align: right;\n",
              "    }\n",
              "</style>\n",
              "<table border=\"1\" class=\"dataframe\">\n",
              "  <thead>\n",
              "    <tr style=\"text-align: right;\">\n",
              "      <th></th>\n",
              "      <th>customerID</th>\n",
              "      <th>gender</th>\n",
              "      <th>SeniorCitizen</th>\n",
              "      <th>Partner</th>\n",
              "      <th>Dependents</th>\n",
              "      <th>tenure</th>\n",
              "      <th>PhoneService</th>\n",
              "      <th>MultipleLines</th>\n",
              "      <th>InternetService</th>\n",
              "      <th>OnlineSecurity</th>\n",
              "      <th>OnlineBackup</th>\n",
              "      <th>DeviceProtection</th>\n",
              "      <th>TechSupport</th>\n",
              "      <th>StreamingTV</th>\n",
              "      <th>StreamingMovies</th>\n",
              "      <th>Contract</th>\n",
              "      <th>PaperlessBilling</th>\n",
              "      <th>PaymentMethod</th>\n",
              "      <th>MonthlyCharges</th>\n",
              "      <th>TotalCharges</th>\n",
              "      <th>Churn</th>\n",
              "      <th>TenureGroup</th>\n",
              "      <th>MCGroup</th>\n",
              "      <th>TCGroup</th>\n",
              "    </tr>\n",
              "  </thead>\n",
              "  <tbody>\n",
              "    <tr>\n",
              "      <th>0</th>\n",
              "      <td>6260-XLACS</td>\n",
              "      <td>Male</td>\n",
              "      <td>0</td>\n",
              "      <td>No</td>\n",
              "      <td>No</td>\n",
              "      <td>4</td>\n",
              "      <td>Yes</td>\n",
              "      <td>No</td>\n",
              "      <td>No</td>\n",
              "      <td>No internet service</td>\n",
              "      <td>No internet service</td>\n",
              "      <td>No internet service</td>\n",
              "      <td>No internet service</td>\n",
              "      <td>No internet service</td>\n",
              "      <td>No internet service</td>\n",
              "      <td>One year</td>\n",
              "      <td>No</td>\n",
              "      <td>Mailed check</td>\n",
              "      <td>19.70</td>\n",
              "      <td>117.8</td>\n",
              "      <td>No</td>\n",
              "      <td>0-14</td>\n",
              "      <td>$0-$19.99</td>\n",
              "      <td>$0-$999.99</td>\n",
              "    </tr>\n",
              "    <tr>\n",
              "      <th>1</th>\n",
              "      <td>0661-KQHNK</td>\n",
              "      <td>Female</td>\n",
              "      <td>0</td>\n",
              "      <td>Yes</td>\n",
              "      <td>Yes</td>\n",
              "      <td>6</td>\n",
              "      <td>Yes</td>\n",
              "      <td>No</td>\n",
              "      <td>No</td>\n",
              "      <td>No internet service</td>\n",
              "      <td>No internet service</td>\n",
              "      <td>No internet service</td>\n",
              "      <td>No internet service</td>\n",
              "      <td>No internet service</td>\n",
              "      <td>No internet service</td>\n",
              "      <td>One year</td>\n",
              "      <td>No</td>\n",
              "      <td>Credit card (automatic)</td>\n",
              "      <td>19.00</td>\n",
              "      <td>105.5</td>\n",
              "      <td>No</td>\n",
              "      <td>0-14</td>\n",
              "      <td>$0-$19.99</td>\n",
              "      <td>$0-$999.99</td>\n",
              "    </tr>\n",
              "    <tr>\n",
              "      <th>2</th>\n",
              "      <td>0895-LNKRC</td>\n",
              "      <td>Male</td>\n",
              "      <td>0</td>\n",
              "      <td>Yes</td>\n",
              "      <td>Yes</td>\n",
              "      <td>6</td>\n",
              "      <td>Yes</td>\n",
              "      <td>No</td>\n",
              "      <td>No</td>\n",
              "      <td>No internet service</td>\n",
              "      <td>No internet service</td>\n",
              "      <td>No internet service</td>\n",
              "      <td>No internet service</td>\n",
              "      <td>No internet service</td>\n",
              "      <td>No internet service</td>\n",
              "      <td>One year</td>\n",
              "      <td>No</td>\n",
              "      <td>Mailed check</td>\n",
              "      <td>19.45</td>\n",
              "      <td>113.5</td>\n",
              "      <td>No</td>\n",
              "      <td>0-14</td>\n",
              "      <td>$0-$19.99</td>\n",
              "      <td>$0-$999.99</td>\n",
              "    </tr>\n",
              "    <tr>\n",
              "      <th>3</th>\n",
              "      <td>1015-JPFYW</td>\n",
              "      <td>Male</td>\n",
              "      <td>0</td>\n",
              "      <td>No</td>\n",
              "      <td>Yes</td>\n",
              "      <td>7</td>\n",
              "      <td>Yes</td>\n",
              "      <td>No</td>\n",
              "      <td>No</td>\n",
              "      <td>No internet service</td>\n",
              "      <td>No internet service</td>\n",
              "      <td>No internet service</td>\n",
              "      <td>No internet service</td>\n",
              "      <td>No internet service</td>\n",
              "      <td>No internet service</td>\n",
              "      <td>One year</td>\n",
              "      <td>No</td>\n",
              "      <td>Mailed check</td>\n",
              "      <td>19.45</td>\n",
              "      <td>136.75</td>\n",
              "      <td>No</td>\n",
              "      <td>0-14</td>\n",
              "      <td>$0-$19.99</td>\n",
              "      <td>$0-$999.99</td>\n",
              "    </tr>\n",
              "    <tr>\n",
              "      <th>4</th>\n",
              "      <td>1226-JZNKR</td>\n",
              "      <td>Female</td>\n",
              "      <td>0</td>\n",
              "      <td>Yes</td>\n",
              "      <td>Yes</td>\n",
              "      <td>8</td>\n",
              "      <td>Yes</td>\n",
              "      <td>No</td>\n",
              "      <td>No</td>\n",
              "      <td>No internet service</td>\n",
              "      <td>No internet service</td>\n",
              "      <td>No internet service</td>\n",
              "      <td>No internet service</td>\n",
              "      <td>No internet service</td>\n",
              "      <td>No internet service</td>\n",
              "      <td>One year</td>\n",
              "      <td>No</td>\n",
              "      <td>Electronic check</td>\n",
              "      <td>19.80</td>\n",
              "      <td>160.05</td>\n",
              "      <td>No</td>\n",
              "      <td>0-14</td>\n",
              "      <td>$0-$19.99</td>\n",
              "      <td>$0-$999.99</td>\n",
              "    </tr>\n",
              "    <tr>\n",
              "      <th>...</th>\n",
              "      <td>...</td>\n",
              "      <td>...</td>\n",
              "      <td>...</td>\n",
              "      <td>...</td>\n",
              "      <td>...</td>\n",
              "      <td>...</td>\n",
              "      <td>...</td>\n",
              "      <td>...</td>\n",
              "      <td>...</td>\n",
              "      <td>...</td>\n",
              "      <td>...</td>\n",
              "      <td>...</td>\n",
              "      <td>...</td>\n",
              "      <td>...</td>\n",
              "      <td>...</td>\n",
              "      <td>...</td>\n",
              "      <td>...</td>\n",
              "      <td>...</td>\n",
              "      <td>...</td>\n",
              "      <td>...</td>\n",
              "      <td>...</td>\n",
              "      <td>...</td>\n",
              "      <td>...</td>\n",
              "      <td>...</td>\n",
              "    </tr>\n",
              "    <tr>\n",
              "      <th>7038</th>\n",
              "      <td>7569-NMZYQ</td>\n",
              "      <td>Female</td>\n",
              "      <td>0</td>\n",
              "      <td>Yes</td>\n",
              "      <td>Yes</td>\n",
              "      <td>72</td>\n",
              "      <td>Yes</td>\n",
              "      <td>Yes</td>\n",
              "      <td>Fiber optic</td>\n",
              "      <td>Yes</td>\n",
              "      <td>Yes</td>\n",
              "      <td>Yes</td>\n",
              "      <td>Yes</td>\n",
              "      <td>Yes</td>\n",
              "      <td>Yes</td>\n",
              "      <td>Two year</td>\n",
              "      <td>Yes</td>\n",
              "      <td>Bank transfer (automatic)</td>\n",
              "      <td>118.75</td>\n",
              "      <td>8672.45</td>\n",
              "      <td>No</td>\n",
              "      <td>70-75</td>\n",
              "      <td>$90-$119.99</td>\n",
              "      <td>$8500-$8999.99</td>\n",
              "    </tr>\n",
              "    <tr>\n",
              "      <th>7039</th>\n",
              "      <td>8879-XUAHX</td>\n",
              "      <td>Male</td>\n",
              "      <td>0</td>\n",
              "      <td>Yes</td>\n",
              "      <td>No</td>\n",
              "      <td>71</td>\n",
              "      <td>Yes</td>\n",
              "      <td>Yes</td>\n",
              "      <td>Fiber optic</td>\n",
              "      <td>Yes</td>\n",
              "      <td>Yes</td>\n",
              "      <td>Yes</td>\n",
              "      <td>Yes</td>\n",
              "      <td>Yes</td>\n",
              "      <td>Yes</td>\n",
              "      <td>Two year</td>\n",
              "      <td>Yes</td>\n",
              "      <td>Electronic check</td>\n",
              "      <td>116.25</td>\n",
              "      <td>8564.75</td>\n",
              "      <td>No</td>\n",
              "      <td>70-75</td>\n",
              "      <td>$90-$119.99</td>\n",
              "      <td>$8500-$8999.99</td>\n",
              "    </tr>\n",
              "    <tr>\n",
              "      <th>7040</th>\n",
              "      <td>9739-JLPQJ</td>\n",
              "      <td>Female</td>\n",
              "      <td>0</td>\n",
              "      <td>Yes</td>\n",
              "      <td>Yes</td>\n",
              "      <td>72</td>\n",
              "      <td>Yes</td>\n",
              "      <td>Yes</td>\n",
              "      <td>Fiber optic</td>\n",
              "      <td>Yes</td>\n",
              "      <td>Yes</td>\n",
              "      <td>Yes</td>\n",
              "      <td>Yes</td>\n",
              "      <td>Yes</td>\n",
              "      <td>Yes</td>\n",
              "      <td>Two year</td>\n",
              "      <td>No</td>\n",
              "      <td>Credit card (automatic)</td>\n",
              "      <td>117.50</td>\n",
              "      <td>8670.1</td>\n",
              "      <td>No</td>\n",
              "      <td>70-75</td>\n",
              "      <td>$90-$119.99</td>\n",
              "      <td>$8500-$8999.99</td>\n",
              "    </tr>\n",
              "    <tr>\n",
              "      <th>7041</th>\n",
              "      <td>9788-HNGUT</td>\n",
              "      <td>Male</td>\n",
              "      <td>0</td>\n",
              "      <td>Yes</td>\n",
              "      <td>No</td>\n",
              "      <td>72</td>\n",
              "      <td>Yes</td>\n",
              "      <td>Yes</td>\n",
              "      <td>Fiber optic</td>\n",
              "      <td>Yes</td>\n",
              "      <td>Yes</td>\n",
              "      <td>Yes</td>\n",
              "      <td>Yes</td>\n",
              "      <td>Yes</td>\n",
              "      <td>Yes</td>\n",
              "      <td>Two year</td>\n",
              "      <td>Yes</td>\n",
              "      <td>Credit card (automatic)</td>\n",
              "      <td>116.95</td>\n",
              "      <td>8594.4</td>\n",
              "      <td>No</td>\n",
              "      <td>70-75</td>\n",
              "      <td>$90-$119.99</td>\n",
              "      <td>$8500-$8999.99</td>\n",
              "    </tr>\n",
              "    <tr>\n",
              "      <th>7042</th>\n",
              "      <td>9924-JPRMC</td>\n",
              "      <td>Male</td>\n",
              "      <td>0</td>\n",
              "      <td>No</td>\n",
              "      <td>No</td>\n",
              "      <td>72</td>\n",
              "      <td>Yes</td>\n",
              "      <td>Yes</td>\n",
              "      <td>Fiber optic</td>\n",
              "      <td>Yes</td>\n",
              "      <td>Yes</td>\n",
              "      <td>Yes</td>\n",
              "      <td>Yes</td>\n",
              "      <td>Yes</td>\n",
              "      <td>Yes</td>\n",
              "      <td>Two year</td>\n",
              "      <td>Yes</td>\n",
              "      <td>Electronic check</td>\n",
              "      <td>118.20</td>\n",
              "      <td>8547.15</td>\n",
              "      <td>No</td>\n",
              "      <td>70-75</td>\n",
              "      <td>$90-$119.99</td>\n",
              "      <td>$8500-$8999.99</td>\n",
              "    </tr>\n",
              "  </tbody>\n",
              "</table>\n",
              "<p>7043 rows × 24 columns</p>\n",
              "</div>"
            ],
            "text/plain": [
              "      customerID  gender  ...      MCGroup         TCGroup\n",
              "0     6260-XLACS    Male  ...    $0-$19.99      $0-$999.99\n",
              "1     0661-KQHNK  Female  ...    $0-$19.99      $0-$999.99\n",
              "2     0895-LNKRC    Male  ...    $0-$19.99      $0-$999.99\n",
              "3     1015-JPFYW    Male  ...    $0-$19.99      $0-$999.99\n",
              "4     1226-JZNKR  Female  ...    $0-$19.99      $0-$999.99\n",
              "...          ...     ...  ...          ...             ...\n",
              "7038  7569-NMZYQ  Female  ...  $90-$119.99  $8500-$8999.99\n",
              "7039  8879-XUAHX    Male  ...  $90-$119.99  $8500-$8999.99\n",
              "7040  9739-JLPQJ  Female  ...  $90-$119.99  $8500-$8999.99\n",
              "7041  9788-HNGUT    Male  ...  $90-$119.99  $8500-$8999.99\n",
              "7042  9924-JPRMC    Male  ...  $90-$119.99  $8500-$8999.99\n",
              "\n",
              "[7043 rows x 24 columns]"
            ]
          },
          "metadata": {
            "tags": []
          },
          "execution_count": 2
        }
      ]
    },
    {
      "cell_type": "code",
      "metadata": {
        "id": "Twu1wtkpJF3Q",
        "colab_type": "code",
        "colab": {}
      },
      "source": [
        ""
      ],
      "execution_count": 0,
      "outputs": []
    },
    {
      "cell_type": "markdown",
      "metadata": {
        "id": "WWSEzsG-2K22",
        "colab_type": "text"
      },
      "source": [
        "# Data Information"
      ]
    },
    {
      "cell_type": "markdown",
      "metadata": {
        "id": "ahA7lmiVJI_W",
        "colab_type": "text"
      },
      "source": [
        "Q1: Gender? - Categorical\n",
        "\n",
        "Classes: Male or Female\n",
        "\n",
        "Q2: SeniorCitizen? - Numerical \n",
        "\n",
        "Classes: 0 (no) or 1(Yes)\n",
        "\n",
        "Q3: Partner - Categorical\n",
        "\n",
        "Classes: Yes or No \n",
        "\n",
        "Q4: Dependents - Categorical\n",
        "\n",
        "Classes: Yes or No \n",
        "\n",
        "Q5: tenure - Numerical\n",
        "\n",
        "Classes: 1- 72\n",
        "\n",
        "Q6: PhoneService - Categorical\n",
        "\n",
        "Classes: Yes or No \n",
        "\n",
        "Q7: MultipleLines - Categorical\n",
        "\n",
        "Classes: Yes, No, or No Phone Service\n",
        "\n",
        "Q8: InternetService - Categorical\n",
        "\n",
        "Classes: DSL, Fiber Optic, or No\n",
        "\n",
        "Q9. OnlineSecurity - Categorical\n",
        "\n",
        "Classes: Yes, No, or No Internet Service\n",
        "\n",
        "Q10. OnlineBackup - Categorical\n",
        "\n",
        "Classes: Yes, No, or No Internet Service\n",
        "\n",
        "Q11. DeviceProtection - Categorical\n",
        "\n",
        "Classes: Yes, No, or No Internet Service\n",
        "\n",
        "Q12. TechSupport - Categorical \n",
        "\n",
        "Classes: Yes, No, or No Internet Service\n",
        "\n",
        "Q13. StreamingTV - Categorical \n",
        "\n",
        "Classes: Yes, No, or No Internet Service\n",
        "\n",
        "Q14. StreamingMovies - Categorical\n",
        "\n",
        "Classes: Yes, No, or No Internet Service\n",
        "\n",
        "Q15. Contract - Categorical\n",
        "\n",
        "Classes: Month-to-Month, One Year, Two Year \n",
        "\n",
        "Q16. PaperlessBilling\t- Categorical \n",
        "\n",
        "Classes: Yes or No  \n",
        "\n",
        "Q17. PaymentMethod - Categorical\n",
        "\n",
        "Classes: Bank transfer (automatic), Credit card (automatic), Electronic check, Mailed check\n",
        "\n",
        "Q18. MonthlyCharges - Continuous\n",
        "\n",
        "Classes: 18.25-118.75\n",
        "\n",
        "Q19: TotalCharges - Continuous\n",
        "\n",
        "Classes: 18.8-8684.8 \n",
        "\n",
        "Q20. Churn - Categorical\n",
        "\n",
        "Classes: Yes or No\n",
        "\n",
        "I added three categories below to cluster them into groups in Excel since the data was all over the place for Tenure, MonthlyCharges, and TotalCharges.\n",
        "\n",
        "Q21. TenureGroup - Continuous\n",
        "\n",
        "Classes: 0-14,15-19,20-24,25-29,30-34,35-39,40-44,45-49,50-54,55-59,60-64,65-69,70-74\n",
        "\n",
        "Q22. MCGroup - Continuous\n",
        "\n",
        "Classes: 0-19.99, 20-29.99, 30-39.99, 40-49.99, 50-59.99, 60-69.99, 70-79.99, 80-89.99, 90-119.99\n",
        "\n",
        "Q23. TCGroup - Continuous\n",
        "\n",
        "Classes: 0-999.99, 1000-1499.99, 1500-1999.99, 2000-2499.99, 2500-2999.99, 3000-3499.99, 3500-3999.99, 4000-4499.99, 4500-4999.99, 5000-5499.99, 5500-5999.99, 6000-6499.99, 6500-6999.99, 7000-7499.99, 7500-7999.99, 8000-8499.99, 8500-8999.99\n",
        "\n",
        "I added this category to target variables, which is the main purpose of the project.\n",
        "\n",
        "I got this data from Kaggle, which is from https://www.kaggle.com/blastchar/telco-customer-churn.\n",
        "\n"
      ]
    },
    {
      "cell_type": "code",
      "metadata": {
        "id": "3iXvuCOMOnhH",
        "colab_type": "code",
        "outputId": "35887060-fd96-47be-88cc-56c7822aaadb",
        "colab": {
          "base_uri": "https://localhost:8080/",
          "height": 461
        }
      },
      "source": [
        "telco.dtypes"
      ],
      "execution_count": 20,
      "outputs": [
        {
          "output_type": "execute_result",
          "data": {
            "text/plain": [
              "customerID          int64\n",
              "gender              int64\n",
              "SeniorCitizen       int64\n",
              "Partner             int64\n",
              "Dependents          int64\n",
              "tenure              int64\n",
              "PhoneService        int64\n",
              "MultipleLines       int64\n",
              "InternetService     int64\n",
              "OnlineSecurity      int64\n",
              "OnlineBackup        int64\n",
              "DeviceProtection    int64\n",
              "TechSupport         int64\n",
              "StreamingTV         int64\n",
              "StreamingMovies     int64\n",
              "Contract            int64\n",
              "PaperlessBilling    int64\n",
              "PaymentMethod       int64\n",
              "MonthlyCharges      int64\n",
              "TotalCharges        int64\n",
              "Churn               int64\n",
              "TenureGroup         int64\n",
              "MCGroup             int64\n",
              "TCGroup             int64\n",
              "dtype: object"
            ]
          },
          "metadata": {
            "tags": []
          },
          "execution_count": 20
        }
      ]
    },
    {
      "cell_type": "code",
      "metadata": {
        "id": "uLKWaf9JB4HJ",
        "colab_type": "code",
        "colab": {}
      },
      "source": [
        "telco.dropna(subset=['TCGroup'], inplace=True)"
      ],
      "execution_count": 0,
      "outputs": []
    },
    {
      "cell_type": "code",
      "metadata": {
        "id": "jM2HwpNqOthW",
        "colab_type": "code",
        "outputId": "e8499ce7-86f2-49b4-a568-ea68d6747d93",
        "colab": {
          "base_uri": "https://localhost:8080/",
          "height": 461
        }
      },
      "source": [
        "telco.isnull().sum().sort_values(ascending=False)"
      ],
      "execution_count": 22,
      "outputs": [
        {
          "output_type": "execute_result",
          "data": {
            "text/plain": [
              "TCGroup             0\n",
              "MCGroup             0\n",
              "gender              0\n",
              "SeniorCitizen       0\n",
              "Partner             0\n",
              "Dependents          0\n",
              "tenure              0\n",
              "PhoneService        0\n",
              "MultipleLines       0\n",
              "InternetService     0\n",
              "OnlineSecurity      0\n",
              "OnlineBackup        0\n",
              "DeviceProtection    0\n",
              "TechSupport         0\n",
              "StreamingTV         0\n",
              "StreamingMovies     0\n",
              "Contract            0\n",
              "PaperlessBilling    0\n",
              "PaymentMethod       0\n",
              "MonthlyCharges      0\n",
              "TotalCharges        0\n",
              "Churn               0\n",
              "TenureGroup         0\n",
              "customerID          0\n",
              "dtype: int64"
            ]
          },
          "metadata": {
            "tags": []
          },
          "execution_count": 22
        }
      ]
    },
    {
      "cell_type": "markdown",
      "metadata": {
        "id": "SU-6a6jqmleq",
        "colab_type": "text"
      },
      "source": [
        "# Data Analysis"
      ]
    },
    {
      "cell_type": "code",
      "metadata": {
        "id": "iWIsA20iPGGA",
        "colab_type": "code",
        "outputId": "ae0cf333-8032-497b-ad9e-8816c85e86b1",
        "colab": {
          "base_uri": "https://localhost:8080/",
          "height": 360
        }
      },
      "source": [
        "plt.figure(figsize=(10,5))\n",
        "sns.countplot(\"Churn\", hue=\"Contract\", palette=\"Oranges\",data=telco)\n",
        "plt.title(\"Churn vs. Contract\",fontsize=10,fontweight=\"bold\")\n",
        "plt.xlabel(\"Churn vs. Contract\")\n",
        "plt.ylabel(\"Count\")\n",
        "plt.subplots_adjust(top=1.88, bottom=1.09, right=1.48)\n",
        "plt.show()"
      ],
      "execution_count": 23,
      "outputs": [
        {
          "output_type": "display_data",
          "data": {
            "image/png": "[encoded data removed]",
            "text/plain": [
              "<Figure size 720x360 with 1 Axes>"
            ]
          },
          "metadata": {
            "tags": []
          }
        }
      ]
    },
    {
      "cell_type": "markdown",
      "metadata": {
        "id": "_of4gld-mqwK",
        "colab_type": "text"
      },
      "source": [
        "More customers are more likely to not recommend the company with a month-to-month contract based on those who voted \"Yes\" to churn. A reason those types of customers only can to month-to-month contract is that they have a limited budget that prevents them from doing yearly contracts. Those types of customers may experience late fees for not paying on time, which inflates their decision to not recommend the company when the company is not at fault."
      ]
    },
    {
      "cell_type": "code",
      "metadata": {
        "id": "hHa56QfGU9Bi",
        "colab_type": "code",
        "outputId": "e014e53e-c973-4b5d-c7da-67801bcc2a28",
        "colab": {
          "base_uri": "https://localhost:8080/",
          "height": 360
        }
      },
      "source": [
        "plt.figure(figsize=(10,5))\n",
        "sns.countplot(\"Churn\", hue=\"SeniorCitizen\", palette=\"Oranges\",data=telco)\n",
        "plt.title(\"Churn vs. Senior Citizen\",fontsize=10,fontweight=\"bold\")\n",
        "plt.xlabel(\"Churn vs. Senior Citizen\")\n",
        "plt.ylabel(\"Count\")\n",
        "plt.subplots_adjust(top=1.88, bottom=1.09, right=1.48)\n",
        "plt.show()"
      ],
      "execution_count": 24,
      "outputs": [
        {
          "output_type": "display_data",
          "data": {
            "image/png": "[encoded data removed]",
            "text/plain": [
              "<Figure size 720x360 with 1 Axes>"
            ]
          },
          "metadata": {
            "tags": []
          }
        }
      ]
    },
    {
      "cell_type": "markdown",
      "metadata": {
        "id": "Otdu6vY8ttF5",
        "colab_type": "text"
      },
      "source": [
        "Senior citizens are less likely to churn because there is an implication they receive a discount on services. Another implication may not be the discount, but their loyalty to the company (which causes them to have more incentives for them being with the company long). I predicted senior citizens were going to churn from the company because companies now emphasize on paperless billing. In the graph below, senior citizens did not sign up for paperless billing, which meant they are used to paying bills by mail."
      ]
    },
    {
      "cell_type": "code",
      "metadata": {
        "id": "TYfqLMuOQA9P",
        "colab_type": "code",
        "outputId": "d2c7f2ad-81bf-413f-c286-4e7343f7e55d",
        "colab": {
          "base_uri": "https://localhost:8080/",
          "height": 360
        }
      },
      "source": [
        "plt.figure(figsize=(10,5))\n",
        "sns.countplot(\"PaperlessBilling\", hue=\"SeniorCitizen\", palette=\"Oranges\",data=telco)\n",
        "plt.title(\"PaperlessBilling vs. Senior Citizen\",fontsize=10,fontweight=\"bold\")\n",
        "plt.xlabel(\"PaperlessBilling vs. Senior Citizen\")\n",
        "plt.ylabel(\"Count\")\n",
        "plt.subplots_adjust(top=1.88, bottom=1.09, right=1.48)\n",
        "plt.show()"
      ],
      "execution_count": 25,
      "outputs": [
        {
          "output_type": "display_data",
          "data": {
            "image/png": "[encoded data removed]",
            "text/plain": [
              "<Figure size 720x360 with 1 Axes>"
            ]
          },
          "metadata": {
            "tags": []
          }
        }
      ]
    },
    {
      "cell_type": "code",
      "metadata": {
        "id": "7s1BpmurREmq",
        "colab_type": "code",
        "outputId": "1e07ecb6-0e73-4329-b696-b6fc901f19ce",
        "colab": {
          "base_uri": "https://localhost:8080/",
          "height": 360
        }
      },
      "source": [
        "plt.figure(figsize=(10,5))\n",
        "sns.countplot(\"Churn\", hue=\"TenureGroup\", palette=\"Oranges\",data=telco)\n",
        "plt.title(\"Churn vs. TenureGroup\",fontsize=10,fontweight=\"bold\")\n",
        "plt.xlabel(\"Churn vs. TenureGroup\")\n",
        "plt.ylabel(\"Count\")\n",
        "plt.subplots_adjust(top=1.88, bottom=1.09, right=1.48)\n",
        "plt.show()"
      ],
      "execution_count": 26,
      "outputs": [
        {
          "output_type": "display_data",
          "data": {
            "image/png": "[encoded data removed]",
            "text/plain": [
              "<Figure size 720x360 with 1 Axes>"
            ]
          },
          "metadata": {
            "tags": []
          }
        }
      ]
    },
    {
      "cell_type": "markdown",
      "metadata": {
        "id": "OgY9IaPA39HW",
        "colab_type": "text"
      },
      "source": [
        "Customers who have been with the company longer are less likely to churn because there is an implication they receive a special discount for staying with the company for a while. Those customers who have stayed with the company for less than 15 years did not recommend the company and did not show enough patience to stay longer with the company.\n",
        "\n",
        "\n"
      ]
    },
    {
      "cell_type": "code",
      "metadata": {
        "id": "FAVFJcoezbL8",
        "colab_type": "code",
        "outputId": "0a5d1734-7e36-478a-888b-de0a913fd96b",
        "colab": {
          "base_uri": "https://localhost:8080/",
          "height": 350
        }
      },
      "source": [
        "plt.figure(figsize=(10,5))\n",
        "sns.countplot(\"Churn\", hue=\"MCGroup\", palette=\"Oranges\",data=telco)\n",
        "plt.title(\"Churn vs. Monthly Charges\",fontsize=10,fontweight=\"bold\")\n",
        "plt.xlabel(\"Churn vs. Monthly Charges\")\n",
        "plt.ylabel(\"Count\")\n",
        "plt.subplots_adjust(top=2.35, bottom=1.59, right=2.48)\n",
        "plt.show()"
      ],
      "execution_count": 27,
      "outputs": [
        {
          "output_type": "display_data",
          "data": {
            "image/png": "[encoded data removed]",
            "text/plain": [
              "<Figure size 720x360 with 1 Axes>"
            ]
          },
          "metadata": {
            "tags": []
          }
        }
      ]
    },
    {
      "cell_type": "markdown",
      "metadata": {
        "id": "qjHxPkMLrQ8v",
        "colab_type": "text"
      },
      "source": [
        "Customers who paid `$70/month` are most likely to churn due to the expensive services offered. Those who paid less than $30 are satisfied with the services, which implicates they still recommended the service."
      ]
    },
    {
      "cell_type": "code",
      "metadata": {
        "id": "vL3C9QbQURcE",
        "colab_type": "code",
        "outputId": "e6b03dc5-5157-4e26-c885-86f545c8ab9f",
        "colab": {
          "base_uri": "https://localhost:8080/",
          "height": 360
        }
      },
      "source": [
        "plt.figure(figsize=(10,5))\n",
        "sns.countplot(\"Churn\", hue=\"PhoneService\", palette=\"Oranges\",data=telco)\n",
        "plt.title(\"Churn vs. PhoneServices\",fontsize=10,fontweight=\"bold\")\n",
        "plt.xlabel(\"Churn vs. PhoneServices\")\n",
        "plt.ylabel(\"Count\")\n",
        "plt.subplots_adjust(top=1.88, bottom=1.09, right=1.48)\n",
        "plt.show()"
      ],
      "execution_count": 28,
      "outputs": [
        {
          "output_type": "display_data",
          "data": {
            "image/png": "[encoded data removed]",
            "text/plain": [
              "<Figure size 720x360 with 1 Axes>"
            ]
          },
          "metadata": {
            "tags": []
          }
        }
      ]
    },
    {
      "cell_type": "markdown",
      "metadata": {
        "id": "_RX-5yH2vJmw",
        "colab_type": "text"
      },
      "source": [
        "More customers (who churned) voted yes to having phone service. Those churned customers that had phone service were unlikely satisfied with their services based on quality, and/or price."
      ]
    },
    {
      "cell_type": "code",
      "metadata": {
        "id": "7maiUADFXzgh",
        "colab_type": "code",
        "outputId": "d1973b29-3a8f-4eac-cc42-5a142c95bcc7",
        "colab": {
          "base_uri": "https://localhost:8080/",
          "height": 360
        }
      },
      "source": [
        "plt.figure(figsize=(10,5))\n",
        "sns.countplot(\"Churn\", hue=\"InternetService\", palette=\"Oranges\",data=telco)\n",
        "plt.title(\"Churn vs. InternetServices\",fontsize=10,fontweight=\"bold\")\n",
        "plt.xlabel(\"Churn vs. InternetServices\")\n",
        "plt.ylabel(\"Count\")\n",
        "plt.subplots_adjust(top=1.88, bottom=1.09, right=1.48)\n",
        "plt.show()"
      ],
      "execution_count": 29,
      "outputs": [
        {
          "output_type": "display_data",
          "data": {
            "image/png": "[encoded data removed]",
            "text/plain": [
              "<Figure size 720x360 with 1 Axes>"
            ]
          },
          "metadata": {
            "tags": []
          }
        }
      ]
    },
    {
      "cell_type": "markdown",
      "metadata": {
        "id": "12j1XpAK9Aco",
        "colab_type": "text"
      },
      "source": [
        "Those churned customers are the ones who use Fiber Optic. Because Fiber Optic is faster than DSL, it is an implication that it is more expensive."
      ]
    },
    {
      "cell_type": "code",
      "metadata": {
        "id": "kVJXkc7ZY8rU",
        "colab_type": "code",
        "outputId": "6ac84a2b-571d-4951-8457-5904bd63c537",
        "colab": {
          "base_uri": "https://localhost:8080/",
          "height": 467
        }
      },
      "source": [
        "plt.figure(figsize=(10,5))\n",
        "sns.countplot(\"Churn\", hue=\"TCGroup\", palette=\"Oranges\",data=telco)\n",
        "plt.title(\"Churn vs. Total Charges\",fontsize=10,fontweight=\"bold\")\n",
        "plt.xlabel(\"Churn vs. Total Charges\")\n",
        "plt.ylabel(\"Count\")\n",
        "plt.subplots_adjust(top=4.88, bottom=3.79, right=2.76)\n",
        "plt.show()"
      ],
      "execution_count": 30,
      "outputs": [
        {
          "output_type": "display_data",
          "data": {
            "image/png": "[encoded data removed]",
            "text/plain": [
              "<Figure size 720x360 with 1 Axes>"
            ]
          },
          "metadata": {
            "tags": []
          }
        }
      ]
    },
    {
      "cell_type": "markdown",
      "metadata": {
        "id": "7i0SO_0FIZL7",
        "colab_type": "text"
      },
      "source": [
        "Those churned customers are theones that paid a total of $1,000 month. The more they paid in total, they less of a chance they would churn the company."
      ]
    },
    {
      "cell_type": "code",
      "metadata": {
        "id": "aXYAXrE3X5Kc",
        "colab_type": "code",
        "outputId": "b65e32d4-a86b-41fe-8129-41757708a579",
        "colab": {
          "base_uri": "https://localhost:8080/",
          "height": 360
        }
      },
      "source": [
        "plt.figure(figsize=(10,5))\n",
        "sns.countplot(\"Churn\", hue=\"PaperlessBilling\", palette=\"Oranges\",data=telco)\n",
        "plt.title(\"Churn vs. Paperless Billing\",fontsize=10,fontweight=\"bold\")\n",
        "plt.xlabel(\"Churn vs. Paperless Billing\")\n",
        "plt.ylabel(\"Count\")\n",
        "plt.subplots_adjust(top=1.88, bottom=1.09, right=1.48)\n",
        "plt.show()"
      ],
      "execution_count": 31,
      "outputs": [
        {
          "output_type": "display_data",
          "data": {
            "image/png": "[encoded data removed]",
            "text/plain": [
              "<Figure size 720x360 with 1 Axes>"
            ]
          },
          "metadata": {
            "tags": []
          }
        }
      ]
    },
    {
      "cell_type": "markdown",
      "metadata": {
        "id": "jTuJMB3NIg2w",
        "colab_type": "text"
      },
      "source": [
        "Those who did churn actually did vote for paperless billing as their preference. What I learned from it is that not choosing paperless billing does not always play in a factor of a customer churning.\n",
        "\n",
        "---\n",
        "\n"
      ]
    },
    {
      "cell_type": "code",
      "metadata": {
        "id": "JzV9HFlYCke5",
        "colab_type": "code",
        "colab": {}
      },
      "source": [
        "lb = LabelEncoder()\n",
        "\n",
        "for col in telco.columns:\n",
        "  telco[col]=lb.fit_transform(telco[col])"
      ],
      "execution_count": 0,
      "outputs": []
    },
    {
      "cell_type": "code",
      "metadata": {
        "id": "dFSjqty1FmMm",
        "colab_type": "code",
        "outputId": "8f81a747-2f99-4391-f665-691a67e8d02f",
        "colab": {
          "base_uri": "https://localhost:8080/",
          "height": 307
        }
      },
      "source": [
        "telco.describe()"
      ],
      "execution_count": 33,
      "outputs": [
        {
          "output_type": "execute_result",
          "data": {
            "text/html": [
              "<div>\n",
              "<style scoped>\n",
              "    .dataframe tbody tr th:only-of-type {\n",
              "        vertical-align: middle;\n",
              "    }\n",
              "\n",
              "    .dataframe tbody tr th {\n",
              "        vertical-align: top;\n",
              "    }\n",
              "\n",
              "    .dataframe thead th {\n",
              "        text-align: right;\n",
              "    }\n",
              "</style>\n",
              "<table border=\"1\" class=\"dataframe\">\n",
              "  <thead>\n",
              "    <tr style=\"text-align: right;\">\n",
              "      <th></th>\n",
              "      <th>customerID</th>\n",
              "      <th>gender</th>\n",
              "      <th>SeniorCitizen</th>\n",
              "      <th>Partner</th>\n",
              "      <th>Dependents</th>\n",
              "      <th>tenure</th>\n",
              "      <th>PhoneService</th>\n",
              "      <th>MultipleLines</th>\n",
              "      <th>InternetService</th>\n",
              "      <th>OnlineSecurity</th>\n",
              "      <th>OnlineBackup</th>\n",
              "      <th>DeviceProtection</th>\n",
              "      <th>TechSupport</th>\n",
              "      <th>StreamingTV</th>\n",
              "      <th>StreamingMovies</th>\n",
              "      <th>Contract</th>\n",
              "      <th>PaperlessBilling</th>\n",
              "      <th>PaymentMethod</th>\n",
              "      <th>MonthlyCharges</th>\n",
              "      <th>TotalCharges</th>\n",
              "      <th>Churn</th>\n",
              "      <th>TenureGroup</th>\n",
              "      <th>MCGroup</th>\n",
              "      <th>TCGroup</th>\n",
              "    </tr>\n",
              "  </thead>\n",
              "  <tbody>\n",
              "    <tr>\n",
              "      <th>count</th>\n",
              "      <td>7043.000000</td>\n",
              "      <td>7043.000000</td>\n",
              "      <td>7043.000000</td>\n",
              "      <td>7043.000000</td>\n",
              "      <td>7043.000000</td>\n",
              "      <td>7043.000000</td>\n",
              "      <td>7043.000000</td>\n",
              "      <td>7043.000000</td>\n",
              "      <td>7043.000000</td>\n",
              "      <td>7043.000000</td>\n",
              "      <td>7043.000000</td>\n",
              "      <td>7043.000000</td>\n",
              "      <td>7043.000000</td>\n",
              "      <td>7043.000000</td>\n",
              "      <td>7043.000000</td>\n",
              "      <td>7043.000000</td>\n",
              "      <td>7043.000000</td>\n",
              "      <td>7043.000000</td>\n",
              "      <td>7043.000000</td>\n",
              "      <td>7043.000000</td>\n",
              "      <td>7043.000000</td>\n",
              "      <td>7043.000000</td>\n",
              "      <td>7043.000000</td>\n",
              "      <td>7043.000000</td>\n",
              "    </tr>\n",
              "    <tr>\n",
              "      <th>mean</th>\n",
              "      <td>3521.000000</td>\n",
              "      <td>0.504756</td>\n",
              "      <td>0.162147</td>\n",
              "      <td>0.483033</td>\n",
              "      <td>0.299588</td>\n",
              "      <td>32.371149</td>\n",
              "      <td>0.903166</td>\n",
              "      <td>0.940508</td>\n",
              "      <td>0.872923</td>\n",
              "      <td>0.790004</td>\n",
              "      <td>0.906432</td>\n",
              "      <td>0.904444</td>\n",
              "      <td>0.797104</td>\n",
              "      <td>0.985376</td>\n",
              "      <td>0.992475</td>\n",
              "      <td>0.690473</td>\n",
              "      <td>0.592219</td>\n",
              "      <td>1.574329</td>\n",
              "      <td>683.524776</td>\n",
              "      <td>3257.794122</td>\n",
              "      <td>0.265370</td>\n",
              "      <td>4.531592</td>\n",
              "      <td>4.816555</td>\n",
              "      <td>0.690473</td>\n",
              "    </tr>\n",
              "    <tr>\n",
              "      <th>std</th>\n",
              "      <td>2033.283305</td>\n",
              "      <td>0.500013</td>\n",
              "      <td>0.368612</td>\n",
              "      <td>0.499748</td>\n",
              "      <td>0.458110</td>\n",
              "      <td>24.559481</td>\n",
              "      <td>0.295752</td>\n",
              "      <td>0.948554</td>\n",
              "      <td>0.737796</td>\n",
              "      <td>0.859848</td>\n",
              "      <td>0.880162</td>\n",
              "      <td>0.879949</td>\n",
              "      <td>0.861551</td>\n",
              "      <td>0.885002</td>\n",
              "      <td>0.885091</td>\n",
              "      <td>0.833755</td>\n",
              "      <td>0.491457</td>\n",
              "      <td>1.068104</td>\n",
              "      <td>478.511521</td>\n",
              "      <td>1888.693496</td>\n",
              "      <td>0.441561</td>\n",
              "      <td>4.427614</td>\n",
              "      <td>2.824181</td>\n",
              "      <td>0.833755</td>\n",
              "    </tr>\n",
              "    <tr>\n",
              "      <th>min</th>\n",
              "      <td>0.000000</td>\n",
              "      <td>0.000000</td>\n",
              "      <td>0.000000</td>\n",
              "      <td>0.000000</td>\n",
              "      <td>0.000000</td>\n",
              "      <td>0.000000</td>\n",
              "      <td>0.000000</td>\n",
              "      <td>0.000000</td>\n",
              "      <td>0.000000</td>\n",
              "      <td>0.000000</td>\n",
              "      <td>0.000000</td>\n",
              "      <td>0.000000</td>\n",
              "      <td>0.000000</td>\n",
              "      <td>0.000000</td>\n",
              "      <td>0.000000</td>\n",
              "      <td>0.000000</td>\n",
              "      <td>0.000000</td>\n",
              "      <td>0.000000</td>\n",
              "      <td>0.000000</td>\n",
              "      <td>0.000000</td>\n",
              "      <td>0.000000</td>\n",
              "      <td>0.000000</td>\n",
              "      <td>0.000000</td>\n",
              "      <td>0.000000</td>\n",
              "    </tr>\n",
              "    <tr>\n",
              "      <th>25%</th>\n",
              "      <td>1760.500000</td>\n",
              "      <td>0.000000</td>\n",
              "      <td>0.000000</td>\n",
              "      <td>0.000000</td>\n",
              "      <td>0.000000</td>\n",
              "      <td>9.000000</td>\n",
              "      <td>1.000000</td>\n",
              "      <td>0.000000</td>\n",
              "      <td>0.000000</td>\n",
              "      <td>0.000000</td>\n",
              "      <td>0.000000</td>\n",
              "      <td>0.000000</td>\n",
              "      <td>0.000000</td>\n",
              "      <td>0.000000</td>\n",
              "      <td>0.000000</td>\n",
              "      <td>0.000000</td>\n",
              "      <td>0.000000</td>\n",
              "      <td>1.000000</td>\n",
              "      <td>199.000000</td>\n",
              "      <td>1609.000000</td>\n",
              "      <td>0.000000</td>\n",
              "      <td>0.000000</td>\n",
              "      <td>2.000000</td>\n",
              "      <td>0.000000</td>\n",
              "    </tr>\n",
              "    <tr>\n",
              "      <th>50%</th>\n",
              "      <td>3521.000000</td>\n",
              "      <td>1.000000</td>\n",
              "      <td>0.000000</td>\n",
              "      <td>0.000000</td>\n",
              "      <td>0.000000</td>\n",
              "      <td>29.000000</td>\n",
              "      <td>1.000000</td>\n",
              "      <td>1.000000</td>\n",
              "      <td>1.000000</td>\n",
              "      <td>1.000000</td>\n",
              "      <td>1.000000</td>\n",
              "      <td>1.000000</td>\n",
              "      <td>1.000000</td>\n",
              "      <td>1.000000</td>\n",
              "      <td>1.000000</td>\n",
              "      <td>0.000000</td>\n",
              "      <td>1.000000</td>\n",
              "      <td>2.000000</td>\n",
              "      <td>722.000000</td>\n",
              "      <td>3249.000000</td>\n",
              "      <td>0.000000</td>\n",
              "      <td>3.000000</td>\n",
              "      <td>6.000000</td>\n",
              "      <td>0.000000</td>\n",
              "    </tr>\n",
              "    <tr>\n",
              "      <th>75%</th>\n",
              "      <td>5281.500000</td>\n",
              "      <td>1.000000</td>\n",
              "      <td>0.000000</td>\n",
              "      <td>1.000000</td>\n",
              "      <td>1.000000</td>\n",
              "      <td>55.000000</td>\n",
              "      <td>1.000000</td>\n",
              "      <td>2.000000</td>\n",
              "      <td>1.000000</td>\n",
              "      <td>2.000000</td>\n",
              "      <td>2.000000</td>\n",
              "      <td>2.000000</td>\n",
              "      <td>2.000000</td>\n",
              "      <td>2.000000</td>\n",
              "      <td>2.000000</td>\n",
              "      <td>1.000000</td>\n",
              "      <td>1.000000</td>\n",
              "      <td>2.000000</td>\n",
              "      <td>1090.000000</td>\n",
              "      <td>4901.500000</td>\n",
              "      <td>1.000000</td>\n",
              "      <td>9.000000</td>\n",
              "      <td>7.000000</td>\n",
              "      <td>1.000000</td>\n",
              "    </tr>\n",
              "    <tr>\n",
              "      <th>max</th>\n",
              "      <td>7042.000000</td>\n",
              "      <td>1.000000</td>\n",
              "      <td>1.000000</td>\n",
              "      <td>1.000000</td>\n",
              "      <td>1.000000</td>\n",
              "      <td>72.000000</td>\n",
              "      <td>1.000000</td>\n",
              "      <td>2.000000</td>\n",
              "      <td>2.000000</td>\n",
              "      <td>2.000000</td>\n",
              "      <td>2.000000</td>\n",
              "      <td>2.000000</td>\n",
              "      <td>2.000000</td>\n",
              "      <td>2.000000</td>\n",
              "      <td>2.000000</td>\n",
              "      <td>2.000000</td>\n",
              "      <td>1.000000</td>\n",
              "      <td>3.000000</td>\n",
              "      <td>1584.000000</td>\n",
              "      <td>6530.000000</td>\n",
              "      <td>1.000000</td>\n",
              "      <td>12.000000</td>\n",
              "      <td>8.000000</td>\n",
              "      <td>2.000000</td>\n",
              "    </tr>\n",
              "  </tbody>\n",
              "</table>\n",
              "</div>"
            ],
            "text/plain": [
              "        customerID       gender  ...      MCGroup      TCGroup\n",
              "count  7043.000000  7043.000000  ...  7043.000000  7043.000000\n",
              "mean   3521.000000     0.504756  ...     4.816555     0.690473\n",
              "std    2033.283305     0.500013  ...     2.824181     0.833755\n",
              "min       0.000000     0.000000  ...     0.000000     0.000000\n",
              "25%    1760.500000     0.000000  ...     2.000000     0.000000\n",
              "50%    3521.000000     1.000000  ...     6.000000     0.000000\n",
              "75%    5281.500000     1.000000  ...     7.000000     1.000000\n",
              "max    7042.000000     1.000000  ...     8.000000     2.000000\n",
              "\n",
              "[8 rows x 24 columns]"
            ]
          },
          "metadata": {
            "tags": []
          },
          "execution_count": 33
        }
      ]
    },
    {
      "cell_type": "code",
      "metadata": {
        "id": "7akfgkEogFEv",
        "colab_type": "code",
        "colab": {}
      },
      "source": [
        "X= telco[['Contract', 'SeniorCitizen', 'TenureGroup','MCGroup','PhoneService','InternetService','TCGroup','PaperlessBilling']]\n",
        "y= telco['Churn']"
      ],
      "execution_count": 0,
      "outputs": []
    },
    {
      "cell_type": "code",
      "metadata": {
        "id": "h_IYi7HIgel4",
        "colab_type": "code",
        "colab": {}
      },
      "source": [
        "X_train, X_test, y_train, y_test = train_test_split(X,y, test_size = 0.3, random_state = 42)"
      ],
      "execution_count": 0,
      "outputs": []
    },
    {
      "cell_type": "code",
      "metadata": {
        "id": "VQF7rUsAghAW",
        "colab_type": "code",
        "outputId": "49cd95e2-c86a-451d-f50a-47bb21fd4b92",
        "colab": {
          "base_uri": "https://localhost:8080/",
          "height": 265
        }
      },
      "source": [
        "import timeit\n",
        "\n",
        "%timeit pass\n",
        "\n",
        "lr = LogisticRegression(random_state = 42)\n",
        "lr.fit(X_train, y_train)\n",
        "lr_predict = lr.predict(X_test)\n",
        "\n",
        "lr_conf_matrix = confusion_matrix(y_test, lr_predict)\n",
        "lr_acc_score = accuracy_score(y_test, lr_predict)\n",
        "\n",
        "print(\"\\n\")\n",
        "print(\"The Logistic Regression results are below:\")\n",
        "print(\"Accuracy:\",lr_acc_score*100)\n",
        "print(\"F1:\",f1_score(y_test, lr_predict, average=\"macro\")*100)\n",
        "print(\"Precision:\",precision_score(y_test,lr_predict, average=\"macro\")*100)\n",
        "print(\"Recall:\",recall_score(y_test, lr_predict, average=\"macro\")*100) \n",
        "print(\"Cross Validation:\", cross_val_score(lr, X_train, y_train, cv=3)*100)\n",
        "print(\"\\n\")\n",
        "\n",
        "print(\"Here is the confusion matrix below:\\n\",lr_conf_matrix)"
      ],
      "execution_count": 36,
      "outputs": [
        {
          "output_type": "stream",
          "text": [
            "100000000 loops, best of 3: 7.54 ns per loop\n",
            "\n",
            "\n",
            "The Logistic Regression results are below:\n",
            "Accuracy: 79.08187411263606\n",
            "F1: 71.66604777368418\n",
            "Precision: 73.59812103906592\n",
            "Recall: 70.46565701356438\n",
            "Cross Validation: [79.07542579 79.0626902  77.90626902]\n",
            "\n",
            "\n",
            "Here is the confusion matrix below:\n",
            " [[1376  167]\n",
            " [ 275  295]]\n"
          ],
          "name": "stdout"
        }
      ]
    },
    {
      "cell_type": "code",
      "metadata": {
        "id": "2Oq_iKVRBeIf",
        "colab_type": "code",
        "outputId": "d1608cac-7e62-4fa5-c570-574936779bd3",
        "colab": {
          "base_uri": "https://localhost:8080/",
          "height": 265
        }
      },
      "source": [
        "%timeit pass\n",
        "\n",
        "gbc = ensemble.GradientBoostingClassifier(loss='deviance', learning_rate=0.1, n_estimators=100, subsample=1.0, criterion='friedman_mse', min_samples_split=2, min_samples_leaf=1, min_weight_fraction_leaf=0.0, max_depth=3, min_impurity_decrease=0.0, min_impurity_split=None, init=None, random_state=42, max_features=None, verbose=0, max_leaf_nodes=None, warm_start=False, presort='auto', validation_fraction=0.1, n_iter_no_change=None, tol=0.0001)\n",
        "gbc.fit(X_train, y_train)\n",
        "pred_gbc = gbc.predict(X_test)\n",
        "\n",
        "print(\"\\n\")\n",
        "print(\"The Gradient Boosting Classifier results are below:\")\n",
        "print(\"Accuracy:\",accuracy_score(y_test,pred_gbc )*100)\n",
        "print(\"F1:\",f1_score(y_test, pred_gbc, average=\"macro\")*100)\n",
        "print(\"Precision:\",precision_score(y_test,pred_gbc, average=\"macro\")*100)\n",
        "print(\"Recall:\",recall_score(y_test, pred_gbc, average=\"macro\")*100) \n",
        "print(\"Cross Validation:\", cross_val_score(gbc, X_train, y_train, cv=3)*100)\n",
        "print(\"\\n\")\n",
        "print(\"Here is the confusion matrix below:\\n\", confusion_matrix(y_test,pred_gbc))"
      ],
      "execution_count": 37,
      "outputs": [
        {
          "output_type": "stream",
          "text": [
            "100000000 loops, best of 3: 7.54 ns per loop\n",
            "\n",
            "\n",
            "The Gradient Boosting Classifier results are below:\n",
            "Accuracy: 81.16422148603881\n",
            "F1: 73.93137011779294\n",
            "Precision: 77.00831847890672\n",
            "Recall: 72.22334026901342\n",
            "Cross Validation: [78.89294404 78.75836884 78.51491175]\n",
            "\n",
            "\n",
            "Here is the confusion matrix below:\n",
            " [[1414  129]\n",
            " [ 269  301]]\n"
          ],
          "name": "stdout"
        }
      ]
    },
    {
      "cell_type": "code",
      "metadata": {
        "id": "QaiornUBBeTx",
        "colab_type": "code",
        "outputId": "0caa851b-77b5-48c3-f486-4d6e99098756",
        "colab": {
          "base_uri": "https://localhost:8080/",
          "height": 265
        }
      },
      "source": [
        "%timeit pass\n",
        "\n",
        "rfc = RandomForestClassifier(random_state = 42)\n",
        "rfc.fit(X_train, y_train)\n",
        "pred_rfc = rfc.predict(X_test)\n",
        "\n",
        "print('\\n')\n",
        "print(\"The Random Forest Classifier results are below:\")\n",
        "print(\"Accuracy:\",accuracy_score(y_test,pred_rfc )*100)\n",
        "print(\"F1:\",f1_score(y_test,pred_rfc, average=\"macro\")*100)\n",
        "print(\"Precision:\",precision_score(y_test,pred_rfc, average=\"macro\")*100)\n",
        "print(\"Recall:\",recall_score(y_test, pred_rfc, average=\"macro\")*100) \n",
        "print(\"Cross Validation:\", cross_val_score(rfc, X_train, y_train, cv=3)*100)\n",
        "print(\"\\n\")\n",
        "print(\"Here is the confusion matrix below:\\n\", confusion_matrix(y_test,pred_rfc))"
      ],
      "execution_count": 38,
      "outputs": [
        {
          "output_type": "stream",
          "text": [
            "100000000 loops, best of 3: 7.54 ns per loop\n",
            "\n",
            "\n",
            "The Random Forest Classifier results are below:\n",
            "Accuracy: 78.98722195929957\n",
            "F1: 72.14916759683663\n",
            "Precision: 73.34214844295491\n",
            "Recall: 71.28588645950586\n",
            "Cross Validation: [77.37226277 76.44552648 75.47169811]\n",
            "\n",
            "\n",
            "Here is the confusion matrix below:\n",
            " [[1358  185]\n",
            " [ 259  311]]\n"
          ],
          "name": "stdout"
        }
      ]
    },
    {
      "cell_type": "code",
      "metadata": {
        "id": "upvCGUBdBeer",
        "colab_type": "code",
        "outputId": "46de6933-58b3-4747-d35c-7b8e94ff2091",
        "colab": {
          "base_uri": "https://localhost:8080/",
          "height": 265
        }
      },
      "source": [
        "\n",
        "%timeit pass\n",
        "\n",
        "svc = SVC(random_state = 42)\n",
        "svc.fit(X_train, y_train)\n",
        "pred_svc = svc.predict(X_test)\n",
        "\n",
        "print('\\n')\n",
        "print(\"The Support Vector Machine (Classifier) results are below:\")\n",
        "print(\"Accuracy:\",accuracy_score(y_test,pred_svc )*100)\n",
        "print(\"F1:\",f1_score(y_test, pred_svc, average=\"macro\")*100)\n",
        "print(\"Precision:\",precision_score(y_test,pred_svc, average=\"macro\")*100)\n",
        "print(\"Recall:\",recall_score(y_test, pred_svc, average=\"macro\")*100) \n",
        "print(\"Cross Validation:\", cross_val_score(svc, X_train, y_train, cv=3)*100)\n",
        "print(\"\\n\")\n",
        "print(\"Here is the confusion matrix below:\\n\", confusion_matrix(y_test,pred_svc))"
      ],
      "execution_count": 39,
      "outputs": [
        {
          "output_type": "stream",
          "text": [
            "100000000 loops, best of 3: 7.54 ns per loop\n",
            "\n",
            "\n",
            "The Support Vector Machine (Classifier) results are below:\n",
            "Accuracy: 79.9810695693327\n",
            "F1: 71.76141305566938\n",
            "Precision: 75.49337570559982\n",
            "Recall: 69.97504292162682\n",
            "Cross Validation: [79.31873479 78.51491175 78.63664029]\n",
            "\n",
            "\n",
            "Here is the confusion matrix below:\n",
            " [[1415  128]\n",
            " [ 295  275]]\n"
          ],
          "name": "stdout"
        }
      ]
    },
    {
      "cell_type": "markdown",
      "metadata": {
        "id": "N2CTTfnNcWlS",
        "colab_type": "text"
      },
      "source": [
        "# Unit 5 Specialization\n",
        "\n"
      ]
    },
    {
      "cell_type": "markdown",
      "metadata": {
        "id": "Y1udtAzBFCES",
        "colab_type": "text"
      },
      "source": [
        "# Which gender of tenured customers more likely to churn?\n",
        "\n",
        "0 is Female and 1 is Male\n",
        "\n"
      ]
    },
    {
      "cell_type": "code",
      "metadata": {
        "id": "wufZvi6aFBBH",
        "colab_type": "code",
        "outputId": "caac13e2-3cbc-41da-9e71-d7cbbd49797c",
        "colab": {
          "base_uri": "https://localhost:8080/",
          "height": 585
        }
      },
      "source": [
        "print('1 year at Telco Company')\n",
        "telco1 = telco.loc[telco['tenure'] == 1]\n",
        "telco1 = telco1.groupby(telco1['gender'])['Churn'].mean()\n",
        "print(telco1)\n",
        "print(stats.kstest(telco1, 'norm'))\n",
        "print('\\n')\n",
        "\n",
        "print('2 years at Telco Company')\n",
        "telco2 = telco.loc[telco['tenure'] == 2]\n",
        "telco2 = telco2.groupby(telco2['gender'])['Churn'].mean()\n",
        "print(telco2)\n",
        "print(stats.kstest(telco2, 'norm'))\n",
        "print('\\n')\n",
        "\n",
        "print('3 years at Telco Company')\n",
        "telco3 = telco.loc[telco['tenure'] == 3]\n",
        "telco3= telco3.groupby(telco3['gender'])['Churn'].mean()\n",
        "print(telco3)\n",
        "print(stats.kstest(telco3, 'norm'))\n",
        "print('\\n')\n",
        "\n",
        "print('4 years at Telco Company')\n",
        "telco4 = telco.loc[telco['tenure'] == 4]\n",
        "telco4= telco4.groupby(telco4['gender'])['Churn'].mean()\n",
        "print(telco4)\n",
        "print(stats.kstest(telco4, 'norm'))\n",
        "print('\\n')"
      ],
      "execution_count": 40,
      "outputs": [
        {
          "output_type": "stream",
          "text": [
            "1 year at Telco Company\n",
            "gender\n",
            "0    0.654930\n",
            "1    0.589666\n",
            "Name: Churn, dtype: float64\n",
            "KstestResult(statistic=0.7222925868319272, pvalue=0.15424281465700537)\n",
            "\n",
            "\n",
            "2 years at Telco Company\n",
            "gender\n",
            "0    0.523077\n",
            "1    0.509259\n",
            "Name: Churn, dtype: float64\n",
            "KstestResult(statistic=0.6947147446423894, pvalue=0.18639817427752306)\n",
            "\n",
            "\n",
            "3 years at Telco Company\n",
            "gender\n",
            "0    0.495050\n",
            "1    0.444444\n",
            "Name: Churn, dtype: float64\n",
            "KstestResult(statistic=0.6716393567181147, pvalue=0.21564142411298706)\n",
            "\n",
            "\n",
            "4 years at Telco Company\n",
            "gender\n",
            "0    0.534091\n",
            "1    0.409091\n",
            "Name: Churn, dtype: float64\n",
            "KstestResult(statistic=0.6587635262502591, pvalue=0.23288466203431518)\n",
            "\n",
            "\n"
          ],
          "name": "stdout"
        }
      ]
    },
    {
      "cell_type": "markdown",
      "metadata": {
        "id": "qD1ETgN9FPAP",
        "colab_type": "text"
      },
      "source": [
        "I chose tenured customers because they are relevant to the data set with churning. I broke down by each gender and it seems that more females as a Telco customer are more likely to churn. This indicates more females are likely to call out every mistake on a bill. Also, those type of customers are savvy, meaning they wanted a cheaper service since the service did not live up to quality. \n",
        "\n",
        "Also, for the customers that were with Telco for the first 2 years, new customers may not have seniority and get special treatment on certain services like the tenured customers.\n",
        "\n",
        "Because the p-values in all tenured customer groups are higher than 0.05 for tenure vs. churning, we cannot reject the null hypothesis. Therefore, the relationship between tenure and churning does not correlate well. However, as the tenured customers got younger, the p-value kept going lower.\n"
      ]
    },
    {
      "cell_type": "markdown",
      "metadata": {
        "id": "XNvpCx5RwH0z",
        "colab_type": "text"
      },
      "source": [
        "# Which gender of senior citizens more likely to churn?\n"
      ]
    },
    {
      "cell_type": "code",
      "metadata": {
        "id": "hEV3RY5vbAL0",
        "colab_type": "code",
        "outputId": "d8224e87-cf0d-4883-d4c7-795b317c19bf",
        "colab": {
          "base_uri": "https://localhost:8080/",
          "height": 105
        }
      },
      "source": [
        "telcosc1 = telco.loc[telco['SeniorCitizen'] == 1]\n",
        "telcosc1 = telcosc1.groupby(telcosc1['gender'])['Churn'].mean()\n",
        "print(telcosc1)\n",
        "print(stats.kstest(telcosc1, 'norm'))"
      ],
      "execution_count": 41,
      "outputs": [
        {
          "output_type": "stream",
          "text": [
            "gender\n",
            "0    0.422535\n",
            "1    0.411150\n",
            "Name: Churn, dtype: float64\n",
            "KstestResult(statistic=0.6595186617539919, pvalue=0.2318550833875852)\n"
          ],
          "name": "stdout"
        }
      ]
    },
    {
      "cell_type": "markdown",
      "metadata": {
        "id": "cBZlrx7HwMsJ",
        "colab_type": "text"
      },
      "source": [
        "I chose senior citizen because they are relevant to the data set with churning. With the increase of paying bills online electronically, I figured this type of demographic will likely churn since they have yet to transition into the new technology era.\n",
        "\n",
        "I broke down by each gender and it seems more female senior citizens are likely to churn Telco Company. Similar to my previous question in Unit 5, this indicates more females are likely to call out every mistake on a bill. Also, those type of customers are savvy, meaning they wanted a cheaper service since the service did not live up to quality. \n",
        "\n",
        "Because the p-value is higher than 0.05 for senior citizens vs. churning, we cannot reject the null hypothesis. Therefore, the relationship between senior citizens and churning do not correlate well.\n",
        "\n"
      ]
    },
    {
      "cell_type": "markdown",
      "metadata": {
        "id": "YM3-Ukno1xbj",
        "colab_type": "text"
      },
      "source": [
        "*Describe your model in detail: why you chose it, why it works, what problem it solves, how it will run in a production like environment. What would you need to do to maintain it going forward?*\n",
        "\n",
        "I chose Logistic Regression because it is straightforward to use and easy to train. \n",
        "\n",
        "I chose Gradient Boosting because of the decision trees that can predict which variables has the most popularity with each of the questions. Also, it handles null values, which may be the most useful model for my dataset. \n",
        "\n",
        "I chose Random Forest because it is faster to produce results. \n",
        "\n",
        "Also, my data is not all balanced so this feature is efficient to use. I chose Support Vector Classifier due to its flexibility for datasets.\n",
        "\n",
        "Gradient Boosting, Random Forest, Support Vector Classifier, and Logistic Regression are the models I chose for this based on the lessons I read. I checked on all those 4 models to determine which model would fit accurately with my model.\n",
        "\n",
        "Random Forest Classifier has the lowest accuracy score of 78.99% and the lowest overall for cross-validation scores. Logistic Regression has the second lowest accuracy score of 79.08% and the second lowest for cross-validation scores. Support Vector Machine has the second highest accuracy score with 79.98%, but it ranked 1st in cross-validation scores. Gradient Boosting has the highest accuracy score of 81.16%, but it ranked 2nd in cross-validation scores.  Therefore, The cross-validation scores is inconsistent with the four models I used in terms of ranking. \n",
        "\n",
        "The models work because of the consistent scores among the models and higher than expected scores. The problem that it helped determine if tenure customers are more likely to churn based on customer behavior such as the preferences for contracts, how long they have been a customer with Telco, and how much they pay monthly and in total charges. These factors may impact on customer retention. The results of my research will not only benefit Telco Company but it will also benefit other companies so it can inspire other customers to give true feedback to the company especially with the preferences of contracts.\n",
        "\n",
        "What I would need to do to maintain it going forward is to test out one more model (which is Feature Importances) to determine which variables are the most relevant.\n",
        "\n",
        "*What do the metrics you present (ie, Precision, Recall, Accuracy) mean in terms of the goals you set out for this project?*\n",
        "\n",
        "The best model is Gradient Boosting. 77.01% of precision means it is the ratio of accurately predicted positive observations out of the overall observations (True Positive divided by True Positive + False Positive). For Recall (sensitivity), 72.22% is the ratio of the accurately predicted positive observations out of the overall observations in the actual class *labeled* (True Positive divided by True Positive + False Negative). The recall score is lower because there are more false negative observations in the dataset. 81.16% of accuracy means (True Positive + True Negative)/(True Positive + False Positive + False Negative + True Negative)). This is the highest out of the three because there are more true negative observations.\n",
        "\n",
        "For *model tuning*, I will be presenting *4 different version of models* by changing a few variables to see which version works based on the improvement for **Gradient Boosting Models**.\n",
        "1\n",
        "\n"
      ]
    },
    {
      "cell_type": "markdown",
      "metadata": {
        "id": "c-yHCqQ6GTCn",
        "colab_type": "text"
      },
      "source": [
        "# Model Tuning - Gradient Boosting Classifier\n"
      ]
    },
    {
      "cell_type": "code",
      "metadata": {
        "id": "JKO9-GkiU08V",
        "colab_type": "code",
        "outputId": "684516fd-3e27-47b5-f328-d4f16595dc6c",
        "colab": {
          "base_uri": "https://localhost:8080/",
          "height": 265
        }
      },
      "source": [
        "%timeit pass\n",
        "\n",
        "gbc = ensemble.GradientBoostingClassifier(loss='deviance', learning_rate=0.1, n_estimators=100, subsample=1.0, criterion='friedman_mse', min_samples_split=2, min_samples_leaf=1, min_weight_fraction_leaf=0.0, max_depth=3, min_impurity_decrease=0.0, min_impurity_split=None, init=None, random_state=42, max_features=None, verbose=0, max_leaf_nodes=None, warm_start=False, presort='auto', validation_fraction=0.1, n_iter_no_change=None, tol=0.0001)\n",
        "gbc.fit(X_train, y_train)\n",
        "pred_gbc = gbc.predict(X_test)\n",
        "\n",
        "print(\"\\n\")\n",
        "print(\"The Gradient Boosting Classifier results are below:\")\n",
        "print(\"Accuracy:\",accuracy_score(y_test,pred_gbc )*100)\n",
        "print(\"F1:\",f1_score(y_test, pred_gbc, average=\"macro\")*100)\n",
        "print(\"Precision:\",precision_score(y_test,pred_gbc, average=\"macro\")*100)\n",
        "print(\"Recall:\",recall_score(y_test, pred_gbc, average=\"macro\")*100) \n",
        "print(\"Cross Validation:\", cross_val_score(gbc, X_train, y_train, cv=3)*100)\n",
        "print(\"\\n\")\n",
        "print(\"Here is the confusion matrix below:\\n\", confusion_matrix(y_test,pred_gbc))"
      ],
      "execution_count": 42,
      "outputs": [
        {
          "output_type": "stream",
          "text": [
            "100000000 loops, best of 3: 7.52 ns per loop\n",
            "\n",
            "\n",
            "The Gradient Boosting Classifier results are below:\n",
            "Accuracy: 81.16422148603881\n",
            "F1: 73.93137011779294\n",
            "Precision: 77.00831847890672\n",
            "Recall: 72.22334026901342\n",
            "Cross Validation: [78.89294404 78.75836884 78.51491175]\n",
            "\n",
            "\n",
            "Here is the confusion matrix below:\n",
            " [[1414  129]\n",
            " [ 269  301]]\n"
          ],
          "name": "stdout"
        }
      ]
    },
    {
      "cell_type": "markdown",
      "metadata": {
        "id": "ztVBNgTJGVld",
        "colab_type": "text"
      },
      "source": [
        "# Version A - I will reduce the estimators to 50 and increase the max depth to 4.\n"
      ]
    },
    {
      "cell_type": "code",
      "metadata": {
        "id": "IwU9tMXnGiGP",
        "colab_type": "code",
        "outputId": "141a4b90-2b2c-4ba1-9bf1-5b7a8306f67a",
        "colab": {
          "base_uri": "https://localhost:8080/",
          "height": 265
        }
      },
      "source": [
        "%timeit pass\n",
        "\n",
        "gbc = ensemble.GradientBoostingClassifier(loss='deviance', learning_rate=0.1, n_estimators=50, subsample=1.0, criterion='friedman_mse', min_samples_split=2, min_samples_leaf=1, min_weight_fraction_leaf=0.0, max_depth=4, min_impurity_decrease=0.0, min_impurity_split=None, init=None, random_state=42, max_features=None, verbose=0, max_leaf_nodes=None, warm_start=False, presort='auto', validation_fraction=0.1, n_iter_no_change=None, tol=0.0001)\n",
        "gbc.fit(X_train, y_train)\n",
        "pred_gbc = gbc.predict(X_test)\n",
        "\n",
        "print(\"\\n\")\n",
        "print(\"The Gradient Boosting Classifier for Version A results are below:\")\n",
        "print(\"Accuracy:\",accuracy_score(y_test,pred_gbc )*100)\n",
        "print(\"F1:\",f1_score(y_test, pred_gbc, average=\"macro\")*100)\n",
        "print(\"Precision:\",precision_score(y_test,pred_gbc, average=\"macro\")*100)\n",
        "print(\"Recall:\",recall_score(y_test, pred_gbc, average=\"macro\")*100) \n",
        "print(\"Cross Validation:\", cross_val_score(gbc, X_train, y_train, cv=3)*100)\n",
        "print(\"\\n\")\n",
        "print(\"Here is the confusion matrix below:\\n\", confusion_matrix(y_test,pred_gbc))"
      ],
      "execution_count": 47,
      "outputs": [
        {
          "output_type": "stream",
          "text": [
            "100000000 loops, best of 3: 7.53 ns per loop\n",
            "\n",
            "\n",
            "The Gradient Boosting Classifier for Version A results are below:\n",
            "Accuracy: 81.21154756270705\n",
            "F1: 74.5673998270054\n",
            "Precision: 76.7048890634204\n",
            "Recall: 73.19609782719924\n",
            "Cross Validation: [79.13625304 79.00182593 78.21059038]\n",
            "\n",
            "\n",
            "Here is the confusion matrix below:\n",
            " [[1398  145]\n",
            " [ 252  318]]\n"
          ],
          "name": "stdout"
        }
      ]
    },
    {
      "cell_type": "markdown",
      "metadata": {
        "id": "Kr66gRU3Uvyz",
        "colab_type": "text"
      },
      "source": [
        "For the accuracy, F1, and recall scores, they improved by 0.04733, 0.6537, and 0.973, respectively.\n",
        "\n",
        "However, the precision score went down by 0.3034. An implication of this is reducing the estimators dramatically made have played a part in this unusual trend. Also, the true positives (down by 16 to 1398) went in the wrong direction.\n",
        "\n",
        "Despite the negativity on the precision, the cross validation scores went up in the first two columns (up by 0.2433 and 0.2435, respectively) even though the third row column trended down by 0.3043.\n",
        "\n",
        "On the bright side, increasing the max depth to 4 did help improve the model in Version A compared to the original model and the false negatives did reduce by 17 (from 269 to 252).\n",
        "\n",
        "For the next model (Version B), I will test if increasing the estimators back to 100, which I hope will help my model better.\n",
        "\n"
      ]
    },
    {
      "cell_type": "markdown",
      "metadata": {
        "id": "qxqKz_CBGXY4",
        "colab_type": "text"
      },
      "source": [
        "# Version B - I will keep the max depth at 4 and increase the estimators back to 100.\n",
        "\n"
      ]
    },
    {
      "cell_type": "code",
      "metadata": {
        "id": "NGbsBI7QGi-L",
        "colab_type": "code",
        "outputId": "a571b56c-31c0-4ebd-b5c7-b338e405430f",
        "colab": {
          "base_uri": "https://localhost:8080/",
          "height": 265
        }
      },
      "source": [
        "%timeit pass\n",
        "\n",
        "gbc = ensemble.GradientBoostingClassifier(loss='deviance', learning_rate=0.1, n_estimators=100, subsample=1.0, criterion='friedman_mse', min_samples_split=2, min_samples_leaf=1, min_weight_fraction_leaf=0.0,\n",
        "                                          max_depth=4, min_impurity_decrease=0.0, min_impurity_split=None, init=None, random_state=42, max_features=None, verbose=0, max_leaf_nodes=None, warm_start=False, presort='auto', validation_fraction=0.1, n_iter_no_change=None, tol=0.0001)\n",
        "gbc.fit(X_train, y_train)\n",
        "pred_gbc = gbc.predict(X_test)\n",
        "\n",
        "print(\"\\n\")\n",
        "print(\"The Gradient Boosting Classifier for Version B results are below:\")\n",
        "print(\"Accuracy:\",accuracy_score(y_test,pred_gbc )*100)\n",
        "print(\"F1:\",f1_score(y_test, pred_gbc, average=\"macro\")*100)\n",
        "print(\"Precision:\",precision_score(y_test,pred_gbc, average=\"macro\")*100)\n",
        "print(\"Recall:\",recall_score(y_test, pred_gbc, average=\"macro\")*100) \n",
        "print(\"Cross Validation:\", cross_val_score(gbc, X_train, y_train, cv=3)*100)\n",
        "print(\"\\n\")\n",
        "print(\"Here is the confusion matrix below:\\n\", confusion_matrix(y_test,pred_gbc))"
      ],
      "execution_count": 44,
      "outputs": [
        {
          "output_type": "stream",
          "text": [
            "100000000 loops, best of 3: 7.54 ns per loop\n",
            "\n",
            "\n",
            "The Gradient Boosting Classifier results are below:\n",
            "Accuracy: 81.44817794604828\n",
            "F1: 74.80502162100339\n",
            "Precision: 77.10286415388066\n",
            "Recall: 73.35811986219599\n",
            "Cross Validation: [78.77128954 77.23676202 77.90626902]\n",
            "\n",
            "\n",
            "Here is the confusion matrix below:\n",
            " [[1403  140]\n",
            " [ 252  318]]\n"
          ],
          "name": "stdout"
        }
      ]
    },
    {
      "cell_type": "markdown",
      "metadata": {
        "id": "rIYzJX4GZzZE",
        "colab_type": "text"
      },
      "source": [
        "For the accuracy, F1, precision, and recall scores, they improved by 0.2366, 0.2376, 0.398, and 0.1621, respectively compared to Version A.\n",
        "\n",
        "For true positive it went up by 5 (from 1398 to 1403) vs. Version A. For false negatives, they stayed low at 252 vs. 269 from the original model.\n",
        "\n",
        "However, the cross-validation scores trended down from Version A (down by 0.3650, 1.7651, 0.3043, respectively). Still, this model has more pros than cons vs. Version A.\n",
        "\n",
        "For the next model (Version C), I will test if increasing the estimators up to 150 will help my model better.\n"
      ]
    },
    {
      "cell_type": "markdown",
      "metadata": {
        "id": "ydoZy_tAGkZj",
        "colab_type": "text"
      },
      "source": [
        "# Version C - I will keep the max depth at 4 and increase the estimators to 150.\n",
        "\n",
        "\n"
      ]
    },
    {
      "cell_type": "code",
      "metadata": {
        "id": "mkHh0NX3GlzP",
        "colab_type": "code",
        "outputId": "50e4157c-029b-465f-c728-da2ec55b8dd6",
        "colab": {
          "base_uri": "https://localhost:8080/",
          "height": 265
        }
      },
      "source": [
        "%timeit pass\n",
        "\n",
        "gbc = ensemble.GradientBoostingClassifier(loss='deviance', learning_rate=0.1, n_estimators=150, subsample=1.0, criterion='friedman_mse', min_samples_split=2, min_samples_leaf=1, min_weight_fraction_leaf=0.0,\n",
        "                                          max_depth=4, min_impurity_decrease=0.0, min_impurity_split=None, init=None, random_state=42, max_features=None, verbose=0, max_leaf_nodes=None, warm_start=False, presort='auto', validation_fraction=0.1, n_iter_no_change=None, tol=0.0001)\n",
        "gbc.fit(X_train, y_train)\n",
        "pred_gbc = gbc.predict(X_test)\n",
        "\n",
        "print(\"\\n\")\n",
        "print(\"The Gradient Boosting Classifier results for Version C are below:\")\n",
        "print(\"Accuracy:\",accuracy_score(y_test,pred_gbc )*100)\n",
        "print(\"F1:\",f1_score(y_test, pred_gbc, average=\"macro\")*100)\n",
        "print(\"Precision:\",precision_score(y_test,pred_gbc, average=\"macro\")*100)\n",
        "print(\"Recall:\",recall_score(y_test, pred_gbc, average=\"macro\")*100) \n",
        "print(\"Cross Validation:\", cross_val_score(gbc, X_train, y_train, cv=3)*100)\n",
        "print(\"\\n\")\n",
        "print(\"Here is the confusion matrix below:\\n\", confusion_matrix(y_test,pred_gbc))"
      ],
      "execution_count": 48,
      "outputs": [
        {
          "output_type": "stream",
          "text": [
            "100000000 loops, best of 3: 7.52 ns per loop\n",
            "\n",
            "\n",
            "The Gradient Boosting Classifier results for Version C are below:\n",
            "Accuracy: 81.02224325603407\n",
            "F1: 74.44453995297964\n",
            "Precision: 76.35760852980805\n",
            "Recall: 73.17710998169436\n",
            "Cross Validation: [79.01459854 77.60194766 77.90626902]\n",
            "\n",
            "\n",
            "Here is the confusion matrix below:\n",
            " [[1392  151]\n",
            " [ 250  320]]\n"
          ],
          "name": "stdout"
        }
      ]
    },
    {
      "cell_type": "markdown",
      "metadata": {
        "id": "UsG4cQS1aTwn",
        "colab_type": "text"
      },
      "source": [
        "Despite increasing the estimators up to 150, the scores went down in all categories.\n",
        "\n",
        "For the accuracy, F1, precision, and recall scores, they declined by 0.4258, 0.3605, 0.7453, and 0.181, respectively. Also, true positives (down 11 to 1392) went in the wrong direction.\n",
        "\n",
        "The only bright side of this model is that at least the false negative hit its lowest point yet (went from 252 to 250) and the cross-validation scores did go up (+0.1825, +0.3652, no change, respectively) vs. Version B.\n",
        "\n",
        "An assumption of the model not meeting my high expectations is where I went over a certain limit where I cannot make the estimators too high. Increasing the estimators higher than 150 may cause the model to perform worse than the original model.\n",
        "\n",
        "Therefore, I will test if increasing the estimators down to 125 will help the next model (Version D) better.\n",
        "\n"
      ]
    },
    {
      "cell_type": "markdown",
      "metadata": {
        "id": "FRBuaYO7a0B9",
        "colab_type": "text"
      },
      "source": [
        "# Version D - I will keep the max depth at 4, but decrease the estimators down to 125.\n"
      ]
    },
    {
      "cell_type": "code",
      "metadata": {
        "id": "06ZqqBSmbA4h",
        "colab_type": "code",
        "outputId": "f17bc49a-0310-48da-c939-7661bf7be877",
        "colab": {
          "base_uri": "https://localhost:8080/",
          "height": 265
        }
      },
      "source": [
        "%timeit pass\n",
        "\n",
        "gbc = ensemble.GradientBoostingClassifier(loss='deviance', learning_rate=0.1, n_estimators=125, subsample=1.0, criterion='friedman_mse', min_samples_split=2, min_samples_leaf=1, min_weight_fraction_leaf=0.0,\n",
        "                                          max_depth=4, min_impurity_decrease=0.0, min_impurity_split=None, init=None, random_state=40, max_features=None, verbose=0, max_leaf_nodes=None, warm_start=False, presort='auto', validation_fraction=0.1, n_iter_no_change=None, tol=0.0001)\n",
        "gbc.fit(X_train, y_train)\n",
        "pred_gbc = gbc.predict(X_test)\n",
        "\n",
        "print(\"\\n\")\n",
        "print(\"The Gradient Boosting Classifier results for Version D are below:\")\n",
        "print(\"Accuracy:\",accuracy_score(y_test,pred_gbc )*100)\n",
        "print(\"F1:\",f1_score(y_test, pred_gbc, average=\"macro\")*100)\n",
        "print(\"Precision:\",precision_score(y_test,pred_gbc, average=\"macro\")*100)\n",
        "print(\"Recall:\",recall_score(y_test, pred_gbc, average=\"macro\")*100) \n",
        "print(\"Cross Validation:\", cross_val_score(gbc, X_train, y_train, cv=3)*100)\n",
        "print(\"\\n\")\n",
        "print(\"Here is the confusion matrix below:\\n\", confusion_matrix(y_test,pred_gbc))"
      ],
      "execution_count": 49,
      "outputs": [
        {
          "output_type": "stream",
          "text": [
            "100000000 loops, best of 3: 7.53 ns per loop\n",
            "\n",
            "\n",
            "The Gradient Boosting Classifier results for Version D are below:\n",
            "Accuracy: 81.21154756270705\n",
            "F1: 74.5673998270054\n",
            "Precision: 76.7048890634204\n",
            "Recall: 73.19609782719924\n",
            "Cross Validation: [78.83211679 77.78454047 77.84540475]\n",
            "\n",
            "\n",
            "Here is the confusion matrix below:\n",
            " [[1398  145]\n",
            " [ 252  318]]\n"
          ],
          "name": "stdout"
        }
      ]
    },
    {
      "cell_type": "markdown",
      "metadata": {
        "id": "s9bqLndmbKfV",
        "colab_type": "text"
      },
      "source": [
        "This strategy paid off of decreased the estimators to 125, which caused the scores in all categories to go up vs. Version C. For example, the accuracy, F1, precision, and recall scores, improved by 0.1893, 0.1229, 0.3473, and 0.0190, respectively. Also, true positives (up 6 to 1398) went in the right direction.\n",
        "\n",
        "For the cross validation scores, it did decline in the first column vs. Version C by 0.1825. However, the second and third columns both went up by 0.1826 and 0.0609, respectively.\n",
        "\n",
        "However, the negative part of this model is the false negative (up 2 to 252) trended in the wrong direction for the most part vs. Version C.\n",
        "\n",
        "Unfortunately, Version D’s scores were not as strong as Versions A and B because 100 is the limit for the number of estimators to attempt and improve the model for its results.\n"
      ]
    },
    {
      "cell_type": "markdown",
      "metadata": {
        "id": "B0ryG4XqduBo",
        "colab_type": "text"
      },
      "source": [
        "# Findings on Model Tuning\n"
      ]
    },
    {
      "cell_type": "markdown",
      "metadata": {
        "id": "4YK3gYCLdxXO",
        "colab_type": "text"
      },
      "source": [
        "*Why did I choose not to decrease the max depth or increase it further?*\n",
        "\n",
        "When I realized I went to far by increasing the estimators dramatically when it hurt Version C model, the models indicate changing the max depth dramatically would also hurt my model.\n",
        "\n",
        "\n",
        "*Which version of the models are the best?*\n",
        "\n",
        "Version B is the bestfor model tuning because arriving at 100 reached its peak after attempting to bring up the estimators above 100 for Version C and D. Also, the scores among all the categories are the highest and the models keeps the false negatives to a minimum (trimming from 269 in the original model to 252 to in Version B) even though Version C has the lowest false negatives.\n",
        "\n",
        "*Should accuracy or recall be treated higher than sensitivity? Bring up these questions and an answer in your conclusions.*\n",
        "\n",
        "Accuracy takes precedence over recall and sensitivity because it helps me choose the best model. Yes, there is some inconsistencies with cross validations and confusion matrix not correlating well compared to the accuracy scores. For example, Version B (best model) had the lowest cross validation scores of all the tuned models. Also, Version C had the lowest number of false negatives; yet, it had the lowest scores among all the categories. Furthermore, the precision score trended down in Version A compared to the original model. Additionally, I learned scaling back the number of estimators in Version D (from 150 to 125) vs. Version C did not reach the level of the accuracy scores for versions A and B.\n",
        "\n",
        "\n",
        "Despite the cons of accuracy I listed, I still choose accuracy for these reasons:\n",
        "\n",
        "1.   The cross-validation scores are consistent (meaning none went way above 79 or way below 77) with all the other models. \n",
        "2.   All the accuracy scores trended the same way in all of the tuned models.\n",
        "3.   Accuracy has the full formula and true story in every model.\n",
        "\n"
      ]
    },
    {
      "cell_type": "markdown",
      "metadata": {
        "id": "8lPOPFIedleG",
        "colab_type": "text"
      },
      "source": [
        "# Feature Importances"
      ]
    },
    {
      "cell_type": "code",
      "metadata": {
        "id": "-_jjBuOHW32L",
        "colab_type": "code",
        "outputId": "8c1e59d3-2092-4b80-fe68-88eab48e3dd9",
        "colab": {
          "base_uri": "https://localhost:8080/",
          "height": 141
        }
      },
      "source": [
        "\n",
        "rfr = ensemble.RandomForestRegressor()\n",
        "rfr.fit(X_train, y_train)\n"
      ],
      "execution_count": 0,
      "outputs": [
        {
          "output_type": "execute_result",
          "data": {
            "text/plain": [
              "RandomForestRegressor(bootstrap=True, criterion='mse', max_depth=None,\n",
              "                      max_features='auto', max_leaf_nodes=None,\n",
              "                      min_impurity_decrease=0.0, min_impurity_split=None,\n",
              "                      min_samples_leaf=1, min_samples_split=2,\n",
              "                      min_weight_fraction_leaf=0.0, n_estimators=10,\n",
              "                      n_jobs=None, oob_score=False, random_state=None,\n",
              "                      verbose=0, warm_start=False)"
            ]
          },
          "metadata": {
            "tags": []
          },
          "execution_count": 37
        }
      ]
    },
    {
      "cell_type": "code",
      "metadata": {
        "id": "Z3T5C8KgW4O8",
        "colab_type": "code",
        "outputId": "b356c15d-8954-4530-a666-581bb9029f26",
        "colab": {
          "base_uri": "https://localhost:8080/",
          "height": 34
        }
      },
      "source": [
        "rfr.score(X_test, y_test)"
      ],
      "execution_count": 0,
      "outputs": [
        {
          "output_type": "execute_result",
          "data": {
            "text/plain": [
              "0.24469392462219475"
            ]
          },
          "metadata": {
            "tags": []
          },
          "execution_count": 38
        }
      ]
    },
    {
      "cell_type": "code",
      "metadata": {
        "id": "JjhDEpCgW8As",
        "colab_type": "code",
        "outputId": "7f767b38-49de-4da0-c6f9-64016d6e16a2",
        "colab": {
          "base_uri": "https://localhost:8080/",
          "height": 34
        }
      },
      "source": [
        "print(cross_val_score(rfr, X_train, y_train, cv=5))"
      ],
      "execution_count": 0,
      "outputs": [
        {
          "output_type": "stream",
          "text": [
            "[0.16009356 0.18418187 0.23763209 0.16793888 0.10989132]\n"
          ],
          "name": "stdout"
        }
      ]
    },
    {
      "cell_type": "code",
      "metadata": {
        "id": "D8KvqBl2BesJ",
        "colab_type": "code",
        "outputId": "cfbb926a-2c0a-491d-e754-ddeea15f87c4",
        "colab": {
          "base_uri": "https://localhost:8080/",
          "height": 194
        }
      },
      "source": [
        "importances = rfr.feature_importances_ \n",
        "stdev = np.std([tree.feature_importances_ for tree in rfr.estimators_],\n",
        "             axis=0)\n",
        "indices = np.argsort(importances)[::-1]\n",
        "\n",
        "print(\"Feature rankings:\")\n",
        "g = 1\n",
        "for f in range(X.shape[1]):\n",
        "    if importances[indices[f]] > 0.01:\n",
        "        print(\"%d. feature %d (%f)\" % (f + 1, indices[f], importances[indices[f]]))\n",
        "        g += 1\n",
        "    else:\n",
        "        continue\n",
        "print(g)"
      ],
      "execution_count": 0,
      "outputs": [
        {
          "output_type": "stream",
          "text": [
            "Feature rankings:\n",
            "1. feature 2 (0.227573)\n",
            "2. feature 6 (0.201122)\n",
            "3. feature 0 (0.199985)\n",
            "4. feature 3 (0.190953)\n",
            "5. feature 5 (0.061072)\n",
            "6. feature 7 (0.057888)\n",
            "7. feature 1 (0.048850)\n",
            "8. feature 4 (0.012557)\n",
            "9\n"
          ],
          "name": "stdout"
        }
      ]
    },
    {
      "cell_type": "code",
      "metadata": {
        "id": "w78PqgVQZpRF",
        "colab_type": "code",
        "colab": {}
      },
      "source": [
        "feat = {}\n",
        "for feature, importance in zip(X.columns, rfr.feature_importances_):\n",
        "    feat[feature] = importance\n",
        "importances = pd.DataFrame.from_dict(feat, orient='index').rename(columns={0: 'Feature Importances'})\n",
        "importances = importances.sort_values(['Feature Importances'], ascending=[0])"
      ],
      "execution_count": 0,
      "outputs": []
    },
    {
      "cell_type": "code",
      "metadata": {
        "id": "4xro2YBS_1N5",
        "colab_type": "code",
        "outputId": "4321c4c3-294e-4f42-d3a5-0adc67e2d30a",
        "colab": {
          "base_uri": "https://localhost:8080/",
          "height": 287
        }
      },
      "source": [
        "imp = importances[:8]\n",
        "imp"
      ],
      "execution_count": 0,
      "outputs": [
        {
          "output_type": "execute_result",
          "data": {
            "text/html": [
              "<div>\n",
              "<style scoped>\n",
              "    .dataframe tbody tr th:only-of-type {\n",
              "        vertical-align: middle;\n",
              "    }\n",
              "\n",
              "    .dataframe tbody tr th {\n",
              "        vertical-align: top;\n",
              "    }\n",
              "\n",
              "    .dataframe thead th {\n",
              "        text-align: right;\n",
              "    }\n",
              "</style>\n",
              "<table border=\"1\" class=\"dataframe\">\n",
              "  <thead>\n",
              "    <tr style=\"text-align: right;\">\n",
              "      <th></th>\n",
              "      <th>Feature Importances</th>\n",
              "    </tr>\n",
              "  </thead>\n",
              "  <tbody>\n",
              "    <tr>\n",
              "      <th>TenureGroup</th>\n",
              "      <td>0.227573</td>\n",
              "    </tr>\n",
              "    <tr>\n",
              "      <th>TCGroup</th>\n",
              "      <td>0.201122</td>\n",
              "    </tr>\n",
              "    <tr>\n",
              "      <th>Contract</th>\n",
              "      <td>0.199985</td>\n",
              "    </tr>\n",
              "    <tr>\n",
              "      <th>MCGroup</th>\n",
              "      <td>0.190953</td>\n",
              "    </tr>\n",
              "    <tr>\n",
              "      <th>InternetService</th>\n",
              "      <td>0.061072</td>\n",
              "    </tr>\n",
              "    <tr>\n",
              "      <th>PaperlessBilling</th>\n",
              "      <td>0.057888</td>\n",
              "    </tr>\n",
              "    <tr>\n",
              "      <th>SeniorCitizen</th>\n",
              "      <td>0.048850</td>\n",
              "    </tr>\n",
              "    <tr>\n",
              "      <th>PhoneService</th>\n",
              "      <td>0.012557</td>\n",
              "    </tr>\n",
              "  </tbody>\n",
              "</table>\n",
              "</div>"
            ],
            "text/plain": [
              "                  Feature Importances\n",
              "TenureGroup                  0.227573\n",
              "TCGroup                      0.201122\n",
              "Contract                     0.199985\n",
              "MCGroup                      0.190953\n",
              "InternetService              0.061072\n",
              "PaperlessBilling             0.057888\n",
              "SeniorCitizen                0.048850\n",
              "PhoneService                 0.012557"
            ]
          },
          "metadata": {
            "tags": []
          },
          "execution_count": 42
        }
      ]
    },
    {
      "cell_type": "code",
      "metadata": {
        "id": "CY9lSLOiawa0",
        "colab_type": "code",
        "outputId": "0698244d-e0b8-4fa7-fce2-c53593682b3f",
        "colab": {
          "base_uri": "https://localhost:8080/",
          "height": 661
        }
      },
      "source": [
        "imp.sort_values(by='Feature Importances', ascending= False).plot(kind='bar', rot=90,figsize=(20, 10));"
      ],
      "execution_count": 0,
      "outputs": [
        {
          "output_type": "display_data",
          "data": {
            "image/png": "[encoded data removed]",
            "text/plain": [
              "<Figure size 1440x720 with 1 Axes>"
            ]
          },
          "metadata": {
            "tags": []
          }
        }
      ]
    },
    {
      "cell_type": "markdown",
      "metadata": {
        "id": "uR2OiMnHHsd4",
        "colab_type": "text"
      },
      "source": [
        ""
      ]
    },
    {
      "cell_type": "markdown",
      "metadata": {
        "id": "8cxaBBC6R0pM",
        "colab_type": "text"
      },
      "source": [
        "\n",
        "\n",
        "# Conclusion"
      ]
    },
    {
      "cell_type": "markdown",
      "metadata": {
        "id": "Qmk7Y82OR2YP",
        "colab_type": "text"
      },
      "source": [
        "*Based on your modeling and analysis, what recommendations would you be able to confidently give in order to prevent a customer from churning?*\n",
        "\n",
        "The recommendations to prevent from a customer from churning are the following: \n",
        "- Make, meet or exceed customer expectations\n",
        "- Turn weaknesses into strengths\n",
        "- Offer more discounts for certain services and less tenured customers\n",
        "- Emphasize on customers' complaints\n",
        "- Assuming the customer has a good profile, if they are attempting to cancel, we should offer incentives for them to stay at least a few months \n",
        "- Improve communication skills with the customer(s)\n",
        "- Look out for other competition and match or better their competitors' offer for that particular competition\n",
        "\n",
        "*What you set out to do?*\n",
        "\n",
        "If the duration of a customer staying with the company, the total and monthly charges paid by the customer, the type of the contract, internet service, phone service, and the preference of paperless billing for the customer and the customer's age would be good indicators of customer churning.\n",
        "\n",
        "*What you learned along the way?*\n",
        "I learned that just because customers take advantage of paperless billing and pay electronically can still mean they vote to churn. It's other factors that caused them to churn.\n",
        "\n",
        "*What conclusions you were able to confidently come to?*\n",
        "The tenure of the customer, the type of contract and the total/monthly charges of the customer predicts accurately when it comes to customer churning.\n"
      ]
    }
  ]
}