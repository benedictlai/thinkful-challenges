{
 "cells": [
  {
   "cell_type": "code",
   "execution_count": 2,
   "metadata": {},
   "outputs": [
    {
     "name": "stdout",
     "output_type": "stream",
     "text": [
      "The answer to HTTH, HHHH, and TTHH is 0.0625 because they all have the same patterns\n"
     ]
    }
   ],
   "source": [
    "math = 0.5 * 0.5 * 0.5 * 0.5\n",
    "print(\"The answer to HTTH, HHHH, and TTHH is {} because they all have the same patterns.\".format(math))"
   ]
  },
  {
   "cell_type": "code",
   "execution_count": 8,
   "metadata": {},
   "outputs": [
    {
     "name": "stdout",
     "output_type": "stream",
     "text": [
      "The answer is 0.5333333333333333, which is equivalent to 24/45.\n"
     ]
    }
   ],
   "source": [
    "men = 21\n",
    "women = 24\n",
    "overall = men + women\n",
    "menportion = men / (overall)\n",
    "womenportion = women / (overall)\n",
    "print(\"The answer is {}, which is equivalent to {}/{}.\".format(womenportion,women,overall))"
   ]
  },
  {
   "cell_type": "code",
   "execution_count": 18,
   "metadata": {},
   "outputs": [
    {
     "name": "stdout",
     "output_type": "stream",
     "text": [
      "The answer is 0.0005%\n"
     ]
    }
   ],
   "source": [
    "math = 0.10*0.00005\n",
    "print(\"The answer is {}%.\".format(math*100))"
   ]
  },
  {
   "cell_type": "code",
   "execution_count": 14,
   "metadata": {},
   "outputs": [
    {
     "name": "stdout",
     "output_type": "stream",
     "text": [
      "Most of the time, Internet users who visit the Internet often will click more websites, which improves the chances of them getting a survey.\n"
     ]
    }
   ],
   "source": [
    "print(\"Most of the time, Internet users who visit the Internet often will click more websites, which improves the chances of them getting a survey.\")"
   ]
  },
  {
   "cell_type": "code",
   "execution_count": null,
   "metadata": {},
   "outputs": [],
   "source": []
  }
 ],
 "metadata": {
  "kernelspec": {
   "display_name": "Python 3",
   "language": "python",
   "name": "python3"
  },
  "language_info": {
   "codemirror_mode": {
    "name": "ipython",
    "version": 3
   },
   "file_extension": ".py",
   "mimetype": "text/x-python",
   "name": "python",
   "nbconvert_exporter": "python",
   "pygments_lexer": "ipython3",
   "version": "3.7.0"
  }
 },
 "nbformat": 4,
 "nbformat_minor": 2
}
